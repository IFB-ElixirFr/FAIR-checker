{
 "cells": [
  {
   "cell_type": "code",
   "execution_count": 1,
   "metadata": {},
   "outputs": [
    {
     "name": "stderr",
     "output_type": "stream",
     "text": [
      "[WDM] - \n",
      "\n",
      "[WDM] - ====== WebDriver manager ======\n",
      "[WDM] - Current google-chrome version is 106.0.5249\n",
      "[WDM] - Get LATEST driver version for 106.0.5249\n",
      "[WDM] - Driver [/Users/gaignard-a/.wdm/drivers/chromedriver/mac64/106.0.5249.61/chromedriver] found in cache\n"
     ]
    }
   ],
   "source": [
    "import sys\n",
    "fc_src = \"../..\"\n",
    "sys.path.insert(0, fc_src)\n",
    "\n",
    "import requests\n",
    "from os import path\n",
    "from tqdm.notebook import tqdm\n",
    "import pandas as pd\n",
    "import time\n",
    "\n",
    "from metrics.WebResource import WebResource\n",
    "from metrics.FAIRMetricsFactory import FAIRMetricsFactory\n",
    "from metrics.AbstractFAIRMetrics import AbstractFAIRMetrics"
   ]
  },
  {
   "cell_type": "markdown",
   "metadata": {},
   "source": [
    "# Retrieve a Bioschemas RDF dump"
   ]
  },
  {
   "cell_type": "code",
   "execution_count": 2,
   "metadata": {},
   "outputs": [],
   "source": [
    "dump = \"bioschemas-dump.ttl\"\n",
    "if not path.isfile(dump):\n",
    "    r = requests.get(\"https://github.com/bio-tools/content/raw/master/datasets/bioschemas-dump.ttl\")\n",
    "    assert r.status_code == 200\n",
    "    with open(dump, \"wb\") as f:\n",
    "        f.write(r.content)\n",
    "\n",
    "assert path.isfile(dump)"
   ]
  },
  {
   "cell_type": "markdown",
   "metadata": {},
   "source": [
    "# Load the RDF dump"
   ]
  },
  {
   "cell_type": "code",
   "execution_count": 3,
   "metadata": {},
   "outputs": [],
   "source": [
    "from rdflib import ConjunctiveGraph, Namespace, URIRef\n",
    "from rdflib.namespace import RDF, RDFS\n",
    "\n",
    "schema = Namespace(\"http://schema.org/\")"
   ]
  },
  {
   "cell_type": "code",
   "execution_count": 4,
   "metadata": {},
   "outputs": [
    {
     "name": "stdout",
     "output_type": "stream",
     "text": [
      "492085 loaded triples\n"
     ]
    }
   ],
   "source": [
    "KG = ConjunctiveGraph()\n",
    "KG.parse(dump, format=\"turtle\")\n",
    "print(f\"{len(KG)} loaded triples\")"
   ]
  },
  {
   "cell_type": "code",
   "execution_count": 5,
   "metadata": {},
   "outputs": [
    {
     "name": "stdout",
     "output_type": "stream",
     "text": [
      "25436 software applications\n",
      "None\n"
     ]
    }
   ],
   "source": [
    "index = {}\n",
    "for s, p, o in KG.triples((None, RDF.type, schema.SoftwareApplication)):\n",
    "    index[str(s)] = None    \n",
    "print(print(f\"{len(index)} software applications\"))"
   ]
  },
  {
   "cell_type": "code",
   "execution_count": 6,
   "metadata": {},
   "outputs": [],
   "source": [
    "def index_dump():\n",
    "    for i in tqdm(index.keys()):\n",
    "        sub_graph = ConjunctiveGraph()\n",
    "        for s, p, o in KG.triples((URIRef(i), None, None)):\n",
    "            sub_graph.add((s, p, o))\n",
    "        index[i]=sub_graph\n",
    "\n",
    "\n",
    "def get_RDF_sparql(bio_tools_Id):\n",
    "    q = f\"CONSTRUCT {{<{bio_tools_Id}> ?p ?o}} WHERE {{<{bio_tools_Id}> rdf:type schema:SoftwareApplication . <{bio_tools_Id}> ?p ?o .}}\"\n",
    "    res = KG.query(q)\n",
    "    print(res.serialize(format=\"turtle\"))\n",
    "\n",
    "def get_RDF(bio_tools_Id):\n",
    "    sub_graph = ConjunctiveGraph()\n",
    "    for s, p, o in KG.triples((URIRef(bio_tools_Id), None, None)):\n",
    "        sub_graph.add((s, p, o))\n",
    "    print(sub_graph.serialize(format=\"turtle\"))    \n",
    "    \n",
    "#get_RDF_sparql(\"https://bio.tools/bwa\")\n",
    "#get_RDF(\"https://bio.tools/bwa\")"
   ]
  },
  {
   "cell_type": "code",
   "execution_count": 7,
   "metadata": {},
   "outputs": [
    {
     "data": {
      "application/vnd.jupyter.widget-view+json": {
       "model_id": "f63be1c0f66e4c7db347b3a30bfcfcf1",
       "version_major": 2,
       "version_minor": 0
      },
      "text/plain": [
       "  0%|          | 0/25436 [00:00<?, ?it/s]"
      ]
     },
     "metadata": {},
     "output_type": "display_data"
    }
   ],
   "source": [
    "index_dump()"
   ]
  },
  {
   "cell_type": "markdown",
   "metadata": {},
   "source": [
    "# Sampling 10 entries"
   ]
  },
  {
   "cell_type": "code",
   "execution_count": 8,
   "metadata": {},
   "outputs": [],
   "source": [
    "import random\n",
    "#sample_tool = random.choice(index.keys())\n",
    "\n",
    "random.seed(10)\n",
    "\n",
    "samples = random.sample(list(index.items()), 10)\n",
    "#samples = random.sample(list(index.items()), len(index.items()))\n",
    "\n",
    "splitedSize = 1000\n",
    "samples_chunks = [samples[x:x+splitedSize] for x in range(0, len(samples), splitedSize)]"
   ]
  },
  {
   "cell_type": "markdown",
   "metadata": {},
   "source": [
    "# Evaluating 10 entries"
   ]
  },
  {
   "cell_type": "code",
   "execution_count": 9,
   "metadata": {},
   "outputs": [],
   "source": [
    "metrics_collection_remote = []\n",
    "metrics_collection_remote.append(FAIRMetricsFactory.get_F2B(None))\n",
    "metrics_collection_remote.append(FAIRMetricsFactory.get_I2(None))\n",
    "metrics_collection_remote.append(FAIRMetricsFactory.get_R13(None))\n",
    "\n",
    "df_columns = ['ID']\n",
    "for m in metrics_collection_remote:\n",
    "    #print(m.get_principle_tag())\n",
    "    df_columns.append(m.get_principle_tag())\n",
    "    "
   ]
  },
  {
   "cell_type": "code",
   "execution_count": 10,
   "metadata": {},
   "outputs": [],
   "source": [
    "exec_time_df = pd.DataFrame(columns=df_columns)\n",
    "\n",
    "def eval_metrics(web_res):\n",
    "    metrics_collection_remote = []\n",
    "    metrics_collection_remote.append(FAIRMetricsFactory.get_F2B(web_res))\n",
    "    metrics_collection_remote.append(FAIRMetricsFactory.get_I2(web_res))\n",
    "    metrics_collection_remote.append(FAIRMetricsFactory.get_R13(web_res))\n",
    "    \n",
    "    row = {\"ID\":web_res.get_url()}\n",
    "    row_time = {\"ID\":web_res.get_url()}\n",
    "    for m in metrics_collection_remote:\n",
    "        ts1 = time.time()\n",
    "        e = m.evaluate()\n",
    "        duration = round((time.time() - ts1), 2)\n",
    "        if e is not None:\n",
    "            row[m.get_principle_tag()] = e.get_score()\n",
    "            row_time[m.get_principle_tag()] = duration\n",
    "    \n",
    "    return row, row_time"
   ]
  },
  {
   "cell_type": "code",
   "execution_count": 11,
   "metadata": {},
   "outputs": [],
   "source": [
    "def mass_eval(samples):\n",
    "    evals = []\n",
    "    exec_time = []\n",
    "\n",
    "    for sample in tqdm(samples):\n",
    "        wr = WebResource(url=sample[0], rdf_graph=sample[1])\n",
    "        row, row_time = eval_metrics(wr)\n",
    "        evals.append(row)\n",
    "        exec_time.append(row_time)\n",
    "        \n",
    "    \n",
    "    return evals, exec_time"
   ]
  },
  {
   "cell_type": "code",
   "execution_count": 12,
   "metadata": {
    "scrolled": true
   },
   "outputs": [
    {
     "data": {
      "application/vnd.jupyter.widget-view+json": {
       "model_id": "9bba58e98b3742da998322cae79e4b67",
       "version_major": 2,
       "version_minor": 0
      },
      "text/plain": [
       "  0%|          | 0/1 [00:00<?, ?it/s]"
      ]
     },
     "metadata": {},
     "output_type": "display_data"
    },
    {
     "data": {
      "application/vnd.jupyter.widget-view+json": {
       "model_id": "84a980594990427a97d50ce92ad5683d",
       "version_major": 2,
       "version_minor": 0
      },
      "text/plain": [
       "  0%|          | 0/10 [00:00<?, ?it/s]"
      ]
     },
     "metadata": {},
     "output_type": "display_data"
    },
    {
     "name": "stderr",
     "output_type": "stream",
     "text": [
      "INFO:fa4e1450-167b-4947-bf46-e123db4ca3c4:Strong evaluation:\n",
      "INFO:fa4e1450-167b-4947-bf46-e123db4ca3c4:Checking if all classes used in RDF are known in OLS, LOV, or BioPortal\n",
      "INFO:fa4e1450-167b-4947-bf46-e123db4ca3c4:All classes found in those ontology registries\n",
      "INFO:fa4e1450-167b-4947-bf46-e123db4ca3c4:Checking if all properties used in RDF are known in OLS, LOV, or BioPortal\n",
      "INFO:fa4e1450-167b-4947-bf46-e123db4ca3c4:All properties found in those ontology registries\n",
      "INFO:fa4e1450-167b-4947-bf46-e123db4ca3c4:All classes and properties are known in major ontology registries\n",
      "INFO:9888be9c-d626-4592-ace5-29203da70f47:Strong evaluation:\n",
      "INFO:9888be9c-d626-4592-ace5-29203da70f47:Checking if all classes used in RDF are known in OLS, LOV, or BioPortal\n",
      "INFO:9888be9c-d626-4592-ace5-29203da70f47:All classes found in those ontology registries\n",
      "INFO:9888be9c-d626-4592-ace5-29203da70f47:Checking if all properties used in RDF are known in OLS, LOV, or BioPortal\n",
      "INFO:9888be9c-d626-4592-ace5-29203da70f47:All properties found in those ontology registries\n",
      "INFO:9888be9c-d626-4592-ace5-29203da70f47:All classes and properties are known in major ontology registries\n",
      "INFO:ed29461c-57fe-449e-b33f-33f44984b697:Strong evaluation:\n",
      "INFO:ed29461c-57fe-449e-b33f-33f44984b697:Checking if all classes used in RDF are known in OLS, LOV, or BioPortal\n",
      "INFO:ed29461c-57fe-449e-b33f-33f44984b697:All classes found in those ontology registries\n",
      "INFO:ed29461c-57fe-449e-b33f-33f44984b697:Checking if all properties used in RDF are known in OLS, LOV, or BioPortal\n",
      "INFO:ed29461c-57fe-449e-b33f-33f44984b697:All properties found in those ontology registries\n",
      "INFO:ed29461c-57fe-449e-b33f-33f44984b697:All classes and properties are known in major ontology registries\n",
      "INFO:084f08ba-7444-4fe8-b83d-7ede15ca0494:Strong evaluation:\n",
      "INFO:084f08ba-7444-4fe8-b83d-7ede15ca0494:Checking if all classes used in RDF are known in OLS, LOV, or BioPortal\n",
      "INFO:084f08ba-7444-4fe8-b83d-7ede15ca0494:All classes found in those ontology registries\n",
      "INFO:084f08ba-7444-4fe8-b83d-7ede15ca0494:Checking if all properties used in RDF are known in OLS, LOV, or BioPortal\n",
      "INFO:084f08ba-7444-4fe8-b83d-7ede15ca0494:All properties found in those ontology registries\n",
      "INFO:084f08ba-7444-4fe8-b83d-7ede15ca0494:All classes and properties are known in major ontology registries\n",
      "INFO:0b8efb2b-0e0b-4d1b-8ae7-360ee9cb2911:Strong evaluation:\n",
      "INFO:0b8efb2b-0e0b-4d1b-8ae7-360ee9cb2911:Checking if all classes used in RDF are known in OLS, LOV, or BioPortal\n",
      "INFO:0b8efb2b-0e0b-4d1b-8ae7-360ee9cb2911:All classes found in those ontology registries\n",
      "INFO:0b8efb2b-0e0b-4d1b-8ae7-360ee9cb2911:Checking if all properties used in RDF are known in OLS, LOV, or BioPortal\n",
      "INFO:0b8efb2b-0e0b-4d1b-8ae7-360ee9cb2911:All properties found in those ontology registries\n",
      "INFO:0b8efb2b-0e0b-4d1b-8ae7-360ee9cb2911:All classes and properties are known in major ontology registries\n",
      "INFO:5336dab9-00e5-406a-a13b-76b49e2156fc:Strong evaluation:\n",
      "INFO:5336dab9-00e5-406a-a13b-76b49e2156fc:Checking if all classes used in RDF are known in OLS, LOV, or BioPortal\n",
      "INFO:5336dab9-00e5-406a-a13b-76b49e2156fc:All classes found in those ontology registries\n",
      "INFO:5336dab9-00e5-406a-a13b-76b49e2156fc:Checking if all properties used in RDF are known in OLS, LOV, or BioPortal\n",
      "INFO:5336dab9-00e5-406a-a13b-76b49e2156fc:All properties found in those ontology registries\n",
      "INFO:5336dab9-00e5-406a-a13b-76b49e2156fc:All classes and properties are known in major ontology registries\n",
      "INFO:7ed512b0-8708-49bd-b1d1-4c8973e051de:Strong evaluation:\n",
      "INFO:7ed512b0-8708-49bd-b1d1-4c8973e051de:Checking if all classes used in RDF are known in OLS, LOV, or BioPortal\n",
      "INFO:7ed512b0-8708-49bd-b1d1-4c8973e051de:All classes found in those ontology registries\n",
      "INFO:7ed512b0-8708-49bd-b1d1-4c8973e051de:Checking if all properties used in RDF are known in OLS, LOV, or BioPortal\n",
      "INFO:7ed512b0-8708-49bd-b1d1-4c8973e051de:All properties found in those ontology registries\n",
      "INFO:7ed512b0-8708-49bd-b1d1-4c8973e051de:All classes and properties are known in major ontology registries\n",
      "INFO:b8274de8-c026-47a3-87df-c5b32b2e3606:Strong evaluation:\n",
      "INFO:b8274de8-c026-47a3-87df-c5b32b2e3606:Checking if all classes used in RDF are known in OLS, LOV, or BioPortal\n",
      "INFO:b8274de8-c026-47a3-87df-c5b32b2e3606:All classes found in those ontology registries\n",
      "INFO:b8274de8-c026-47a3-87df-c5b32b2e3606:Checking if all properties used in RDF are known in OLS, LOV, or BioPortal\n",
      "INFO:b8274de8-c026-47a3-87df-c5b32b2e3606:All properties found in those ontology registries\n",
      "INFO:b8274de8-c026-47a3-87df-c5b32b2e3606:All classes and properties are known in major ontology registries\n",
      "INFO:c33d7028-2525-48ea-9662-d2a021e3a720:Strong evaluation:\n",
      "INFO:c33d7028-2525-48ea-9662-d2a021e3a720:Checking if all classes used in RDF are known in OLS, LOV, or BioPortal\n",
      "INFO:c33d7028-2525-48ea-9662-d2a021e3a720:All classes found in those ontology registries\n",
      "INFO:c33d7028-2525-48ea-9662-d2a021e3a720:Checking if all properties used in RDF are known in OLS, LOV, or BioPortal\n",
      "INFO:c33d7028-2525-48ea-9662-d2a021e3a720:All properties found in those ontology registries\n",
      "INFO:c33d7028-2525-48ea-9662-d2a021e3a720:All classes and properties are known in major ontology registries\n",
      "INFO:3bb6dad1-2481-4897-9eaa-e822ce9d17a9:Strong evaluation:\n",
      "INFO:3bb6dad1-2481-4897-9eaa-e822ce9d17a9:Checking if all classes used in RDF are known in OLS, LOV, or BioPortal\n",
      "INFO:3bb6dad1-2481-4897-9eaa-e822ce9d17a9:All classes found in those ontology registries\n",
      "INFO:3bb6dad1-2481-4897-9eaa-e822ce9d17a9:Checking if all properties used in RDF are known in OLS, LOV, or BioPortal\n",
      "WARNING:3bb6dad1-2481-4897-9eaa-e822ce9d17a9:https://bio.tools/ontology/primaryContact property not known in OLS, LOV, or BioPortal\n",
      "INFO:3bb6dad1-2481-4897-9eaa-e822ce9d17a9:Weak evaluation:\n",
      "INFO:3bb6dad1-2481-4897-9eaa-e822ce9d17a9:Checking if at least one class used in RDF is known in OLS, LOV, or BioPortal\n",
      "INFO:3bb6dad1-2481-4897-9eaa-e822ce9d17a9:http://schema.org/SoftwareApplication known in Linked Open Vocabularies (LOV)\n",
      "INFO:7ddfbbbc-c6c3-4b06-bcee-344cf156abfc:Strong evaluation:\n",
      "INFO:7ddfbbbc-c6c3-4b06-bcee-344cf156abfc:Checking if all classes used in RDF are known in OLS, LOV, or BioPortal\n",
      "INFO:7ddfbbbc-c6c3-4b06-bcee-344cf156abfc:All classes found in those ontology registries\n",
      "INFO:7ddfbbbc-c6c3-4b06-bcee-344cf156abfc:Checking if all properties used in RDF are known in OLS, LOV, or BioPortal\n",
      "WARNING:7ddfbbbc-c6c3-4b06-bcee-344cf156abfc:https://bio.tools/ontology/primaryContact property not known in OLS, LOV, or BioPortal\n",
      "INFO:7ddfbbbc-c6c3-4b06-bcee-344cf156abfc:Weak evaluation:\n",
      "INFO:7ddfbbbc-c6c3-4b06-bcee-344cf156abfc:Checking if at least one class used in RDF is known in OLS, LOV, or BioPortal\n",
      "INFO:7ddfbbbc-c6c3-4b06-bcee-344cf156abfc:http://schema.org/SoftwareApplication known in Linked Open Vocabularies (LOV)\n",
      "INFO:1edd86b9-b179-42af-834d-162aa68e7967:Strong evaluation:\n",
      "INFO:1edd86b9-b179-42af-834d-162aa68e7967:Checking if all classes used in RDF are known in OLS, LOV, or BioPortal\n",
      "INFO:1edd86b9-b179-42af-834d-162aa68e7967:All classes found in those ontology registries\n",
      "INFO:1edd86b9-b179-42af-834d-162aa68e7967:Checking if all properties used in RDF are known in OLS, LOV, or BioPortal\n",
      "WARNING:1edd86b9-b179-42af-834d-162aa68e7967:https://bio.tools/ontology/primaryContact property not known in OLS, LOV, or BioPortal\n",
      "INFO:1edd86b9-b179-42af-834d-162aa68e7967:Weak evaluation:\n",
      "INFO:1edd86b9-b179-42af-834d-162aa68e7967:Checking if at least one class used in RDF is known in OLS, LOV, or BioPortal\n",
      "INFO:1edd86b9-b179-42af-834d-162aa68e7967:http://schema.org/SoftwareApplication known in Linked Open Vocabularies (LOV)\n",
      "INFO:0e519770-1c2d-4c8b-a782-c7c273e528ce:Strong evaluation:\n",
      "INFO:0e519770-1c2d-4c8b-a782-c7c273e528ce:Checking if all classes used in RDF are known in OLS, LOV, or BioPortal\n",
      "INFO:0e519770-1c2d-4c8b-a782-c7c273e528ce:All classes found in those ontology registries\n",
      "INFO:0e519770-1c2d-4c8b-a782-c7c273e528ce:Checking if all properties used in RDF are known in OLS, LOV, or BioPortal\n",
      "INFO:0e519770-1c2d-4c8b-a782-c7c273e528ce:All properties found in those ontology registries\n",
      "INFO:0e519770-1c2d-4c8b-a782-c7c273e528ce:All classes and properties are known in major ontology registries\n"
     ]
    },
    {
     "name": "stderr",
     "output_type": "stream",
     "text": [
      "INFO:39a29ea3-f243-4862-b77f-d264687090fd:Strong evaluation:\n",
      "INFO:39a29ea3-f243-4862-b77f-d264687090fd:Checking if all classes used in RDF are known in OLS, LOV, or BioPortal\n",
      "INFO:39a29ea3-f243-4862-b77f-d264687090fd:All classes found in those ontology registries\n",
      "INFO:39a29ea3-f243-4862-b77f-d264687090fd:Checking if all properties used in RDF are known in OLS, LOV, or BioPortal\n",
      "INFO:39a29ea3-f243-4862-b77f-d264687090fd:All properties found in those ontology registries\n",
      "INFO:39a29ea3-f243-4862-b77f-d264687090fd:All classes and properties are known in major ontology registries\n",
      "INFO:ec84cc74-857b-4d07-a0c3-67e94deecf4b:Strong evaluation:\n",
      "INFO:ec84cc74-857b-4d07-a0c3-67e94deecf4b:Checking if all classes used in RDF are known in OLS, LOV, or BioPortal\n",
      "INFO:ec84cc74-857b-4d07-a0c3-67e94deecf4b:All classes found in those ontology registries\n",
      "INFO:ec84cc74-857b-4d07-a0c3-67e94deecf4b:Checking if all properties used in RDF are known in OLS, LOV, or BioPortal\n",
      "INFO:ec84cc74-857b-4d07-a0c3-67e94deecf4b:All properties found in those ontology registries\n",
      "INFO:ec84cc74-857b-4d07-a0c3-67e94deecf4b:All classes and properties are known in major ontology registries\n",
      "INFO:a5e624f8-f846-4d38-954d-c77e9e2c0d4a:Strong evaluation:\n",
      "INFO:a5e624f8-f846-4d38-954d-c77e9e2c0d4a:Checking if all classes used in RDF are known in OLS, LOV, or BioPortal\n",
      "INFO:a5e624f8-f846-4d38-954d-c77e9e2c0d4a:All classes found in those ontology registries\n",
      "INFO:a5e624f8-f846-4d38-954d-c77e9e2c0d4a:Checking if all properties used in RDF are known in OLS, LOV, or BioPortal\n",
      "WARNING:a5e624f8-f846-4d38-954d-c77e9e2c0d4a:http://bioschemas.org/input property not known in OLS, LOV, or BioPortal\n",
      "WARNING:a5e624f8-f846-4d38-954d-c77e9e2c0d4a:http://bioschemas.org/output property not known in OLS, LOV, or BioPortal\n",
      "INFO:a5e624f8-f846-4d38-954d-c77e9e2c0d4a:Weak evaluation:\n",
      "INFO:a5e624f8-f846-4d38-954d-c77e9e2c0d4a:Checking if at least one class used in RDF is known in OLS, LOV, or BioPortal\n",
      "INFO:a5e624f8-f846-4d38-954d-c77e9e2c0d4a:http://schema.org/SoftwareApplication known in Linked Open Vocabularies (LOV)\n",
      "INFO:85388fc5-d78b-45a3-8a1a-31f6593dc347:Strong evaluation:\n",
      "INFO:85388fc5-d78b-45a3-8a1a-31f6593dc347:Checking if all classes used in RDF are known in OLS, LOV, or BioPortal\n",
      "INFO:85388fc5-d78b-45a3-8a1a-31f6593dc347:All classes found in those ontology registries\n",
      "INFO:85388fc5-d78b-45a3-8a1a-31f6593dc347:Checking if all properties used in RDF are known in OLS, LOV, or BioPortal\n",
      "WARNING:85388fc5-d78b-45a3-8a1a-31f6593dc347:http://bioschemas.org/input property not known in OLS, LOV, or BioPortal\n",
      "WARNING:85388fc5-d78b-45a3-8a1a-31f6593dc347:http://bioschemas.org/output property not known in OLS, LOV, or BioPortal\n",
      "INFO:85388fc5-d78b-45a3-8a1a-31f6593dc347:Weak evaluation:\n",
      "INFO:85388fc5-d78b-45a3-8a1a-31f6593dc347:Checking if at least one class used in RDF is known in OLS, LOV, or BioPortal\n",
      "INFO:85388fc5-d78b-45a3-8a1a-31f6593dc347:http://schema.org/SoftwareApplication known in Linked Open Vocabularies (LOV)\n",
      "INFO:09c49c62-a153-46e0-bcbe-90f8e0c9351f:Strong evaluation:\n",
      "INFO:09c49c62-a153-46e0-bcbe-90f8e0c9351f:Checking if all classes used in RDF are known in OLS, LOV, or BioPortal\n",
      "INFO:09c49c62-a153-46e0-bcbe-90f8e0c9351f:All classes found in those ontology registries\n",
      "INFO:09c49c62-a153-46e0-bcbe-90f8e0c9351f:Checking if all properties used in RDF are known in OLS, LOV, or BioPortal\n",
      "WARNING:09c49c62-a153-46e0-bcbe-90f8e0c9351f:http://bioschemas.org/input property not known in OLS, LOV, or BioPortal\n",
      "WARNING:09c49c62-a153-46e0-bcbe-90f8e0c9351f:http://bioschemas.org/output property not known in OLS, LOV, or BioPortal\n",
      "INFO:09c49c62-a153-46e0-bcbe-90f8e0c9351f:Weak evaluation:\n",
      "INFO:09c49c62-a153-46e0-bcbe-90f8e0c9351f:Checking if at least one class used in RDF is known in OLS, LOV, or BioPortal\n",
      "INFO:09c49c62-a153-46e0-bcbe-90f8e0c9351f:http://schema.org/SoftwareApplication known in Linked Open Vocabularies (LOV)\n",
      "INFO:b83db490-888c-4ec9-ad20-6918b8cf9ed0:Strong evaluation:\n",
      "INFO:b83db490-888c-4ec9-ad20-6918b8cf9ed0:Checking if all classes used in RDF are known in OLS, LOV, or BioPortal\n",
      "INFO:b83db490-888c-4ec9-ad20-6918b8cf9ed0:All classes found in those ontology registries\n",
      "INFO:b83db490-888c-4ec9-ad20-6918b8cf9ed0:Checking if all properties used in RDF are known in OLS, LOV, or BioPortal\n",
      "WARNING:b83db490-888c-4ec9-ad20-6918b8cf9ed0:http://bioschemas.org/input property not known in OLS, LOV, or BioPortal\n",
      "WARNING:b83db490-888c-4ec9-ad20-6918b8cf9ed0:http://bioschemas.org/output property not known in OLS, LOV, or BioPortal\n",
      "WARNING:b83db490-888c-4ec9-ad20-6918b8cf9ed0:https://bio.tools/ontology/primaryContact property not known in OLS, LOV, or BioPortal\n",
      "INFO:b83db490-888c-4ec9-ad20-6918b8cf9ed0:Weak evaluation:\n",
      "INFO:b83db490-888c-4ec9-ad20-6918b8cf9ed0:Checking if at least one class used in RDF is known in OLS, LOV, or BioPortal\n",
      "INFO:b83db490-888c-4ec9-ad20-6918b8cf9ed0:http://schema.org/SoftwareApplication known in Linked Open Vocabularies (LOV)\n",
      "INFO:1ffa291b-3369-452f-860d-e899b09a68cd:Strong evaluation:\n",
      "INFO:1ffa291b-3369-452f-860d-e899b09a68cd:Checking if all classes used in RDF are known in OLS, LOV, or BioPortal\n",
      "INFO:1ffa291b-3369-452f-860d-e899b09a68cd:All classes found in those ontology registries\n",
      "INFO:1ffa291b-3369-452f-860d-e899b09a68cd:Checking if all properties used in RDF are known in OLS, LOV, or BioPortal\n",
      "WARNING:1ffa291b-3369-452f-860d-e899b09a68cd:http://bioschemas.org/input property not known in OLS, LOV, or BioPortal\n",
      "WARNING:1ffa291b-3369-452f-860d-e899b09a68cd:http://bioschemas.org/output property not known in OLS, LOV, or BioPortal\n",
      "WARNING:1ffa291b-3369-452f-860d-e899b09a68cd:https://bio.tools/ontology/primaryContact property not known in OLS, LOV, or BioPortal\n",
      "INFO:1ffa291b-3369-452f-860d-e899b09a68cd:Weak evaluation:\n",
      "INFO:1ffa291b-3369-452f-860d-e899b09a68cd:Checking if at least one class used in RDF is known in OLS, LOV, or BioPortal\n",
      "INFO:1ffa291b-3369-452f-860d-e899b09a68cd:http://schema.org/SoftwareApplication known in Linked Open Vocabularies (LOV)\n",
      "INFO:fee3ee4d-f29f-4a5d-81e5-feecaada583d:Strong evaluation:\n",
      "INFO:fee3ee4d-f29f-4a5d-81e5-feecaada583d:Checking if all classes used in RDF are known in OLS, LOV, or BioPortal\n",
      "INFO:fee3ee4d-f29f-4a5d-81e5-feecaada583d:All classes found in those ontology registries\n",
      "INFO:fee3ee4d-f29f-4a5d-81e5-feecaada583d:Checking if all properties used in RDF are known in OLS, LOV, or BioPortal\n",
      "WARNING:fee3ee4d-f29f-4a5d-81e5-feecaada583d:http://bioschemas.org/input property not known in OLS, LOV, or BioPortal\n",
      "WARNING:fee3ee4d-f29f-4a5d-81e5-feecaada583d:http://bioschemas.org/output property not known in OLS, LOV, or BioPortal\n",
      "WARNING:fee3ee4d-f29f-4a5d-81e5-feecaada583d:https://bio.tools/ontology/primaryContact property not known in OLS, LOV, or BioPortal\n",
      "INFO:fee3ee4d-f29f-4a5d-81e5-feecaada583d:Weak evaluation:\n",
      "INFO:fee3ee4d-f29f-4a5d-81e5-feecaada583d:Checking if at least one class used in RDF is known in OLS, LOV, or BioPortal\n",
      "INFO:fee3ee4d-f29f-4a5d-81e5-feecaada583d:http://schema.org/SoftwareApplication known in Linked Open Vocabularies (LOV)\n",
      "INFO:e3661a38-8512-4b4c-aa64-27af6f11a478:Strong evaluation:\n",
      "INFO:e3661a38-8512-4b4c-aa64-27af6f11a478:Checking if all classes used in RDF are known in OLS, LOV, or BioPortal\n",
      "INFO:e3661a38-8512-4b4c-aa64-27af6f11a478:All classes found in those ontology registries\n",
      "INFO:e3661a38-8512-4b4c-aa64-27af6f11a478:Checking if all properties used in RDF are known in OLS, LOV, or BioPortal\n",
      "INFO:e3661a38-8512-4b4c-aa64-27af6f11a478:All properties found in those ontology registries\n",
      "INFO:e3661a38-8512-4b4c-aa64-27af6f11a478:All classes and properties are known in major ontology registries\n",
      "INFO:e2491a01-9d63-491f-96a3-b0a860dd65a2:Strong evaluation:\n",
      "INFO:e2491a01-9d63-491f-96a3-b0a860dd65a2:Checking if all classes used in RDF are known in OLS, LOV, or BioPortal\n",
      "INFO:e2491a01-9d63-491f-96a3-b0a860dd65a2:All classes found in those ontology registries\n",
      "INFO:e2491a01-9d63-491f-96a3-b0a860dd65a2:Checking if all properties used in RDF are known in OLS, LOV, or BioPortal\n",
      "INFO:e2491a01-9d63-491f-96a3-b0a860dd65a2:All properties found in those ontology registries\n",
      "INFO:e2491a01-9d63-491f-96a3-b0a860dd65a2:All classes and properties are known in major ontology registries\n"
     ]
    },
    {
     "name": "stderr",
     "output_type": "stream",
     "text": [
      "INFO:b584fcbc-ab8f-481e-a19f-38376d31a14b:Strong evaluation:\n",
      "INFO:b584fcbc-ab8f-481e-a19f-38376d31a14b:Checking if all classes used in RDF are known in OLS, LOV, or BioPortal\n",
      "INFO:b584fcbc-ab8f-481e-a19f-38376d31a14b:All classes found in those ontology registries\n",
      "INFO:b584fcbc-ab8f-481e-a19f-38376d31a14b:Checking if all properties used in RDF are known in OLS, LOV, or BioPortal\n",
      "INFO:b584fcbc-ab8f-481e-a19f-38376d31a14b:All properties found in those ontology registries\n",
      "INFO:b584fcbc-ab8f-481e-a19f-38376d31a14b:All classes and properties are known in major ontology registries\n",
      "INFO:e08a2f05-e00e-41cf-ae94-d58b2c4a6b5f:Strong evaluation:\n",
      "INFO:e08a2f05-e00e-41cf-ae94-d58b2c4a6b5f:Checking if all classes used in RDF are known in OLS, LOV, or BioPortal\n",
      "INFO:e08a2f05-e00e-41cf-ae94-d58b2c4a6b5f:All classes found in those ontology registries\n",
      "INFO:e08a2f05-e00e-41cf-ae94-d58b2c4a6b5f:Checking if all properties used in RDF are known in OLS, LOV, or BioPortal\n",
      "WARNING:e08a2f05-e00e-41cf-ae94-d58b2c4a6b5f:http://bioschemas.org/input property not known in OLS, LOV, or BioPortal\n",
      "INFO:e08a2f05-e00e-41cf-ae94-d58b2c4a6b5f:Weak evaluation:\n",
      "INFO:e08a2f05-e00e-41cf-ae94-d58b2c4a6b5f:Checking if at least one class used in RDF is known in OLS, LOV, or BioPortal\n",
      "INFO:e08a2f05-e00e-41cf-ae94-d58b2c4a6b5f:http://schema.org/SoftwareApplication known in Linked Open Vocabularies (LOV)\n",
      "INFO:8786736f-03a9-4c70-a1c4-0a41c6953c34:Strong evaluation:\n",
      "INFO:8786736f-03a9-4c70-a1c4-0a41c6953c34:Checking if all classes used in RDF are known in OLS, LOV, or BioPortal\n",
      "INFO:8786736f-03a9-4c70-a1c4-0a41c6953c34:All classes found in those ontology registries\n",
      "INFO:8786736f-03a9-4c70-a1c4-0a41c6953c34:Checking if all properties used in RDF are known in OLS, LOV, or BioPortal\n",
      "WARNING:8786736f-03a9-4c70-a1c4-0a41c6953c34:http://bioschemas.org/input property not known in OLS, LOV, or BioPortal\n",
      "INFO:8786736f-03a9-4c70-a1c4-0a41c6953c34:Weak evaluation:\n",
      "INFO:8786736f-03a9-4c70-a1c4-0a41c6953c34:Checking if at least one class used in RDF is known in OLS, LOV, or BioPortal\n",
      "INFO:8786736f-03a9-4c70-a1c4-0a41c6953c34:http://schema.org/SoftwareApplication known in Linked Open Vocabularies (LOV)\n",
      "INFO:96644936-16b5-4d95-9c29-7f97e9833b2e:Strong evaluation:\n",
      "INFO:96644936-16b5-4d95-9c29-7f97e9833b2e:Checking if all classes used in RDF are known in OLS, LOV, or BioPortal\n",
      "INFO:96644936-16b5-4d95-9c29-7f97e9833b2e:All classes found in those ontology registries\n",
      "INFO:96644936-16b5-4d95-9c29-7f97e9833b2e:Checking if all properties used in RDF are known in OLS, LOV, or BioPortal\n",
      "WARNING:96644936-16b5-4d95-9c29-7f97e9833b2e:http://bioschemas.org/input property not known in OLS, LOV, or BioPortal\n",
      "INFO:96644936-16b5-4d95-9c29-7f97e9833b2e:Weak evaluation:\n",
      "INFO:96644936-16b5-4d95-9c29-7f97e9833b2e:Checking if at least one class used in RDF is known in OLS, LOV, or BioPortal\n",
      "INFO:96644936-16b5-4d95-9c29-7f97e9833b2e:http://schema.org/SoftwareApplication known in Linked Open Vocabularies (LOV)\n",
      "INFO:f82b007c-7adb-497b-9713-671f5bc5a4b3:Strong evaluation:\n",
      "INFO:f82b007c-7adb-497b-9713-671f5bc5a4b3:Checking if all classes used in RDF are known in OLS, LOV, or BioPortal\n",
      "INFO:f82b007c-7adb-497b-9713-671f5bc5a4b3:All classes found in those ontology registries\n",
      "INFO:f82b007c-7adb-497b-9713-671f5bc5a4b3:Checking if all properties used in RDF are known in OLS, LOV, or BioPortal\n",
      "INFO:f82b007c-7adb-497b-9713-671f5bc5a4b3:All properties found in those ontology registries\n",
      "INFO:f82b007c-7adb-497b-9713-671f5bc5a4b3:All classes and properties are known in major ontology registries\n",
      "INFO:007a12f8-ceb6-4c54-9cf4-66b55e00bf0b:Strong evaluation:\n",
      "INFO:007a12f8-ceb6-4c54-9cf4-66b55e00bf0b:Checking if all classes used in RDF are known in OLS, LOV, or BioPortal\n",
      "INFO:007a12f8-ceb6-4c54-9cf4-66b55e00bf0b:All classes found in those ontology registries\n",
      "INFO:007a12f8-ceb6-4c54-9cf4-66b55e00bf0b:Checking if all properties used in RDF are known in OLS, LOV, or BioPortal\n",
      "INFO:007a12f8-ceb6-4c54-9cf4-66b55e00bf0b:All properties found in those ontology registries\n",
      "INFO:007a12f8-ceb6-4c54-9cf4-66b55e00bf0b:All classes and properties are known in major ontology registries\n",
      "INFO:7a902528-2a4c-4470-af7c-9ddb2031c2ca:Strong evaluation:\n",
      "INFO:7a902528-2a4c-4470-af7c-9ddb2031c2ca:Checking if all classes used in RDF are known in OLS, LOV, or BioPortal\n",
      "INFO:7a902528-2a4c-4470-af7c-9ddb2031c2ca:All classes found in those ontology registries\n",
      "INFO:7a902528-2a4c-4470-af7c-9ddb2031c2ca:Checking if all properties used in RDF are known in OLS, LOV, or BioPortal\n",
      "INFO:7a902528-2a4c-4470-af7c-9ddb2031c2ca:All properties found in those ontology registries\n",
      "INFO:7a902528-2a4c-4470-af7c-9ddb2031c2ca:All classes and properties are known in major ontology registries\n"
     ]
    }
   ],
   "source": [
    "import logging\n",
    "logging.getLogger().setLevel(logging.ERROR)\n",
    "\n",
    "i = 0\n",
    "for c in tqdm(samples_chunks):\n",
    "    i += 1\n",
    "    df = pd.DataFrame()\n",
    "    df_time = pd.DataFrame()\n",
    "    \n",
    "    evals, exec_time = mass_eval(c)\n",
    "    df = pd.concat([df, pd.DataFrame.from_records(evals)])\n",
    "    df_time = pd.concat([df_time, pd.DataFrame.from_records(exec_time)])\n",
    "    \n",
    "    df.to_csv(\"../results/biotools/FC_results_long_metrics_\"+str(i)+\".csv\")\n",
    "    df_time.to_csv(\"../results/biotools/exec_time_long_metrics_\"+str(i)+\".csv\")"
   ]
  },
  {
   "cell_type": "code",
   "execution_count": 13,
   "metadata": {
    "scrolled": true
   },
   "outputs": [
    {
     "data": {
      "text/html": [
       "<div>\n",
       "<style scoped>\n",
       "    .dataframe tbody tr th:only-of-type {\n",
       "        vertical-align: middle;\n",
       "    }\n",
       "\n",
       "    .dataframe tbody tr th {\n",
       "        vertical-align: top;\n",
       "    }\n",
       "\n",
       "    .dataframe thead th {\n",
       "        text-align: right;\n",
       "    }\n",
       "</style>\n",
       "<table border=\"1\" class=\"dataframe\">\n",
       "  <thead>\n",
       "    <tr style=\"text-align: right;\">\n",
       "      <th></th>\n",
       "      <th>ID</th>\n",
       "      <th>F2B</th>\n",
       "      <th>I2</th>\n",
       "      <th>R1.3</th>\n",
       "    </tr>\n",
       "  </thead>\n",
       "  <tbody>\n",
       "    <tr>\n",
       "      <th>0</th>\n",
       "      <td>https://bio.tools/pmle</td>\n",
       "      <td>2</td>\n",
       "      <td>2</td>\n",
       "      <td>2</td>\n",
       "    </tr>\n",
       "    <tr>\n",
       "      <th>1</th>\n",
       "      <td>https://bio.tools/DPre</td>\n",
       "      <td>2</td>\n",
       "      <td>2</td>\n",
       "      <td>2</td>\n",
       "    </tr>\n",
       "    <tr>\n",
       "      <th>2</th>\n",
       "      <td>https://bio.tools/lnlcorr</td>\n",
       "      <td>2</td>\n",
       "      <td>2</td>\n",
       "      <td>2</td>\n",
       "    </tr>\n",
       "    <tr>\n",
       "      <th>3</th>\n",
       "      <td>https://bio.tools/molligen</td>\n",
       "      <td>1</td>\n",
       "      <td>1</td>\n",
       "      <td>1</td>\n",
       "    </tr>\n",
       "    <tr>\n",
       "      <th>4</th>\n",
       "      <td>https://bio.tools/pr2-primers</td>\n",
       "      <td>2</td>\n",
       "      <td>2</td>\n",
       "      <td>2</td>\n",
       "    </tr>\n",
       "    <tr>\n",
       "      <th>5</th>\n",
       "      <td>https://bio.tools/BeanMine</td>\n",
       "      <td>1</td>\n",
       "      <td>1</td>\n",
       "      <td>1</td>\n",
       "    </tr>\n",
       "    <tr>\n",
       "      <th>6</th>\n",
       "      <td>https://bio.tools/cellnetanalyzer</td>\n",
       "      <td>1</td>\n",
       "      <td>1</td>\n",
       "      <td>1</td>\n",
       "    </tr>\n",
       "    <tr>\n",
       "      <th>7</th>\n",
       "      <td>https://bio.tools/methylscaper</td>\n",
       "      <td>2</td>\n",
       "      <td>2</td>\n",
       "      <td>2</td>\n",
       "    </tr>\n",
       "    <tr>\n",
       "      <th>8</th>\n",
       "      <td>https://bio.tools/msfilereader_python_bindings</td>\n",
       "      <td>1</td>\n",
       "      <td>1</td>\n",
       "      <td>1</td>\n",
       "    </tr>\n",
       "    <tr>\n",
       "      <th>9</th>\n",
       "      <td>https://bio.tools/dp2</td>\n",
       "      <td>2</td>\n",
       "      <td>2</td>\n",
       "      <td>2</td>\n",
       "    </tr>\n",
       "  </tbody>\n",
       "</table>\n",
       "</div>"
      ],
      "text/plain": [
       "                                               ID F2B I2 R1.3\n",
       "0                          https://bio.tools/pmle   2  2    2\n",
       "1                          https://bio.tools/DPre   2  2    2\n",
       "2                       https://bio.tools/lnlcorr   2  2    2\n",
       "3                      https://bio.tools/molligen   1  1    1\n",
       "4                   https://bio.tools/pr2-primers   2  2    2\n",
       "5                      https://bio.tools/BeanMine   1  1    1\n",
       "6               https://bio.tools/cellnetanalyzer   1  1    1\n",
       "7                  https://bio.tools/methylscaper   2  2    2\n",
       "8  https://bio.tools/msfilereader_python_bindings   1  1    1\n",
       "9                           https://bio.tools/dp2   2  2    2"
      ]
     },
     "execution_count": 13,
     "metadata": {},
     "output_type": "execute_result"
    }
   ],
   "source": [
    "df"
   ]
  },
  {
   "cell_type": "code",
   "execution_count": 14,
   "metadata": {
    "scrolled": true
   },
   "outputs": [
    {
     "data": {
      "text/html": [
       "<div>\n",
       "<style scoped>\n",
       "    .dataframe tbody tr th:only-of-type {\n",
       "        vertical-align: middle;\n",
       "    }\n",
       "\n",
       "    .dataframe tbody tr th {\n",
       "        vertical-align: top;\n",
       "    }\n",
       "\n",
       "    .dataframe thead th {\n",
       "        text-align: right;\n",
       "    }\n",
       "</style>\n",
       "<table border=\"1\" class=\"dataframe\">\n",
       "  <thead>\n",
       "    <tr style=\"text-align: right;\">\n",
       "      <th></th>\n",
       "      <th>ID</th>\n",
       "      <th>F2B</th>\n",
       "      <th>I2</th>\n",
       "      <th>R1.3</th>\n",
       "    </tr>\n",
       "  </thead>\n",
       "  <tbody>\n",
       "    <tr>\n",
       "      <th>0</th>\n",
       "      <td>https://bio.tools/pmle</td>\n",
       "      <td>4.26</td>\n",
       "      <td>0.01</td>\n",
       "      <td>0.01</td>\n",
       "    </tr>\n",
       "    <tr>\n",
       "      <th>1</th>\n",
       "      <td>https://bio.tools/DPre</td>\n",
       "      <td>0.36</td>\n",
       "      <td>0.01</td>\n",
       "      <td>0.01</td>\n",
       "    </tr>\n",
       "    <tr>\n",
       "      <th>2</th>\n",
       "      <td>https://bio.tools/lnlcorr</td>\n",
       "      <td>0.01</td>\n",
       "      <td>0.01</td>\n",
       "      <td>0.02</td>\n",
       "    </tr>\n",
       "    <tr>\n",
       "      <th>3</th>\n",
       "      <td>https://bio.tools/molligen</td>\n",
       "      <td>6.49</td>\n",
       "      <td>0.02</td>\n",
       "      <td>0.02</td>\n",
       "    </tr>\n",
       "    <tr>\n",
       "      <th>4</th>\n",
       "      <td>https://bio.tools/pr2-primers</td>\n",
       "      <td>0.01</td>\n",
       "      <td>0.01</td>\n",
       "      <td>0.01</td>\n",
       "    </tr>\n",
       "    <tr>\n",
       "      <th>5</th>\n",
       "      <td>https://bio.tools/BeanMine</td>\n",
       "      <td>4.54</td>\n",
       "      <td>0.02</td>\n",
       "      <td>0.02</td>\n",
       "    </tr>\n",
       "    <tr>\n",
       "      <th>6</th>\n",
       "      <td>https://bio.tools/cellnetanalyzer</td>\n",
       "      <td>0.02</td>\n",
       "      <td>0.02</td>\n",
       "      <td>0.02</td>\n",
       "    </tr>\n",
       "    <tr>\n",
       "      <th>7</th>\n",
       "      <td>https://bio.tools/methylscaper</td>\n",
       "      <td>0.01</td>\n",
       "      <td>0.01</td>\n",
       "      <td>0.01</td>\n",
       "    </tr>\n",
       "    <tr>\n",
       "      <th>8</th>\n",
       "      <td>https://bio.tools/msfilereader_python_bindings</td>\n",
       "      <td>0.02</td>\n",
       "      <td>0.02</td>\n",
       "      <td>0.02</td>\n",
       "    </tr>\n",
       "    <tr>\n",
       "      <th>9</th>\n",
       "      <td>https://bio.tools/dp2</td>\n",
       "      <td>0.01</td>\n",
       "      <td>0.01</td>\n",
       "      <td>0.01</td>\n",
       "    </tr>\n",
       "  </tbody>\n",
       "</table>\n",
       "</div>"
      ],
      "text/plain": [
       "                                               ID   F2B    I2  R1.3\n",
       "0                          https://bio.tools/pmle  4.26  0.01  0.01\n",
       "1                          https://bio.tools/DPre  0.36  0.01  0.01\n",
       "2                       https://bio.tools/lnlcorr  0.01  0.01  0.02\n",
       "3                      https://bio.tools/molligen  6.49  0.02  0.02\n",
       "4                   https://bio.tools/pr2-primers  0.01  0.01  0.01\n",
       "5                      https://bio.tools/BeanMine  4.54  0.02  0.02\n",
       "6               https://bio.tools/cellnetanalyzer  0.02  0.02  0.02\n",
       "7                  https://bio.tools/methylscaper  0.01  0.01  0.01\n",
       "8  https://bio.tools/msfilereader_python_bindings  0.02  0.02  0.02\n",
       "9                           https://bio.tools/dp2  0.01  0.01  0.01"
      ]
     },
     "execution_count": 14,
     "metadata": {},
     "output_type": "execute_result"
    }
   ],
   "source": [
    "df_time"
   ]
  },
  {
   "cell_type": "markdown",
   "metadata": {},
   "source": [
    "# Plotting results"
   ]
  },
  {
   "cell_type": "code",
   "execution_count": 15,
   "metadata": {},
   "outputs": [
    {
     "data": {
      "application/vnd.jupyter.widget-view+json": {
       "model_id": "cf3a74870483402b8f013a4038a4f15a",
       "version_major": 2,
       "version_minor": 0
      },
      "text/plain": [
       "  0%|          | 0/1 [00:00<?, ?it/s]"
      ]
     },
     "metadata": {},
     "output_type": "display_data"
    }
   ],
   "source": [
    "import glob\n",
    "\n",
    "all_files = glob.glob(\"../results/biotools/FC_results_long*.csv\")\n",
    "\n",
    "li = []\n",
    "\n",
    "for filename in tqdm(all_files):\n",
    "    df = pd.read_csv(filename, index_col=None, header=0)\n",
    "    li.append(df)\n",
    "df = pd.concat(li, axis=0, ignore_index=True)"
   ]
  },
  {
   "cell_type": "code",
   "execution_count": 16,
   "metadata": {},
   "outputs": [
    {
     "data": {
      "text/html": [
       "<div>\n",
       "<style scoped>\n",
       "    .dataframe tbody tr th:only-of-type {\n",
       "        vertical-align: middle;\n",
       "    }\n",
       "\n",
       "    .dataframe tbody tr th {\n",
       "        vertical-align: top;\n",
       "    }\n",
       "\n",
       "    .dataframe thead th {\n",
       "        text-align: right;\n",
       "    }\n",
       "</style>\n",
       "<table border=\"1\" class=\"dataframe\">\n",
       "  <thead>\n",
       "    <tr style=\"text-align: right;\">\n",
       "      <th></th>\n",
       "      <th></th>\n",
       "      <th></th>\n",
       "      <th>id</th>\n",
       "    </tr>\n",
       "    <tr>\n",
       "      <th>F2B</th>\n",
       "      <th>I2</th>\n",
       "      <th>R13</th>\n",
       "      <th></th>\n",
       "    </tr>\n",
       "  </thead>\n",
       "  <tbody>\n",
       "    <tr>\n",
       "      <th rowspan=\"10\" valign=\"top\">True</th>\n",
       "      <th rowspan=\"10\" valign=\"top\">True</th>\n",
       "      <th>True</th>\n",
       "      <td>https://bio.tools/pmle</td>\n",
       "    </tr>\n",
       "    <tr>\n",
       "      <th>True</th>\n",
       "      <td>https://bio.tools/DPre</td>\n",
       "    </tr>\n",
       "    <tr>\n",
       "      <th>True</th>\n",
       "      <td>https://bio.tools/lnlcorr</td>\n",
       "    </tr>\n",
       "    <tr>\n",
       "      <th>True</th>\n",
       "      <td>https://bio.tools/molligen</td>\n",
       "    </tr>\n",
       "    <tr>\n",
       "      <th>True</th>\n",
       "      <td>https://bio.tools/pr2-primers</td>\n",
       "    </tr>\n",
       "    <tr>\n",
       "      <th>True</th>\n",
       "      <td>https://bio.tools/BeanMine</td>\n",
       "    </tr>\n",
       "    <tr>\n",
       "      <th>True</th>\n",
       "      <td>https://bio.tools/cellnetanalyzer</td>\n",
       "    </tr>\n",
       "    <tr>\n",
       "      <th>True</th>\n",
       "      <td>https://bio.tools/methylscaper</td>\n",
       "    </tr>\n",
       "    <tr>\n",
       "      <th>True</th>\n",
       "      <td>https://bio.tools/msfilereader_python_bindings</td>\n",
       "    </tr>\n",
       "    <tr>\n",
       "      <th>True</th>\n",
       "      <td>https://bio.tools/dp2</td>\n",
       "    </tr>\n",
       "  </tbody>\n",
       "</table>\n",
       "</div>"
      ],
      "text/plain": [
       "                                                            id\n",
       "F2B  I2   R13                                                 \n",
       "True True True                          https://bio.tools/pmle\n",
       "          True                          https://bio.tools/DPre\n",
       "          True                       https://bio.tools/lnlcorr\n",
       "          True                      https://bio.tools/molligen\n",
       "          True                   https://bio.tools/pr2-primers\n",
       "          True                      https://bio.tools/BeanMine\n",
       "          True               https://bio.tools/cellnetanalyzer\n",
       "          True                  https://bio.tools/methylscaper\n",
       "          True  https://bio.tools/msfilereader_python_bindings\n",
       "          True                           https://bio.tools/dp2"
      ]
     },
     "execution_count": 16,
     "metadata": {},
     "output_type": "execute_result"
    }
   ],
   "source": [
    "from upsetplot import generate_counts, from_contents, generate_samples, UpSet, plot\n",
    "import matplotlib.pyplot as plt\n",
    "\n",
    "plt.rcParams['figure.figsize'] = [12, 8]\n",
    "plt.rcParams['figure.dpi'] = 200 \n",
    "\n",
    "F2B = df[((df[\"F2B\"].astype(int) > 0))][\"ID\"]\n",
    "I2 = df[((df[\"I2\"].astype(int) > 0))][\"ID\"]\n",
    "R13 = df[((df[\"R1.3\"].astype(int) > 0))][\"ID\"]\n",
    "\n",
    "df_upset = from_contents({'F2B': F2B, \n",
    "                          'I2': I2, \n",
    "                          'R13': R13})\n",
    "df_upset"
   ]
  },
  {
   "cell_type": "code",
   "execution_count": 17,
   "metadata": {},
   "outputs": [
    {
     "data": {
      "image/png": "[encoded data removed]",
      "text/plain": [
       "<Figure size 444.444x800 with 4 Axes>"
      ]
     },
     "metadata": {
      "needs_background": "light"
     },
     "output_type": "display_data"
    }
   ],
   "source": [
    "upset = UpSet(df_upset, subset_size='count', show_counts=True, sort_categories_by=None, orientation='horizontal')\n",
    "\n",
    "params = {'legend.fontsize': 8}\n",
    "with plt.rc_context(params):\n",
    "    upset.plot()\n",
    "plt.suptitle(\"Bioinformatics softwares from Bio.Tools\")\n",
    "plt.savefig('../results/biotools-F2B-I2-R13.png', format=\"png\")\n",
    "plt.show()"
   ]
  },
  {
   "cell_type": "code",
   "execution_count": 18,
   "metadata": {},
   "outputs": [
    {
     "name": "stderr",
     "output_type": "stream",
     "text": [
      "/var/folders/x1/d1nyvpvs0td0htxzsv9x6ggw0000gn/T/ipykernel_3964/2221805510.py:3: FutureWarning: In a future version of pandas all arguments of DataFrame.drop except for the argument 'labels' will be keyword-only.\n",
      "  df_time.drop('ID', 1, inplace=True)\n"
     ]
    },
    {
     "name": "stdout",
     "output_type": "stream",
     "text": [
      "1.573\n",
      "0.014000000000000002\n",
      "0.015\n"
     ]
    },
    {
     "data": {
      "image/png": "[encoded data removed]",
      "text/plain": [
       "<Figure size 2400x1600 with 1 Axes>"
      ]
     },
     "metadata": {
      "needs_background": "light"
     },
     "output_type": "display_data"
    }
   ],
   "source": [
    "import seaborn as sns\n",
    "\n",
    "df_time.drop('ID', 1, inplace=True)\n",
    "\n",
    "sns.boxplot(data=df_time)\n",
    "plt.savefig('../results/exec_time.png')\n",
    "print(df_time[\"F2B\"].mean())\n",
    "print(df_time[\"I2\"].mean())\n",
    "print(df_time[\"R1.3\"].mean())"
   ]
  },
  {
   "cell_type": "code",
   "execution_count": null,
   "metadata": {},
   "outputs": [],
   "source": []
  }
 ],
 "metadata": {
  "interpreter": {
   "hash": "e202b6cb132b9357ed023fecdbc194f9a7f520726b3b39fdf8a2279e78a83e12"
  },
  "kernelspec": {
   "display_name": "Python 3 (ipykernel)",
   "language": "python",
   "name": "python3"
  },
  "language_info": {
   "codemirror_mode": {
    "name": "ipython",
    "version": 3
   },
   "file_extension": ".py",
   "mimetype": "text/x-python",
   "name": "python",
   "nbconvert_exporter": "python",
   "pygments_lexer": "ipython3",
   "version": "3.9.10"
  }
 },
 "nbformat": 4,
 "nbformat_minor": 2
}
