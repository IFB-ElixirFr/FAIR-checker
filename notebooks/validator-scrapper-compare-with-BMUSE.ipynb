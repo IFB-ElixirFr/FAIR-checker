{
 "cells": [
  {
   "cell_type": "markdown",
   "metadata": {},
   "source": [
    "# Aim of the notebook\n",
    "Main steps:\n",
    "- Import the Libraies\n",
    "- Retreive a list of target URLs from an TXT file\n",
    "- Browse the URLs and extract the metadate from each, store them in a Knowledge Graph, and store it in a ttl file"
   ]
  },
  {
   "cell_type": "markdown",
   "metadata": {},
   "source": [
    "## 1. Import Libraries"
   ]
  },
  {
   "cell_type": "code",
   "execution_count": 1,
   "metadata": {},
   "outputs": [
    {
     "name": "stderr",
     "output_type": "stream",
     "text": [
      "/Users/frikha-s/opt/anaconda3/envs/fair-checker-env/lib/python3.8/site-packages/rdflib_jsonld/__init__.py:9: DeprecationWarning: The rdflib-jsonld package has been integrated into rdflib as of rdflib==6.0.1.  Please remove rdflib-jsonld from your project's dependencies.\n",
      "  warnings.warn(\n",
      "[WDM] - \n",
      "\n",
      "[WDM] - ====== WebDriver manager ======\n",
      "[WDM] - Current google-chrome version is 102.0.5005\n",
      "[WDM] - Get LATEST driver version for 102.0.5005\n",
      "[WDM] - Driver [/Users/frikha-s/.wdm/drivers/chromedriver/mac64/102.0.5005.61/chromedriver] found in cache\n"
     ]
    }
   ],
   "source": [
    "import sys\n",
    "parentdir = \"..\"\n",
    "sys.path.insert(0, parentdir)\n",
    "\n",
    "import requests\n",
    "from os import path\n",
    "from tqdm.notebook import tqdm\n",
    "import pandas as pd\n",
    "import time\n",
    "\n",
    "from metrics.WebResource import WebResource\n",
    "from rdflib import Graph\n",
    "from xml.dom import minidom\n",
    "from rdflib import ConjunctiveGraph, Namespace, URIRef\n",
    "from rdflib.namespace import RDF, RDFS\n",
    "\n",
    "import random\n",
    "import matplotlib.pyplot as plt"
   ]
  },
  {
   "cell_type": "markdown",
   "metadata": {},
   "source": [
    "## 3. Retrieve a List of Target URLs"
   ]
  },
  {
   "cell_type": "code",
   "execution_count": 16,
   "metadata": {},
   "outputs": [
    {
     "data": {
      "application/vnd.jupyter.widget-view+json": {
       "model_id": "a0f274c4b8d74e9480e2ceab08728e10",
       "version_major": 2,
       "version_minor": 0
      },
      "text/plain": [
       "  0%|          | 0/38 [00:00<?, ?it/s]"
      ]
     },
     "metadata": {},
     "output_type": "display_data"
    },
    {
     "name": "stdout",
     "output_type": "stream",
     "text": [
      "http://www.orpha.net/consor/cgi-bin/OC_Exp.php?lng=en&Expert=166029\n",
      "\n",
      "http://www.orpha.net/consor/cgi-bin/OC_Exp.php?lng=en&Expert=166038\n",
      "\n",
      "http://www.orpha.net/consor/cgi-bin/OC_Exp.php?lng=en&Expert=93\n",
      "\n",
      "http://www.orpha.net/consor/cgi-bin/OC_Exp.php?lng=en&Expert=166035\n",
      "\n",
      "http://www.orpha.net/consor/cgi-bin/OC_Exp.php?lng=en&Expert=585\n",
      "\n",
      "http://www.orpha.net/consor/cgi-bin/OC_Exp.php?lng=en&Expert=118\n",
      "\n",
      "http://www.orpha.net/consor/cgi-bin/OC_Exp.php?lng=en&Expert=166068\n",
      "\n",
      "http://www.orpha.net/consor/cgi-bin/OC_Exp.php?lng=en&Expert=141\n",
      "\n",
      "http://www.orpha.net/consor/cgi-bin/OC_Exp.php?lng=en&Expert=166063\n",
      "\n",
      "http://www.orpha.net/consor/cgi-bin/OC_Exp.php?lng=en&Expert=166078\n",
      "\n",
      "http://www.orpha.net/consor/cgi-bin/OC_Exp.php?lng=en&Expert=206\n",
      "\n"
     ]
    }
   ],
   "source": [
    "# parse the xml file\n",
    "mydoc = open('URLsToScrappe.txt', 'r')\n",
    "urls = mydoc.readlines()\n",
    "\n",
    "#Display the first 10 URLs\n",
    "i=0\n",
    "for url in tqdm(urls):\n",
    "    #list_urls+=url.firstChild.data\n",
    "    print(url)\n",
    "    i+=1\n",
    "    if i>10: break"
   ]
  },
  {
   "cell_type": "markdown",
   "metadata": {},
   "source": [
    "## 4. Feed the RDF Graph"
   ]
  },
  {
   "cell_type": "code",
   "execution_count": 17,
   "metadata": {},
   "outputs": [],
   "source": [
    "schema = Namespace(\"http://schema.org/\")"
   ]
  },
  {
   "cell_type": "code",
   "execution_count": 19,
   "metadata": {},
   "outputs": [
    {
     "data": {
      "application/vnd.jupyter.widget-view+json": {
       "model_id": "d9facf2048af480c9619ecc29688e139",
       "version_major": 2,
       "version_minor": 0
      },
      "text/plain": [
       "  0%|          | 0/38 [00:00<?, ?it/s]"
      ]
     },
     "metadata": {},
     "output_type": "display_data"
    },
    {
     "name": "stdout",
     "output_type": "stream",
     "text": [
      "http://schema.org/\n",
      "http://schema.org/\n",
      "http://schema.org/\n",
      "http://schema.org/\n",
      "http://schema.org/\n",
      "http://schema.org/\n",
      "http://schema.org/\n",
      "http://schema.org/\n",
      "http://schema.org/\n",
      "http://schema.org/\n",
      "http://schema.org/\n",
      "http://schema.org/\n",
      "http://schema.org/\n",
      "http://schema.org/\n",
      "http://schema.org/\n",
      "http://schema.org/\n",
      "http://schema.org/\n",
      "http://schema.org/\n",
      "http://schema.org/\n",
      "http://schema.org/\n",
      "http://schema.org/\n",
      "http://schema.org/\n",
      "http://schema.org/\n",
      "http://schema.org/\n",
      "http://schema.org/\n",
      "http://schema.org/\n",
      "http://schema.org/\n",
      "http://schema.org/\n",
      "http://schema.org/\n",
      "http://schema.org/\n",
      "http://schema.org/\n",
      "http://schema.org/\n",
      "http://schema.org/\n",
      "http://schema.org/\n",
      "http://schema.org/\n",
      "http://schema.org/\n",
      "http://schema.org/\n",
      "http://schema.org/\n",
      "Loaded 2335 triples\n"
     ]
    }
   ],
   "source": [
    "KG_Total = ConjunctiveGraph()\n",
    "\n",
    "for u in tqdm(urls):\n",
    "    wr = WebResource(url=u)\n",
    "    KG_Total += wr.get_rdf()\n",
    "\n",
    "##Display the total triples contained in the graph, after scrapping all URLs in the XML file\n",
    "print(f\"Loaded {len(KG_Total)} triples\")"
   ]
  },
  {
   "cell_type": "code",
   "execution_count": 20,
   "metadata": {},
   "outputs": [
    {
     "name": "stdout",
     "output_type": "stream",
     "text": [
      "Loaded 2335 triples\n"
     ]
    }
   ],
   "source": [
    "print(f\"Loaded {len(KG_Total)} triples\")"
   ]
  },
  {
   "cell_type": "code",
   "execution_count": 22,
   "metadata": {},
   "outputs": [
    {
     "data": {
      "text/plain": [
       "<Graph identifier=N93fcf2f9980e424b804c5ca213487e6b (<class 'rdflib.graph.ConjunctiveGraph'>)>"
      ]
     },
     "execution_count": 22,
     "metadata": {},
     "output_type": "execute_result"
    }
   ],
   "source": [
    "#Save the KG in a turtle file\n",
    "KG_Total.serialize(\"scrapped_orphanet_bioschemas.ttl\", format=\"turtle\")"
   ]
  }
 ],
 "metadata": {
  "interpreter": {
   "hash": "e202b6cb132b9357ed023fecdbc194f9a7f520726b3b39fdf8a2279e78a83e12"
  },
  "kernelspec": {
   "display_name": "Python 3 (ipykernel)",
   "language": "python",
   "name": "python3"
  },
  "language_info": {
   "codemirror_mode": {
    "name": "ipython",
    "version": 3
   },
   "file_extension": ".py",
   "mimetype": "text/x-python",
   "name": "python",
   "nbconvert_exporter": "python",
   "pygments_lexer": "ipython3",
   "version": "3.8.12"
  }
 },
 "nbformat": 4,
 "nbformat_minor": 2
}
