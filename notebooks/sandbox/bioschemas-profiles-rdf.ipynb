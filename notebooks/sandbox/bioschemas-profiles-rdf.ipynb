{
 "cells": [
  {
   "cell_type": "code",
   "execution_count": 1,
   "id": "fb417431",
   "metadata": {},
   "outputs": [],
   "source": [
    "from rdflib import ConjunctiveGraph, URIRef, Literal, Namespace, Dataset\n",
    "SCHEMA = Namespace(\"http://schema.org/\")"
   ]
  },
  {
   "cell_type": "code",
   "execution_count": 2,
   "id": "505581e9",
   "metadata": {},
   "outputs": [
    {
     "data": {
      "text/plain": [
       "<Graph identifier=https://schema.org/version/latest/schemaorg-current-https.ttl (<class 'rdflib.graph.Graph'>)>"
      ]
     },
     "execution_count": 2,
     "metadata": {},
     "output_type": "execute_result"
    }
   ],
   "source": [
    "# load schema.org ontology\n",
    "kg = ConjunctiveGraph()\n",
    "kg.parse(\"https://schema.org/version/latest/schemaorg-current-https.ttl\")"
   ]
  },
  {
   "cell_type": "code",
   "execution_count": 3,
   "id": "0d4897de",
   "metadata": {},
   "outputs": [
    {
     "name": "stdout",
     "output_type": "stream",
     "text": [
      "Schema.org ontology size: 16248 triples\n",
      "https://schema.org/InformAction <- https://schema.org/ConfirmAction\n",
      "https://schema.org/CommunicateAction <- https://schema.org/ConfirmAction\n",
      "https://schema.org/InteractAction <- https://schema.org/ConfirmAction\n",
      "https://schema.org/Action <- https://schema.org/ConfirmAction\n",
      "https://schema.org/Thing <- https://schema.org/ConfirmAction\n"
     ]
    }
   ],
   "source": [
    "print(f\"Schema.org ontology size: {len(kg)} triples\")\n",
    "\n",
    "my_class = \"schema:ConfirmAction\"\n",
    "\n",
    "q = f\"\"\"\n",
    "    PREFIX rdf: <http://www.w3.org/1999/02/22-rdf-syntax-ns#> \n",
    "    PREFIX rdfs: <http://www.w3.org/2000/01/rdf-schema#> \n",
    "    PREFIX schema: <https://schema.org/>\n",
    "    \n",
    "    SELECT ?c ?c_parent WHERE {{\n",
    "        ?c rdfs:subClassOf+ ?c_parent .\n",
    "        FILTER (?c = {my_class})\n",
    "    }}\n",
    "\"\"\"\n",
    "\n",
    "res = kg.query(q)\n",
    "for r in res :\n",
    "    print(f\"{r['c_parent']} <- {r['c']}\")"
   ]
  },
  {
   "cell_type": "code",
   "execution_count": 15,
   "id": "f66efb23",
   "metadata": {},
   "outputs": [
    {
     "data": {
      "text/plain": [
       "<Graph identifier=https://raw.githubusercontent.com/BioSchemas/bioschemas-dde/main/bioschemas.json (<class 'rdflib.graph.Graph'>)>"
      ]
     },
     "execution_count": 15,
     "metadata": {},
     "output_type": "execute_result"
    }
   ],
   "source": [
    "profiles_graph = ConjunctiveGraph()\n",
    "profiles_graph.parse(\"https://schema.org/version/latest/schemaorg-current-https.ttl\")\n",
    "profiles_graph.parse(\"https://github.com/BioSchemas/bioschemas-dde/raw/main/bioschemas.json\", format=\"json-ld\")"
   ]
  },
  {
   "cell_type": "code",
   "execution_count": 16,
   "id": "9a205a0f",
   "metadata": {},
   "outputs": [
    {
     "name": "stdout",
     "output_type": "stream",
     "text": [
      "Loaded 16408 triples\n"
     ]
    }
   ],
   "source": [
    "print(f\"Loaded {len(profiles_graph)} triples\")"
   ]
  },
  {
   "cell_type": "code",
   "execution_count": 17,
   "id": "437c9aee",
   "metadata": {},
   "outputs": [
    {
     "name": "stdout",
     "output_type": "stream",
     "text": [
      "https://schema.org/ChemicalSubstance http://www.w3.org/2000/01/rdf-schema#subClassOf https://schema.org/BioChemEntity\n",
      "https://schema.org/ChemicalSubstance http://www.w3.org/1999/02/22-rdf-syntax-ns#type http://www.w3.org/2000/01/rdf-schema#Class\n",
      "https://discovery.biothings.io/view/bioschemas/ChemicalSubstance http://www.w3.org/1999/02/22-rdf-syntax-ns#type http://www.w3.org/2000/01/rdf-schema#Class\n",
      "https://discovery.biothings.io/view/bioschemas/ChemicalSubstance http://www.w3.org/2000/01/rdf-schema#label ChemicalSubstance\n",
      "https://schema.org/ChemicalSubstance http://www.w3.org/2000/01/rdf-schema#label ChemicalSubstance\n",
      "https://schema.org/ChemicalSubstance http://www.w3.org/2000/01/rdf-schema#comment A chemical substance is 'a portion of matter of constant composition, composed of molecular entities of the same type or of different types' (source: [ChEBI:59999](https://www.ebi.ac.uk/chebi/searchId.do?chebiId=59999)).\n",
      "https://discovery.biothings.io/view/bioschemas/ChemicalSubstance http://www.w3.org/2000/01/rdf-schema#subClassOf http://schema.org/ChemicalSubstance\n",
      "https://schema.org/ChemicalSubstance http://purl.org/dc/terms/source http://bioschemas.org\n",
      "https://discovery.biothings.io/view/bioschemas/ChemicalSubstance http://www.w3.org/2000/01/rdf-schema#comment This profile describes a ChemicalSubstance which is 'a portion of matter of constant composition, composed of molecular entities of the same type or of different types' (source: ChEBI:59999). Note, the parent class for this profile has been updated to a pending class in schema.org.\n",
      "https://discovery.biothings.io/view/bioschemas/ChemicalSubstance http://schema.org/schemaVersion https://github.com/BioSchemas/specifications/blob/master/ChemicalSubstance/jsonld/ChemicalSubstance_v0.4-RELEASE.json\n",
      "https://schema.org/ChemicalSubstance https://schema.org/isPartOf https://pending.schema.org\n",
      "https://discovery.biothings.io/view/bioschemas/ChemicalSubstance http://schema.org/schemaVersion https://bioschemas.org/profiles/ChemicalSubstance/0.4-RELEASE\n",
      "https://schema.org/ChemicalSubstance http://purl.org/dc/terms/source https://www.ebi.ac.uk/chebi/searchId.do?chebiId=59999\n"
     ]
    }
   ],
   "source": [
    "for s, p, o in profiles_graph :\n",
    "    if (\"ChemicalSubstance\" in s) :\n",
    "        print(s, p, o)"
   ]
  },
  {
   "cell_type": "code",
   "execution_count": 14,
   "id": "78e4b8c5",
   "metadata": {},
   "outputs": [
    {
     "name": "stdout",
     "output_type": "stream",
     "text": [
      "@prefix bioschemas: <https://discovery.biothings.io/view/bioschemas/> .\n",
      "@prefix bioschemastypes: <https://discovery.biothings.io/view/bioschemastypes/> .\n",
      "@prefix bioschemastypesdrafts: <https://discovery.biothings.io/view/bioschemastypesdrafts/> .\n",
      "@prefix dct: <http://purl.org/dc/terms/> .\n",
      "@prefix dwc: <http://rs.tdwg.org/dwc/terms/> .\n",
      "@prefix rdf: <http://www.w3.org/1999/02/22-rdf-syntax-ns#> .\n",
      "@prefix rdfs: <http://www.w3.org/2000/01/rdf-schema#> .\n",
      "@prefix schema: <http://schema.org/> .\n",
      "\n",
      "bioschemas:ChemicalSubstance a rdfs:Class ;\n",
      "    rdfs:label \"ChemicalSubstance\" ;\n",
      "    schema:schemaVersion \"https://bioschemas.org/profiles/ChemicalSubstance/0.4-RELEASE\",\n",
      "        \"https://github.com/BioSchemas/specifications/blob/master/ChemicalSubstance/jsonld/ChemicalSubstance_v0.4-RELEASE.json\" ;\n",
      "    rdfs:comment \"This profile describes a ChemicalSubstance which is 'a portion of matter of constant composition, composed of molecular entities of the same type or of different types' (source: ChEBI:59999). Note, the parent class for this profile has been updated to a pending class in schema.org.\" ;\n",
      "    rdfs:subClassOf schema:ChemicalSubstance .\n",
      "\n",
      "bioschemas:ComputationalTool a rdfs:Class ;\n",
      "    rdfs:label \"ComputationalTool\" ;\n",
      "    schema:schemaVersion \"https://bioschemas.org/profiles/ComputationalTool/1.0-RELEASE\",\n",
      "        \"https://github.com/BioSchemas/specifications/blob/master/ComputationalTool/jsonld/ComputationalTool_v1.0-RELEASE.json\" ;\n",
      "    rdfs:comment \"The Life Science Tools specification provides a way to describe bioscience tools and software on the World Wide Web. It defines a set of metadata and vocabularies, built on top of existing technologies and standards, that can be used to represent such tools in Web pages and applications. The goal of the specification is to make it easier to discover. Version 1.0-RELEASE.<h3>Summary of Changes</h3> <p>Changes since the 0.6-DRAFT</p> <ul> <li>additionalType property deprecated and replaced by applicationCategory.</li><li>example added for the name property.</li></ul>\" ;\n",
      "    rdfs:subClassOf schema:SoftwareApplication .\n",
      "\n",
      "bioschemas:ComputationalWorkflow a rdfs:Class ;\n",
      "    rdfs:label \"ComputationalWorkflow\" ;\n",
      "    schema:schemaVersion \"https://bioschemas.org/profiles/ComputationalWorkflow/1.0-RELEASE\",\n",
      "        \"https://github.com/BioSchemas/specifications/blob/master/ComputationalWorkflow/jsonld/ComputationalWorkflow_v1.0-RELEASE.json\" ;\n",
      "    rdfs:comment \"A computational workflow consists of an orchestrated and repeatable pattern of activity enabled by the systematic organization of resources into processes that transform materials, provide services, or process information (source Wikipedia.org). It is executed by a computational process and is thus distinct from laboratory or business workflows. version 1.0-RELEASE\" ;\n",
      "    rdfs:subClassOf bioschemastypes:ComputationalWorkflow .\n",
      "\n",
      "bioschemas:Course a rdfs:Class ;\n",
      "    rdfs:label \"Course\" ;\n",
      "    schema:schemaVersion \"https://bioschemas.org/profiles/Course/1.0-RELEASE\",\n",
      "        \"https://github.com/BioSchemas/specifications/blob/master/Course/jsonld/Course_v1.0-RELEASE.json\" ;\n",
      "    rdfs:comment \"Specification describing a course.  This specification must be used in tandem with a courseInstance. A course is used to describe the broad, common aspects of a recurring training event - whereas a course instance is about the specific times and location of when that course is held. <h4>Summary of Changes</h4>    No changes since 0.10-DRAFT of the Course profile.</li>         </ul> Version: 1.0-RELEASE (13 September 2022) \" ;\n",
      "    rdfs:subClassOf schema:Course .\n",
      "\n",
      "bioschemas:CourseInstance a rdfs:Class ;\n",
      "    rdfs:label \"CourseInstance\" ;\n",
      "    schema:schemaVersion \"https://bioschemas.org/profiles/CourseInstance/1.0-RELEASE\",\n",
      "        \"https://github.com/BioSchemas/specifications/blob/master/CourseInstance/jsonld/CourseInstance_v1.0-RELEASE.json\" ;\n",
      "    rdfs:comment \"Specification describing the instance of a course.  This specification can be used in tandem with a Course. A course is used to describe the broad, common aspects of a recurring training event - whereas a course instance is about the specific times and location of when that course is held. <h4>Summary of Changes</h4>    No changes since 0.9-DRAFT of the CourseInstance profile. Version: 1.0-RELEASE (13 September 2022)\" ;\n",
      "    rdfs:subClassOf schema:CourseInstance .\n",
      "\n",
      "bioschemas:DataCatalog a rdfs:Class ;\n",
      "    rdfs:label \"DataCatalog\" ;\n",
      "    schema:schemaVersion \"https://bioschemas.org/profiles/DataCatalog/0.3-RELEASE-2019_07_01\",\n",
      "        \"https://github.com/BioSchemas/specifications/blob/master/DataCatalog/jsonld/DataCatalog_v0.3-RELEASE-2019_07_01.json\" ;\n",
      "    rdfs:comment \"A guide for how to describe data catalogs/repositories in the life-sciences using Schema.org-like annotation. Version 0.3-RELEASE-2019_07_01\" ;\n",
      "    rdfs:subClassOf schema:DataCatalog .\n",
      "\n",
      "bioschemas:Dataset a rdfs:Class ;\n",
      "    rdfs:label \"Dataset\" ;\n",
      "    schema:schemaVersion \"https://bioschemas.org/profiles/Dataset/1.0-RELEASE\",\n",
      "        \"https://github.com/BioSchemas/specifications/blob/master/Dataset/jsonld/Dataset_v1.0-RELEASE.json\" ;\n",
      "    rdfs:comment \"A guide for how to describe datasets in the life-sciences using Schema.org-like annotation. Version 1.0-RELEASE. <h3>Summary of Changes</h3> <br>Key changes since 0.3-RELEASE:<ul><li>Updated properties to Schema.org v12.0; various properties added at recommended or optional level, expected types updated. See 0.4-DRAFT for full details</li><li>license now a minimum property</li><li>keywords: Cardinality #501 – Cardinality is MANY</li><li>distribution: Cardinality #574 – Cardinality changed to MANY</li><li>datePublished: Increased marginlity #576 – Now recommended</li><li>publisher: Increased marginlity, Cardinality #576 – Now recommended with MANY cardinality</li></ul>\" ;\n",
      "    rdfs:subClassOf schema:Dataset .\n",
      "\n",
      "bioschemas:FormalParameter a rdfs:Class ;\n",
      "    rdfs:label \"FormalParameter\" ;\n",
      "    schema:schemaVersion \"https://bioschemas.org/profiles/FormalParameter/1.0-RELEASE\",\n",
      "        \"https://github.com/BioSchemas/specifications/blob/master/FormalParameter/jsonld/FormalParameter_v1.0-RELEASE.json\" ;\n",
      "    rdfs:comment \"Bioschemas specification for describing a formal parameter in the Life Sciences. Version: 1.0-RELEASE (09 March 2021) \" ;\n",
      "    rdfs:subClassOf bioschemastypes:FormalParameter .\n",
      "\n",
      "bioschemas:Gene a rdfs:Class ;\n",
      "    rdfs:label \"Gene\" ;\n",
      "    schema:schemaVersion \"https://bioschemas.org/profiles/Gene/1.0-RELEASE\",\n",
      "        \"https://github.com/BioSchemas/specifications/blob/master/Gene/jsonld/Gene_v1.0-RELEASE.json\" ;\n",
      "    rdfs:comment \"Bioschemas profile describing a Gene in Life Sciences. This Gene profile specification presents the markup for describing a Gene and is based on the 1.0 release. Note, the parent class for this profile has been updated to a pending class in schema.org.\" ;\n",
      "    rdfs:subClassOf schema:Gene .\n",
      "\n",
      "bioschemas:MolecularEntity a rdfs:Class ;\n",
      "    rdfs:label \"MolecularEntity\" ;\n",
      "    schema:schemaVersion \"https://bioschemas.org/profiles/MolecularEntity/0.5-RELEASE\",\n",
      "        \"https://github.com/BioSchemas/specifications/blob/master/MolecularEntity/jsonld/MolecularEntity_v0.5-RELEASE.json\" ;\n",
      "    rdfs:comment \"Bioschemas profile describing a MolecularEntity. Any constitutionally or isotopically distinct atom, molecule, ion, ion pair, radical, radical ion, complex, conformer etc., identifiable as a separately distinguishable entity. (Source: ChEBI:23367) based on version 0.5. Note, the parent class for this profile has been updated to a pending class in schema.org.\" ;\n",
      "    rdfs:subClassOf schema:MolecularEntity .\n",
      "\n",
      "bioschemas:Protein a rdfs:Class ;\n",
      "    rdfs:label \"Protein\" ;\n",
      "    schema:schemaVersion \"https://bioschemas.org/profiles/Protein/0.11-RELEASE\",\n",
      "        \"https://github.com/BioSchemas/specifications/blob/master/Protein/jsonld/Protein_v0.11-RELEASE.json\" ;\n",
      "    rdfs:comment \"Bioschemas profile describing a Protein in Life Sciences. This Protein profile specification presents the most common properties used for a Protein and is based on Version 0.11. Note, the parent class for this profile has been updated to a pending class in schema.org.\" ;\n",
      "    rdfs:subClassOf schema:Protein .\n",
      "\n",
      "bioschemas:Sample a rdfs:Class ;\n",
      "    rdfs:label \"Sample\" ;\n",
      "    schema:schemaVersion \"https://bioschemas.org/profiles/Sample/0.2-RELEASE-2018_11_10\",\n",
      "        \"https://github.com/BioSchemas/specifications/blob/master/Sample/jsonld/Sample_v0.2-RELEASE-2018_11_10.json\" ;\n",
      "    rdfs:comment \"To deliver on the identified use cases for samples, we have identified a minimal set of properties to encapsulate identification, linking, and metadata descriptions. Some of these properties are existing standard schema.org properties, others require Bioschemas extensions. Table 1 outlines the minimal set of properties for the ‘Sample’ concept and Table 2 shows our recommendations for use of the ‘PropertyValue’ concept to markup additional characteristics of a sample described within a sample page. We also propose a new concept, ‘Biomedical Code’, which is a generalisation of the existing ‘Medical Code’ concept defined in the health-lifesci.schema.org extension.\" ;\n",
      "    rdfs:subClassOf bioschemastypesdrafts:Sample .\n",
      "\n",
      "bioschemas:Taxon a rdfs:Class ;\n",
      "    rdfs:label \"Taxon\" ;\n",
      "    schema:schemaVersion \"https://bioschemas.org/profiles/Taxon/1.0-RELEASE\",\n",
      "        \"https://github.com/BioSchemas/specifications/blob/master/Taxon/jsonld/Taxon_v1.0-RELEASE.json\" ;\n",
      "    rdfs:comment \"Bioschemas profile for describing a biological taxon This profile aims to denote a taxon by common properties such as its scientific name, taxonomic rank and vernacular names. It is also a means to link to existing taxonomic registers where each taxon has a URI. Version 1.0-RELEASE.<br/><h3>Summary of Changes</h3><br>Changes since 0.8-DRAFT:<ul><li>None. Version 0.8-DRAFT was the draft approved for release.</li></ul>\" ;\n",
      "    rdfs:subClassOf bioschemastypes:Taxon .\n",
      "\n",
      "bioschemas:TaxonName a rdfs:Class ;\n",
      "    rdfs:label \"TaxonName\" ;\n",
      "    schema:schemaVersion \"https://bioschemas.org/profiles/TaxonName/1.0-RELEASE\",\n",
      "        \"https://github.com/BioSchemas/specifications/blob/master/TaxonName/jsonld/TaxonName_v1.0-RELEASE.json\" ;\n",
      "    rdfs:comment \"Bioschemas profile for describing a name of a biological taxon, which may be valid (zoology) / accepted (botany) or not. This profile povides a way to denote the scientific names of a taxon. The taxon accepted/valid name is linked to the taxon with property scientificName while the synonyms are linked with property alternateScientificName. Version: 1.0-RELEASE. <h3>Summary of Changes</h3><br>Changes since Version 0.2-DRAFT:<ul><li>None. Version 0.2-DRAFT was approved to become a release</li></ul>\" ;\n",
      "    rdfs:subClassOf bioschemastypes:TaxonName .\n",
      "\n",
      "bioschemas:TrainingMaterial a rdfs:Class ;\n",
      "    rdfs:label \"TrainingMaterial\" ;\n",
      "    schema:schemaVersion \"https://bioschemas.org/profiles/TrainingMaterial/1.0-RELEASE\",\n",
      "        \"https://github.com/BioSchemas/specifications/blob/master/TrainingMaterial/jsonld/TrainingMaterial_v1.0-RELEASE.json\" ;\n",
      "    rdfs:comment \"A specification for describing training materials in life sciences. The Life Science Training Materials specification provides a way to describe bioscience training material on the World Wide Web. It defines a set of metadata and vocabularies, built on top of existing technologies and standards, that can be used to represent events in Web pages and applications. The goal of the specification is to make it easier to discover, exchange and integrate life science training material information across the Internet.<h4>Summary of Changes</h4> No changes since 0.9-DRAFT of the TrainingMaterials profile. Version: 1.0-RELEASE\" ;\n",
      "    rdfs:subClassOf schema:LearningResource .\n",
      "\n",
      "dct:conformsTo a rdf:Property ;\n",
      "    rdfs:label \"conformsTo\" ;\n",
      "    schema:domainIncludes bioschemas:ChemicalSubstance,\n",
      "        bioschemas:ComputationalTool,\n",
      "        bioschemas:ComputationalWorkflow,\n",
      "        bioschemas:Course,\n",
      "        bioschemas:CourseInstance,\n",
      "        bioschemas:DataCatalog,\n",
      "        bioschemas:Dataset,\n",
      "        bioschemas:FormalParameter,\n",
      "        bioschemas:Gene,\n",
      "        bioschemas:MolecularEntity,\n",
      "        bioschemas:Protein,\n",
      "        bioschemas:Sample,\n",
      "        bioschemas:Taxon,\n",
      "        bioschemas:TaxonName,\n",
      "        bioschemas:TrainingMaterial ;\n",
      "    schema:rangeIncludes schema:CreativeWork,\n",
      "        schema:Text,\n",
      "        schema:Thing ;\n",
      "    rdfs:comment \"Used to state the Bioschemas profile that the markup relates to. The versioned URL of the profile must be used. Note that we use a CURIE in the table here but the full URL for Dublin Core terms must be used in the markup (http://purl.org/dc/terms/conformsTo), see example.\" .\n",
      "\n",
      "dwc:vernacularName a rdf:Property ;\n",
      "    rdfs:label \"vernacularName\" ;\n",
      "    schema:domainIncludes bioschemas:Taxon ;\n",
      "    schema:rangeIncludes schema:URL ;\n",
      "    rdfs:comment \"A vernacular (common) name of the taxon.\" .\n",
      "\n",
      "bioschemas:alternateScientificName a rdf:Property ;\n",
      "    rdfs:label \"alternateScientificName\" ;\n",
      "    schema:domainIncludes bioschemas:Taxon ;\n",
      "    schema:rangeIncludes schema:Text,\n",
      "        schema:URL,\n",
      "        bioschemastypes:TaxonName ;\n",
      "    rdfs:comment \"A TaxonName representing a scientific name, with authorship and date information if known, of a synonym of the currently valid (zoological) or accepted (botanical) name.\" .\n",
      "\n",
      "bioschemas:codeRepository a rdf:Property ;\n",
      "    rdfs:label \"codeRepository\" ;\n",
      "    schema:domainIncludes bioschemas:ComputationalTool ;\n",
      "    schema:rangeIncludes schema:Text ;\n",
      "    rdfs:comment \"Link to the repository where the un-compiled, human readable code and related code is located (SVN, github, CodePlex).\" .\n",
      "\n",
      "bioschemas:hasStatus a rdf:Property ;\n",
      "    rdfs:label \"hasStatus\" ;\n",
      "    schema:domainIncludes bioschemas:Gene ;\n",
      "    schema:rangeIncludes schema:Text ;\n",
      "    rdfs:comment \"One of pseudogene, dead, killed, live, predicted, suppressed.\" .\n",
      "\n",
      "bioschemas:input a rdf:Property ;\n",
      "    rdfs:label \"input\" ;\n",
      "    schema:domainIncludes bioschemas:ComputationalTool ;\n",
      "    schema:rangeIncludes bioschemas:FormalParameter ;\n",
      "    rdfs:comment \"Specification of a consumed input.\" .\n",
      "\n",
      "bioschemas:isBasedOn a rdf:Property ;\n",
      "    rdfs:label \"isBasedOn\" ;\n",
      "    schema:domainIncludes bioschemas:Taxon ;\n",
      "    schema:rangeIncludes schema:CreativeWork ;\n",
      "    rdfs:comment \"\"\"A resource from which this work is derived or from which it is a modification or adaption. Supersedes, isBasedOnUrl. \n",
      " A CreativeWork, such as a scholarly article, asserting the status of the accepted/valid name and synonyms, retained for the taxon circumscription.\"\"\" .\n",
      "\n",
      "bioschemas:output a rdf:Property ;\n",
      "    rdfs:label \"output\" ;\n",
      "    schema:domainIncludes bioschemas:ComputationalTool ;\n",
      "    schema:rangeIncludes bioschemas:FormalParameter ;\n",
      "    rdfs:comment \"Specification of a produced output.\" .\n",
      "\n",
      "bioschemas:programmingLanguage a rdf:Property ;\n",
      "    rdfs:label \"programmingLanguage\" ;\n",
      "    schema:domainIncludes bioschemas:ComputationalTool ;\n",
      "    schema:rangeIncludes schema:Text ;\n",
      "    rdfs:comment \"The computer programming language.\" .\n",
      "\n",
      "bioschemas:scientificName a rdf:Property ;\n",
      "    rdfs:label \"scientificName\" ;\n",
      "    schema:domainIncludes bioschemas:Taxon ;\n",
      "    schema:rangeIncludes schema:Text,\n",
      "        schema:URL,\n",
      "        bioschemastypes:TaxonName ;\n",
      "    rdfs:comment \"A TaxonName representing the currently valid (zoological) or accepted (botanical) name for that taxon.\" .\n",
      "\n",
      "\n"
     ]
    }
   ],
   "source": [
    "print(profiles_graph.serialize(format=\"turtle\"))"
   ]
  },
  {
   "cell_type": "code",
   "execution_count": null,
   "id": "6b7e80c9",
   "metadata": {},
   "outputs": [],
   "source": []
  }
 ],
 "metadata": {
  "kernelspec": {
   "display_name": "Python 3 (ipykernel)",
   "language": "python",
   "name": "python3"
  },
  "language_info": {
   "codemirror_mode": {
    "name": "ipython",
    "version": 3
   },
   "file_extension": ".py",
   "mimetype": "text/x-python",
   "name": "python",
   "nbconvert_exporter": "python",
   "pygments_lexer": "ipython3",
   "version": "3.9.10"
  }
 },
 "nbformat": 4,
 "nbformat_minor": 5
}
