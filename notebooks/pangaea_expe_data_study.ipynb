{
 "cells": [
  {
   "cell_type": "code",
   "execution_count": 3,
   "metadata": {},
   "outputs": [
    {
     "name": "stderr",
     "output_type": "stream",
     "text": [
      "/home/thomas/anaconda3/envs/fair-checker-env/lib/python3.8/site-packages/rdflib_jsonld/__init__.py:9: DeprecationWarning: The rdflib-jsonld package has been integrated into rdflib as of rdflib==6.0.1.  Please remove rdflib-jsonld from your project's dependencies.\n",
      "  warnings.warn(\n",
      "[WDM] - \n",
      "\n",
      "[WDM] - ====== WebDriver manager ======\n",
      "[WDM] - Current google-chrome version is 96.0.4664\n",
      "[WDM] - Get LATEST driver version for 96.0.4664\n",
      "[WDM] - Driver [/home/thomas/.wdm/drivers/chromedriver/linux64/96.0.4664.45/chromedriver] found in cache\n"
     ]
    }
   ],
   "source": [
    "import sys\n",
    "parentdir = \"..\"\n",
    "sys.path.insert(0, parentdir)\n",
    "\n",
    "import requests\n",
    "from os import path\n",
    "from tqdm.notebook import tqdm\n",
    "import pandas as pd\n",
    "import time\n",
    "\n",
    "from metrics.WebResource import WebResource\n",
    "from metrics.FAIRMetricsFactory import FAIRMetricsFactory\n",
    "from metrics.AbstractFAIRMetrics import AbstractFAIRMetrics"
   ]
  },
  {
   "cell_type": "code",
   "execution_count": 2,
   "metadata": {},
   "outputs": [],
   "source": [
    "from rdflib import ConjunctiveGraph, Namespace, URIRef\n",
    "from rdflib.namespace import RDF, RDFS\n",
    "\n",
    "schema = Namespace(\"http://schema.org/\")"
   ]
  },
  {
   "cell_type": "code",
   "execution_count": 3,
   "metadata": {},
   "outputs": [],
   "source": [
    "TIMEOUT = (10, 300)\n",
    "NB = '10000'\n",
    "\n",
    "def pangaeaRestRequest():\n",
    "    print(\"REST request to pangaea...\")\n",
    "    # rest request\n",
    "    url = 'https://ws.pangaea.de/es/pangaea/panmd/_search?pretty&size=' + NB\n",
    "    while True:\n",
    "        try:\n",
    "            response = requests.get(url, timeout=TIMEOUT)\n",
    "            break\n",
    "        except SSLError:\n",
    "            time.sleep(5)\n",
    "        except requests.exceptions.Timeout:\n",
    "            time.sleep(5)\n",
    "\n",
    "    return response\n",
    "\n",
    "def pangaeaJsonParser(response):\n",
    "    print(\"Parsing result...\")\n",
    "    json_response = response.json()\n",
    "\n",
    "    dois_list = []\n",
    "    for element in json_response[\"hits\"][\"hits\"]:\n",
    "        if \"URI\" in element[\"_source\"].keys():\n",
    "            doi = element[\"_source\"][\"URI\"]\n",
    "            dois_list.append(doi)\n",
    "            \n",
    "    print(\"Retrieved \" + str(len(dois_list)) + \" DOIs\")\n",
    "    return dois_list"
   ]
  },
  {
   "cell_type": "code",
   "execution_count": 4,
   "metadata": {},
   "outputs": [
    {
     "name": "stdout",
     "output_type": "stream",
     "text": [
      "REST request to pangaea...\n",
      "Parsing result...\n"
     ]
    }
   ],
   "source": [
    "response = pangaeaRestRequest()\n",
    "dois_list = pangaeaJsonParser(response)"
   ]
  },
  {
   "cell_type": "code",
   "execution_count": 5,
   "metadata": {},
   "outputs": [],
   "source": [
    "import random\n",
    "#sample_tool = random.choice(index.keys())\n",
    "\n",
    "random.seed(10)\n",
    "\n",
    "#samples = random.sample(list(index.items()), 1000)\n",
    "samples_dois_list = random.sample(dois_list, 5000)\n",
    "\n",
    "splitedSize = 500\n",
    "samples_chunks = [samples_dois_list[x:x+splitedSize] for x in range(0, len(samples_dois_list), splitedSize)]"
   ]
  },
  {
   "cell_type": "code",
   "execution_count": 6,
   "metadata": {},
   "outputs": [
    {
     "name": "stdout",
     "output_type": "stream",
     "text": [
      "5000\n"
     ]
    }
   ],
   "source": [
    "print(len(samples_dois_list))"
   ]
  },
  {
   "cell_type": "code",
   "execution_count": 7,
   "metadata": {},
   "outputs": [],
   "source": [
    "metrics_collection = []\n",
    "metrics_collection.append(FAIRMetricsFactory.get_F1A(None))\n",
    "metrics_collection.append(FAIRMetricsFactory.get_F1B(None))\n",
    "metrics_collection.append(FAIRMetricsFactory.get_F2A(None))\n",
    "#metrics_collection.append(FAIRMetricsFactory.get_F2B_weak(None))\n",
    "metrics_collection.append(FAIRMetricsFactory.get_I1A(None))\n",
    "metrics_collection.append(FAIRMetricsFactory.get_I1B(None))\n",
    "metrics_collection.append(FAIRMetricsFactory.get_I2A(None))\n",
    "metrics_collection.append(FAIRMetricsFactory.get_I2B(None))\n",
    "metrics_collection.append(FAIRMetricsFactory.get_I3(None))\n",
    "metrics_collection.append(FAIRMetricsFactory.get_R11(None))\n",
    "metrics_collection.append(FAIRMetricsFactory.get_R12(None))\n",
    "#metrics_collection.append(FAIRMetricsFactory.get_R13(None))\n",
    "\n",
    "df_columns = ['ID']\n",
    "for m in metrics_collection:\n",
    "    #print(m.get_principle_tag())\n",
    "    df_columns.append(m.get_principle_tag())"
   ]
  },
  {
   "cell_type": "code",
   "execution_count": 8,
   "metadata": {},
   "outputs": [],
   "source": [
    "exec_time_df = pd.DataFrame(columns=df_columns)\n",
    "\n",
    "def eval_metrics(web_res):\n",
    "    metrics_collection = []\n",
    "    metrics_collection.append(FAIRMetricsFactory.get_F1A(web_res))\n",
    "    metrics_collection.append(FAIRMetricsFactory.get_F1B(web_res))\n",
    "    metrics_collection.append(FAIRMetricsFactory.get_F2A(web_res))\n",
    "#    metrics_collection.append(FAIRMetricsFactory.get_F2B_weak(web_res))\n",
    "    metrics_collection.append(FAIRMetricsFactory.get_I1A(web_res))\n",
    "    metrics_collection.append(FAIRMetricsFactory.get_I1B(web_res))\n",
    "    metrics_collection.append(FAIRMetricsFactory.get_I2A(web_res))\n",
    "    metrics_collection.append(FAIRMetricsFactory.get_I2B(web_res))\n",
    "    metrics_collection.append(FAIRMetricsFactory.get_I3(web_res))\n",
    "    metrics_collection.append(FAIRMetricsFactory.get_R11(web_res))\n",
    "    metrics_collection.append(FAIRMetricsFactory.get_R12(web_res))\n",
    "#    metrics_collection.append(FAIRMetricsFactory.get_R13(web_res))\n",
    "    \n",
    "    row = {\"ID\":web_res.get_url()}\n",
    "    row_time = {\"ID\":web_res.get_url()}\n",
    "    for m in metrics_collection:\n",
    "        ts1 = time.time()\n",
    "        e = m.evaluate()\n",
    "        duration = round((time.time() - ts1), 2)\n",
    "        if e is not None:\n",
    "            row[m.get_principle_tag()] = e.get_score()\n",
    "            row_time[m.get_principle_tag()] = duration\n",
    "    \n",
    "    return row, row_time"
   ]
  },
  {
   "cell_type": "code",
   "execution_count": 9,
   "metadata": {},
   "outputs": [],
   "source": [
    "#%%time\n",
    "\n",
    "def mass_eval(samples):\n",
    "    evals = []\n",
    "    exec_time = []\n",
    "\n",
    "\n",
    "    for sample in tqdm(samples):\n",
    "        wr = WebResource(url=sample)\n",
    "        row, row_time = eval_metrics(wr)\n",
    "        evals.append(row)\n",
    "        exec_time.append(row_time)\n",
    "        \n",
    "    \n",
    "    return evals, exec_time"
   ]
  },
  {
   "cell_type": "code",
   "execution_count": null,
   "metadata": {},
   "outputs": [
    {
     "data": {
      "application/vnd.jupyter.widget-view+json": {
       "model_id": "2989527e17a64570b49be6edacf1c5ac",
       "version_major": 2,
       "version_minor": 0
      },
      "text/plain": [
       "  0%|          | 0/10 [00:00<?, ?it/s]"
      ]
     },
     "metadata": {},
     "output_type": "display_data"
    },
    {
     "data": {
      "application/vnd.jupyter.widget-view+json": {
       "model_id": "81d05bb17efc41bc8122c94a53d96875",
       "version_major": 2,
       "version_minor": 0
      },
      "text/plain": [
       "  0%|          | 0/500 [00:00<?, ?it/s]"
      ]
     },
     "metadata": {},
     "output_type": "display_data"
    },
    {
     "data": {
      "application/vnd.jupyter.widget-view+json": {
       "model_id": "0eac80f4a5e14484a34864f47b76fed4",
       "version_major": 2,
       "version_minor": 0
      },
      "text/plain": [
       "  0%|          | 0/500 [00:00<?, ?it/s]"
      ]
     },
     "metadata": {},
     "output_type": "display_data"
    },
    {
     "data": {
      "application/vnd.jupyter.widget-view+json": {
       "model_id": "af5c9e909ef5445c90e4cd74d0e37fb5",
       "version_major": 2,
       "version_minor": 0
      },
      "text/plain": [
       "  0%|          | 0/500 [00:00<?, ?it/s]"
      ]
     },
     "metadata": {},
     "output_type": "display_data"
    },
    {
     "data": {
      "application/vnd.jupyter.widget-view+json": {
       "model_id": "b80eb0d2dc7549798eed49f9bde890f0",
       "version_major": 2,
       "version_minor": 0
      },
      "text/plain": [
       "  0%|          | 0/500 [00:00<?, ?it/s]"
      ]
     },
     "metadata": {},
     "output_type": "display_data"
    },
    {
     "data": {
      "application/vnd.jupyter.widget-view+json": {
       "model_id": "6a1c29baf13541b983d2eced125ba5ac",
       "version_major": 2,
       "version_minor": 0
      },
      "text/plain": [
       "  0%|          | 0/500 [00:00<?, ?it/s]"
      ]
     },
     "metadata": {},
     "output_type": "display_data"
    },
    {
     "data": {
      "application/vnd.jupyter.widget-view+json": {
       "model_id": "0667c726cff34d769a8f0170658c7716",
       "version_major": 2,
       "version_minor": 0
      },
      "text/plain": [
       "  0%|          | 0/500 [00:00<?, ?it/s]"
      ]
     },
     "metadata": {},
     "output_type": "display_data"
    },
    {
     "data": {
      "application/vnd.jupyter.widget-view+json": {
       "model_id": "6bce643677d44ed4b5f33edbd19e5f09",
       "version_major": 2,
       "version_minor": 0
      },
      "text/plain": [
       "  0%|          | 0/500 [00:00<?, ?it/s]"
      ]
     },
     "metadata": {},
     "output_type": "display_data"
    },
    {
     "data": {
      "application/vnd.jupyter.widget-view+json": {
       "model_id": "eb23bc49a2f949b289b9573539fa9b3f",
       "version_major": 2,
       "version_minor": 0
      },
      "text/plain": [
       "  0%|          | 0/500 [00:00<?, ?it/s]"
      ]
     },
     "metadata": {},
     "output_type": "display_data"
    },
    {
     "data": {
      "application/vnd.jupyter.widget-view+json": {
       "model_id": "30c1c4e85e744667bd34640d76de56db",
       "version_major": 2,
       "version_minor": 0
      },
      "text/plain": [
       "  0%|          | 0/500 [00:00<?, ?it/s]"
      ]
     },
     "metadata": {},
     "output_type": "display_data"
    },
    {
     "data": {
      "application/vnd.jupyter.widget-view+json": {
       "model_id": "5aebf39670434b72862360c0b06b3f0e",
       "version_major": 2,
       "version_minor": 0
      },
      "text/plain": [
       "  0%|          | 0/500 [00:00<?, ?it/s]"
      ]
     },
     "metadata": {},
     "output_type": "display_data"
    }
   ],
   "source": [
    "import logging\n",
    "logging.getLogger().setLevel(logging.ERROR)\n",
    "\n",
    "i = 0\n",
    "for c in tqdm(samples_chunks):\n",
    "    i += 1\n",
    "    df = pd.DataFrame()\n",
    "    df_time = pd.DataFrame()\n",
    "    \n",
    "    evals, exec_time = mass_eval(c)\n",
    "    df = pd.concat([df, pd.DataFrame.from_records(evals)])\n",
    "    df_time = pd.concat([df_time, pd.DataFrame.from_records(exec_time)])\n",
    "    \n",
    "    df.to_csv(\"FC_results_PANGAEA_\"+str(i)+\".csv\")\n",
    "    df_time.to_csv(\"exec_time_PANGAEA_\"+str(i)+\".csv\")"
   ]
  },
  {
   "cell_type": "code",
   "execution_count": 1,
   "metadata": {},
   "outputs": [
    {
     "ename": "NameError",
     "evalue": "name 'df' is not defined",
     "output_type": "error",
     "traceback": [
      "\u001b[0;31m---------------------------------------------------------------------------\u001b[0m",
      "\u001b[0;31mNameError\u001b[0m                                 Traceback (most recent call last)",
      "Input \u001b[0;32mIn [1]\u001b[0m, in \u001b[0;36m<cell line: 1>\u001b[0;34m()\u001b[0m\n\u001b[0;32m----> 1\u001b[0m \u001b[38;5;28mlen\u001b[39m(\u001b[43mdf\u001b[49m)\n",
      "\u001b[0;31mNameError\u001b[0m: name 'df' is not defined"
     ]
    }
   ],
   "source": [
    "len(df)"
   ]
  },
  {
   "cell_type": "code",
   "execution_count": null,
   "metadata": {},
   "outputs": [],
   "source": [
    "df_time"
   ]
  },
  {
   "cell_type": "code",
   "execution_count": 4,
   "metadata": {},
   "outputs": [
    {
     "data": {
      "application/vnd.jupyter.widget-view+json": {
       "model_id": "b9e368852809444b9458731184044fca",
       "version_major": 2,
       "version_minor": 0
      },
      "text/plain": [
       "  0%|          | 0/9 [00:00<?, ?it/s]"
      ]
     },
     "metadata": {},
     "output_type": "display_data"
    }
   ],
   "source": [
    "import glob\n",
    "\n",
    "all_files = glob.glob(\"./FC_results_PANGAEA_*.csv\")\n",
    "\n",
    "li = []\n",
    "\n",
    "for filename in tqdm(all_files):\n",
    "    df = pd.read_csv(filename, index_col=None, header=0)\n",
    "    li.append(df)\n",
    "df = pd.concat(li, axis=0, ignore_index=True)"
   ]
  },
  {
   "cell_type": "code",
   "execution_count": 5,
   "metadata": {},
   "outputs": [],
   "source": [
    "from upsetplot import generate_counts, generate_samples, UpSet,plot\n",
    "import matplotlib.pyplot as plt\n",
    "\n",
    "plt.rcParams['figure.figsize'] = [12, 8]\n",
    "plt.rcParams['figure.dpi'] = 200 "
   ]
  },
  {
   "cell_type": "code",
   "execution_count": 6,
   "metadata": {},
   "outputs": [
    {
     "data": {
      "text/html": [
       "<div>\n",
       "<style scoped>\n",
       "    .dataframe tbody tr th:only-of-type {\n",
       "        vertical-align: middle;\n",
       "    }\n",
       "\n",
       "    .dataframe tbody tr th {\n",
       "        vertical-align: top;\n",
       "    }\n",
       "\n",
       "    .dataframe thead th {\n",
       "        text-align: right;\n",
       "    }\n",
       "</style>\n",
       "<table border=\"1\" class=\"dataframe\">\n",
       "  <thead>\n",
       "    <tr style=\"text-align: right;\">\n",
       "      <th></th>\n",
       "      <th></th>\n",
       "      <th></th>\n",
       "      <th></th>\n",
       "      <th></th>\n",
       "      <th></th>\n",
       "      <th></th>\n",
       "      <th></th>\n",
       "      <th></th>\n",
       "      <th>id</th>\n",
       "    </tr>\n",
       "    <tr>\n",
       "      <th>F1B</th>\n",
       "      <th>F2A</th>\n",
       "      <th>I1A</th>\n",
       "      <th>I1B</th>\n",
       "      <th>I2A</th>\n",
       "      <th>I2B</th>\n",
       "      <th>I3</th>\n",
       "      <th>R11</th>\n",
       "      <th>R12</th>\n",
       "      <th></th>\n",
       "    </tr>\n",
       "  </thead>\n",
       "  <tbody>\n",
       "    <tr>\n",
       "      <th rowspan=\"10\" valign=\"top\">True</th>\n",
       "      <th rowspan=\"10\" valign=\"top\">True</th>\n",
       "      <th rowspan=\"10\" valign=\"top\">True</th>\n",
       "      <th rowspan=\"10\" valign=\"top\">True</th>\n",
       "      <th rowspan=\"10\" valign=\"top\">False</th>\n",
       "      <th rowspan=\"10\" valign=\"top\">True</th>\n",
       "      <th rowspan=\"10\" valign=\"top\">True</th>\n",
       "      <th rowspan=\"3\" valign=\"top\">True</th>\n",
       "      <th>False</th>\n",
       "      <td>https://doi.org/10.1594/PANGAEA.932663</td>\n",
       "    </tr>\n",
       "    <tr>\n",
       "      <th>False</th>\n",
       "      <td>https://doi.org/10.1594/PANGAEA.665784</td>\n",
       "    </tr>\n",
       "    <tr>\n",
       "      <th>False</th>\n",
       "      <td>https://doi.org/10.1594/PANGAEA.255517</td>\n",
       "    </tr>\n",
       "    <tr>\n",
       "      <th>False</th>\n",
       "      <th>False</th>\n",
       "      <td>https://doi.org/10.1594/PANGAEA.831809</td>\n",
       "    </tr>\n",
       "    <tr>\n",
       "      <th rowspan=\"6\" valign=\"top\">True</th>\n",
       "      <th>False</th>\n",
       "      <td>https://doi.org/10.1594/PANGAEA.198891</td>\n",
       "    </tr>\n",
       "    <tr>\n",
       "      <th>...</th>\n",
       "      <td>...</td>\n",
       "    </tr>\n",
       "    <tr>\n",
       "      <th>False</th>\n",
       "      <td>https://doi.org/10.1594/PANGAEA.853907</td>\n",
       "    </tr>\n",
       "    <tr>\n",
       "      <th>False</th>\n",
       "      <td>https://doi.org/10.1594/PANGAEA.251642</td>\n",
       "    </tr>\n",
       "    <tr>\n",
       "      <th>False</th>\n",
       "      <td>https://doi.org/10.1594/PANGAEA.321712</td>\n",
       "    </tr>\n",
       "    <tr>\n",
       "      <th>False</th>\n",
       "      <td>https://doi.org/10.1594/PANGAEA.804187</td>\n",
       "    </tr>\n",
       "    <tr>\n",
       "      <th>False</th>\n",
       "      <th>True</th>\n",
       "      <th>True</th>\n",
       "      <th>True</th>\n",
       "      <th>False</th>\n",
       "      <th>True</th>\n",
       "      <th>True</th>\n",
       "      <th>False</th>\n",
       "      <th>False</th>\n",
       "      <td>https://doi.pangaea.de/10.1594/PANGAEA.897999</td>\n",
       "    </tr>\n",
       "  </tbody>\n",
       "</table>\n",
       "<p>4500 rows × 1 columns</p>\n",
       "</div>"
      ],
      "text/plain": [
       "                                                                                             id\n",
       "F1B   F2A  I1A  I1B  I2A   I2B  I3   R11   R12                                                 \n",
       "True  True True True False True True True  False         https://doi.org/10.1594/PANGAEA.932663\n",
       "                                           False         https://doi.org/10.1594/PANGAEA.665784\n",
       "                                           False         https://doi.org/10.1594/PANGAEA.255517\n",
       "                                     False False         https://doi.org/10.1594/PANGAEA.831809\n",
       "                                     True  False         https://doi.org/10.1594/PANGAEA.198891\n",
       "...                                                                                         ...\n",
       "                                           False         https://doi.org/10.1594/PANGAEA.853907\n",
       "                                           False         https://doi.org/10.1594/PANGAEA.251642\n",
       "                                           False         https://doi.org/10.1594/PANGAEA.321712\n",
       "                                           False         https://doi.org/10.1594/PANGAEA.804187\n",
       "False True True True False True True False False  https://doi.pangaea.de/10.1594/PANGAEA.897999\n",
       "\n",
       "[4500 rows x 1 columns]"
      ]
     },
     "execution_count": 6,
     "metadata": {},
     "output_type": "execute_result"
    }
   ],
   "source": [
    "from upsetplot import from_contents\n",
    "\n",
    "F1B = df[((df[\"F1B\"].astype(int) > 0))][\"ID\"]\n",
    "F2A = df[((df[\"F2A\"].astype(int) > 0))][\"ID\"]\n",
    "#F2B = df[((df[\"F2B\"].astype(int) > 0))][\"ID\"]\n",
    "\n",
    "I1A = df[((df[\"I1A\"].astype(int) > 0))][\"ID\"]\n",
    "I1B = df[((df[\"I1B\"].astype(int) > 0))][\"ID\"]\n",
    "\n",
    "I2A = df[((df[\"I2A\"].astype(int) > 0))][\"ID\"]\n",
    "I2B = df[((df[\"I2B\"].astype(int) > 0))][\"ID\"]\n",
    "\n",
    "I3 = df[((df[\"I3\"].astype(int) > 0))][\"ID\"]\n",
    "\n",
    "R11 = df[((df[\"R1.1\"].astype(int) > 0))][\"ID\"]\n",
    "R12 = df[((df[\"R1.2\"].astype(int) > 0))][\"ID\"]\n",
    "#R13 = df[((df[\"R1.3\"].astype(int) > 0))][\"ID\"]\n",
    "\n",
    "df_upset = from_contents({'F1B': F1B, \n",
    "                          'F2A': F2A, \n",
    "#                          'F2B*': F2B,\n",
    "                          'I1A': I1A, \n",
    "                          'I1B': I1B,\n",
    "                          'I2A': I2A, \n",
    "                          'I2B': I2B,\n",
    "                          'I3': I3, \n",
    "                          'R11': R11, \n",
    "                          'R12': R12,})\n",
    "#                          'R13*': R13})\n",
    "df_upset"
   ]
  },
  {
   "cell_type": "code",
   "execution_count": 7,
   "metadata": {},
   "outputs": [
    {
     "data": {
      "image/png": "[encoded data removed]",
      "text/plain": [
       "<Figure size 622.222x1333.33 with 4 Axes>"
      ]
     },
     "metadata": {
      "needs_background": "light"
     },
     "output_type": "display_data"
    }
   ],
   "source": [
    "upset = UpSet(df_upset, subset_size='count', show_counts=True, sort_categories_by=None, orientation='horizontal')\n",
    "\n",
    "#upset.style_subsets(present=[\"with_exome\", \"with_images\"],\n",
    "#                    facecolor=\"red\")\n",
    "\n",
    "params = {'legend.fontsize': 8}\n",
    "with plt.rc_context(params):\n",
    "    upset.plot()\n",
    "plt.suptitle(\"Bioinformatics dataset from Pangaea\")\n",
    "plt.savefig('pangaea-no-F2B-no-R13.png', format=\"png\")\n",
    "plt.show()"
   ]
  },
  {
   "cell_type": "code",
   "execution_count": null,
   "metadata": {},
   "outputs": [],
   "source": []
  },
  {
   "cell_type": "code",
   "execution_count": null,
   "metadata": {},
   "outputs": [],
   "source": []
  },
  {
   "cell_type": "code",
   "execution_count": null,
   "metadata": {},
   "outputs": [],
   "source": []
  }
 ],
 "metadata": {
  "kernelspec": {
   "display_name": "Python 3",
   "language": "python",
   "name": "python3"
  },
  "language_info": {
   "codemirror_mode": {
    "name": "ipython",
    "version": 3
   },
   "file_extension": ".py",
   "mimetype": "text/x-python",
   "name": "python",
   "nbconvert_exporter": "python",
   "pygments_lexer": "ipython3",
   "version": "3.8.5"
  }
 },
 "nbformat": 4,
 "nbformat_minor": 5
}
