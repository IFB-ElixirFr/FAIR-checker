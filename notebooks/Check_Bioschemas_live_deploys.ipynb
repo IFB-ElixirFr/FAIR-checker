{
 "cells": [
  {
   "cell_type": "code",
   "execution_count": 4,
   "id": "7dd4a930",
   "metadata": {},
   "outputs": [],
   "source": [
    "import sys\n",
    "sys.path.append(\"../\")\n",
    "\n",
    "import requests\n",
    "import random\n",
    "import json\n",
    "from tqdm.notebook import tqdm\n",
    "import pandas as pd\n",
    "from metrics.WebResource import WebResource"
   ]
  },
  {
   "cell_type": "code",
   "execution_count": 7,
   "id": "d035e081",
   "metadata": {},
   "outputs": [],
   "source": [
    "def get_live_deploys_urls():\n",
    "    results = []\n",
    "    live_deploys_remote_file = \"https://raw.githubusercontent.com/BioSchemas/bioschemas.github.io/master/_data/live_deployments.json\"\n",
    "    res = requests.get(live_deploys_remote_file)\n",
    "    live_deploys = res.json()\n",
    "    for r in random.sample(live_deploys[\"resources\"], 5):\n",
    "    #for r in live_deploys[\"resources\"]:\n",
    "        results.append(r[\"url\"])\n",
    "    return results\n",
    "\n",
    "def test_ld_bioschemas_annot():\n",
    "        res = get_live_deploys_urls()\n",
    "        errors = []\n",
    "        results = []\n",
    "        \n",
    "        i = 0\n",
    "        for r in tqdm(res):\n",
    "        #for r in reversed(res):\n",
    "            row = {}\n",
    "            status_code = requests.head(r).status_code\n",
    "            print(r)\n",
    "            row['url'] = r\n",
    "            print(\"Status code: \" + str(status_code))\n",
    "            row['status code'] = str(status_code)\n",
    "            try :\n",
    "                kg = WebResource(r).get_rdf()\n",
    "                print(\"Triples: \" + str(len(kg)))\n",
    "                row['Retrieved triples'] = len(kg)\n",
    "                if not len(kg) > 0:\n",
    "                    print(f\"# Error with {r}\")\n",
    "                    row['Error'] = True\n",
    "                    errors.append(r)\n",
    "            except UnicodeDecodeError as err:\n",
    "                print(err)\n",
    "            results.append(row)\n",
    "\n",
    "        print(f\"{len(res)} tested URLS\")\n",
    "        print(f\"{len(errors)} failing URLS\")\n",
    "        print(errors)\n",
    "        df = pd.read_json(json.dumps(results))\n",
    "        return df"
   ]
  },
  {
   "cell_type": "code",
   "execution_count": 8,
   "id": "ca494b2e",
   "metadata": {
    "scrolled": true
   },
   "outputs": [
    {
     "data": {
      "application/vnd.jupyter.widget-view+json": {
       "model_id": "7b10e0e35cd04db6a503fef0e665f709",
       "version_major": 2,
       "version_minor": 0
      },
      "text/plain": [
       "  0%|          | 0/5 [00:00<?, ?it/s]"
      ]
     },
     "metadata": {},
     "output_type": "display_data"
    },
    {
     "name": "stdout",
     "output_type": "stream",
     "text": [
      "https://modelarchive.org/\n",
      "Status code: 200\n",
      "8\n",
      "{'@context': 'file:///Users/gaignard-a/Documents/Dev/fair-checker/static/data/jsonldcontext.json', 'description': 'ModelArchive provides a stable accession code (DOI) for deposited theoretical models of protein and macromolecular structures', 'name': 'ModelArchive', '@type': 'DataCatalog', 'url': 'https://www.modelarchive.org/', 'keywords': 'model, archive, ModelArchive, homology model, protein structure models', 'license': {'@type': 'CreativeWork', 'name': 'Creative Commons CC4 Attribution', 'url': 'https://creativecommons.org/licenses/by/4.0/'}, 'publisher': [{'@type': 'Organization', 'name': 'SIB Swiss Institute of Bioinformatics', 'url': 'https://sib.swiss'}, {'@type': 'Organization', 'name': 'Biozentrum - University of Basel', 'url': 'https://www.biozentrum.unibas.ch'}]}\n",
      "<class 'dict'>\n",
      "Triples: 34\n",
      "https://www.omicsdi.org/\n",
      "Status code: 200\n",
      "1\n",
      "{'@graph': [{'name': 'Omics Discovery Index - Discovering and Linking Public Omics Datasets', 'url': 'http://www.omicsdi.org/', 'keywords': 'Proteomics, Genomics, Transcriptomics, Metabolomics, Multi-Omics, MultiOmics, Bioinformatics, System Biology, Datasets', 'description': 'OmicsDI is an integrated and open source platform facilitating the access and dissemination of omics datasets. OmicsDI provides a unique infrastructure to integrate datasets coming from multiple omics studies, including at present proteomics, genomics and metabolomics and Multi-Omics', 'variableMeasured': None, 'alternateName': 'OmicsDI', 'logo': None, 'email': None, 'image': 'http://www.omicsdi.org/static/images/logo/OmicsDI-icon-3.png', 'potentialAction': {'target': 'http://www.omicsdi.org/search?q={search_term_string}', '@type': 'SearchAction', 'query-input': 'required name=search_term_string'}, 'sameAs': None, 'creator': None, 'citation': None, 'primaryImageOfPage': None, '@context': 'http://schema.org', '@type': 'WebSite'}, {'name': 'OmicsDI Consortium', 'url': 'http://www.omicsdi.org/', 'keywords': None, 'description': 'OmicsDI is an integrated and open source platform facilitating the access and dissemination of omics datasets. OmicsDI provides a unique infrastructure to integrate datasets coming from multiple omics studies, including at present proteomics, genomics and metabolomics and Multi-Omics', 'variableMeasured': None, 'alternateName': 'OmicsDI Consortium', 'logo': 'http://www.omicsdi.org/static/images/logo/OmicsDI-icon-3.png', 'email': 'omicsdi-support@ebi.ac.uk', 'image': None, 'potentialAction': None, 'sameAs': 'https://github.com/OmicsDI,https://twitter.com/OmicsDI,https://plus.google.com/u/0/113645049761549550219', 'creator': None, 'citation': None, 'primaryImageOfPage': None, '@context': 'http://schema.org', '@type': 'Organization'}]}\n",
      "<class 'dict'>\n"
     ]
    },
    {
     "name": "stderr",
     "output_type": "stream",
     "text": [
      "ERROR:DEV:Cannot parse RDF from https://www.omicsdi.org/ due to UnicodeDecodeError\n",
      "ERROR:DEV:'utf-8' codec can't decode byte 0x8b in position 1: invalid start byte\n",
      "ERROR:DEV:Cannot parse RDF from https://www.omicsdi.org/ due to UnicodeDecodeError\n",
      "ERROR:DEV:'utf-8' codec can't decode byte 0x8b in position 1: invalid start byte\n"
     ]
    },
    {
     "name": "stdout",
     "output_type": "stream",
     "text": [
      "Cannot parse RDF from https://www.omicsdi.org/ due to UnicodeDecodeError\n",
      "Triples: 0\n",
      "# Error with https://www.omicsdi.org/\n",
      "http://gigadb.org/\n",
      "Status code: 200\n",
      "Triples: 14\n",
      "https://deb-central.org/\n",
      "Status code: 405\n",
      "Expecting value: line 1 column 1 (char 0)\n",
      "Triples: 0\n",
      "# Error with https://deb-central.org/\n",
      "https://galaxyproject.org/\n",
      "Status code: 200\n"
     ]
    },
    {
     "name": "stderr",
     "output_type": "stream",
     "text": [
      "WARNING:root:Can't find \"application/ld+json\" content\n"
     ]
    },
    {
     "name": "stdout",
     "output_type": "stream",
     "text": [
      "Triples: 0\n",
      "# Error with https://galaxyproject.org/\n",
      "5 tested URLS\n",
      "3 failing URLS\n",
      "['https://www.omicsdi.org/', 'https://deb-central.org/', 'https://galaxyproject.org/']\n"
     ]
    },
    {
     "data": {
      "text/html": [
       "<div>\n",
       "<style scoped>\n",
       "    .dataframe tbody tr th:only-of-type {\n",
       "        vertical-align: middle;\n",
       "    }\n",
       "\n",
       "    .dataframe tbody tr th {\n",
       "        vertical-align: top;\n",
       "    }\n",
       "\n",
       "    .dataframe thead th {\n",
       "        text-align: right;\n",
       "    }\n",
       "</style>\n",
       "<table border=\"1\" class=\"dataframe\">\n",
       "  <thead>\n",
       "    <tr style=\"text-align: right;\">\n",
       "      <th></th>\n",
       "      <th>url</th>\n",
       "      <th>status code</th>\n",
       "      <th>Retrieved triples</th>\n",
       "      <th>Error</th>\n",
       "    </tr>\n",
       "  </thead>\n",
       "  <tbody>\n",
       "    <tr>\n",
       "      <th>0</th>\n",
       "      <td>https://modelarchive.org/</td>\n",
       "      <td>200</td>\n",
       "      <td>34</td>\n",
       "      <td>NaN</td>\n",
       "    </tr>\n",
       "    <tr>\n",
       "      <th>1</th>\n",
       "      <td>https://www.omicsdi.org/</td>\n",
       "      <td>200</td>\n",
       "      <td>0</td>\n",
       "      <td>1.0</td>\n",
       "    </tr>\n",
       "    <tr>\n",
       "      <th>2</th>\n",
       "      <td>http://gigadb.org/</td>\n",
       "      <td>200</td>\n",
       "      <td>14</td>\n",
       "      <td>NaN</td>\n",
       "    </tr>\n",
       "    <tr>\n",
       "      <th>3</th>\n",
       "      <td>https://deb-central.org/</td>\n",
       "      <td>405</td>\n",
       "      <td>0</td>\n",
       "      <td>1.0</td>\n",
       "    </tr>\n",
       "    <tr>\n",
       "      <th>4</th>\n",
       "      <td>https://galaxyproject.org/</td>\n",
       "      <td>200</td>\n",
       "      <td>0</td>\n",
       "      <td>1.0</td>\n",
       "    </tr>\n",
       "  </tbody>\n",
       "</table>\n",
       "</div>"
      ],
      "text/plain": [
       "                          url  status code  Retrieved triples  Error\n",
       "0   https://modelarchive.org/          200                 34    NaN\n",
       "1    https://www.omicsdi.org/          200                  0    1.0\n",
       "2          http://gigadb.org/          200                 14    NaN\n",
       "3    https://deb-central.org/          405                  0    1.0\n",
       "4  https://galaxyproject.org/          200                  0    1.0"
      ]
     },
     "execution_count": 8,
     "metadata": {},
     "output_type": "execute_result"
    }
   ],
   "source": [
    "df = test_ld_bioschemas_annot()\n",
    "df"
   ]
  },
  {
   "cell_type": "code",
   "execution_count": null,
   "id": "2c8803f6",
   "metadata": {},
   "outputs": [],
   "source": []
  },
  {
   "cell_type": "code",
   "execution_count": null,
   "id": "f65bfb5e",
   "metadata": {},
   "outputs": [],
   "source": [
    "    "
   ]
  },
  {
   "cell_type": "code",
   "execution_count": null,
   "id": "d9027674",
   "metadata": {},
   "outputs": [],
   "source": []
  },
  {
   "cell_type": "code",
   "execution_count": null,
   "id": "c59c5820",
   "metadata": {},
   "outputs": [],
   "source": []
  }
 ],
 "metadata": {
  "kernelspec": {
   "display_name": "Python 3 (ipykernel)",
   "language": "python",
   "name": "python3"
  },
  "language_info": {
   "codemirror_mode": {
    "name": "ipython",
    "version": 3
   },
   "file_extension": ".py",
   "mimetype": "text/x-python",
   "name": "python",
   "nbconvert_exporter": "python",
   "pygments_lexer": "ipython3",
   "version": "3.9.10"
  }
 },
 "nbformat": 4,
 "nbformat_minor": 5
}
