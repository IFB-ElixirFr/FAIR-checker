{
 "cells": [
  {
   "cell_type": "code",
   "execution_count": 1,
   "id": "3f21ebb9",
   "metadata": {},
   "outputs": [
    {
     "name": "stderr",
     "output_type": "stream",
     "text": [
      "/home/thomas/anaconda3/envs/fair-checker-env/lib/python3.8/site-packages/rdflib_jsonld/__init__.py:9: DeprecationWarning: The rdflib-jsonld package has been integrated into rdflib as of rdflib==6.0.1.  Please remove rdflib-jsonld from your project's dependencies.\n",
      "  warnings.warn(\n",
      "[WDM] - \n",
      "\n",
      "[WDM] - ====== WebDriver manager ======\n",
      "[WDM] - Current google-chrome version is 96.0.4664\n",
      "[WDM] - Get LATEST driver version for 96.0.4664\n",
      "[WDM] - Driver [/home/thomas/.wdm/drivers/chromedriver/linux64/96.0.4664.45/chromedriver] found in cache\n"
     ]
    }
   ],
   "source": [
    "import sys\n",
    "parentdir = \"..\"\n",
    "sys.path.insert(0, parentdir)\n",
    "\n",
    "import requests\n",
    "from os import path\n",
    "from tqdm.notebook import tqdm\n",
    "import pandas as pd\n",
    "import time\n",
    "\n",
    "from metrics.WebResource import WebResource\n",
    "from metrics.FAIRMetricsFactory import FAIRMetricsFactory\n",
    "from metrics.AbstractFAIRMetrics import AbstractFAIRMetrics"
   ]
  },
  {
   "cell_type": "code",
   "execution_count": 2,
   "id": "18cc468f",
   "metadata": {},
   "outputs": [],
   "source": [
    "from rdflib import ConjunctiveGraph, Namespace, URIRef\n",
    "from rdflib.namespace import RDF, RDFS\n",
    "\n",
    "schema = Namespace(\"http://schema.org/\")"
   ]
  },
  {
   "cell_type": "code",
   "execution_count": 3,
   "id": "4de7823a",
   "metadata": {},
   "outputs": [],
   "source": [
    "TIMEOUT = (10, 300)\n",
    "NB = 1000\n",
    "TYPE = \"publication\"\n",
    "\n",
    "def zenodoRestRequest():\n",
    "    print(\"REST request to zenedo...\")\n",
    "    # rest request\n",
    "    url = 'https://zenodo.org/api/records/?sort=mostrecent&page=1&size=' + \"7000\"\n",
    "    while True:\n",
    "        try:\n",
    "            response = requests.get(url, timeout=TIMEOUT)\n",
    "            break\n",
    "        except SSLError:\n",
    "            time.sleep(5)\n",
    "        except requests.exceptions.Timeout:\n",
    "            time.sleep(5)\n",
    "\n",
    "    return response\n",
    "\n",
    "def zenodoJsonParser(response):\n",
    "    print(\"Parsing result...\")\n",
    "    json_response = response.json()\n",
    "\n",
    "    dois_list = []\n",
    "    count = 1\n",
    "    for element in json_response[\"hits\"][\"hits\"]:\n",
    "        type = element[\"metadata\"][\"resource_type\"][\"type\"]\n",
    "        if type == TYPE:\n",
    "            if count > NB: break\n",
    "            dois_list.append(\"https://doi.org/\" + element[\"doi\"])\n",
    "            count += 1\n",
    "\n",
    "    print(\"Retrieved \" + str(len(dois_list)) + \" DOIs\")\n",
    "    return dois_list"
   ]
  },
  {
   "cell_type": "code",
   "execution_count": null,
   "id": "25bf7f45",
   "metadata": {},
   "outputs": [
    {
     "name": "stdout",
     "output_type": "stream",
     "text": [
      "REST request to zenedo...\n"
     ]
    }
   ],
   "source": [
    "response = zenodoRestRequest()\n",
    "dois_list = zenodoJsonParser(response)"
   ]
  },
  {
   "cell_type": "code",
   "execution_count": null,
   "id": "48752398",
   "metadata": {},
   "outputs": [],
   "source": [
    "import random\n",
    "#sample_tool = random.choice(index.keys())\n",
    "\n",
    "random.seed(10)\n",
    "\n",
    "#samples = random.sample(list(index.items()), 1000)\n",
    "samples_dois_list = random.sample(dois_list, 500)\n",
    "\n",
    "splitedSize = 100\n",
    "samples_chunks = [samples_dois_list[x:x+splitedSize] for x in range(0, len(samples_dois_list), splitedSize)]"
   ]
  },
  {
   "cell_type": "code",
   "execution_count": null,
   "id": "e4cbd8bd",
   "metadata": {},
   "outputs": [],
   "source": [
    "print(len(samples_dois_list))"
   ]
  },
  {
   "cell_type": "code",
   "execution_count": null,
   "id": "862a82ea",
   "metadata": {},
   "outputs": [],
   "source": [
    "metrics_collection = []\n",
    "metrics_collection.append(FAIRMetricsFactory.get_F1A(None))\n",
    "metrics_collection.append(FAIRMetricsFactory.get_F1B(None))\n",
    "metrics_collection.append(FAIRMetricsFactory.get_F2A(None))\n",
    "#metrics_collection.append(FAIRMetricsFactory.get_F2B_weak(None))\n",
    "metrics_collection.append(FAIRMetricsFactory.get_I1A(None))\n",
    "metrics_collection.append(FAIRMetricsFactory.get_I1B(None))\n",
    "metrics_collection.append(FAIRMetricsFactory.get_I2A(None))\n",
    "metrics_collection.append(FAIRMetricsFactory.get_I2B(None))\n",
    "metrics_collection.append(FAIRMetricsFactory.get_I3(None))\n",
    "metrics_collection.append(FAIRMetricsFactory.get_R11(None))\n",
    "metrics_collection.append(FAIRMetricsFactory.get_R12(None))\n",
    "#metrics_collection.append(FAIRMetricsFactory.get_R13(None))\n",
    "\n",
    "df_columns = ['ID']\n",
    "for m in metrics_collection:\n",
    "    #print(m.get_principle_tag())\n",
    "    df_columns.append(m.get_principle_tag())"
   ]
  },
  {
   "cell_type": "code",
   "execution_count": null,
   "id": "1309d015",
   "metadata": {},
   "outputs": [],
   "source": [
    "exec_time_df = pd.DataFrame(columns=df_columns)\n",
    "\n",
    "def eval_metrics(web_res):\n",
    "    metrics_collection = []\n",
    "    metrics_collection.append(FAIRMetricsFactory.get_F1A(web_res))\n",
    "    metrics_collection.append(FAIRMetricsFactory.get_F1B(web_res))\n",
    "    metrics_collection.append(FAIRMetricsFactory.get_F2A(web_res))\n",
    "#    metrics_collection.append(FAIRMetricsFactory.get_F2B_weak(web_res))\n",
    "    metrics_collection.append(FAIRMetricsFactory.get_I1A(web_res))\n",
    "    metrics_collection.append(FAIRMetricsFactory.get_I1B(web_res))\n",
    "    metrics_collection.append(FAIRMetricsFactory.get_I2A(web_res))\n",
    "    metrics_collection.append(FAIRMetricsFactory.get_I2B(web_res))\n",
    "    metrics_collection.append(FAIRMetricsFactory.get_I3(web_res))\n",
    "    metrics_collection.append(FAIRMetricsFactory.get_R11(web_res))\n",
    "    metrics_collection.append(FAIRMetricsFactory.get_R12(web_res))\n",
    "#    metrics_collection.append(FAIRMetricsFactory.get_R13(web_res))\n",
    "    \n",
    "    row = {\"ID\":web_res.get_url()}\n",
    "    row_time = {\"ID\":web_res.get_url()}\n",
    "    for m in metrics_collection:\n",
    "        ts1 = time.time()\n",
    "        e = m.evaluate()\n",
    "        duration = round((time.time() - ts1), 2)\n",
    "        if e is not None:\n",
    "            row[m.get_principle_tag()] = e.get_score()\n",
    "            row_time[m.get_principle_tag()] = duration\n",
    "    \n",
    "    return row, row_time"
   ]
  },
  {
   "cell_type": "code",
   "execution_count": null,
   "id": "cd20b8cf",
   "metadata": {},
   "outputs": [],
   "source": [
    "#%%time\n",
    "\n",
    "def mass_eval(samples):\n",
    "    evals = []\n",
    "    exec_time = []\n",
    "\n",
    "\n",
    "    for sample in tqdm(samples):\n",
    "        wr = WebResource(url=sample)\n",
    "        row, row_time = eval_metrics(wr)\n",
    "        evals.append(row)\n",
    "        exec_time.append(row_time)\n",
    "        \n",
    "    \n",
    "    return evals, exec_time"
   ]
  },
  {
   "cell_type": "code",
   "execution_count": null,
   "id": "562e757b",
   "metadata": {},
   "outputs": [],
   "source": [
    "import logging\n",
    "logging.getLogger().setLevel(logging.ERROR)\n",
    "\n",
    "i = 0\n",
    "for c in tqdm(samples_chunks):\n",
    "    i += 1\n",
    "    df = pd.DataFrame()\n",
    "    df_time = pd.DataFrame()\n",
    "    \n",
    "    evals, exec_time = mass_eval(c)\n",
    "    df = pd.concat([df, pd.DataFrame.from_records(evals)])\n",
    "    df_time = pd.concat([df_time, pd.DataFrame.from_records(exec_time)])\n",
    "    \n",
    "    df.to_csv(\"FC_results_ZENODO_pub_\"+str(i)+\".csv\")\n",
    "    df_time.to_csv(\"exec_time_ZENODO_pub_\"+str(i)+\".csv\")"
   ]
  },
  {
   "cell_type": "code",
   "execution_count": null,
   "id": "3506525c",
   "metadata": {},
   "outputs": [],
   "source": [
    "len(df)"
   ]
  },
  {
   "cell_type": "code",
   "execution_count": null,
   "id": "baece324",
   "metadata": {},
   "outputs": [],
   "source": [
    "df_time"
   ]
  },
  {
   "cell_type": "code",
   "execution_count": null,
   "id": "92c259a6",
   "metadata": {},
   "outputs": [],
   "source": [
    "import glob\n",
    "\n",
    "all_files = glob.glob(\"./FC_results_ZENODO_pub_*.csv\")\n",
    "\n",
    "li = []\n",
    "\n",
    "for filename in tqdm(all_files):\n",
    "    df = pd.read_csv(filename, index_col=None, header=0)\n",
    "    li.append(df)\n",
    "df = pd.concat(li, axis=0, ignore_index=True)"
   ]
  },
  {
   "cell_type": "code",
   "execution_count": null,
   "id": "361eb743",
   "metadata": {},
   "outputs": [],
   "source": [
    "from upsetplot import generate_counts, generate_samples, UpSet,plot\n",
    "import matplotlib.pyplot as plt\n",
    "\n",
    "plt.rcParams['figure.figsize'] = [12, 8]\n",
    "plt.rcParams['figure.dpi'] = 200 "
   ]
  },
  {
   "cell_type": "code",
   "execution_count": null,
   "id": "c675ccd6",
   "metadata": {},
   "outputs": [],
   "source": [
    "from upsetplot import from_contents\n",
    "\n",
    "F1B = df[((df[\"F1B\"].astype(int) > 0))][\"ID\"]\n",
    "F2A = df[((df[\"F2A\"].astype(int) > 0))][\"ID\"]\n",
    "#F2B = df[((df[\"F2B\"].astype(int) > 0))][\"ID\"]\n",
    "\n",
    "I1A = df[((df[\"I1A\"].astype(int) > 0))][\"ID\"]\n",
    "I1B = df[((df[\"I1B\"].astype(int) > 0))][\"ID\"]\n",
    "\n",
    "I2A = df[((df[\"I2A\"].astype(int) > 0))][\"ID\"]\n",
    "I2B = df[((df[\"I2B\"].astype(int) > 0))][\"ID\"]\n",
    "\n",
    "I3 = df[((df[\"I3\"].astype(int) > 0))][\"ID\"]\n",
    "\n",
    "R11 = df[((df[\"R1.1\"].astype(int) > 0))][\"ID\"]\n",
    "R12 = df[((df[\"R1.2\"].astype(int) > 0))][\"ID\"]\n",
    "#R13 = df[((df[\"R1.3\"].astype(int) > 0))][\"ID\"]\n",
    "\n",
    "df_upset = from_contents({'F1B': F1B, \n",
    "                          'F2A': F2A, \n",
    "#                          'F2B*': F2B,\n",
    "                          'I1A': I1A, \n",
    "                          'I1B': I1B,\n",
    "                          'I2A': I2A, \n",
    "                          'I2B': I2B,\n",
    "                          'I3': I3, \n",
    "                          'R11': R11, \n",
    "                          'R12': R12,})\n",
    "#                          'R13*': R13})\n",
    "df_upset"
   ]
  },
  {
   "cell_type": "code",
   "execution_count": null,
   "id": "623beb26",
   "metadata": {},
   "outputs": [],
   "source": [
    "upset = UpSet(df_upset, subset_size='count', show_counts=True, sort_categories_by=None, orientation='horizontal')\n",
    "\n",
    "#upset.style_subsets(present=[\"with_exome\", \"with_images\"],\n",
    "#                    facecolor=\"red\")\n",
    "\n",
    "params = {'legend.fontsize': 8}\n",
    "with plt.rc_context(params):\n",
    "    upset.plot()\n",
    "plt.suptitle(\"Bioinformatics dataset from Zenodo\")\n",
    "plt.savefig('zenodo-no-F2B-no-R13.png', format=\"png\")\n",
    "plt.show()"
   ]
  }
 ],
 "metadata": {
  "kernelspec": {
   "display_name": "Python 3 (ipykernel)",
   "language": "python",
   "name": "python3"
  },
  "language_info": {
   "codemirror_mode": {
    "name": "ipython",
    "version": 3
   },
   "file_extension": ".py",
   "mimetype": "text/x-python",
   "name": "python",
   "nbconvert_exporter": "python",
   "pygments_lexer": "ipython3",
   "version": "3.8.12"
  }
 },
 "nbformat": 4,
 "nbformat_minor": 5
}
