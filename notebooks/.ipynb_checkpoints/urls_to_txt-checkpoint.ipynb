{
 "cells": [
  {
   "cell_type": "markdown",
   "metadata": {},
   "source": [
    "## 1. Import Libraries"
   ]
  },
  {
   "cell_type": "code",
   "execution_count": 1,
   "metadata": {},
   "outputs": [
    {
     "name": "stderr",
     "output_type": "stream",
     "text": [
      "/Users/frikha-s/opt/anaconda3/envs/fair-checker-env/lib/python3.8/site-packages/rdflib_jsonld/__init__.py:9: DeprecationWarning: The rdflib-jsonld package has been integrated into rdflib as of rdflib==6.0.1.  Please remove rdflib-jsonld from your project's dependencies.\n",
      "  warnings.warn(\n",
      "[WDM] - \n",
      "\n",
      "[WDM] - ====== WebDriver manager ======\n",
      "[WDM] - Current google-chrome version is 100.0.4896\n",
      "[WDM] - Get LATEST driver version for 100.0.4896\n",
      "[WDM] - Driver [/Users/frikha-s/.wdm/drivers/chromedriver/mac64/100.0.4896.60/chromedriver] found in cache\n"
     ]
    }
   ],
   "source": [
    "import sys\n",
    "parentdir = \"..\"\n",
    "sys.path.insert(0, parentdir)\n",
    "\n",
    "import requests\n",
    "from os import path\n",
    "from tqdm.notebook import tqdm\n",
    "import pandas as pd\n",
    "import time\n",
    "\n",
    "from metrics.WebResource import WebResource\n",
    "from rdflib import Graph\n",
    "from xml.dom import minidom\n",
    "from rdflib import ConjunctiveGraph, Namespace, URIRef\n",
    "from rdflib.namespace import RDF, RDFS\n",
    "\n",
    "import random\n",
    "import matplotlib.pyplot as plt"
   ]
  },
  {
   "cell_type": "code",
   "execution_count": 4,
   "metadata": {},
   "outputs": [
    {
     "data": {
      "application/vnd.jupyter.widget-view+json": {
       "model_id": "a39a6750346c4ba9987376f86a31a0fa",
       "version_major": 2,
       "version_minor": 0
      },
      "text/plain": [
       "  0%|          | 0/10619 [00:00<?, ?it/s]"
      ]
     },
     "metadata": {},
     "output_type": "display_data"
    },
    {
     "name": "stdout",
     "output_type": "stream",
     "text": [
      "http://bio.tools/bwa\n",
      "http://www.w3.org/People/Berners-Lee/card\n",
      "http://www.orpha.net/consor/cgi-bin/OC_Exp.php?lng=en&Expert=166032\n",
      "http://www.orpha.net/consor/cgi-bin/OC_Exp.php?lng=en&Expert=61\n",
      "http://www.orpha.net/consor/cgi-bin/OC_Exp.php?lng=en&Expert=166029\n",
      "http://www.orpha.net/consor/cgi-bin/OC_Exp.php?lng=en&Expert=166038\n",
      "http://www.orpha.net/consor/cgi-bin/OC_Exp.php?lng=en&Expert=93\n",
      "http://www.orpha.net/consor/cgi-bin/OC_Exp.php?lng=en&Expert=166035\n",
      "http://www.orpha.net/consor/cgi-bin/OC_Exp.php?lng=en&Expert=585\n",
      "http://www.orpha.net/consor/cgi-bin/OC_Exp.php?lng=en&Expert=118\n",
      "http://www.orpha.net/consor/cgi-bin/OC_Exp.php?lng=en&Expert=166068\n"
     ]
    }
   ],
   "source": [
    "# parse the xml file\n",
    "mydoc = minidom.parse('URLs.xml')\n",
    "\n",
    "urls = mydoc.getElementsByTagName('ExpertLink')\n",
    " \n",
    "#We can't use lists to store URLs because the data rate exceeded\n",
    "#list_urls=list()\n",
    "\n",
    "#Display the first 10 URLs\n",
    "i=0\n",
    "for url in tqdm(urls):\n",
    "    #list_urls+=url.firstChild.data\n",
    "    print(url.firstChild.data)\n",
    "    i+=1\n",
    "    if i>10: break"
   ]
  },
  {
   "cell_type": "markdown",
   "metadata": {},
   "source": [
    "## For Further Visualizations\n",
    "Have a look to Seaborn and Bokeh libraries\n",
    "https://seaborn.pydata.org\n",
    "https://bokeh.org"
   ]
  }
 ],
 "metadata": {
  "interpreter": {
   "hash": "e202b6cb132b9357ed023fecdbc194f9a7f520726b3b39fdf8a2279e78a83e12"
  },
  "kernelspec": {
   "display_name": "Python 3 (ipykernel)",
   "language": "python",
   "name": "python3"
  },
  "language_info": {
   "codemirror_mode": {
    "name": "ipython",
    "version": 3
   },
   "file_extension": ".py",
   "mimetype": "text/x-python",
   "name": "python",
   "nbconvert_exporter": "python",
   "pygments_lexer": "ipython3",
   "version": "3.8.12"
  }
 },
 "nbformat": 4,
 "nbformat_minor": 2
}
