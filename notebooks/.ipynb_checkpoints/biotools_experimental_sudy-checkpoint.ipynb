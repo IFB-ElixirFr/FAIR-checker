{
 "cells": [
  {
   "cell_type": "code",
   "execution_count": 2,
   "metadata": {},
   "outputs": [
    {
     "name": "stderr",
     "output_type": "stream",
     "text": [
      "[WDM] - \n",
      "\n",
      "[WDM] - ====== WebDriver manager ======\n",
      "[WDM] - Current google-chrome version is 100.0.4896\n",
      "[WDM] - Get LATEST driver version for 100.0.4896\n",
      "[WDM] - Driver [/Users/gaignard-a/.wdm/drivers/chromedriver/mac64/100.0.4896.60/chromedriver] found in cache\n"
     ]
    }
   ],
   "source": [
    "import sys\n",
    "parentdir = \"..\"\n",
    "sys.path.insert(0, parentdir)\n",
    "\n",
    "import requests\n",
    "from os import path\n",
    "from tqdm.notebook import tqdm\n",
    "import pandas as pd\n",
    "import time\n",
    "\n",
    "from metrics.WebResource import WebResource\n",
    "from metrics.FAIRMetricsFactory import FAIRMetricsFactory\n",
    "from metrics.AbstractFAIRMetrics import AbstractFAIRMetrics"
   ]
  },
  {
   "cell_type": "markdown",
   "metadata": {},
   "source": [
    "# Retrieve a Bioschemas RDF dump"
   ]
  },
  {
   "cell_type": "code",
   "execution_count": 3,
   "metadata": {},
   "outputs": [],
   "source": [
    "dump = \"bioschemas-dump.ttl\"\n",
    "if not path.isfile(dump):\n",
    "    r = requests.get(\"https://github.com/bio-tools/content/raw/master/datasets/bioschemas-dump.ttl\")\n",
    "    assert r.status_code == 200\n",
    "    with open(dump, \"wb\") as f:\n",
    "        f.write(r.content)\n",
    "\n",
    "assert path.isfile(dump)"
   ]
  },
  {
   "cell_type": "markdown",
   "metadata": {},
   "source": [
    "# Load the RDF dump"
   ]
  },
  {
   "cell_type": "code",
   "execution_count": 4,
   "metadata": {},
   "outputs": [],
   "source": [
    "from rdflib import ConjunctiveGraph, Namespace, URIRef\n",
    "from rdflib.namespace import RDF, RDFS\n",
    "\n",
    "schema = Namespace(\"http://schema.org/\")"
   ]
  },
  {
   "cell_type": "code",
   "execution_count": 5,
   "metadata": {},
   "outputs": [
    {
     "name": "stdout",
     "output_type": "stream",
     "text": [
      "483678 loaded triples\n"
     ]
    }
   ],
   "source": [
    "KG = ConjunctiveGraph()\n",
    "KG.parse(dump, format=\"turtle\")\n",
    "print(f\"{len(KG)} loaded triples\")"
   ]
  },
  {
   "cell_type": "code",
   "execution_count": 6,
   "metadata": {},
   "outputs": [
    {
     "name": "stdout",
     "output_type": "stream",
     "text": [
      "25048 software applications\n",
      "None\n"
     ]
    }
   ],
   "source": [
    "index = {}\n",
    "for s, p, o in KG.triples((None, RDF.type, schema.SoftwareApplication)):\n",
    "    index[str(s)] = None    \n",
    "print(print(f\"{len(index)} software applications\"))"
   ]
  },
  {
   "cell_type": "code",
   "execution_count": 7,
   "metadata": {},
   "outputs": [],
   "source": [
    "def index_dump():\n",
    "    for i in tqdm(index.keys()):\n",
    "        sub_graph = ConjunctiveGraph()\n",
    "        for s, p, o in KG.triples((URIRef(i), None, None)):\n",
    "            sub_graph.add((s, p, o))\n",
    "        index[i]=sub_graph\n",
    "\n",
    "\n",
    "def get_RDF_sparql(bio_tools_Id):\n",
    "    q = f\"CONSTRUCT {{<{bio_tools_Id}> ?p ?o}} WHERE {{<{bio_tools_Id}> rdf:type schema:SoftwareApplication . <{bio_tools_Id}> ?p ?o .}}\"\n",
    "    res = KG.query(q)\n",
    "    print(res.serialize(format=\"turtle\"))\n",
    "\n",
    "def get_RDF(bio_tools_Id):\n",
    "    sub_graph = ConjunctiveGraph()\n",
    "    for s, p, o in KG.triples((URIRef(bio_tools_Id), None, None)):\n",
    "        sub_graph.add((s, p, o))\n",
    "    print(sub_graph.serialize(format=\"turtle\"))    \n",
    "    \n",
    "#get_RDF_sparql(\"https://bio.tools/bwa\")\n",
    "#get_RDF(\"https://bio.tools/bwa\")"
   ]
  },
  {
   "cell_type": "code",
   "execution_count": 8,
   "metadata": {},
   "outputs": [
    {
     "data": {
      "application/vnd.jupyter.widget-view+json": {
       "model_id": "98f33c7ca2774df9bb415ae1b8843536",
       "version_major": 2,
       "version_minor": 0
      },
      "text/plain": [
       "  0%|          | 0/25048 [00:00<?, ?it/s]"
      ]
     },
     "metadata": {},
     "output_type": "display_data"
    }
   ],
   "source": [
    "index_dump()"
   ]
  },
  {
   "cell_type": "code",
   "execution_count": 9,
   "metadata": {},
   "outputs": [],
   "source": [
    "import random\n",
    "#sample_tool = random.choice(index.keys())\n",
    "\n",
    "random.seed(10)\n",
    "\n",
    "samples = random.sample(list(index.items()), 10)\n",
    "#samples = random.sample(list(index.items()), len(index.items()))\n",
    "\n",
    "splitedSize = 1000\n",
    "samples_chunks = [samples[x:x+splitedSize] for x in range(0, len(samples), splitedSize)]"
   ]
  },
  {
   "cell_type": "code",
   "execution_count": 10,
   "metadata": {},
   "outputs": [],
   "source": [
    "metrics_collection_no_remote = []\n",
    "metrics_collection_no_remote.append(FAIRMetricsFactory.get_F1A(None))\n",
    "metrics_collection_no_remote.append(FAIRMetricsFactory.get_F1B(None))\n",
    "metrics_collection_no_remote.append(FAIRMetricsFactory.get_F2A(None))\n",
    "#metrics_collection_no_remote.append(FAIRMetricsFactory.get_F2B_weak(None))\n",
    "metrics_collection_no_remote.append(FAIRMetricsFactory.get_I1A(None))\n",
    "metrics_collection_no_remote.append(FAIRMetricsFactory.get_I1B(None))\n",
    "metrics_collection_no_remote.append(FAIRMetricsFactory.get_I2A(None))\n",
    "metrics_collection_no_remote.append(FAIRMetricsFactory.get_I2B(None))\n",
    "metrics_collection_no_remote.append(FAIRMetricsFactory.get_I3(None))\n",
    "metrics_collection_no_remote.append(FAIRMetricsFactory.get_R11(None))\n",
    "metrics_collection_no_remote.append(FAIRMetricsFactory.get_R12(None))\n",
    "#metrics_collection_no_remote.append(FAIRMetricsFactory.get_R13(None))\n",
    "\n",
    "metrics_collection_remote = []\n",
    "metrics_collection_remote.append(FAIRMetricsFactory.get_F2B(None))\n",
    "metrics_collection_remote.append(FAIRMetricsFactory.get_R13(None))\n",
    "\n",
    "\n",
    "\n",
    "df_columns = ['ID']\n",
    "for m in metrics_collection_remote:\n",
    "    #print(m.get_principle_tag())\n",
    "    df_columns.append(m.get_principle_tag())\n",
    "    "
   ]
  },
  {
   "cell_type": "code",
   "execution_count": 11,
   "metadata": {},
   "outputs": [],
   "source": [
    "exec_time_df = pd.DataFrame(columns=df_columns)\n",
    "\n",
    "def eval_metrics(web_res):\n",
    "    metrics_collection = []\n",
    "    metrics_collection.append(FAIRMetricsFactory.get_F1A(web_res))\n",
    "    metrics_collection.append(FAIRMetricsFactory.get_F1B(web_res))\n",
    "    metrics_collection.append(FAIRMetricsFactory.get_F2A(web_res))\n",
    "#    metrics_collection.append(FAIRMetricsFactory.get_F2B_weak(web_res))\n",
    "    metrics_collection.append(FAIRMetricsFactory.get_I1A(web_res))\n",
    "    metrics_collection.append(FAIRMetricsFactory.get_I1B(web_res))\n",
    "    metrics_collection.append(FAIRMetricsFactory.get_I2A(web_res))\n",
    "    metrics_collection.append(FAIRMetricsFactory.get_I2B(web_res))\n",
    "    metrics_collection.append(FAIRMetricsFactory.get_I3(web_res))\n",
    "    metrics_collection.append(FAIRMetricsFactory.get_R11(web_res))\n",
    "    metrics_collection.append(FAIRMetricsFactory.get_R12(web_res))\n",
    "#    metrics_collection.append(FAIRMetricsFactory.get_R13(web_res))\n",
    "    \n",
    "    row = {\"ID\":web_res.get_url()}\n",
    "    row_time = {\"ID\":web_res.get_url()}\n",
    "    for m in metrics_collection:\n",
    "        ts1 = time.time()\n",
    "        e = m.evaluate()\n",
    "        duration = round((time.time() - ts1), 2)\n",
    "        if e is not None:\n",
    "            row[m.get_principle_tag()] = e.get_score()\n",
    "            row_time[m.get_principle_tag()] = duration\n",
    "    \n",
    "    return row, row_time"
   ]
  },
  {
   "cell_type": "code",
   "execution_count": 12,
   "metadata": {},
   "outputs": [],
   "source": [
    "#%%time\n",
    "\n",
    "def mass_eval(samples):\n",
    "    evals = []\n",
    "    exec_time = []\n",
    "\n",
    "\n",
    "    for sample in tqdm(samples):\n",
    "        wr = WebResource(url=sample[0], rdf_graph=sample[1])\n",
    "        row, row_time = eval_metrics(wr)\n",
    "        evals.append(row)\n",
    "        exec_time.append(row_time)\n",
    "        \n",
    "    \n",
    "    return evals, exec_time"
   ]
  },
  {
   "cell_type": "code",
   "execution_count": 24,
   "metadata": {},
   "outputs": [
    {
     "data": {
      "application/vnd.jupyter.widget-view+json": {
       "model_id": "bd57e60e779940118d82d603ad19bb61",
       "version_major": 2,
       "version_minor": 0
      },
      "text/plain": [
       "  0%|          | 0/1 [00:00<?, ?it/s]"
      ]
     },
     "metadata": {},
     "output_type": "display_data"
    },
    {
     "data": {
      "application/vnd.jupyter.widget-view+json": {
       "model_id": "713405d2b2314cfe96d9f7f48e384930",
       "version_major": 2,
       "version_minor": 0
      },
      "text/plain": [
       "  0%|          | 0/10 [00:00<?, ?it/s]"
      ]
     },
     "metadata": {},
     "output_type": "display_data"
    }
   ],
   "source": [
    "import logging\n",
    "logging.getLogger().setLevel(logging.ERROR)\n",
    "\n",
    "i = 0\n",
    "for c in tqdm(samples_chunks):\n",
    "    i += 1\n",
    "    df = pd.DataFrame()\n",
    "    df_time = pd.DataFrame()\n",
    "    \n",
    "    evals, exec_time = mass_eval(c)\n",
    "    df = pd.concat([df, pd.DataFrame.from_records(evals)])\n",
    "    df_time = pd.concat([df_time, pd.DataFrame.from_records(exec_time)])\n",
    "    \n",
    "    df.to_csv(\"results/biotools/FC_results_\"+str(i)+\".csv\")\n",
    "    df_time.to_csv(\"results/biotools/exec_time\"+str(i)+\".csv\")"
   ]
  },
  {
   "cell_type": "code",
   "execution_count": 14,
   "metadata": {
    "scrolled": true
   },
   "outputs": [
    {
     "data": {
      "text/html": [
       "<div>\n",
       "<style scoped>\n",
       "    .dataframe tbody tr th:only-of-type {\n",
       "        vertical-align: middle;\n",
       "    }\n",
       "\n",
       "    .dataframe tbody tr th {\n",
       "        vertical-align: top;\n",
       "    }\n",
       "\n",
       "    .dataframe thead th {\n",
       "        text-align: right;\n",
       "    }\n",
       "</style>\n",
       "<table border=\"1\" class=\"dataframe\">\n",
       "  <thead>\n",
       "    <tr style=\"text-align: right;\">\n",
       "      <th></th>\n",
       "      <th>ID</th>\n",
       "      <th>F1A</th>\n",
       "      <th>F1B</th>\n",
       "      <th>F2A</th>\n",
       "      <th>I1A</th>\n",
       "      <th>I1B</th>\n",
       "      <th>I2A</th>\n",
       "      <th>I2B</th>\n",
       "      <th>I3</th>\n",
       "      <th>R1.1</th>\n",
       "      <th>R1.2</th>\n",
       "    </tr>\n",
       "  </thead>\n",
       "  <tbody>\n",
       "    <tr>\n",
       "      <th>0</th>\n",
       "      <td>https://bio.tools/ppms</td>\n",
       "      <td>0</td>\n",
       "      <td>0</td>\n",
       "      <td>2</td>\n",
       "      <td>2</td>\n",
       "      <td>2</td>\n",
       "      <td>0</td>\n",
       "      <td>2</td>\n",
       "      <td>2</td>\n",
       "      <td>0</td>\n",
       "      <td>0</td>\n",
       "    </tr>\n",
       "    <tr>\n",
       "      <th>1</th>\n",
       "      <td>https://bio.tools/DRAMP</td>\n",
       "      <td>0</td>\n",
       "      <td>1</td>\n",
       "      <td>2</td>\n",
       "      <td>2</td>\n",
       "      <td>2</td>\n",
       "      <td>0</td>\n",
       "      <td>2</td>\n",
       "      <td>2</td>\n",
       "      <td>0</td>\n",
       "      <td>0</td>\n",
       "    </tr>\n",
       "    <tr>\n",
       "      <th>2</th>\n",
       "      <td>https://bio.tools/m3drop</td>\n",
       "      <td>0</td>\n",
       "      <td>0</td>\n",
       "      <td>2</td>\n",
       "      <td>2</td>\n",
       "      <td>2</td>\n",
       "      <td>0</td>\n",
       "      <td>2</td>\n",
       "      <td>2</td>\n",
       "      <td>2</td>\n",
       "      <td>0</td>\n",
       "    </tr>\n",
       "    <tr>\n",
       "      <th>3</th>\n",
       "      <td>https://bio.tools/mrcip</td>\n",
       "      <td>0</td>\n",
       "      <td>1</td>\n",
       "      <td>2</td>\n",
       "      <td>2</td>\n",
       "      <td>2</td>\n",
       "      <td>0</td>\n",
       "      <td>2</td>\n",
       "      <td>2</td>\n",
       "      <td>0</td>\n",
       "      <td>0</td>\n",
       "    </tr>\n",
       "    <tr>\n",
       "      <th>4</th>\n",
       "      <td>https://bio.tools/probe</td>\n",
       "      <td>0</td>\n",
       "      <td>1</td>\n",
       "      <td>2</td>\n",
       "      <td>2</td>\n",
       "      <td>2</td>\n",
       "      <td>0</td>\n",
       "      <td>2</td>\n",
       "      <td>2</td>\n",
       "      <td>0</td>\n",
       "      <td>0</td>\n",
       "    </tr>\n",
       "    <tr>\n",
       "      <th>5</th>\n",
       "      <td>https://bio.tools/Bellerophon</td>\n",
       "      <td>0</td>\n",
       "      <td>1</td>\n",
       "      <td>2</td>\n",
       "      <td>2</td>\n",
       "      <td>2</td>\n",
       "      <td>0</td>\n",
       "      <td>2</td>\n",
       "      <td>2</td>\n",
       "      <td>0</td>\n",
       "      <td>0</td>\n",
       "    </tr>\n",
       "    <tr>\n",
       "      <th>6</th>\n",
       "      <td>https://bio.tools/cga_tools</td>\n",
       "      <td>0</td>\n",
       "      <td>0</td>\n",
       "      <td>2</td>\n",
       "      <td>2</td>\n",
       "      <td>2</td>\n",
       "      <td>0</td>\n",
       "      <td>2</td>\n",
       "      <td>2</td>\n",
       "      <td>2</td>\n",
       "      <td>0</td>\n",
       "    </tr>\n",
       "    <tr>\n",
       "      <th>7</th>\n",
       "      <td>https://bio.tools/midb</td>\n",
       "      <td>0</td>\n",
       "      <td>1</td>\n",
       "      <td>2</td>\n",
       "      <td>2</td>\n",
       "      <td>2</td>\n",
       "      <td>0</td>\n",
       "      <td>2</td>\n",
       "      <td>2</td>\n",
       "      <td>0</td>\n",
       "      <td>0</td>\n",
       "    </tr>\n",
       "    <tr>\n",
       "      <th>8</th>\n",
       "      <td>https://bio.tools/mungesumstats</td>\n",
       "      <td>0</td>\n",
       "      <td>0</td>\n",
       "      <td>2</td>\n",
       "      <td>2</td>\n",
       "      <td>2</td>\n",
       "      <td>0</td>\n",
       "      <td>2</td>\n",
       "      <td>2</td>\n",
       "      <td>2</td>\n",
       "      <td>0</td>\n",
       "    </tr>\n",
       "    <tr>\n",
       "      <th>9</th>\n",
       "      <td>https://bio.tools/drugvirus</td>\n",
       "      <td>0</td>\n",
       "      <td>1</td>\n",
       "      <td>2</td>\n",
       "      <td>2</td>\n",
       "      <td>2</td>\n",
       "      <td>0</td>\n",
       "      <td>2</td>\n",
       "      <td>2</td>\n",
       "      <td>0</td>\n",
       "      <td>0</td>\n",
       "    </tr>\n",
       "  </tbody>\n",
       "</table>\n",
       "</div>"
      ],
      "text/plain": [
       "                                ID F1A F1B F2A I1A I1B I2A I2B I3 R1.1 R1.2\n",
       "0           https://bio.tools/ppms   0   0   2   2   2   0   2  2    0    0\n",
       "1          https://bio.tools/DRAMP   0   1   2   2   2   0   2  2    0    0\n",
       "2         https://bio.tools/m3drop   0   0   2   2   2   0   2  2    2    0\n",
       "3          https://bio.tools/mrcip   0   1   2   2   2   0   2  2    0    0\n",
       "4          https://bio.tools/probe   0   1   2   2   2   0   2  2    0    0\n",
       "5    https://bio.tools/Bellerophon   0   1   2   2   2   0   2  2    0    0\n",
       "6      https://bio.tools/cga_tools   0   0   2   2   2   0   2  2    2    0\n",
       "7           https://bio.tools/midb   0   1   2   2   2   0   2  2    0    0\n",
       "8  https://bio.tools/mungesumstats   0   0   2   2   2   0   2  2    2    0\n",
       "9      https://bio.tools/drugvirus   0   1   2   2   2   0   2  2    0    0"
      ]
     },
     "execution_count": 14,
     "metadata": {},
     "output_type": "execute_result"
    }
   ],
   "source": [
    "df"
   ]
  },
  {
   "cell_type": "code",
   "execution_count": 15,
   "metadata": {
    "scrolled": true
   },
   "outputs": [
    {
     "data": {
      "text/html": [
       "<div>\n",
       "<style scoped>\n",
       "    .dataframe tbody tr th:only-of-type {\n",
       "        vertical-align: middle;\n",
       "    }\n",
       "\n",
       "    .dataframe tbody tr th {\n",
       "        vertical-align: top;\n",
       "    }\n",
       "\n",
       "    .dataframe thead th {\n",
       "        text-align: right;\n",
       "    }\n",
       "</style>\n",
       "<table border=\"1\" class=\"dataframe\">\n",
       "  <thead>\n",
       "    <tr style=\"text-align: right;\">\n",
       "      <th></th>\n",
       "      <th>ID</th>\n",
       "      <th>F1A</th>\n",
       "      <th>F1B</th>\n",
       "      <th>F2A</th>\n",
       "      <th>I1A</th>\n",
       "      <th>I1B</th>\n",
       "      <th>I2A</th>\n",
       "      <th>I2B</th>\n",
       "      <th>I3</th>\n",
       "      <th>R1.1</th>\n",
       "      <th>R1.2</th>\n",
       "    </tr>\n",
       "  </thead>\n",
       "  <tbody>\n",
       "    <tr>\n",
       "      <th>0</th>\n",
       "      <td>https://bio.tools/ppms</td>\n",
       "      <td>0.0</td>\n",
       "      <td>0.18</td>\n",
       "      <td>0.0</td>\n",
       "      <td>0.0</td>\n",
       "      <td>0.0</td>\n",
       "      <td>0.01</td>\n",
       "      <td>0.0</td>\n",
       "      <td>0.0</td>\n",
       "      <td>0.00</td>\n",
       "      <td>0.01</td>\n",
       "    </tr>\n",
       "    <tr>\n",
       "      <th>1</th>\n",
       "      <td>https://bio.tools/DRAMP</td>\n",
       "      <td>0.0</td>\n",
       "      <td>0.02</td>\n",
       "      <td>0.0</td>\n",
       "      <td>0.0</td>\n",
       "      <td>0.0</td>\n",
       "      <td>0.01</td>\n",
       "      <td>0.0</td>\n",
       "      <td>0.0</td>\n",
       "      <td>0.00</td>\n",
       "      <td>0.01</td>\n",
       "    </tr>\n",
       "    <tr>\n",
       "      <th>2</th>\n",
       "      <td>https://bio.tools/m3drop</td>\n",
       "      <td>0.0</td>\n",
       "      <td>0.02</td>\n",
       "      <td>0.0</td>\n",
       "      <td>0.0</td>\n",
       "      <td>0.0</td>\n",
       "      <td>0.01</td>\n",
       "      <td>0.0</td>\n",
       "      <td>0.0</td>\n",
       "      <td>0.00</td>\n",
       "      <td>0.01</td>\n",
       "    </tr>\n",
       "    <tr>\n",
       "      <th>3</th>\n",
       "      <td>https://bio.tools/mrcip</td>\n",
       "      <td>0.0</td>\n",
       "      <td>0.01</td>\n",
       "      <td>0.0</td>\n",
       "      <td>0.0</td>\n",
       "      <td>0.0</td>\n",
       "      <td>0.01</td>\n",
       "      <td>0.0</td>\n",
       "      <td>0.0</td>\n",
       "      <td>0.01</td>\n",
       "      <td>0.01</td>\n",
       "    </tr>\n",
       "    <tr>\n",
       "      <th>4</th>\n",
       "      <td>https://bio.tools/probe</td>\n",
       "      <td>0.0</td>\n",
       "      <td>0.01</td>\n",
       "      <td>0.0</td>\n",
       "      <td>0.0</td>\n",
       "      <td>0.0</td>\n",
       "      <td>0.01</td>\n",
       "      <td>0.0</td>\n",
       "      <td>0.0</td>\n",
       "      <td>0.00</td>\n",
       "      <td>0.01</td>\n",
       "    </tr>\n",
       "    <tr>\n",
       "      <th>5</th>\n",
       "      <td>https://bio.tools/Bellerophon</td>\n",
       "      <td>0.0</td>\n",
       "      <td>0.01</td>\n",
       "      <td>0.0</td>\n",
       "      <td>0.0</td>\n",
       "      <td>0.0</td>\n",
       "      <td>0.01</td>\n",
       "      <td>0.0</td>\n",
       "      <td>0.0</td>\n",
       "      <td>0.00</td>\n",
       "      <td>0.01</td>\n",
       "    </tr>\n",
       "    <tr>\n",
       "      <th>6</th>\n",
       "      <td>https://bio.tools/cga_tools</td>\n",
       "      <td>0.0</td>\n",
       "      <td>0.01</td>\n",
       "      <td>0.0</td>\n",
       "      <td>0.0</td>\n",
       "      <td>0.0</td>\n",
       "      <td>0.01</td>\n",
       "      <td>0.0</td>\n",
       "      <td>0.0</td>\n",
       "      <td>0.00</td>\n",
       "      <td>0.01</td>\n",
       "    </tr>\n",
       "    <tr>\n",
       "      <th>7</th>\n",
       "      <td>https://bio.tools/midb</td>\n",
       "      <td>0.0</td>\n",
       "      <td>0.01</td>\n",
       "      <td>0.0</td>\n",
       "      <td>0.0</td>\n",
       "      <td>0.0</td>\n",
       "      <td>0.01</td>\n",
       "      <td>0.0</td>\n",
       "      <td>0.0</td>\n",
       "      <td>0.00</td>\n",
       "      <td>0.01</td>\n",
       "    </tr>\n",
       "    <tr>\n",
       "      <th>8</th>\n",
       "      <td>https://bio.tools/mungesumstats</td>\n",
       "      <td>0.0</td>\n",
       "      <td>0.01</td>\n",
       "      <td>0.0</td>\n",
       "      <td>0.0</td>\n",
       "      <td>0.0</td>\n",
       "      <td>0.01</td>\n",
       "      <td>0.0</td>\n",
       "      <td>0.0</td>\n",
       "      <td>0.00</td>\n",
       "      <td>0.01</td>\n",
       "    </tr>\n",
       "    <tr>\n",
       "      <th>9</th>\n",
       "      <td>https://bio.tools/drugvirus</td>\n",
       "      <td>0.0</td>\n",
       "      <td>0.01</td>\n",
       "      <td>0.0</td>\n",
       "      <td>0.0</td>\n",
       "      <td>0.0</td>\n",
       "      <td>0.01</td>\n",
       "      <td>0.0</td>\n",
       "      <td>0.0</td>\n",
       "      <td>0.00</td>\n",
       "      <td>0.01</td>\n",
       "    </tr>\n",
       "  </tbody>\n",
       "</table>\n",
       "</div>"
      ],
      "text/plain": [
       "                                ID  F1A   F1B  F2A  I1A  I1B   I2A  I2B   I3  \\\n",
       "0           https://bio.tools/ppms  0.0  0.18  0.0  0.0  0.0  0.01  0.0  0.0   \n",
       "1          https://bio.tools/DRAMP  0.0  0.02  0.0  0.0  0.0  0.01  0.0  0.0   \n",
       "2         https://bio.tools/m3drop  0.0  0.02  0.0  0.0  0.0  0.01  0.0  0.0   \n",
       "3          https://bio.tools/mrcip  0.0  0.01  0.0  0.0  0.0  0.01  0.0  0.0   \n",
       "4          https://bio.tools/probe  0.0  0.01  0.0  0.0  0.0  0.01  0.0  0.0   \n",
       "5    https://bio.tools/Bellerophon  0.0  0.01  0.0  0.0  0.0  0.01  0.0  0.0   \n",
       "6      https://bio.tools/cga_tools  0.0  0.01  0.0  0.0  0.0  0.01  0.0  0.0   \n",
       "7           https://bio.tools/midb  0.0  0.01  0.0  0.0  0.0  0.01  0.0  0.0   \n",
       "8  https://bio.tools/mungesumstats  0.0  0.01  0.0  0.0  0.0  0.01  0.0  0.0   \n",
       "9      https://bio.tools/drugvirus  0.0  0.01  0.0  0.0  0.0  0.01  0.0  0.0   \n",
       "\n",
       "   R1.1  R1.2  \n",
       "0  0.00  0.01  \n",
       "1  0.00  0.01  \n",
       "2  0.00  0.01  \n",
       "3  0.01  0.01  \n",
       "4  0.00  0.01  \n",
       "5  0.00  0.01  \n",
       "6  0.00  0.01  \n",
       "7  0.00  0.01  \n",
       "8  0.00  0.01  \n",
       "9  0.00  0.01  "
      ]
     },
     "execution_count": 15,
     "metadata": {},
     "output_type": "execute_result"
    }
   ],
   "source": [
    "df_time"
   ]
  },
  {
   "cell_type": "code",
   "execution_count": 25,
   "metadata": {},
   "outputs": [
    {
     "data": {
      "application/vnd.jupyter.widget-view+json": {
       "model_id": "c3979ee9375a4cd2be8e6bfe2cca64cb",
       "version_major": 2,
       "version_minor": 0
      },
      "text/plain": [
       "  0%|          | 0/1 [00:00<?, ?it/s]"
      ]
     },
     "metadata": {},
     "output_type": "display_data"
    }
   ],
   "source": [
    "import glob\n",
    "\n",
    "all_files = glob.glob(\"results/biotools/FC_results_*.csv\")\n",
    "\n",
    "li = []\n",
    "\n",
    "for filename in tqdm(all_files):\n",
    "    df = pd.read_csv(filename, index_col=None, header=0)\n",
    "    li.append(df)\n",
    "df = pd.concat(li, axis=0, ignore_index=True)"
   ]
  },
  {
   "cell_type": "code",
   "execution_count": 26,
   "metadata": {},
   "outputs": [],
   "source": [
    "from upsetplot import generate_counts, generate_samples, UpSet,plot\n",
    "import matplotlib.pyplot as plt\n",
    "\n",
    "plt.rcParams['figure.figsize'] = [12, 8]\n",
    "plt.rcParams['figure.dpi'] = 200 "
   ]
  },
  {
   "cell_type": "code",
   "execution_count": 27,
   "metadata": {
    "scrolled": true
   },
   "outputs": [
    {
     "data": {
      "text/html": [
       "<div>\n",
       "<style scoped>\n",
       "    .dataframe tbody tr th:only-of-type {\n",
       "        vertical-align: middle;\n",
       "    }\n",
       "\n",
       "    .dataframe tbody tr th {\n",
       "        vertical-align: top;\n",
       "    }\n",
       "\n",
       "    .dataframe thead th {\n",
       "        text-align: right;\n",
       "    }\n",
       "</style>\n",
       "<table border=\"1\" class=\"dataframe\">\n",
       "  <thead>\n",
       "    <tr style=\"text-align: right;\">\n",
       "      <th></th>\n",
       "      <th></th>\n",
       "      <th></th>\n",
       "      <th></th>\n",
       "      <th></th>\n",
       "      <th></th>\n",
       "      <th></th>\n",
       "      <th></th>\n",
       "      <th></th>\n",
       "      <th>id</th>\n",
       "    </tr>\n",
       "    <tr>\n",
       "      <th>F1B</th>\n",
       "      <th>F2A</th>\n",
       "      <th>I1A</th>\n",
       "      <th>I1B</th>\n",
       "      <th>I2A</th>\n",
       "      <th>I2B</th>\n",
       "      <th>I3</th>\n",
       "      <th>R11</th>\n",
       "      <th>R12</th>\n",
       "      <th></th>\n",
       "    </tr>\n",
       "  </thead>\n",
       "  <tbody>\n",
       "    <tr>\n",
       "      <th rowspan=\"6\" valign=\"top\">True</th>\n",
       "      <th rowspan=\"6\" valign=\"top\">True</th>\n",
       "      <th rowspan=\"6\" valign=\"top\">True</th>\n",
       "      <th rowspan=\"6\" valign=\"top\">True</th>\n",
       "      <th rowspan=\"6\" valign=\"top\">False</th>\n",
       "      <th rowspan=\"6\" valign=\"top\">True</th>\n",
       "      <th rowspan=\"6\" valign=\"top\">True</th>\n",
       "      <th rowspan=\"6\" valign=\"top\">False</th>\n",
       "      <th>False</th>\n",
       "      <td>https://bio.tools/DRAMP</td>\n",
       "    </tr>\n",
       "    <tr>\n",
       "      <th>False</th>\n",
       "      <td>https://bio.tools/mrcip</td>\n",
       "    </tr>\n",
       "    <tr>\n",
       "      <th>False</th>\n",
       "      <td>https://bio.tools/probe</td>\n",
       "    </tr>\n",
       "    <tr>\n",
       "      <th>False</th>\n",
       "      <td>https://bio.tools/Bellerophon</td>\n",
       "    </tr>\n",
       "    <tr>\n",
       "      <th>False</th>\n",
       "      <td>https://bio.tools/midb</td>\n",
       "    </tr>\n",
       "    <tr>\n",
       "      <th>False</th>\n",
       "      <td>https://bio.tools/drugvirus</td>\n",
       "    </tr>\n",
       "    <tr>\n",
       "      <th rowspan=\"4\" valign=\"top\">False</th>\n",
       "      <th rowspan=\"4\" valign=\"top\">True</th>\n",
       "      <th rowspan=\"4\" valign=\"top\">True</th>\n",
       "      <th rowspan=\"4\" valign=\"top\">True</th>\n",
       "      <th rowspan=\"4\" valign=\"top\">False</th>\n",
       "      <th rowspan=\"4\" valign=\"top\">True</th>\n",
       "      <th rowspan=\"4\" valign=\"top\">True</th>\n",
       "      <th>False</th>\n",
       "      <th>False</th>\n",
       "      <td>https://bio.tools/ppms</td>\n",
       "    </tr>\n",
       "    <tr>\n",
       "      <th rowspan=\"3\" valign=\"top\">True</th>\n",
       "      <th>False</th>\n",
       "      <td>https://bio.tools/m3drop</td>\n",
       "    </tr>\n",
       "    <tr>\n",
       "      <th>False</th>\n",
       "      <td>https://bio.tools/cga_tools</td>\n",
       "    </tr>\n",
       "    <tr>\n",
       "      <th>False</th>\n",
       "      <td>https://bio.tools/mungesumstats</td>\n",
       "    </tr>\n",
       "  </tbody>\n",
       "</table>\n",
       "</div>"
      ],
      "text/plain": [
       "                                                                               id\n",
       "F1B   F2A  I1A  I1B  I2A   I2B  I3   R11   R12                                   \n",
       "True  True True True False True True False False          https://bio.tools/DRAMP\n",
       "                                           False          https://bio.tools/mrcip\n",
       "                                           False          https://bio.tools/probe\n",
       "                                           False    https://bio.tools/Bellerophon\n",
       "                                           False           https://bio.tools/midb\n",
       "                                           False      https://bio.tools/drugvirus\n",
       "False True True True False True True False False           https://bio.tools/ppms\n",
       "                                     True  False         https://bio.tools/m3drop\n",
       "                                           False      https://bio.tools/cga_tools\n",
       "                                           False  https://bio.tools/mungesumstats"
      ]
     },
     "execution_count": 27,
     "metadata": {},
     "output_type": "execute_result"
    }
   ],
   "source": [
    "from upsetplot import from_contents\n",
    "\n",
    "F1B = df[((df[\"F1B\"].astype(int) > 0))][\"ID\"]\n",
    "F2A = df[((df[\"F2A\"].astype(int) > 0))][\"ID\"]\n",
    "#F2B = df[((df[\"F2B\"].astype(int) > 0))][\"ID\"]\n",
    "\n",
    "I1A = df[((df[\"I1A\"].astype(int) > 0))][\"ID\"]\n",
    "I1B = df[((df[\"I1B\"].astype(int) > 0))][\"ID\"]\n",
    "\n",
    "I2A = df[((df[\"I2A\"].astype(int) > 0))][\"ID\"]\n",
    "I2B = df[((df[\"I2B\"].astype(int) > 0))][\"ID\"]\n",
    "\n",
    "I3 = df[((df[\"I3\"].astype(int) > 0))][\"ID\"]\n",
    "\n",
    "R11 = df[((df[\"R1.1\"].astype(int) > 0))][\"ID\"]\n",
    "R12 = df[((df[\"R1.2\"].astype(int) > 0))][\"ID\"]\n",
    "#R13 = df[((df[\"R1.3\"].astype(int) > 0))][\"ID\"]\n",
    "\n",
    "df_upset = from_contents({'F1B': F1B, \n",
    "                          'F2A': F2A, \n",
    "#                          'F2B*': F2B,\n",
    "                          'I1A': I1A, \n",
    "                          'I1B': I1B,\n",
    "                          'I2A': I2A, \n",
    "                          'I2B': I2B,\n",
    "                          'I3': I3, \n",
    "                          'R11': R11, \n",
    "                          'R12': R12,})\n",
    "#                          'R13*': R13})\n",
    "df_upset"
   ]
  },
  {
   "cell_type": "code",
   "execution_count": 28,
   "metadata": {},
   "outputs": [
    {
     "data": {
      "image/png": "[encoded data removed]",
      "text/plain": [
       "<Figure size 622.222x1333.33 with 4 Axes>"
      ]
     },
     "metadata": {
      "needs_background": "light"
     },
     "output_type": "display_data"
    }
   ],
   "source": [
    "upset = UpSet(df_upset, subset_size='count', show_counts=True, sort_categories_by=None, orientation='horizontal')\n",
    "\n",
    "#upset.style_subsets(present=[\"with_exome\", \"with_images\"],\n",
    "#                    facecolor=\"red\")\n",
    "\n",
    "params = {'legend.fontsize': 8}\n",
    "with plt.rc_context(params):\n",
    "    upset.plot()\n",
    "plt.suptitle(\"Bioinformatics softwares from Bio.Tools\")\n",
    "plt.savefig('biotools-no-F2B-no-R13.png', format=\"png\")\n",
    "plt.show()"
   ]
  },
  {
   "cell_type": "code",
   "execution_count": 29,
   "metadata": {},
   "outputs": [
    {
     "name": "stderr",
     "output_type": "stream",
     "text": [
      "/var/folders/x1/d1nyvpvs0td0htxzsv9x6ggw0000gn/T/ipykernel_49027/324344971.py:3: FutureWarning: In a future version of pandas all arguments of DataFrame.drop except for the argument 'labels' will be keyword-only.\n",
      "  df_time.drop('ID', 1, inplace=True)\n"
     ]
    }
   ],
   "source": [
    "import seaborn as sns\n",
    "\n",
    "df_time.drop('ID', 1, inplace=True)"
   ]
  },
  {
   "cell_type": "code",
   "execution_count": 30,
   "metadata": {},
   "outputs": [
    {
     "data": {
      "text/plain": [
       "<AxesSubplot:>"
      ]
     },
     "execution_count": 30,
     "metadata": {},
     "output_type": "execute_result"
    },
    {
     "data": {
      "image/png": "[encoded data removed]",
      "text/plain": [
       "<Figure size 2400x1600 with 1 Axes>"
      ]
     },
     "metadata": {
      "needs_background": "light"
     },
     "output_type": "display_data"
    }
   ],
   "source": [
    "sns.boxplot(data=df_time)"
   ]
  },
  {
   "cell_type": "code",
   "execution_count": 22,
   "metadata": {},
   "outputs": [
    {
     "data": {
      "text/plain": [
       "<Figure size 2400x1600 with 0 Axes>"
      ]
     },
     "metadata": {},
     "output_type": "display_data"
    }
   ],
   "source": [
    "plt.savefig('exec_time.png')"
   ]
  },
  {
   "cell_type": "code",
   "execution_count": null,
   "metadata": {},
   "outputs": [],
   "source": []
  },
  {
   "cell_type": "code",
   "execution_count": null,
   "metadata": {
    "scrolled": true
   },
   "outputs": [],
   "source": [
    "#%prun -s cumulative -s module evals, exec_time = mass_eval()    "
   ]
  },
  {
   "cell_type": "code",
   "execution_count": null,
   "metadata": {},
   "outputs": [],
   "source": [
    "#%load_ext memory_profiler\n",
    "#%mprun -T mprof0 evals, exec_time = mass_eval()  "
   ]
  },
  {
   "cell_type": "code",
   "execution_count": null,
   "metadata": {},
   "outputs": [],
   "source": [
    "#from guppy import hpy; h=hpy()"
   ]
  },
  {
   "cell_type": "code",
   "execution_count": null,
   "metadata": {},
   "outputs": [],
   "source": [
    "#h.heap()"
   ]
  },
  {
   "cell_type": "code",
   "execution_count": null,
   "metadata": {},
   "outputs": [],
   "source": [
    "#%load_ext watermark\n",
    "#%watermark -v -m -g"
   ]
  },
  {
   "cell_type": "code",
   "execution_count": null,
   "metadata": {},
   "outputs": [],
   "source": [
    "#%load_ext cython\n",
    "#%load_ext line_profiler\n"
   ]
  },
  {
   "cell_type": "code",
   "execution_count": null,
   "metadata": {},
   "outputs": [],
   "source": [
    "#%lprun -f m.evaluate mass_eval()"
   ]
  }
 ],
 "metadata": {
  "interpreter": {
   "hash": "e202b6cb132b9357ed023fecdbc194f9a7f520726b3b39fdf8a2279e78a83e12"
  },
  "kernelspec": {
   "display_name": "Python 3 (ipykernel)",
   "language": "python",
   "name": "python3"
  },
  "language_info": {
   "codemirror_mode": {
    "name": "ipython",
    "version": 3
   },
   "file_extension": ".py",
   "mimetype": "text/x-python",
   "name": "python",
   "nbconvert_exporter": "python",
   "pygments_lexer": "ipython3",
   "version": "3.9.10"
  }
 },
 "nbformat": 4,
 "nbformat_minor": 2
}
