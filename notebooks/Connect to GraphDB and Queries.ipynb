{
 "cells": [
  {
   "cell_type": "code",
   "execution_count": 3,
   "id": "87aff04a",
   "metadata": {},
   "outputs": [],
   "source": [
    "from SPARQLWrapper import SPARQLWrapper, JSON"
   ]
  },
  {
   "cell_type": "code",
   "execution_count": null,
   "id": "69d4b51c",
   "metadata": {},
   "outputs": [],
   "source": [
    "sparql_endpoint = \"http://127.0.0.1:7200/repositories/Orphanet\"\n",
    "sparql = SPARQLWrapper(sparql_endpoint)\n",
    "sparql.setReturnFormat(JSON)"
   ]
  },
  {
   "cell_type": "code",
   "execution_count": 1,
   "id": "8f79209a",
   "metadata": {},
   "outputs": [
    {
     "name": "stderr",
     "output_type": "stream",
     "text": [
      "/Users/frikha-s/opt/anaconda3/envs/fair-checker-env/lib/python3.8/site-packages/rdflib_jsonld/__init__.py:9: DeprecationWarning: The rdflib-jsonld package has been integrated into rdflib as of rdflib==6.0.1.  Please remove rdflib-jsonld from your project's dependencies.\n",
      "  warnings.warn(\n"
     ]
    },
    {
     "name": "stdout",
     "output_type": "stream",
     "text": [
      "{'head': {'vars': ['nb_triples']}, 'results': {'bindings': [{'nb_triples': {'datatype': 'http://www.w3.org/2001/XMLSchema#integer', 'type': 'literal', 'value': '1847'}}]}}\n",
      "{'nb_triples': {'datatype': 'http://www.w3.org/2001/XMLSchema#integer', 'type': 'literal', 'value': '1847'}}\n"
     ]
    }
   ],
   "source": [
    "query = \"\"\"\n",
    "SELECT (count(?p) as ?nb_triples) WHERE {\n",
    "?s ?p ?o .\n",
    "}\n",
    "\"\"\"\n",
    "\n",
    "sparql.setQuery(query)\n",
    "\n",
    "try:\n",
    "    ret = sparql.queryAndConvert()\n",
    "    print(ret)\n",
    "    for r in ret[\"results\"][\"bindings\"]:\n",
    "        print(r)\n",
    "except Exception as e:\n",
    "    print(e)"
   ]
  },
  {
   "cell_type": "code",
   "execution_count": 2,
   "id": "06a48c43",
   "metadata": {},
   "outputs": [
    {
     "name": "stdout",
     "output_type": "stream",
     "text": [
      "{'head': {'vars': ['s', 'description']}, 'results': {'bindings': [{'s': {'type': 'uri', 'value': 'http://www.orpha.net/consor/cgi-bin/OC_Exp.php?lng=en&Expert=166029'}, 'description': {'type': 'literal', 'value': 'Multiple epiphyseal dysplasia, with severe proximal femoral dysplasia is a rare primary bone dysplasia characterized by severe, early-onset dysplasia of the proximal femurs, with almost complete absence of the secondary ossification centers and abnormal development of the femoral necks (short and broad with irregular metaphyses). It is associated with gait abnormality, mild short stature, arthralgia, joint stiffness with limited mobility of the hips and irregular acetabula, and hip and knee pain. Coxa vara and mild spinal changes are also associated.'}}, {'s': {'type': 'uri', 'value': 'http://www.orpha.net/consor/cgi-bin/OC_Exp.php?lng=en&Expert=166032'}, 'description': {'type': 'literal', 'value': 'Multiple epiphyseal dysplasia, with miniepiphyses is a rare primary bone dysplasia disorder characterized by strikingly small secondary ossification centers (mini-epiphyses) in all or only some joints, resulting in severe bone dysplasia of the proximal femoral heads. Short stature, increased lumbar lordosis, genua vara and generalized joint laxity have also been reported.'}}, {'s': {'type': 'uri', 'value': 'http://www.orpha.net/consor/cgi-bin/OC_Exp.php?lng=en&Expert=166038'}, 'description': {'type': 'literal', 'value': 'Metaphyseal chondrodysplasia, Kaitila type is a rare multiple metaphyseal dysplasia disease characterized by disproportionate short stature, short limbs and digits, tracheobronchial malacia and progressive thoracolumbar scoliosis. Radiographic imaging shows progression from marked metaphyseal dysplasia of tubular bones in childhood to short and broad bones with mild dysplasia of the joints in adulthood. There have been no further descriptions in the literature since 1982.'}}, {'s': {'type': 'uri', 'value': 'http://www.orpha.net/consor/cgi-bin/OC_Exp.php?lng=en&Expert=61'}, 'description': {'type': 'literal', 'value': 'An inherited lysosomal storage disorder characterized by immune deficiency, facial and skeletal abnormalities, hearing impairment, and intellectual deficit.'}}, {'s': {'type': 'uri', 'value': 'http://www.orpha.net/consor/cgi-bin/OC_Exp.php?lng=en&Expert=93'}, 'description': {'type': 'literal', 'value': 'An autosomal recessive lysosomal storage disease belonging to the oligosaccharidosis group (also called glycoproteinosis).'}}, {'s': {'type': 'uri', 'value': 'http://www.orpha.net/consor/cgi-bin/OC_Exp.php?lng=en&Expert=118'}, 'description': {'type': 'literal', 'value': 'Beta-mannosidosis is a very rare lysosomal storage disease characterized by developmental delay of varying severity and hearing loss, but that can manifest a wide phenotypic heterogeneity.'}}, {'s': {'type': 'uri', 'value': 'http://www.orpha.net/consor/cgi-bin/OC_Exp.php?lng=en&Expert=141'}, 'description': {'type': 'literal', 'value': 'Canavan disease (CD) is a neurodegenerative disorder; its spectrum varies between severe forms with leukodystrophy, macrocephaly and severe developmental delay, and a very rare mild/juvenile form characterized by mild developmental delay.'}}, {'s': {'type': 'uri', 'value': 'http://www.orpha.net/consor/cgi-bin/OC_Exp.php?lng=en&Expert=166035'}, 'description': {'type': 'literal', 'value': 'Brachydactyly-short stature-retinitis pigmentosa syndrome is a rare, genetic, congenital limb malformation syndrome characterized by mild to severe short stature, brachydactyly, and retinal degeneration (usually retinitis pigmentosa), associated with variable intellectual disability, developmental delays, and craniofacial anomalies.'}}, {'s': {'type': 'uri', 'value': 'http://www.orpha.net/consor/cgi-bin/OC_Exp.php?lng=en&Expert=166063'}, 'description': {'type': 'literal', 'value': 'A severe, genetic form of pontocerebellar hypoplasia (PCH) characterized by delayed neocortical maturation with underdeveloped cerebral hemispheres and pontocerebellar hypoplasia and a severely affected vermis. Clinically, the disorder manifests with prenatal onset of polyhydramnios and contractures followed by hypertonia, severe clonus, primary hypoventilation leading to an early postnatal death.'}}, {'s': {'type': 'uri', 'value': 'http://www.orpha.net/consor/cgi-bin/OC_Exp.php?lng=en&Expert=166068'}, 'description': {'type': 'literal', 'value': ''}}, {'s': {'type': 'uri', 'value': 'http://www.orpha.net/consor/cgi-bin/OC_Exp.php?lng=en&Expert=166073'}, 'description': {'type': 'literal', 'value': 'A rare, genetic form of pontocerebellar hypoplasia (PCH) characterized by neocortical and severe cerebral cortical atrophy associated with pontocerebellar hypoplasia with the pons and cerebellum equally affected. Clinically the disorder manifests at birth with hypotonia, clonus, epilepsy, impaired swallowing and from infancy by progressive microcephaly, spasticity and lactic acidosis.'}}, {'s': {'type': 'uri', 'value': 'http://www.orpha.net/consor/cgi-bin/OC_Exp.php?lng=en&Expert=166078'}, 'description': {'type': 'literal', 'value': 'A form of von Willebrand disease (VWD) characterized by a bleeding disorder associated with a partial, quantitative plasmatic deficiency of an otherwise structurally and functionally normal von Willebrand factor (VWF).'}}, {'s': {'type': 'uri', 'value': 'http://www.orpha.net/consor/cgi-bin/OC_Exp.php?lng=en&Expert=166084'}, 'description': {'type': 'literal', 'value': 'A subtype of type 2 von Willebrand disease characterized by a bleeding disorder associated with a decrease in the affinity of the Willebrand factor (VWF) for platelets and the subendothelium caused by a deficiency of high molecular weight VWF multimers. The disease manifests as mucocutaneous bleeding (menorrhagia, epistaxis, gastrointestinal hemorrhage, etc.).'}}, {'s': {'type': 'uri', 'value': 'http://www.orpha.net/consor/cgi-bin/OC_Exp.php?lng=en&Expert=206'}, 'description': {'type': 'literal', 'value': ''}}, {'s': {'type': 'uri', 'value': 'http://www.orpha.net/consor/cgi-bin/OC_Exp.php?lng=en&Expert=213'}, 'description': {'type': 'literal', 'value': 'A rare lysosomal disease characterized by an accumulation of cystine inside the lysosomes, causing damage in different organs and tissues, particularly in the kidneys and eyes. Three clinical forms have been described: nephropathic infantile, nephropathic juvenile and ocular.'}}, {'s': {'type': 'uri', 'value': 'http://www.orpha.net/consor/cgi-bin/OC_Exp.php?lng=en&Expert=333'}, 'description': {'type': 'literal', 'value': 'A subcutaneous tissue disease characterized by a spectrum of clinical signs ranging from the classical triad of painful and progressively deformed joints, subcutaneous nodules, and progressive hoarseness (due to laryngeal involvement) that presents in infancy, to varying phenotypes with respiratory and neurologic involvement.'}}, {'s': {'type': 'uri', 'value': 'http://www.orpha.net/consor/cgi-bin/OC_Exp.php?lng=en&Expert=585'}, 'description': {'type': 'literal', 'value': 'Multiple sulfatase deficiency (MSD) is a very rare and fatal lysosomal storage disease characterized by a clinical phenotype that combines the features of different sulfatase deficiencies (whether lysosomal or not) that can have neonatal (most severe), infantile (most common) and juvenile (rare) presentations with manifestations including hypotonia, coarse facial features, mild deafness, skeletal anomalies, ichthyosis, hepatomegaly, developmental delay, progressive neurologic deterioration and hydrocephalus.'}}]}}\n",
      "{'s': {'type': 'uri', 'value': 'http://www.orpha.net/consor/cgi-bin/OC_Exp.php?lng=en&Expert=166029'}, 'description': {'type': 'literal', 'value': 'Multiple epiphyseal dysplasia, with severe proximal femoral dysplasia is a rare primary bone dysplasia characterized by severe, early-onset dysplasia of the proximal femurs, with almost complete absence of the secondary ossification centers and abnormal development of the femoral necks (short and broad with irregular metaphyses). It is associated with gait abnormality, mild short stature, arthralgia, joint stiffness with limited mobility of the hips and irregular acetabula, and hip and knee pain. Coxa vara and mild spinal changes are also associated.'}}\n",
      "{'s': {'type': 'uri', 'value': 'http://www.orpha.net/consor/cgi-bin/OC_Exp.php?lng=en&Expert=166032'}, 'description': {'type': 'literal', 'value': 'Multiple epiphyseal dysplasia, with miniepiphyses is a rare primary bone dysplasia disorder characterized by strikingly small secondary ossification centers (mini-epiphyses) in all or only some joints, resulting in severe bone dysplasia of the proximal femoral heads. Short stature, increased lumbar lordosis, genua vara and generalized joint laxity have also been reported.'}}\n",
      "{'s': {'type': 'uri', 'value': 'http://www.orpha.net/consor/cgi-bin/OC_Exp.php?lng=en&Expert=166038'}, 'description': {'type': 'literal', 'value': 'Metaphyseal chondrodysplasia, Kaitila type is a rare multiple metaphyseal dysplasia disease characterized by disproportionate short stature, short limbs and digits, tracheobronchial malacia and progressive thoracolumbar scoliosis. Radiographic imaging shows progression from marked metaphyseal dysplasia of tubular bones in childhood to short and broad bones with mild dysplasia of the joints in adulthood. There have been no further descriptions in the literature since 1982.'}}\n",
      "{'s': {'type': 'uri', 'value': 'http://www.orpha.net/consor/cgi-bin/OC_Exp.php?lng=en&Expert=61'}, 'description': {'type': 'literal', 'value': 'An inherited lysosomal storage disorder characterized by immune deficiency, facial and skeletal abnormalities, hearing impairment, and intellectual deficit.'}}\n",
      "{'s': {'type': 'uri', 'value': 'http://www.orpha.net/consor/cgi-bin/OC_Exp.php?lng=en&Expert=93'}, 'description': {'type': 'literal', 'value': 'An autosomal recessive lysosomal storage disease belonging to the oligosaccharidosis group (also called glycoproteinosis).'}}\n",
      "{'s': {'type': 'uri', 'value': 'http://www.orpha.net/consor/cgi-bin/OC_Exp.php?lng=en&Expert=118'}, 'description': {'type': 'literal', 'value': 'Beta-mannosidosis is a very rare lysosomal storage disease characterized by developmental delay of varying severity and hearing loss, but that can manifest a wide phenotypic heterogeneity.'}}\n",
      "{'s': {'type': 'uri', 'value': 'http://www.orpha.net/consor/cgi-bin/OC_Exp.php?lng=en&Expert=141'}, 'description': {'type': 'literal', 'value': 'Canavan disease (CD) is a neurodegenerative disorder; its spectrum varies between severe forms with leukodystrophy, macrocephaly and severe developmental delay, and a very rare mild/juvenile form characterized by mild developmental delay.'}}\n",
      "{'s': {'type': 'uri', 'value': 'http://www.orpha.net/consor/cgi-bin/OC_Exp.php?lng=en&Expert=166035'}, 'description': {'type': 'literal', 'value': 'Brachydactyly-short stature-retinitis pigmentosa syndrome is a rare, genetic, congenital limb malformation syndrome characterized by mild to severe short stature, brachydactyly, and retinal degeneration (usually retinitis pigmentosa), associated with variable intellectual disability, developmental delays, and craniofacial anomalies.'}}\n",
      "{'s': {'type': 'uri', 'value': 'http://www.orpha.net/consor/cgi-bin/OC_Exp.php?lng=en&Expert=166063'}, 'description': {'type': 'literal', 'value': 'A severe, genetic form of pontocerebellar hypoplasia (PCH) characterized by delayed neocortical maturation with underdeveloped cerebral hemispheres and pontocerebellar hypoplasia and a severely affected vermis. Clinically, the disorder manifests with prenatal onset of polyhydramnios and contractures followed by hypertonia, severe clonus, primary hypoventilation leading to an early postnatal death.'}}\n",
      "{'s': {'type': 'uri', 'value': 'http://www.orpha.net/consor/cgi-bin/OC_Exp.php?lng=en&Expert=166068'}, 'description': {'type': 'literal', 'value': ''}}\n",
      "{'s': {'type': 'uri', 'value': 'http://www.orpha.net/consor/cgi-bin/OC_Exp.php?lng=en&Expert=166073'}, 'description': {'type': 'literal', 'value': 'A rare, genetic form of pontocerebellar hypoplasia (PCH) characterized by neocortical and severe cerebral cortical atrophy associated with pontocerebellar hypoplasia with the pons and cerebellum equally affected. Clinically the disorder manifests at birth with hypotonia, clonus, epilepsy, impaired swallowing and from infancy by progressive microcephaly, spasticity and lactic acidosis.'}}\n",
      "{'s': {'type': 'uri', 'value': 'http://www.orpha.net/consor/cgi-bin/OC_Exp.php?lng=en&Expert=166078'}, 'description': {'type': 'literal', 'value': 'A form of von Willebrand disease (VWD) characterized by a bleeding disorder associated with a partial, quantitative plasmatic deficiency of an otherwise structurally and functionally normal von Willebrand factor (VWF).'}}\n",
      "{'s': {'type': 'uri', 'value': 'http://www.orpha.net/consor/cgi-bin/OC_Exp.php?lng=en&Expert=166084'}, 'description': {'type': 'literal', 'value': 'A subtype of type 2 von Willebrand disease characterized by a bleeding disorder associated with a decrease in the affinity of the Willebrand factor (VWF) for platelets and the subendothelium caused by a deficiency of high molecular weight VWF multimers. The disease manifests as mucocutaneous bleeding (menorrhagia, epistaxis, gastrointestinal hemorrhage, etc.).'}}\n",
      "{'s': {'type': 'uri', 'value': 'http://www.orpha.net/consor/cgi-bin/OC_Exp.php?lng=en&Expert=206'}, 'description': {'type': 'literal', 'value': ''}}\n",
      "{'s': {'type': 'uri', 'value': 'http://www.orpha.net/consor/cgi-bin/OC_Exp.php?lng=en&Expert=213'}, 'description': {'type': 'literal', 'value': 'A rare lysosomal disease characterized by an accumulation of cystine inside the lysosomes, causing damage in different organs and tissues, particularly in the kidneys and eyes. Three clinical forms have been described: nephropathic infantile, nephropathic juvenile and ocular.'}}\n",
      "{'s': {'type': 'uri', 'value': 'http://www.orpha.net/consor/cgi-bin/OC_Exp.php?lng=en&Expert=333'}, 'description': {'type': 'literal', 'value': 'A subcutaneous tissue disease characterized by a spectrum of clinical signs ranging from the classical triad of painful and progressively deformed joints, subcutaneous nodules, and progressive hoarseness (due to laryngeal involvement) that presents in infancy, to varying phenotypes with respiratory and neurologic involvement.'}}\n",
      "{'s': {'type': 'uri', 'value': 'http://www.orpha.net/consor/cgi-bin/OC_Exp.php?lng=en&Expert=585'}, 'description': {'type': 'literal', 'value': 'Multiple sulfatase deficiency (MSD) is a very rare and fatal lysosomal storage disease characterized by a clinical phenotype that combines the features of different sulfatase deficiencies (whether lysosomal or not) that can have neonatal (most severe), infantile (most common) and juvenile (rare) presentations with manifestations including hypotonia, coarse facial features, mild deafness, skeletal anomalies, ichthyosis, hepatomegaly, developmental delay, progressive neurologic deterioration and hydrocephalus.'}}\n"
     ]
    }
   ],
   "source": [
    "query = \"\"\"\n",
    "PREFIX ns1: <http://schema.org/>\n",
    "SELECT ?s ?description WHERE {\n",
    "    ?s ns1:description ?description .\n",
    "}\n",
    "\"\"\"\n",
    "\n",
    "sparql.setQuery(query)\n",
    "\n",
    "try:\n",
    "    ret = sparql.queryAndConvert()\n",
    "    print(ret)\n",
    "    for r in ret[\"results\"][\"bindings\"]:\n",
    "        print(r)\n",
    "except Exception as e:\n",
    "    print(e)"
   ]
  },
  {
   "cell_type": "code",
   "execution_count": 4,
   "id": "988fa333",
   "metadata": {},
   "outputs": [
    {
     "name": "stdout",
     "output_type": "stream",
     "text": [
      "{'head': {'vars': ['entity']}, 'results': {'bindings': [{'entity': {'type': 'uri', 'value': 'http://www.orpha.net/consor/cgi-bin/OC_Exp.php?lng=en&Expert=118'}}, {'entity': {'type': 'uri', 'value': 'http://www.orpha.net/consor/cgi-bin/OC_Exp.php?lng=en&Expert=141'}}, {'entity': {'type': 'uri', 'value': 'http://www.orpha.net/consor/cgi-bin/OC_Exp.php?lng=en&Expert=166029'}}, {'entity': {'type': 'uri', 'value': 'http://www.orpha.net/consor/cgi-bin/OC_Exp.php?lng=en&Expert=166032'}}, {'entity': {'type': 'uri', 'value': 'http://www.orpha.net/consor/cgi-bin/OC_Exp.php?lng=en&Expert=166035'}}, {'entity': {'type': 'uri', 'value': 'http://www.orpha.net/consor/cgi-bin/OC_Exp.php?lng=en&Expert=166038'}}, {'entity': {'type': 'uri', 'value': 'http://www.orpha.net/consor/cgi-bin/OC_Exp.php?lng=en&Expert=166063'}}, {'entity': {'type': 'uri', 'value': 'http://www.orpha.net/consor/cgi-bin/OC_Exp.php?lng=en&Expert=166068'}}, {'entity': {'type': 'uri', 'value': 'http://www.orpha.net/consor/cgi-bin/OC_Exp.php?lng=en&Expert=166073'}}, {'entity': {'type': 'uri', 'value': 'http://www.orpha.net/consor/cgi-bin/OC_Exp.php?lng=en&Expert=166078'}}, {'entity': {'type': 'uri', 'value': 'http://www.orpha.net/consor/cgi-bin/OC_Exp.php?lng=en&Expert=166084'}}, {'entity': {'type': 'uri', 'value': 'http://www.orpha.net/consor/cgi-bin/OC_Exp.php?lng=en&Expert=206'}}, {'entity': {'type': 'uri', 'value': 'http://www.orpha.net/consor/cgi-bin/OC_Exp.php?lng=en&Expert=213'}}, {'entity': {'type': 'uri', 'value': 'http://www.orpha.net/consor/cgi-bin/OC_Exp.php?lng=en&Expert=333'}}, {'entity': {'type': 'uri', 'value': 'http://www.orpha.net/consor/cgi-bin/OC_Exp.php?lng=en&Expert=585'}}, {'entity': {'type': 'uri', 'value': 'http://www.orpha.net/consor/cgi-bin/OC_Exp.php?lng=en&Expert=61'}}, {'entity': {'type': 'uri', 'value': 'http://www.orpha.net/consor/cgi-bin/OC_Exp.php?lng=en&Expert=93'}}]}}\n",
      "{'entity': {'type': 'uri', 'value': 'http://www.orpha.net/consor/cgi-bin/OC_Exp.php?lng=en&Expert=118'}}\n",
      "{'entity': {'type': 'uri', 'value': 'http://www.orpha.net/consor/cgi-bin/OC_Exp.php?lng=en&Expert=141'}}\n",
      "{'entity': {'type': 'uri', 'value': 'http://www.orpha.net/consor/cgi-bin/OC_Exp.php?lng=en&Expert=166029'}}\n",
      "{'entity': {'type': 'uri', 'value': 'http://www.orpha.net/consor/cgi-bin/OC_Exp.php?lng=en&Expert=166032'}}\n",
      "{'entity': {'type': 'uri', 'value': 'http://www.orpha.net/consor/cgi-bin/OC_Exp.php?lng=en&Expert=166035'}}\n",
      "{'entity': {'type': 'uri', 'value': 'http://www.orpha.net/consor/cgi-bin/OC_Exp.php?lng=en&Expert=166038'}}\n",
      "{'entity': {'type': 'uri', 'value': 'http://www.orpha.net/consor/cgi-bin/OC_Exp.php?lng=en&Expert=166063'}}\n",
      "{'entity': {'type': 'uri', 'value': 'http://www.orpha.net/consor/cgi-bin/OC_Exp.php?lng=en&Expert=166068'}}\n",
      "{'entity': {'type': 'uri', 'value': 'http://www.orpha.net/consor/cgi-bin/OC_Exp.php?lng=en&Expert=166073'}}\n",
      "{'entity': {'type': 'uri', 'value': 'http://www.orpha.net/consor/cgi-bin/OC_Exp.php?lng=en&Expert=166078'}}\n",
      "{'entity': {'type': 'uri', 'value': 'http://www.orpha.net/consor/cgi-bin/OC_Exp.php?lng=en&Expert=166084'}}\n",
      "{'entity': {'type': 'uri', 'value': 'http://www.orpha.net/consor/cgi-bin/OC_Exp.php?lng=en&Expert=206'}}\n",
      "{'entity': {'type': 'uri', 'value': 'http://www.orpha.net/consor/cgi-bin/OC_Exp.php?lng=en&Expert=213'}}\n",
      "{'entity': {'type': 'uri', 'value': 'http://www.orpha.net/consor/cgi-bin/OC_Exp.php?lng=en&Expert=333'}}\n",
      "{'entity': {'type': 'uri', 'value': 'http://www.orpha.net/consor/cgi-bin/OC_Exp.php?lng=en&Expert=585'}}\n",
      "{'entity': {'type': 'uri', 'value': 'http://www.orpha.net/consor/cgi-bin/OC_Exp.php?lng=en&Expert=61'}}\n",
      "{'entity': {'type': 'uri', 'value': 'http://www.orpha.net/consor/cgi-bin/OC_Exp.php?lng=en&Expert=93'}}\n"
     ]
    }
   ],
   "source": [
    "query = \"\"\"\n",
    "PREFIX ns1: <http://schema.org/>\n",
    "SELECT DISTINCT ?entity WHERE {\n",
    "?entity a ns1:MedicalCondition .\n",
    "}\n",
    "ORDER BY ?entity\n",
    "\"\"\"\n",
    "\n",
    "sparql.setQuery(query)\n",
    "\n",
    "try:\n",
    "    ret = sparql.queryAndConvert()\n",
    "    print(ret)\n",
    "    for r in ret[\"results\"][\"bindings\"]:\n",
    "        print(r)\n",
    "except Exception as e:\n",
    "    print(e)"
   ]
  },
  {
   "cell_type": "code",
   "execution_count": 10,
   "id": "cb9a95e1",
   "metadata": {},
   "outputs": [
    {
     "name": "stdout",
     "output_type": "stream",
     "text": [
      "{'head': {'vars': ['entity', 'des']}, 'results': {'bindings': [{'entity': {'type': 'uri', 'value': 'http://www.orpha.net/consor/cgi-bin/OC_Exp.php?lng=en&Expert=118'}, 'des': {'type': 'literal', 'value': 'Beta-mannosidosis is a very rare lysosomal storage disease characterized by developmental delay of varying severity and hearing loss, but that can manifest a wide phenotypic heterogeneity.'}}]}}\n",
      "{'entity': {'type': 'uri', 'value': 'http://www.orpha.net/consor/cgi-bin/OC_Exp.php?lng=en&Expert=118'}, 'des': {'type': 'literal', 'value': 'Beta-mannosidosis is a very rare lysosomal storage disease characterized by developmental delay of varying severity and hearing loss, but that can manifest a wide phenotypic heterogeneity.'}}\n"
     ]
    }
   ],
   "source": [
    "query = \"\"\"\n",
    "PREFIX ns1: <http://schema.org/>\n",
    "SELECT DISTINCT ?entity ?des WHERE {\n",
    "    ?entity ns1:identifier \"118\" .\n",
    "    ?entity ns1:description ?des    \n",
    "}\n",
    "ORDER BY ?entity\n",
    "\"\"\"\n",
    "\n",
    "sparql.setQuery(query)\n",
    "\n",
    "try:\n",
    "    ret = sparql.queryAndConvert()\n",
    "    print(ret)\n",
    "    for r in ret[\"results\"][\"bindings\"]:\n",
    "        print(r)\n",
    "except Exception as e:\n",
    "    print(e)"
   ]
  },
  {
   "cell_type": "code",
   "execution_count": 34,
   "id": "46d55f94",
   "metadata": {},
   "outputs": [
    {
     "name": "stdout",
     "output_type": "stream",
     "text": [
      "dict_keys(['head', 'results'])\n",
      "********** Used properties **********\n"
     ]
    },
    {
     "ename": "TypeError",
     "evalue": "list indices must be integers or slices, not str",
     "output_type": "error",
     "traceback": [
      "\u001b[0;31m---------------------------------------------------------------------------\u001b[0m",
      "\u001b[0;31mTypeError\u001b[0m                                 Traceback (most recent call last)",
      "Input \u001b[0;32mIn [34]\u001b[0m, in \u001b[0;36m<cell line: 46>\u001b[0;34m()\u001b[0m\n\u001b[1;32m     43\u001b[0m \u001b[38;5;28mprint\u001b[39m(res\u001b[38;5;241m.\u001b[39mkeys())\n\u001b[1;32m     44\u001b[0m \u001b[38;5;28mprint\u001b[39m(\u001b[38;5;124m\"\u001b[39m\u001b[38;5;124m********** Used properties **********\u001b[39m\u001b[38;5;124m\"\u001b[39m)\n\u001b[0;32m---> 46\u001b[0m df \u001b[38;5;241m=\u001b[39m \u001b[43mget_dataframe_from_query_results\u001b[49m\u001b[43m(\u001b[49m\u001b[43mres\u001b[49m\u001b[43m)\u001b[49m\n\u001b[1;32m     48\u001b[0m df\n",
      "Input \u001b[0;32mIn [34]\u001b[0m, in \u001b[0;36mget_dataframe_from_query_results\u001b[0;34m(res)\u001b[0m\n\u001b[1;32m     26\u001b[0m \u001b[38;5;28;01mdef\u001b[39;00m \u001b[38;5;21mget_dataframe_from_query_results\u001b[39m(res):    \n\u001b[1;32m     27\u001b[0m     \u001b[38;5;66;03m#return pd.DataFrame(res['results']['bindings'],columns=['entity','des'])\u001b[39;00m\n\u001b[0;32m---> 28\u001b[0m     pd\u001b[38;5;241m.\u001b[39mDataFrame(\u001b[43mres\u001b[49m\u001b[43m[\u001b[49m\u001b[38;5;124;43m'\u001b[39;49m\u001b[38;5;124;43mresults\u001b[39;49m\u001b[38;5;124;43m'\u001b[39;49m\u001b[43m]\u001b[49m\u001b[43m[\u001b[49m\u001b[38;5;124;43m'\u001b[39;49m\u001b[38;5;124;43mbindings\u001b[39;49m\u001b[38;5;124;43m'\u001b[39;49m\u001b[43m]\u001b[49m\u001b[43m[\u001b[49m\u001b[38;5;124;43m'\u001b[39;49m\u001b[38;5;124;43mentity\u001b[39;49m\u001b[38;5;124;43m'\u001b[39;49m\u001b[43m]\u001b[49m,columns\u001b[38;5;241m=\u001b[39m[\u001b[38;5;124m'\u001b[39m\u001b[38;5;124mtype\u001b[39m\u001b[38;5;124m'\u001b[39m,\u001b[38;5;124m'\u001b[39m\u001b[38;5;124mvalue\u001b[39m\u001b[38;5;124m'\u001b[39m])\n",
      "\u001b[0;31mTypeError\u001b[0m: list indices must be integers or slices, not str"
     ]
    }
   ],
   "source": [
    "import sys\n",
    "parentdir = \"..\"\n",
    "sys.path.insert(0, parentdir)\n",
    "\n",
    "import requests\n",
    "import os\n",
    "import datetime\n",
    "#from os import path\n",
    "from tqdm.notebook import tqdm\n",
    "import pandas as pd\n",
    "import time\n",
    "from rdflib import Graph\n",
    "from xml.dom import minidom\n",
    "from rdflib import ConjunctiveGraph, Namespace, URIRef\n",
    "from rdflib.namespace import RDF, RDFS\n",
    "\n",
    "import random\n",
    "import matplotlib.pyplot as plt\n",
    "\n",
    "from SPARQLWrapper import SPARQLWrapper, JSON\n",
    "\n",
    "from rdflib import Graph, URIRef\n",
    "from rdflib.namespace import RDFS, SKOS\n",
    "\n",
    "\n",
    "def get_dataframe_from_query_results(res):    \n",
    "    #return pd.DataFrame(res['results']['bindings'],columns=['entity','des'])\n",
    "    pd.DataFrame(res['results']['bindings'],columns=['type','value'])\n",
    "\n",
    "\n",
    "query = \"\"\"\n",
    "PREFIX ns1: <http://schema.org/>\n",
    "SELECT DISTINCT ?entity ?des WHERE {\n",
    "    ?entity ns1:identifier \"118\" .\n",
    "    ?entity ns1:description ?des    \n",
    "}\n",
    "ORDER BY ?entity\n",
    "\"\"\"\n",
    "\n",
    "\n",
    "\n",
    "res = sparql.queryAndConvert()\n",
    "print(res.keys())\n",
    "print(\"********** Used properties **********\")\n",
    "\n",
    "df = get_dataframe_from_query_results(res)\n",
    "\n",
    "df"
   ]
  }
 ],
 "metadata": {
  "kernelspec": {
   "display_name": "Python 3.8.9 64-bit",
   "language": "python",
   "name": "python3"
  },
  "language_info": {
   "codemirror_mode": {
    "name": "ipython",
    "version": 3
   },
   "file_extension": ".py",
   "mimetype": "text/x-python",
   "name": "python",
   "nbconvert_exporter": "python",
   "pygments_lexer": "ipython3",
   "version": "3.8.9"
  },
  "vscode": {
   "interpreter": {
    "hash": "31f2aee4e71d21fbe5cf8b01ff0e069b9275f58929596ceb00d14d90e3e16cd6"
   }
  }
 },
 "nbformat": 4,
 "nbformat_minor": 5
}
