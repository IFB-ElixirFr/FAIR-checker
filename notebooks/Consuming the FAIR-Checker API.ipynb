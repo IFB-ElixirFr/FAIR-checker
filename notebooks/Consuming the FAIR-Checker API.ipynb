{
 "cells": [
  {
   "cell_type": "markdown",
   "id": "99899ebb",
   "metadata": {},
   "source": [
    "# Aim of this notebook\n",
    "The goal of this note book is to automate the FAIR assesment of mutliple online resources through the [FAIR-Checker tool](https://fair-checker.france-bioinformatique.fr). \n",
    "All resulst are stored in a matrix and serialized into a CSV file. Scores can be interpreted as follows: \n",
    " - 0 -> `failure`\n",
    " - 1 -> `weak` assesment\n",
    " - 2 -> `strong` assesment\n",
    "\n",
    "To run this notebook you just need the `requests` and `pandas` python libraries. \n",
    "\n",
    "The FAIR-Checker API is better described at https://fair-checker.france-bioinformatique.fr/swagger \n",
    "\n",
    "Please report any issue at https://github.com/IFB-ElixirFr/fair-checker/issues or contact alban.gaignard@univ-nantes.fr. "
   ]
  },
  {
   "cell_type": "code",
   "execution_count": 1,
   "id": "3bd58e06",
   "metadata": {},
   "outputs": [],
   "source": [
    "import time\n",
    "import requests\n",
    "import pandas as pd"
   ]
  },
  {
   "cell_type": "markdown",
   "id": "24eaeb32",
   "metadata": {},
   "source": [
    "## Input dataset"
   ]
  },
  {
   "cell_type": "code",
   "execution_count": 2,
   "id": "15863e6a",
   "metadata": {},
   "outputs": [],
   "source": [
    "urls = [\"http://bio.tools/bwa\",\n",
    "        \"https://workflowhub.eu/workflows/447\",\n",
    "        \"https://dataverse.harvard.edu/dataset.xhtml?persistentId=doi:10.7910/DVN/HYPW4B\", \n",
    "        \"https://tess.elixir-europe.org/materials/discover-drug-targets-with-europe-pmc-machine-learning-dataset-and-open-targets\", \n",
    "       ]"
   ]
  },
  {
   "cell_type": "code",
   "execution_count": 3,
   "id": "318d68af",
   "metadata": {},
   "outputs": [],
   "source": [
    "FC_all_metrics_url = \"https://fair-checker.france-bioinformatique.fr/api/check/metrics_all\""
   ]
  },
  {
   "cell_type": "markdown",
   "id": "06eb9472",
   "metadata": {},
   "source": [
    "## FAIR assesment over all inputs "
   ]
  },
  {
   "cell_type": "code",
   "execution_count": 4,
   "id": "548d9f83",
   "metadata": {},
   "outputs": [
    {
     "name": "stdout",
     "output_type": "stream",
     "text": [
      "{'URL': 'http://bio.tools/bwa', 'F1A': 2, 'F1B': 0, 'F2A': 0, 'F2B': 0, 'A1.1': 2, 'I1': 0, 'I2': 0, 'I3': 0, 'R1.1': 0, 'R1.2': 0, 'R1.3': 0, 'duration (s)': 3.7}\n",
      "{'URL': 'https://workflowhub.eu/workflows/447', 'F1A': 2, 'F1B': 0, 'F2A': 0, 'F2B': 0, 'A1.1': 2, 'I1': 0, 'I2': 0, 'I3': 0, 'R1.1': 0, 'R1.2': 0, 'R1.3': 0, 'duration (s)': 6.05}\n",
      "{'URL': 'https://dataverse.harvard.edu/dataset.xhtml?persistentId=doi:10.7910/DVN/HYPW4B', 'F1A': 2, 'F1B': 0, 'F2A': 2, 'F2B': 2, 'A1.1': 2, 'I1': 2, 'I2': 2, 'I3': 0, 'R1.1': 0, 'R1.2': 0, 'R1.3': 2, 'duration (s)': 11.35}\n",
      "{'URL': 'https://tess.elixir-europe.org/materials/discover-drug-targets-with-europe-pmc-machine-learning-dataset-and-open-targets', 'F1A': 2, 'F1B': 0, 'F2A': 2, 'F2B': 1, 'A1.1': 2, 'I1': 2, 'I2': 1, 'I3': 2, 'R1.1': 2, 'R1.2': 0, 'R1.3': 1, 'duration (s)': 5.0}\n"
     ]
    }
   ],
   "source": [
    "df = pd.DataFrame()\n",
    "rows = []\n",
    "for u in urls:\n",
    "    # call to the FC API\n",
    "    start = time.time()\n",
    "    res = requests.get(url=FC_all_metrics_url, params={\"url\": u})\n",
    "    eval_in_sec = time.time() - start\n",
    "    \n",
    "    evaluations = res.json()\n",
    "    row = {\"URL\": u}    \n",
    "    # iterating over all evaluation results\n",
    "    for e in evaluations:\n",
    "        row[e[\"metric\"]] = int(e[\"score\"])\n",
    "    row[\"duration (s)\"] = round(eval_in_sec, 2)\n",
    "    print(row)\n",
    "    rows.append(row)"
   ]
  },
  {
   "cell_type": "markdown",
   "id": "639c736f",
   "metadata": {},
   "source": [
    "## Evaluation matrix"
   ]
  },
  {
   "cell_type": "code",
   "execution_count": 7,
   "id": "35cee346",
   "metadata": {},
   "outputs": [
    {
     "data": {
      "text/markdown": [
       "|    | URL                                                                                                                      |   F1A |   F1B |   F2A |   F2B |   A1.1 |   I1 |   I2 |   I3 |   R1.1 |   R1.2 |   R1.3 |   duration (s) |\n",
       "|---:|:-------------------------------------------------------------------------------------------------------------------------|------:|------:|------:|------:|-------:|-----:|-----:|-----:|-------:|-------:|-------:|---------------:|\n",
       "|  0 | http://bio.tools/bwa                                                                                                     |     2 |     0 |     0 |     0 |      2 |    0 |    0 |    0 |      0 |      0 |      0 |           3.7  |\n",
       "|  1 | https://workflowhub.eu/workflows/447                                                                                     |     2 |     0 |     0 |     0 |      2 |    0 |    0 |    0 |      0 |      0 |      0 |           6.05 |\n",
       "|  2 | https://dataverse.harvard.edu/dataset.xhtml?persistentId=doi:10.7910/DVN/HYPW4B                                          |     2 |     0 |     2 |     2 |      2 |    2 |    2 |    0 |      0 |      0 |      2 |          11.35 |\n",
       "|  3 | https://tess.elixir-europe.org/materials/discover-drug-targets-with-europe-pmc-machine-learning-dataset-and-open-targets |     2 |     0 |     2 |     1 |      2 |    2 |    1 |    2 |      2 |      0 |      1 |           5    |"
      ],
      "text/plain": [
       "<IPython.core.display.Markdown object>"
      ]
     },
     "metadata": {},
     "output_type": "display_data"
    }
   ],
   "source": [
    "from IPython.display import display, Markdown\n",
    "df = pd.DataFrame.from_records(rows)\n",
    "md = df.to_markdown()\n",
    "display(Markdown(md))"
   ]
  },
  {
   "cell_type": "code",
   "execution_count": null,
   "id": "1acf3009",
   "metadata": {},
   "outputs": [],
   "source": []
  },
  {
   "cell_type": "code",
   "execution_count": 8,
   "id": "da932184",
   "metadata": {},
   "outputs": [],
   "source": [
    "df.to_csv(\"fc_evals.csv\")"
   ]
  },
  {
   "cell_type": "code",
   "execution_count": 9,
   "id": "1fed11f7",
   "metadata": {},
   "outputs": [
    {
     "data": {
      "image/png": "[encoded data removed]",
      "text/plain": [
       "<Figure size 432x288 with 1 Axes>"
      ]
     },
     "metadata": {
      "needs_background": "light"
     },
     "output_type": "display_data"
    }
   ],
   "source": [
    "plot = df.boxplot(grid=False, rot=45, fontsize=15)"
   ]
  },
  {
   "cell_type": "code",
   "execution_count": null,
   "id": "d0ef1e02",
   "metadata": {},
   "outputs": [],
   "source": []
  },
  {
   "cell_type": "code",
   "execution_count": 20,
   "id": "704be8fe",
   "metadata": {},
   "outputs": [],
   "source": [
    "import time"
   ]
  },
  {
   "cell_type": "code",
   "execution_count": 21,
   "id": "3a3b9823",
   "metadata": {},
   "outputs": [
    {
     "data": {
      "text/plain": [
       "1681293439.506135"
      ]
     },
     "execution_count": 21,
     "metadata": {},
     "output_type": "execute_result"
    }
   ],
   "source": [
    "start = time.time()\n",
    "start"
   ]
  },
  {
   "cell_type": "code",
   "execution_count": 22,
   "id": "e573e62a",
   "metadata": {},
   "outputs": [
    {
     "data": {
      "text/plain": [
       "1681293453.615061"
      ]
     },
     "execution_count": 22,
     "metadata": {},
     "output_type": "execute_result"
    }
   ],
   "source": [
    "now = time.time()\n",
    "now"
   ]
  },
  {
   "cell_type": "code",
   "execution_count": 23,
   "id": "a6dd6552",
   "metadata": {},
   "outputs": [
    {
     "data": {
      "text/plain": [
       "14.108926057815552"
      ]
     },
     "execution_count": 23,
     "metadata": {},
     "output_type": "execute_result"
    }
   ],
   "source": [
    "delta = now - start\n",
    "delta"
   ]
  },
  {
   "cell_type": "code",
   "execution_count": 25,
   "id": "8d3b860a",
   "metadata": {},
   "outputs": [
    {
     "data": {
      "text/plain": [
       "float"
      ]
     },
     "execution_count": 25,
     "metadata": {},
     "output_type": "execute_result"
    }
   ],
   "source": [
    "type(delta)"
   ]
  },
  {
   "cell_type": "code",
   "execution_count": null,
   "id": "e5030eed",
   "metadata": {},
   "outputs": [],
   "source": []
  }
 ],
 "metadata": {
  "kernelspec": {
   "display_name": "Python 3 (ipykernel)",
   "language": "python",
   "name": "python3"
  },
  "language_info": {
   "codemirror_mode": {
    "name": "ipython",
    "version": 3
   },
   "file_extension": ".py",
   "mimetype": "text/x-python",
   "name": "python",
   "nbconvert_exporter": "python",
   "pygments_lexer": "ipython3",
   "version": "3.9.10"
  }
 },
 "nbformat": 4,
 "nbformat_minor": 5
}
