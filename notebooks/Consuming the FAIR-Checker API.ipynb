{
 "cells": [
  {
   "cell_type": "markdown",
   "id": "99899ebb",
   "metadata": {},
   "source": [
    "# Aim of this notebook\n",
    "The goal of this note book is to automate the FAIR assesment of mutliple online resources through the [FAIR-Checker tool](https://fair-checker.france-bioinformatique.fr). \n",
    "All resulst are stored in a matrix and serialized into a CSV file. Scores can be interpreted as follows: \n",
    " - 0 -> `failure`\n",
    " - 1 -> `weak` assesment\n",
    " - 2 -> `strong` assesment\n",
    "\n",
    "To run this notebook you just need the `requests` and `pandas` python libraries. \n",
    "\n",
    "The FAIR-Checker API is better described at https://fair-checker.france-bioinformatique.fr/swagger \n",
    "\n",
    "Please report any issue at https://github.com/IFB-ElixirFr/fair-checker/issues or contact alban.gaignard@univ-nantes.fr. "
   ]
  },
  {
   "cell_type": "code",
   "execution_count": 1,
   "id": "3bd58e06",
   "metadata": {},
   "outputs": [],
   "source": [
    "import requests\n",
    "import pandas as pd"
   ]
  },
  {
   "cell_type": "markdown",
   "id": "24eaeb32",
   "metadata": {},
   "source": [
    "## Input dataset"
   ]
  },
  {
   "cell_type": "code",
   "execution_count": 2,
   "id": "15863e6a",
   "metadata": {},
   "outputs": [],
   "source": [
    "urls = [\"http://bio.tools/bwa\",\n",
    "        \"https://workflowhub.eu/workflows/447\",\n",
    "        \"https://dataverse.harvard.edu/dataset.xhtml?persistentId=doi:10.7910/DVN/HYPW4B\", \n",
    "        \"https://tess.elixir-europe.org/materials/discover-drug-targets-with-europe-pmc-machine-learning-dataset-and-open-targets\"\n",
    "       ]"
   ]
  },
  {
   "cell_type": "code",
   "execution_count": 3,
   "id": "318d68af",
   "metadata": {},
   "outputs": [],
   "source": [
    "FC_all_metrics_url = \"https://fair-checker.france-bioinformatique.fr/api/check/metrics_all\""
   ]
  },
  {
   "cell_type": "markdown",
   "id": "06eb9472",
   "metadata": {},
   "source": [
    "## FAIR assesment over all inputs "
   ]
  },
  {
   "cell_type": "code",
   "execution_count": 4,
   "id": "548d9f83",
   "metadata": {},
   "outputs": [
    {
     "name": "stdout",
     "output_type": "stream",
     "text": [
      "{'URL': 'http://bio.tools/bwa', 'F1A': 2, 'F1B': 2, 'F2A': 2, 'F2B': 1, 'A1.1': 2, 'I1': 2, 'I2': 1, 'I3': 2, 'R1.1': 0, 'R1.2': 0, 'R1.3': 1}\n",
      "{'URL': 'https://workflowhub.eu/workflows/447', 'F1A': 2, 'F1B': 2, 'F2A': 2, 'F2B': 1, 'A1.1': 2, 'I1': 2, 'I2': 1, 'I3': 2, 'R1.1': 2, 'R1.2': 0, 'R1.3': 1}\n",
      "{'URL': 'https://dataverse.harvard.edu/dataset.xhtml?persistentId=doi:10.7910/DVN/HYPW4B', 'F1A': 2, 'F1B': 2, 'F2A': 2, 'F2B': 2, 'A1.1': 2, 'I1': 2, 'I2': 2, 'I3': 2, 'R1.1': 2, 'R1.2': 0, 'R1.3': 2}\n",
      "{'URL': 'https://tess.elixir-europe.org/materials/discover-drug-targets-with-europe-pmc-machine-learning-dataset-and-open-targets', 'F1A': 2, 'F1B': 0, 'F2A': 2, 'F2B': 1, 'A1.1': 2, 'I1': 2, 'I2': 1, 'I3': 2, 'R1.1': 2, 'R1.2': 0, 'R1.3': 1}\n"
     ]
    }
   ],
   "source": [
    "df = pd.DataFrame()\n",
    "rows = []\n",
    "for u in urls:\n",
    "    # call to the FC API\n",
    "    res = requests.get(url=FC_all_metrics_url, params={\"url\": u})\n",
    "    evaluations = res.json()\n",
    "    row = {\"URL\": u}    \n",
    "    # iterating over all evaluation results\n",
    "    for e in evaluations:\n",
    "        row[e[\"metric\"]] = int(e[\"score\"])\n",
    "    print(row)\n",
    "    rows.append(row)"
   ]
  },
  {
   "cell_type": "markdown",
   "id": "639c736f",
   "metadata": {},
   "source": [
    "## Evaluation matrix"
   ]
  },
  {
   "cell_type": "code",
   "execution_count": 5,
   "id": "35cee346",
   "metadata": {},
   "outputs": [
    {
     "data": {
      "text/html": [
       "<div>\n",
       "<style scoped>\n",
       "    .dataframe tbody tr th:only-of-type {\n",
       "        vertical-align: middle;\n",
       "    }\n",
       "\n",
       "    .dataframe tbody tr th {\n",
       "        vertical-align: top;\n",
       "    }\n",
       "\n",
       "    .dataframe thead th {\n",
       "        text-align: right;\n",
       "    }\n",
       "</style>\n",
       "<table border=\"1\" class=\"dataframe\">\n",
       "  <thead>\n",
       "    <tr style=\"text-align: right;\">\n",
       "      <th></th>\n",
       "      <th>URL</th>\n",
       "      <th>F1A</th>\n",
       "      <th>F1B</th>\n",
       "      <th>F2A</th>\n",
       "      <th>F2B</th>\n",
       "      <th>A1.1</th>\n",
       "      <th>I1</th>\n",
       "      <th>I2</th>\n",
       "      <th>I3</th>\n",
       "      <th>R1.1</th>\n",
       "      <th>R1.2</th>\n",
       "      <th>R1.3</th>\n",
       "    </tr>\n",
       "  </thead>\n",
       "  <tbody>\n",
       "    <tr>\n",
       "      <th>0</th>\n",
       "      <td>http://bio.tools/bwa</td>\n",
       "      <td>2</td>\n",
       "      <td>2</td>\n",
       "      <td>2</td>\n",
       "      <td>1</td>\n",
       "      <td>2</td>\n",
       "      <td>2</td>\n",
       "      <td>1</td>\n",
       "      <td>2</td>\n",
       "      <td>0</td>\n",
       "      <td>0</td>\n",
       "      <td>1</td>\n",
       "    </tr>\n",
       "    <tr>\n",
       "      <th>1</th>\n",
       "      <td>https://workflowhub.eu/workflows/447</td>\n",
       "      <td>2</td>\n",
       "      <td>2</td>\n",
       "      <td>2</td>\n",
       "      <td>1</td>\n",
       "      <td>2</td>\n",
       "      <td>2</td>\n",
       "      <td>1</td>\n",
       "      <td>2</td>\n",
       "      <td>2</td>\n",
       "      <td>0</td>\n",
       "      <td>1</td>\n",
       "    </tr>\n",
       "    <tr>\n",
       "      <th>2</th>\n",
       "      <td>https://dataverse.harvard.edu/dataset.xhtml?pe...</td>\n",
       "      <td>2</td>\n",
       "      <td>2</td>\n",
       "      <td>2</td>\n",
       "      <td>2</td>\n",
       "      <td>2</td>\n",
       "      <td>2</td>\n",
       "      <td>2</td>\n",
       "      <td>2</td>\n",
       "      <td>2</td>\n",
       "      <td>0</td>\n",
       "      <td>2</td>\n",
       "    </tr>\n",
       "    <tr>\n",
       "      <th>3</th>\n",
       "      <td>https://tess.elixir-europe.org/materials/disco...</td>\n",
       "      <td>2</td>\n",
       "      <td>0</td>\n",
       "      <td>2</td>\n",
       "      <td>1</td>\n",
       "      <td>2</td>\n",
       "      <td>2</td>\n",
       "      <td>1</td>\n",
       "      <td>2</td>\n",
       "      <td>2</td>\n",
       "      <td>0</td>\n",
       "      <td>1</td>\n",
       "    </tr>\n",
       "  </tbody>\n",
       "</table>\n",
       "</div>"
      ],
      "text/plain": [
       "                                                 URL  F1A  F1B  F2A  F2B  \\\n",
       "0                               http://bio.tools/bwa    2    2    2    1   \n",
       "1               https://workflowhub.eu/workflows/447    2    2    2    1   \n",
       "2  https://dataverse.harvard.edu/dataset.xhtml?pe...    2    2    2    2   \n",
       "3  https://tess.elixir-europe.org/materials/disco...    2    0    2    1   \n",
       "\n",
       "   A1.1  I1  I2  I3  R1.1  R1.2  R1.3  \n",
       "0     2   2   1   2     0     0     1  \n",
       "1     2   2   1   2     2     0     1  \n",
       "2     2   2   2   2     2     0     2  \n",
       "3     2   2   1   2     2     0     1  "
      ]
     },
     "execution_count": 5,
     "metadata": {},
     "output_type": "execute_result"
    }
   ],
   "source": [
    "df = pd.DataFrame.from_records(rows)\n",
    "df"
   ]
  },
  {
   "cell_type": "code",
   "execution_count": 6,
   "id": "da932184",
   "metadata": {},
   "outputs": [],
   "source": [
    "df.to_csv(\"fc_evals.csv\")"
   ]
  },
  {
   "cell_type": "code",
   "execution_count": 7,
   "id": "1fed11f7",
   "metadata": {},
   "outputs": [
    {
     "data": {
      "image/png": "[encoded data removed]",
      "text/plain": [
       "<Figure size 432x288 with 1 Axes>"
      ]
     },
     "metadata": {
      "needs_background": "light"
     },
     "output_type": "display_data"
    }
   ],
   "source": [
    "plot = df.boxplot(grid=False, rot=45, fontsize=15)"
   ]
  },
  {
   "cell_type": "code",
   "execution_count": null,
   "id": "d0ef1e02",
   "metadata": {},
   "outputs": [],
   "source": []
  }
 ],
 "metadata": {
  "kernelspec": {
   "display_name": "Python 3 (ipykernel)",
   "language": "python",
   "name": "python3"
  },
  "language_info": {
   "codemirror_mode": {
    "name": "ipython",
    "version": 3
   },
   "file_extension": ".py",
   "mimetype": "text/x-python",
   "name": "python",
   "nbconvert_exporter": "python",
   "pygments_lexer": "ipython3",
   "version": "3.9.10"
  }
 },
 "nbformat": 4,
 "nbformat_minor": 5
}
