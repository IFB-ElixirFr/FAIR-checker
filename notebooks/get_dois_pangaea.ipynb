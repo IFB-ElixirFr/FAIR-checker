{
 "cells": [
  {
   "cell_type": "code",
   "execution_count": null,
   "id": "2c43eb4d",
   "metadata": {},
   "outputs": [],
   "source": [
    "import requests"
   ]
  },
  {
   "cell_type": "code",
   "execution_count": null,
   "id": "a0e716ec",
   "metadata": {},
   "outputs": [],
   "source": [
    "TIMEOUT = (10, 300)\n",
    "NB = '1000'\n",
    "# NB = '10'\n",
    "OUTPUT_DIR = \"../results/pangaea_data/\"\n",
    "\n",
    "def pangaeaRestRequest():\n",
    "    print(\"REST request to pangaea...\")\n",
    "    # rest request\n",
    "    url = 'https://ws.pangaea.de/es/pangaea/panmd/_search?pretty&size=' + NB\n",
    "    while True:\n",
    "        try:\n",
    "            response = requests.get(url, timeout=TIMEOUT)\n",
    "            break\n",
    "        except SSLError:\n",
    "            time.sleep(5)\n",
    "        except requests.exceptions.Timeout:\n",
    "            time.sleep(5)\n",
    "\n",
    "    return response\n",
    "\n",
    "def pangaeaJsonParser(response):\n",
    "    print(\"Parsing result...\")\n",
    "    json_response = response.json()\n",
    "\n",
    "    dois_list = []\n",
    "    for element in json_response[\"hits\"][\"hits\"]:\n",
    "        if \"URI\" in element[\"_source\"].keys():\n",
    "            doi = element[\"_source\"][\"URI\"]\n",
    "            dois_list.append(doi)\n",
    "            \n",
    "    print(\"Retrieved \" + str(len(dois_list)) + \" DOIs\")\n",
    "    return dois_list"
   ]
  },
  {
   "cell_type": "code",
   "execution_count": null,
   "id": "38ab84c7",
   "metadata": {},
   "outputs": [],
   "source": [
    "response = pangaeaRestRequest()\n",
    "dois_list = pangaeaJsonParser(response)\n",
    "\n",
    "%store dois_list"
   ]
  }
 ],
 "metadata": {
  "kernelspec": {
   "display_name": "Python 3 (ipykernel)",
   "language": "python",
   "name": "python3"
  },
  "language_info": {
   "codemirror_mode": {
    "name": "ipython",
    "version": 3
   },
   "file_extension": ".py",
   "mimetype": "text/x-python",
   "name": "python",
   "nbconvert_exporter": "python",
   "pygments_lexer": "ipython3",
   "version": "3.8.13"
  }
 },
 "nbformat": 4,
 "nbformat_minor": 5
}
