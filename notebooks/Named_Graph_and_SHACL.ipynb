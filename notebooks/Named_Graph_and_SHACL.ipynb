{
 "cells": [
  {
   "cell_type": "code",
   "execution_count": 2,
   "id": "fb417431",
   "metadata": {},
   "outputs": [],
   "source": [
    "from rdflib import ConjunctiveGraph, URIRef, Literal, Namespace, Dataset\n",
    "SCHEMA = Namespace(\"http://schema.org/\")"
   ]
  },
  {
   "cell_type": "markdown",
   "id": "e76ea887",
   "metadata": {},
   "source": [
    "## 1. Creating named graphs from scratch"
   ]
  },
  {
   "cell_type": "code",
   "execution_count": 3,
   "id": "52f3c005",
   "metadata": {},
   "outputs": [
    {
     "data": {
      "text/plain": [
       "<Graph identifier=Ndd784213a5bf4110892a005234894b3b (<class 'rdflib.graph.ConjunctiveGraph'>)>"
      ]
     },
     "execution_count": 3,
     "metadata": {},
     "output_type": "execute_result"
    }
   ],
   "source": [
    "G = ConjunctiveGraph()\n",
    "G.add((URIRef(\"http://test1\"), SCHEMA.name, Literal(\"name1\"), URIRef(\"http://univ-nantes.fr/itx\") ))\n",
    "G.add((URIRef(\"http://test2\"), SCHEMA.name, Literal(\"name2\"), URIRef(\"http://univ-nantes.fr/itx\") ))\n",
    "G.add((URIRef(\"http://test3\"), SCHEMA.name, Literal(\"name3\"), URIRef(\"http://amu.fr/tagc\") ))"
   ]
  },
  {
   "cell_type": "code",
   "execution_count": 4,
   "id": "24348d1b",
   "metadata": {
    "scrolled": true
   },
   "outputs": [
    {
     "name": "stdout",
     "output_type": "stream",
     "text": [
      "@prefix ns1: <http://univ-nantes.fr/> .\n",
      "@prefix ns2: <http://schema.org/> .\n",
      "@prefix ns3: <http://amu.fr/> .\n",
      "\n",
      "ns1:itx {\n",
      "    <http://test1> ns2:name \"name1\" .\n",
      "\n",
      "    <http://test2> ns2:name \"name2\" .\n",
      "}\n",
      "\n",
      "ns3:tagc {\n",
      "    <http://test3> ns2:name \"name3\" .\n",
      "}\n",
      "\n",
      "\n",
      "<http://test1> <http://schema.org/name> \"name1\" <http://univ-nantes.fr/itx> .\n",
      "<http://test2> <http://schema.org/name> \"name2\" <http://univ-nantes.fr/itx> .\n",
      "<http://test3> <http://schema.org/name> \"name3\" <http://amu.fr/tagc> .\n",
      "\n",
      "\n"
     ]
    }
   ],
   "source": [
    "print(G.serialize(format=\"trig\"))\n",
    "print(G.serialize(format=\"nquads\"))"
   ]
  },
  {
   "cell_type": "code",
   "execution_count": 5,
   "id": "904b1fcb",
   "metadata": {},
   "outputs": [
    {
     "name": "stdout",
     "output_type": "stream",
     "text": [
      "@prefix ns2: <http://schema.org/> .\n",
      "\n",
      "<http://test1> ns2:name \"name1\" .\n",
      "\n",
      "<http://test2> ns2:name \"name2\" .\n",
      "\n",
      "<http://test3> ns2:name \"name3\" .\n",
      "\n",
      "\n"
     ]
    }
   ],
   "source": [
    "print(G.serialize(format=\"turtle\"))"
   ]
  },
  {
   "cell_type": "code",
   "execution_count": 6,
   "id": "afafa053",
   "metadata": {},
   "outputs": [
    {
     "name": "stdout",
     "output_type": "stream",
     "text": [
      "@prefix amu: <http://amu/> .\n",
      "@prefix ns1: <urn:x-rdflib:> .\n",
      "@prefix sc: <http://schema.org/> .\n",
      "@prefix unantes: <http://univ-nantes.fr/> .\n",
      "\n",
      "unantes:itx {\n",
      "    <http://test1> sc:name \"name1\" .\n",
      "\n",
      "    <http://test2> sc:name \"name2\" .\n",
      "}\n",
      "\n",
      "amu:tagc {\n",
      "    <http://test3> sc:name \"name3\" .\n",
      "\n",
      "    <http://test4> sc:identifier \"id4\" ;\n",
      "        sc:name \"name4\" .\n",
      "}\n",
      "\n",
      "\n",
      "<http://test1> <http://schema.org/name> \"name1\" <http://univ-nantes.fr/itx> .\n",
      "<http://test2> <http://schema.org/name> \"name2\" <http://univ-nantes.fr/itx> .\n",
      "<http://test4> <http://schema.org/identifier> \"id4\" <http://amu/tagc> .\n",
      "<http://test4> <http://schema.org/name> \"name4\" <http://amu/tagc> .\n",
      "<http://test3> <http://schema.org/name> \"name3\" <http://amu/tagc> .\n",
      "\n",
      "\n"
     ]
    }
   ],
   "source": [
    "G2 = ConjunctiveGraph(identifier=\"http://univ-nantes.fr/itx\")\n",
    "G2.bind(\"sc\", SCHEMA)\n",
    "G2.bind(\"unantes\", Namespace(\"http://univ-nantes.fr/\"))\n",
    "G2.add((URIRef(\"http://test1\"), SCHEMA.name, Literal(\"name1\")))\n",
    "G2.add((URIRef(\"http://test2\"), SCHEMA.name, Literal(\"name2\")))\n",
    "\n",
    "G3 = ConjunctiveGraph(identifier=\"http://amu/tagc\")\n",
    "G3.bind(\"amu\", Namespace(\"http://amu/\"))\n",
    "G3.bind(\"sc\", SCHEMA)\n",
    "G3.add((URIRef(\"http://test3\"), SCHEMA.name, Literal(\"name3\")))\n",
    "G3.add((URIRef(\"http://test4\"), SCHEMA.name, Literal(\"name4\")))\n",
    "G3.add((URIRef(\"http://test4\"), SCHEMA.identifier, Literal(\"id4\")))\n",
    "\n",
    "ds = Dataset()\n",
    "ds.add_graph(G2)\n",
    "ds.add_graph(G3)\n",
    "\n",
    "\n",
    "print(ds.serialize(format=\"trig\"))\n",
    "print(ds.serialize(format=\"nquads\"))"
   ]
  },
  {
   "cell_type": "code",
   "execution_count": null,
   "id": "1806d04d",
   "metadata": {},
   "outputs": [],
   "source": []
  },
  {
   "cell_type": "code",
   "execution_count": null,
   "id": "00e0b0a9",
   "metadata": {},
   "outputs": [],
   "source": []
  },
  {
   "cell_type": "markdown",
   "id": "9f91099b",
   "metadata": {},
   "source": [
    "## 2. Querying named graphs"
   ]
  },
  {
   "cell_type": "code",
   "execution_count": 7,
   "id": "e1d25be2",
   "metadata": {},
   "outputs": [],
   "source": [
    "q1 = \"\"\"\n",
    "PREFIX schema: <http://schema.org/>\n",
    "\n",
    "SELECT * WHERE {\n",
    "    GRAPH ?g {\n",
    "        ?s schema:identifier ?id\n",
    "    }\n",
    "}\n",
    "\"\"\""
   ]
  },
  {
   "cell_type": "code",
   "execution_count": 8,
   "id": "c480325f",
   "metadata": {},
   "outputs": [
    {
     "name": "stdout",
     "output_type": "stream",
     "text": [
      " found ID id4 for resource http://test4 originating from http://amu/tagc\n"
     ]
    }
   ],
   "source": [
    "res = ds.query(q1)\n",
    "for r in res:\n",
    "    print(f\" found ID {r['id']} for resource {r['s']} originating from {r['g']}\")"
   ]
  },
  {
   "cell_type": "code",
   "execution_count": 9,
   "id": "cd4030e2",
   "metadata": {},
   "outputs": [],
   "source": [
    "q2 = \"\"\"\n",
    "PREFIX schema: <http://schema.org/>\n",
    "\n",
    "SELECT * WHERE {\n",
    "    GRAPH ?g {\n",
    "        ?s schema:name ?name\n",
    "    }\n",
    "}\n",
    "\"\"\""
   ]
  },
  {
   "cell_type": "code",
   "execution_count": 10,
   "id": "e67a559e",
   "metadata": {},
   "outputs": [
    {
     "name": "stdout",
     "output_type": "stream",
     "text": [
      " found name name1 for resource http://test1 originating from http://univ-nantes.fr/itx\n",
      " found name name2 for resource http://test2 originating from http://univ-nantes.fr/itx\n",
      " found name name3 for resource http://test3 originating from http://amu/tagc\n",
      " found name name4 for resource http://test4 originating from http://amu/tagc\n"
     ]
    }
   ],
   "source": [
    "res = ds.query(q2)\n",
    "for r in res:\n",
    "    print(f\" found name {r['name']} for resource {r['s']} originating from {r['g']}\")"
   ]
  },
  {
   "cell_type": "code",
   "execution_count": null,
   "id": "f3b46773",
   "metadata": {},
   "outputs": [],
   "source": []
  },
  {
   "cell_type": "markdown",
   "id": "23735ebe",
   "metadata": {},
   "source": [
    "## Validating SHACL shapes on named graphs"
   ]
  },
  {
   "cell_type": "code",
   "execution_count": 41,
   "id": "ef3ace46",
   "metadata": {},
   "outputs": [
    {
     "name": "stdout",
     "output_type": "stream",
     "text": [
      "8\n",
      "<http://test1> <http://www.w3.org/1999/02/22-rdf-syntax-ns#type> <https://schema.org/Person> <http://univ-nantes.fr/itx> .\n",
      "<http://test1> <http://schema.org/name> \"name1\" <http://univ-nantes.fr/itx> .\n",
      "<http://test2> <http://schema.org/name> \"name2\" <http://univ-nantes.fr/itx> .\n",
      "<http://test2> <http://www.w3.org/1999/02/22-rdf-syntax-ns#type> <https://schema.org/Person> <http://univ-nantes.fr/itx> .\n",
      "<http://test4> <http://schema.org/identifier> \"id4\" <http://amu/tagc> .\n",
      "<http://test4> <http://www.w3.org/1999/02/22-rdf-syntax-ns#type> <https://schema.org/Person> <http://amu/tagc> .\n",
      "<http://test3> <http://www.w3.org/1999/02/22-rdf-syntax-ns#type> <https://schema.org/Person> <http://amu/tagc> .\n",
      "<http://test3> <https://schema.org/name> \"name3\" <http://amu/tagc> .\n",
      "\n",
      "\n"
     ]
    }
   ],
   "source": [
    "trig = \"\"\"\n",
    "@prefix rdf: <http://www.w3.org/1999/02/22-rdf-syntax-ns#> .\n",
    "@prefix amu: <http://amu/> .\n",
    "@prefix ns1: <urn:x-rdflib:> .\n",
    "@prefix sc: <http://schema.org/> .\n",
    "@prefix scs: <https://schema.org/> .\n",
    "@prefix unantes: <http://univ-nantes.fr/> .\n",
    "\n",
    "unantes:itx {\n",
    "    <http://test1>  rdf:type scs:Person ;\n",
    "                    sc:name \"name1\" .\n",
    "\n",
    "    <http://test2>  rdf:type scs:Person ; \n",
    "                    sc:name \"name2\" .\n",
    "}\n",
    "\n",
    "amu:tagc {\n",
    "    <http://test3>  rdf:type scs:Person ; \n",
    "                    scs:name \"name3\" .\n",
    "\n",
    "    <http://test4>  rdf:type scs:Person ; \n",
    "                    sc:identifier \"id4\" .\n",
    "}\n",
    "\n",
    "\"\"\"\n",
    "\n",
    "kg = ConjunctiveGraph()\n",
    "kg.parse(data=trig, format=\"trig\")\n",
    "print(len(kg))\n",
    "print(kg.serialize(format=\"nquads\"))"
   ]
  },
  {
   "cell_type": "code",
   "execution_count": 44,
   "id": "c0c0a449",
   "metadata": {},
   "outputs": [
    {
     "name": "stdout",
     "output_type": "stream",
     "text": [
      "11\n",
      "<http://test4> <http://schema.org/identifier> \"id4\" <http://amu/tagc> .\n",
      "<http://test3> <http://www.w3.org/1999/02/22-rdf-syntax-ns#type> <http://schema.org/Person> <http://amu/tagc> .\n",
      "<http://test4> <http://www.w3.org/1999/02/22-rdf-syntax-ns#type> <http://schema.org/Person> <http://amu/tagc> .\n",
      "<http://test3> <http://schema.org/name> \"name3\" <http://amu/tagc> .\n",
      "<http://test5> <http://schema.org/name> \"name5\" <http://urennes/irisa> .\n",
      "<http://test5> <http://www.w3.org/1999/02/22-rdf-syntax-ns#type> <http://schema.org/Person> <http://urennes/irisa> .\n",
      "<http://test4> <http://schema.org/name> \"name5\" <http://urennes/irisa> .\n",
      "<http://test4> <http://www.w3.org/1999/02/22-rdf-syntax-ns#type> <http://schema.org/Person> <http://urennes/irisa> .\n",
      "<http://test2> <http://www.w3.org/1999/02/22-rdf-syntax-ns#type> <http://schema.org/Person> <http://univ-nantes.fr/itx> .\n",
      "<http://test2> <http://schema.org/name> \"name2\" <http://univ-nantes.fr/itx> .\n",
      "<http://test1> <http://schema.org/name> \"name1\" <http://univ-nantes.fr/itx> .\n",
      "<http://test1> <http://www.w3.org/1999/02/22-rdf-syntax-ns#type> <http://schema.org/Person> <http://univ-nantes.fr/itx> .\n",
      "\n",
      "\n"
     ]
    }
   ],
   "source": [
    "trig2 = \"\"\"\n",
    "@prefix rdf: <http://www.w3.org/1999/02/22-rdf-syntax-ns#> .\n",
    "@prefix amu: <http://amu/> .\n",
    "@prefix urennes: <http://urennes/> .\n",
    "@prefix ns1: <urn:x-rdflib:> .\n",
    "@prefix sc: <http://schema.org/> .\n",
    "@prefix unantes: <http://univ-nantes.fr/> .\n",
    "\n",
    "urennes:irisa {\n",
    "    <http://test5>  rdf:type sc:Person ;\n",
    "                    sc:name \"name5\" .\n",
    "}\n",
    "\"\"\"\n",
    "\n",
    "kg.parse(data=trig2, format=\"trig\")\n",
    "print(len(kg))\n",
    "print(kg.serialize(format=\"nquads\"))"
   ]
  },
  {
   "cell_type": "code",
   "execution_count": 13,
   "id": "99cac980",
   "metadata": {},
   "outputs": [
    {
     "name": "stdout",
     "output_type": "stream",
     "text": [
      "<class 'rdflib.graph.Graph'>\n",
      "http://test4, http://www.w3.org/1999/02/22-rdf-syntax-ns#type, http://schema.org/Person, http://amu/tagc\n",
      "<class 'rdflib.graph.Graph'>\n",
      "http://test2, http://www.w3.org/1999/02/22-rdf-syntax-ns#type, http://schema.org/Person, http://univ-nantes.fr/itx\n",
      "<class 'rdflib.graph.Graph'>\n",
      "http://test1, http://schema.org/name, name1, http://univ-nantes.fr/itx\n",
      "<class 'rdflib.graph.Graph'>\n",
      "http://test2, http://schema.org/name, name2, http://univ-nantes.fr/itx\n",
      "<class 'rdflib.graph.Graph'>\n",
      "http://test3, http://www.w3.org/1999/02/22-rdf-syntax-ns#type, http://schema.org/Person, http://amu/tagc\n",
      "<class 'rdflib.graph.Graph'>\n",
      "http://test4, http://schema.org/identifier, id4, http://amu/tagc\n",
      "<class 'rdflib.graph.Graph'>\n",
      "http://test1, http://www.w3.org/1999/02/22-rdf-syntax-ns#type, http://schema.org/Person, http://univ-nantes.fr/itx\n",
      "<class 'rdflib.graph.Graph'>\n",
      "http://test3, https://schema.org/name, name3, http://amu/tagc\n"
     ]
    }
   ],
   "source": [
    "for (s, p, o, g) in kg.quads():\n",
    "    print(type(g))\n",
    "    print(f\"{s}, {p}, {o}, {g.identifier}\")"
   ]
  },
  {
   "cell_type": "code",
   "execution_count": 37,
   "id": "6726ca2b",
   "metadata": {},
   "outputs": [
    {
     "name": "stdout",
     "output_type": "stream",
     "text": [
      "\n",
      "    @prefix ns: <https://fair-checker.france-bioinformatique.fr#> .\n",
      "    @prefix rdf: <http://www.w3.org/1999/02/22-rdf-syntax-ns#> .\n",
      "    @prefix rdfs: <http://www.w3.org/2000/01/rdf-schema#> .\n",
      "    @prefix sc: <http://schema.org/> .\n",
      "    @prefix scs: <https://schema.org/> .\n",
      "    @prefix bsc: <https://bioschemas.org/> .\n",
      "    @prefix dct: <http://purl.org/dc/terms/> .\n",
      "    @prefix sh: <http://www.w3.org/ns/shacl#> .\n",
      "    @prefix xsd: <http://www.w3.org/2001/XMLSchema#> .\n",
      "    @prefix edam: <http://edamontology.org/> .\n",
      "    @prefix biotools: <https://bio.tools/ontology/> .\n",
      "\n",
      "    ns:test_NG_shape\n",
      "        a sh:NodeShape ;\n",
      "        sh:targetClass sc:Person, scs:Person ;\n",
      "\n",
      "        \n",
      "                sh:property [\n",
      "                    \n",
      "                    sh:path [sh:alternativePath(sc:name scs:name)] ;\n",
      "                    \n",
      "                    sh:minCount 1 ;\n",
      "                    sh:severity sh:Violation\n",
      "                ] ;\n",
      "        \n",
      "    .\n"
     ]
    }
   ],
   "source": [
    "from jinja2 import Template\n",
    "\n",
    "shape_tpl = \"\"\"\n",
    "    @prefix ns: <https://fair-checker.france-bioinformatique.fr#> .\n",
    "    @prefix rdf: <http://www.w3.org/1999/02/22-rdf-syntax-ns#> .\n",
    "    @prefix rdfs: <http://www.w3.org/2000/01/rdf-schema#> .\n",
    "    @prefix sc: <http://schema.org/> .\n",
    "    @prefix scs: <https://schema.org/> .\n",
    "    @prefix bsc: <https://bioschemas.org/> .\n",
    "    @prefix dct: <http://purl.org/dc/terms/> .\n",
    "    @prefix sh: <http://www.w3.org/ns/shacl#> .\n",
    "    @prefix xsd: <http://www.w3.org/2001/XMLSchema#> .\n",
    "    @prefix edam: <http://edamontology.org/> .\n",
    "    @prefix biotools: <https://bio.tools/ontology/> .\n",
    "\n",
    "    ns:test_NG_shape\n",
    "        a sh:NodeShape ;\n",
    "        sh:targetClass sc:Person, scs:Person ;\n",
    "\n",
    "        {% for min_prop in min_props %}\n",
    "                sh:property [\n",
    "                    {% if (\"sc:\" in min_prop) %}\n",
    "                    sh:path [sh:alternativePath({{min_prop}} {{min_prop.replace(\"sc\", \"scs\")}})] ;\n",
    "                    {% else %}\n",
    "                    sh:path {{min_prop}} ;\n",
    "                    {% endif %}\n",
    "                    sh:minCount 1 ;\n",
    "                    sh:severity sh:Violation\n",
    "                ] ;\n",
    "        {% endfor %}\n",
    "    .\n",
    "\"\"\"\n",
    "\n",
    "template = Template(shape_tpl)\n",
    "shape = template.render(\n",
    "    shape_name='name',\n",
    "    min_props=[\"sc:name\"]\n",
    ")\n",
    "print(shape)"
   ]
  },
  {
   "cell_type": "code",
   "execution_count": 38,
   "id": "5bb17530",
   "metadata": {},
   "outputs": [],
   "source": [
    "shape_v2 = \"\"\"\n",
    "    @prefix ns: <https://fair-checker.france-bioinformatique.fr#> .\n",
    "    @prefix rdf: <http://www.w3.org/1999/02/22-rdf-syntax-ns#> .\n",
    "    @prefix rdfs: <http://www.w3.org/2000/01/rdf-schema#> .\n",
    "    @prefix sc: <http://schema.org/> .\n",
    "    @prefix scs: <https://schema.org/> .\n",
    "    @prefix bsc: <https://bioschemas.org/> .\n",
    "    @prefix dct: <http://purl.org/dc/terms/> .\n",
    "    @prefix sh: <http://www.w3.org/ns/shacl#> .\n",
    "    @prefix xsd: <http://www.w3.org/2001/XMLSchema#> .\n",
    "    @prefix edam: <http://edamontology.org/> .\n",
    "    @prefix biotools: <https://bio.tools/ontology/> .\n",
    "\n",
    "    ns:test_NG_shape\n",
    "        a sh:NodeShape ;\n",
    "        sh:targetClass sc:Person, scs:Person ;\n",
    "\n",
    "        sh:property [\n",
    "            sh:path [sh:alternativePath(sc:name scs:name)] ;\n",
    "            sh:minCount 1 ;\n",
    "            sh:severity sh:Violation\n",
    "        ] \n",
    "    .\n",
    "\"\"\"\n",
    "\n",
    "#[sh: alternativePath(ex:father ex: mother  )]"
   ]
  },
  {
   "cell_type": "code",
   "execution_count": 42,
   "id": "4b7b4f8b",
   "metadata": {},
   "outputs": [],
   "source": [
    "from pyshacl import validate\n",
    "\n",
    "r = validate(\n",
    "        data_graph=kg,\n",
    "        data_graph_format=\"trig\",\n",
    "        shacl_graph=shape_v2,\n",
    "        shacl_graph_format=\"turtle\",\n",
    "        ont_graph=None,\n",
    "        inference=\"rdfs\",\n",
    "        abort_on_first=False,\n",
    "        meta_shacl=False,\n",
    "        debug=False,\n",
    ")\n",
    "\n",
    "conforms, results_graph, results_text = r"
   ]
  },
  {
   "cell_type": "code",
   "execution_count": 43,
   "id": "95ff368f",
   "metadata": {},
   "outputs": [
    {
     "name": "stdout",
     "output_type": "stream",
     "text": [
      "False\n"
     ]
    }
   ],
   "source": [
    "print(conforms)"
   ]
  },
  {
   "cell_type": "code",
   "execution_count": 44,
   "id": "90c03c36",
   "metadata": {},
   "outputs": [
    {
     "name": "stdout",
     "output_type": "stream",
     "text": [
      "Validation Report\n",
      "Conforms: False\n",
      "Results (1):\n",
      "Constraint Violation in MinCountConstraintComponent (http://www.w3.org/ns/shacl#MinCountConstraintComponent):\n",
      "\tSeverity: sh:Violation\n",
      "\tSource Shape: [ sh:minCount Literal(\"1\", datatype=xsd:integer) ; sh:path [ sh:alternativePath ( sc:name scs:name ) ] ; sh:severity sh:Violation ]\n",
      "\tFocus Node: <http://test4>\n",
      "\tResult Path: [ sh:alternativePath ( sc:name scs:name ) ]\n",
      "\tMessage: Less than 1 values on <http://test4>->[ sh:alternativePath ( sc:name scs:name ) ]\n",
      "\n"
     ]
    }
   ],
   "source": [
    "print(results_text)"
   ]
  },
  {
   "cell_type": "code",
   "execution_count": null,
   "id": "fde5ab79",
   "metadata": {},
   "outputs": [],
   "source": []
  },
  {
   "cell_type": "code",
   "execution_count": null,
   "id": "51b25f06",
   "metadata": {},
   "outputs": [],
   "source": []
  },
  {
   "cell_type": "code",
   "execution_count": null,
   "id": "f0841334",
   "metadata": {},
   "outputs": [],
   "source": []
  }
 ],
 "metadata": {
  "kernelspec": {
   "display_name": "Python 3 (ipykernel)",
   "language": "python",
   "name": "python3"
  },
  "language_info": {
   "codemirror_mode": {
    "name": "ipython",
    "version": 3
   },
   "file_extension": ".py",
   "mimetype": "text/x-python",
   "name": "python",
   "nbconvert_exporter": "python",
   "pygments_lexer": "ipython3",
   "version": "3.9.10"
  }
 },
 "nbformat": 4,
 "nbformat_minor": 5
}
