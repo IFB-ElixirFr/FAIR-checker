{
 "cells": [
  {
   "cell_type": "markdown",
   "metadata": {},
   "source": [
    "# Aim of the notebook\n",
    "Main steps:\n",
    "- Import the Libraies\n",
    "- Retreive a list of target URLs from an XML file\n",
    "- Browse the URLs and extract the metadate from each, store them in a Knowledge Graph, and store it in a ttl file\n",
    "- Visualise to the classes and properties in these data"
   ]
  },
  {
   "cell_type": "markdown",
   "metadata": {},
   "source": [
    "## 1. Import Libraries"
   ]
  },
  {
   "cell_type": "code",
   "execution_count": 1,
   "metadata": {},
   "outputs": [
    {
     "name": "stderr",
     "output_type": "stream",
     "text": [
      "/Users/frikha-s/opt/anaconda3/envs/fair-checker-env/lib/python3.8/site-packages/rdflib_jsonld/__init__.py:9: DeprecationWarning: The rdflib-jsonld package has been integrated into rdflib as of rdflib==6.0.1.  Please remove rdflib-jsonld from your project's dependencies.\n",
      "  warnings.warn(\n",
      "[WDM] - \n",
      "\n",
      "[WDM] - ====== WebDriver manager ======\n",
      "[WDM] - Current google-chrome version is 100.0.4896\n",
      "[WDM] - Get LATEST driver version for 100.0.4896\n",
      "[WDM] - Driver [/Users/frikha-s/.wdm/drivers/chromedriver/mac64/100.0.4896.60/chromedriver] found in cache\n"
     ]
    }
   ],
   "source": [
    "import sys\n",
    "parentdir = \"..\"\n",
    "sys.path.insert(0, parentdir)\n",
    "\n",
    "import requests\n",
    "from os import path\n",
    "from tqdm.notebook import tqdm\n",
    "import pandas as pd\n",
    "import time\n",
    "\n",
    "from metrics.WebResource import WebResource\n",
    "from rdflib import Graph\n",
    "from xml.dom import minidom\n",
    "from rdflib import ConjunctiveGraph, Namespace, URIRef\n",
    "from rdflib.namespace import RDF, RDFS\n",
    "\n",
    "import random\n",
    "import matplotlib.pyplot as plt"
   ]
  },
  {
   "cell_type": "markdown",
   "metadata": {},
   "source": [
    "## 2. Extract Metadata From URLs Samples"
   ]
  },
  {
   "cell_type": "code",
   "execution_count": 2,
   "metadata": {},
   "outputs": [
    {
     "name": "stdout",
     "output_type": "stream",
     "text": [
      "86\n"
     ]
    }
   ],
   "source": [
    "#Extract metadata from a single URL\n",
    "\n",
    "g = Graph()\n",
    "g.parse(\"http://www.w3.org/People/Berners-Lee/card\")\n",
    "g.serialize(destination=\"Berners_Lee.ttl\")\n",
    "\n",
    "print(len(g))"
   ]
  },
  {
   "cell_type": "code",
   "execution_count": 3,
   "metadata": {},
   "outputs": [
    {
     "data": {
      "application/vnd.jupyter.widget-view+json": {
       "model_id": "c9a822e9453a487ba6eb57dfe8f30d83",
       "version_major": 2,
       "version_minor": 0
      },
      "text/plain": [
       "  0%|          | 0/4 [00:00<?, ?it/s]"
      ]
     },
     "metadata": {},
     "output_type": "display_data"
    },
    {
     "name": "stdout",
     "output_type": "stream",
     "text": [
      "Loaded 124 triples\n",
      "Loaded 219 triples\n",
      "http://schema.org/\n",
      "Loaded 352 triples\n"
     ]
    },
    {
     "name": "stderr",
     "output_type": "stream",
     "text": [
      "WARNING:root:Can't find \"application/ld+json\" content\n"
     ]
    },
    {
     "name": "stdout",
     "output_type": "stream",
     "text": [
      "https://schema.org/\n",
      "Loaded 412 triples\n",
      "KG_List_Urls containes 412 triples\n"
     ]
    }
   ],
   "source": [
    "#Extract metadata from a list of URLs\n",
    "schema = Namespace(\"http://schema.org/\")\n",
    "\n",
    "target_urls = [\"http://bio.tools/bwa\", \"http://bio.tools/jaspar\", \"https://doi.pangaea.de/10.1594/PANGAEA.942997\", \"https://zenodo.org/record/6411574#.Ykw0bi8itqs\"]\n",
    "\n",
    "KG_List_Urls = ConjunctiveGraph()\n",
    "for u in tqdm(target_urls):\n",
    "    wr = WebResource(url=u)\n",
    "    KG_List_Urls += wr.get_rdf()\n",
    "    print(f\"Loaded {len(KG_List_Urls)} triples\")\n",
    "\n",
    "print(f\"KG_List_Urls containes {len(KG_List_Urls)} triples\")\n"
   ]
  },
  {
   "cell_type": "markdown",
   "metadata": {},
   "source": [
    "## 3. Retrieve a List of Target URLs"
   ]
  },
  {
   "cell_type": "code",
   "execution_count": 4,
   "metadata": {},
   "outputs": [
    {
     "data": {
      "application/vnd.jupyter.widget-view+json": {
       "model_id": "a39a6750346c4ba9987376f86a31a0fa",
       "version_major": 2,
       "version_minor": 0
      },
      "text/plain": [
       "  0%|          | 0/10619 [00:00<?, ?it/s]"
      ]
     },
     "metadata": {},
     "output_type": "display_data"
    },
    {
     "name": "stdout",
     "output_type": "stream",
     "text": [
      "http://bio.tools/bwa\n",
      "http://www.w3.org/People/Berners-Lee/card\n",
      "http://www.orpha.net/consor/cgi-bin/OC_Exp.php?lng=en&Expert=166032\n",
      "http://www.orpha.net/consor/cgi-bin/OC_Exp.php?lng=en&Expert=61\n",
      "http://www.orpha.net/consor/cgi-bin/OC_Exp.php?lng=en&Expert=166029\n",
      "http://www.orpha.net/consor/cgi-bin/OC_Exp.php?lng=en&Expert=166038\n",
      "http://www.orpha.net/consor/cgi-bin/OC_Exp.php?lng=en&Expert=93\n",
      "http://www.orpha.net/consor/cgi-bin/OC_Exp.php?lng=en&Expert=166035\n",
      "http://www.orpha.net/consor/cgi-bin/OC_Exp.php?lng=en&Expert=585\n",
      "http://www.orpha.net/consor/cgi-bin/OC_Exp.php?lng=en&Expert=118\n",
      "http://www.orpha.net/consor/cgi-bin/OC_Exp.php?lng=en&Expert=166068\n"
     ]
    }
   ],
   "source": [
    "# parse the xml file\n",
    "mydoc = minidom.parse('URLs.xml')\n",
    "\n",
    "urls = mydoc.getElementsByTagName('ExpertLink')\n",
    " \n",
    "#We can't use lists to store URLs because the data rate exceeded\n",
    "#list_urls=list()\n",
    "\n",
    "#Display the first 10 URLs\n",
    "i=0\n",
    "for url in tqdm(urls):\n",
    "    #list_urls+=url.firstChild.data\n",
    "    print(url.firstChild.data)\n",
    "    i+=1\n",
    "    if i>10: break"
   ]
  },
  {
   "cell_type": "markdown",
   "metadata": {},
   "source": [
    "## 4. Feed the RDF Graph"
   ]
  },
  {
   "cell_type": "code",
   "execution_count": 6,
   "metadata": {},
   "outputs": [],
   "source": [
    "schema = Namespace(\"http://schema.org/\")"
   ]
  },
  {
   "cell_type": "code",
   "execution_count": null,
   "metadata": {},
   "outputs": [
    {
     "data": {
      "application/vnd.jupyter.widget-view+json": {
       "model_id": "dda12a34a2c049a9a4bf8f417ae97670",
       "version_major": 2,
       "version_minor": 0
      },
      "text/plain": [
       "  0%|          | 0/10619 [00:00<?, ?it/s]"
      ]
     },
     "metadata": {},
     "output_type": "display_data"
    },
    {
     "name": "stderr",
     "output_type": "stream",
     "text": [
      "WARNING:root:Can't find \"application/ld+json\" content\n"
     ]
    },
    {
     "name": "stdout",
     "output_type": "stream",
     "text": [
      "http://schema.org/\n",
      "http://schema.org/\n",
      "http://schema.org/\n",
      "http://schema.org/\n",
      "http://schema.org/\n",
      "http://schema.org/\n",
      "http://schema.org/\n",
      "http://schema.org/\n",
      "http://schema.org/\n",
      "http://schema.org/\n",
      "http://schema.org/\n",
      "http://schema.org/\n",
      "http://schema.org/\n",
      "http://schema.org/\n",
      "http://schema.org/\n",
      "http://schema.org/\n",
      "http://schema.org/\n",
      "http://schema.org/\n",
      "http://schema.org/\n",
      "http://schema.org/\n",
      "http://schema.org/\n",
      "http://schema.org/\n",
      "http://schema.org/\n",
      "http://schema.org/\n",
      "http://schema.org/\n",
      "http://schema.org/\n",
      "http://schema.org/\n",
      "http://schema.org/\n",
      "http://schema.org/\n",
      "http://schema.org/\n",
      "http://schema.org/\n",
      "http://schema.org/\n",
      "http://schema.org/\n",
      "http://schema.org/\n",
      "http://schema.org/\n",
      "http://schema.org/\n",
      "http://schema.org/\n",
      "http://schema.org/\n",
      "http://schema.org/\n",
      "http://schema.org/\n",
      "http://schema.org/\n",
      "http://schema.org/\n",
      "http://schema.org/\n",
      "http://schema.org/\n",
      "http://schema.org/\n",
      "http://schema.org/\n",
      "http://schema.org/\n",
      "http://schema.org/\n",
      "http://schema.org/\n",
      "http://schema.org/\n",
      "http://schema.org/\n",
      "http://schema.org/\n",
      "http://schema.org/\n",
      "http://schema.org/\n",
      "http://schema.org/\n",
      "http://schema.org/\n",
      "http://schema.org/\n",
      "http://schema.org/\n",
      "http://schema.org/\n",
      "http://schema.org/\n",
      "http://schema.org/\n",
      "http://schema.org/\n",
      "http://schema.org/\n",
      "http://schema.org/\n",
      "http://schema.org/\n",
      "http://schema.org/\n",
      "http://schema.org/\n",
      "http://schema.org/\n",
      "http://schema.org/\n",
      "http://schema.org/\n",
      "http://schema.org/\n",
      "http://schema.org/\n",
      "http://schema.org/\n",
      "http://schema.org/\n",
      "http://schema.org/\n",
      "http://schema.org/\n",
      "http://schema.org/\n",
      "http://schema.org/\n",
      "http://schema.org/\n",
      "http://schema.org/\n",
      "http://schema.org/\n",
      "http://schema.org/\n",
      "http://schema.org/\n",
      "http://schema.org/\n",
      "http://schema.org/\n",
      "http://schema.org/\n",
      "http://schema.org/\n",
      "http://schema.org/\n",
      "http://schema.org/\n",
      "http://schema.org/\n",
      "http://schema.org/\n",
      "http://schema.org/\n",
      "http://schema.org/\n",
      "http://schema.org/\n",
      "http://schema.org/\n",
      "http://schema.org/\n",
      "http://schema.org/\n",
      "http://schema.org/\n",
      "http://schema.org/\n",
      "http://schema.org/\n",
      "http://schema.org/\n",
      "http://schema.org/\n",
      "http://schema.org/\n",
      "http://schema.org/\n",
      "http://schema.org/\n",
      "http://schema.org/\n",
      "http://schema.org/\n",
      "http://schema.org/\n",
      "http://schema.org/\n",
      "http://schema.org/\n",
      "http://schema.org/\n",
      "http://schema.org/\n",
      "http://schema.org/\n",
      "http://schema.org/\n",
      "http://schema.org/\n",
      "http://schema.org/\n",
      "http://schema.org/\n",
      "http://schema.org/\n",
      "http://schema.org/\n",
      "http://schema.org/\n",
      "http://schema.org/\n",
      "http://schema.org/\n",
      "http://schema.org/\n",
      "http://schema.org/\n",
      "http://schema.org/\n",
      "http://schema.org/\n",
      "http://schema.org/\n",
      "http://schema.org/\n",
      "http://schema.org/\n",
      "http://schema.org/\n",
      "http://schema.org/\n",
      "http://schema.org/\n",
      "http://schema.org/\n",
      "http://schema.org/\n",
      "http://schema.org/\n",
      "http://schema.org/\n",
      "http://schema.org/\n",
      "http://schema.org/\n",
      "http://schema.org/\n",
      "http://schema.org/\n",
      "http://schema.org/\n",
      "http://schema.org/\n",
      "http://schema.org/\n",
      "http://schema.org/\n",
      "http://schema.org/\n",
      "http://schema.org/\n",
      "http://schema.org/\n",
      "http://schema.org/\n",
      "http://schema.org/\n",
      "http://schema.org/\n",
      "http://schema.org/\n",
      "http://schema.org/\n",
      "http://schema.org/\n",
      "http://schema.org/\n",
      "http://schema.org/\n",
      "http://schema.org/\n",
      "http://schema.org/\n",
      "http://schema.org/\n",
      "http://schema.org/\n",
      "http://schema.org/\n",
      "http://schema.org/\n",
      "http://schema.org/\n",
      "http://schema.org/\n",
      "http://schema.org/\n",
      "http://schema.org/\n",
      "http://schema.org/\n",
      "http://schema.org/\n",
      "http://schema.org/\n",
      "http://schema.org/\n",
      "http://schema.org/\n",
      "http://schema.org/\n"
     ]
    }
   ],
   "source": [
    "##Uncomment this if you want to scrapp all URLs\n",
    "\n",
    "KG_Total = ConjunctiveGraph()\n",
    "\n",
    "for u in tqdm(urls):\n",
    "    wr = WebResource(url=u.firstChild.data)\n",
    "    KG_Total += wr.get_rdf()\n",
    "\n",
    "##Display the total triples contained in the graph, after scrapping all URLs in the XML file\n",
    "print(f\"Loaded {len(KG_Total)} triples\")"
   ]
  },
  {
   "cell_type": "code",
   "execution_count": null,
   "metadata": {},
   "outputs": [],
   "source": [
    "print(f\"Loaded {len(KG_Total)} triples\")"
   ]
  },
  {
   "cell_type": "code",
   "execution_count": 8,
   "metadata": {},
   "outputs": [
    {
     "data": {
      "application/vnd.jupyter.widget-view+json": {
       "model_id": "4cfcea74d1764b1986a70257c2016bc4",
       "version_major": 2,
       "version_minor": 0
      },
      "text/plain": [
       "  0%|          | 0/10 [00:00<?, ?it/s]"
      ]
     },
     "metadata": {},
     "output_type": "display_data"
    },
    {
     "name": "stdout",
     "output_type": "stream",
     "text": [
      "http://schema.org/\n",
      "Loaded 20 triples\n",
      "http://schema.org/\n",
      "Loaded 65 triples\n",
      "http://schema.org/\n",
      "Loaded 125 triples\n",
      "http://schema.org/\n",
      "Loaded 185 triples\n",
      "http://schema.org/\n",
      "Loaded 206 triples\n",
      "http://schema.org/\n",
      "Loaded 250 triples\n",
      "http://schema.org/\n",
      "Loaded 270 triples\n",
      "http://schema.org/\n",
      "Loaded 291 triples\n",
      "http://schema.org/\n",
      "Loaded 359 triples\n",
      "http://schema.org/\n",
      "Loaded 382 triples\n",
      "The Graph containes 382 triples\n"
     ]
    }
   ],
   "source": [
    "#If you don't want to wait for all URLs to be scrapped\n",
    "#This code will choose a randdom sample, scrappe it and display results\n",
    "#Purpose: Avoid crushing orphanet.org\n",
    "\n",
    "KG = ConjunctiveGraph()\n",
    "\n",
    "sample_urls=random.choices(urls, k=10)\n",
    "\n",
    "for u in tqdm(sample_urls):\n",
    "    wr = WebResource(url=u.firstChild.data)\n",
    "    KG += wr.get_rdf()\n",
    "    print(f\"Loaded {len(KG)} triples\")\n",
    "    \n",
    "print(f\"The Graph containes {len(KG)} triples\")"
   ]
  },
  {
   "cell_type": "code",
   "execution_count": 9,
   "metadata": {},
   "outputs": [
    {
     "data": {
      "text/plain": [
       "<Graph identifier=Nbee6a7d0d41d41aaaf10cb4523c702a5 (<class 'rdflib.graph.ConjunctiveGraph'>)>"
      ]
     },
     "execution_count": 9,
     "metadata": {},
     "output_type": "execute_result"
    }
   ],
   "source": [
    "#Save the KG in a turtle file\n",
    "KG.serialize(\"scrapped_orphanet_bioschemas.ttl\", format=\"turtle\")"
   ]
  },
  {
   "cell_type": "code",
   "execution_count": 55,
   "metadata": {},
   "outputs": [],
   "source": [
    "#Display the file\n",
    "#!cat scrapped_orphanet_bioschemas.ttl"
   ]
  },
  {
   "cell_type": "markdown",
   "metadata": {},
   "source": [
    "## 5. Display Bioschemas Properties Counts"
   ]
  },
  {
   "cell_type": "code",
   "execution_count": 11,
   "metadata": {},
   "outputs": [],
   "source": [
    "def get_dataframe_from_query_results(res):    \n",
    "    return pd.DataFrame(res.bindings)"
   ]
  },
  {
   "cell_type": "code",
   "execution_count": 12,
   "metadata": {},
   "outputs": [
    {
     "name": "stdout",
     "output_type": "stream",
     "text": [
      "\n",
      "********** Used properties **********\n"
     ]
    },
    {
     "data": {
      "text/html": [
       "<div>\n",
       "<style scoped>\n",
       "    .dataframe tbody tr th:only-of-type {\n",
       "        vertical-align: middle;\n",
       "    }\n",
       "\n",
       "    .dataframe tbody tr th {\n",
       "        vertical-align: top;\n",
       "    }\n",
       "\n",
       "    .dataframe thead th {\n",
       "        text-align: right;\n",
       "    }\n",
       "</style>\n",
       "<table border=\"1\" class=\"dataframe\">\n",
       "  <thead>\n",
       "    <tr style=\"text-align: right;\">\n",
       "      <th></th>\n",
       "      <th>count</th>\n",
       "      <th>p</th>\n",
       "    </tr>\n",
       "  </thead>\n",
       "  <tbody>\n",
       "    <tr>\n",
       "      <th>0</th>\n",
       "      <td>94</td>\n",
       "      <td>http://www.w3.org/1999/02/22-rdf-syntax-ns#type</td>\n",
       "    </tr>\n",
       "    <tr>\n",
       "      <th>1</th>\n",
       "      <td>64</td>\n",
       "      <td>http://schema.org/codingSystem</td>\n",
       "    </tr>\n",
       "    <tr>\n",
       "      <th>2</th>\n",
       "      <td>64</td>\n",
       "      <td>http://schema.org/code</td>\n",
       "    </tr>\n",
       "    <tr>\n",
       "      <th>3</th>\n",
       "      <td>64</td>\n",
       "      <td>http://schema.org/codeValue</td>\n",
       "    </tr>\n",
       "    <tr>\n",
       "      <th>4</th>\n",
       "      <td>20</td>\n",
       "      <td>http://schema.org/inLanguage</td>\n",
       "    </tr>\n",
       "    <tr>\n",
       "      <th>5</th>\n",
       "      <td>20</td>\n",
       "      <td>http://schema.org/name</td>\n",
       "    </tr>\n",
       "    <tr>\n",
       "      <th>6</th>\n",
       "      <td>20</td>\n",
       "      <td>http://schema.org/textValue</td>\n",
       "    </tr>\n",
       "    <tr>\n",
       "      <th>7</th>\n",
       "      <td>10</td>\n",
       "      <td>http://schema.org/description</td>\n",
       "    </tr>\n",
       "    <tr>\n",
       "      <th>8</th>\n",
       "      <td>10</td>\n",
       "      <td>http://schema.org/epidemiology</td>\n",
       "    </tr>\n",
       "    <tr>\n",
       "      <th>9</th>\n",
       "      <td>10</td>\n",
       "      <td>http://schema.org/identifier</td>\n",
       "    </tr>\n",
       "    <tr>\n",
       "      <th>10</th>\n",
       "      <td>6</td>\n",
       "      <td>http://schema.org/alternateName</td>\n",
       "    </tr>\n",
       "  </tbody>\n",
       "</table>\n",
       "</div>"
      ],
      "text/plain": [
       "   count                                                p\n",
       "0     94  http://www.w3.org/1999/02/22-rdf-syntax-ns#type\n",
       "1     64                   http://schema.org/codingSystem\n",
       "2     64                           http://schema.org/code\n",
       "3     64                      http://schema.org/codeValue\n",
       "4     20                     http://schema.org/inLanguage\n",
       "5     20                           http://schema.org/name\n",
       "6     20                      http://schema.org/textValue\n",
       "7     10                    http://schema.org/description\n",
       "8     10                   http://schema.org/epidemiology\n",
       "9     10                     http://schema.org/identifier\n",
       "10     6                  http://schema.org/alternateName"
      ]
     },
     "execution_count": 12,
     "metadata": {},
     "output_type": "execute_result"
    }
   ],
   "source": [
    "### display used properties\n",
    "property_counts = \"\"\"\n",
    "SELECT ?p (count(?p) as ?count) WHERE {\n",
    "    ?s ?p ?o .\n",
    "} \n",
    "GROUP BY ?p\n",
    "ORDER BY DESC(?count)\n",
    "\"\"\"\n",
    "\n",
    "res = KG.query(property_counts)\n",
    "print()\n",
    "print(\"********** Used properties **********\")\n",
    "df = get_dataframe_from_query_results(res)\n",
    "df"
   ]
  },
  {
   "cell_type": "markdown",
   "metadata": {},
   "source": [
    "## 6. Display Bioschemas Classes Counts"
   ]
  },
  {
   "cell_type": "code",
   "execution_count": 13,
   "metadata": {},
   "outputs": [
    {
     "name": "stdout",
     "output_type": "stream",
     "text": [
      "\n",
      "********** Used classes **********\n"
     ]
    },
    {
     "data": {
      "text/html": [
       "<div>\n",
       "<style scoped>\n",
       "    .dataframe tbody tr th:only-of-type {\n",
       "        vertical-align: middle;\n",
       "    }\n",
       "\n",
       "    .dataframe tbody tr th {\n",
       "        vertical-align: top;\n",
       "    }\n",
       "\n",
       "    .dataframe thead th {\n",
       "        text-align: right;\n",
       "    }\n",
       "</style>\n",
       "<table border=\"1\" class=\"dataframe\">\n",
       "  <thead>\n",
       "    <tr style=\"text-align: right;\">\n",
       "      <th></th>\n",
       "      <th>c</th>\n",
       "      <th>count</th>\n",
       "    </tr>\n",
       "  </thead>\n",
       "  <tbody>\n",
       "    <tr>\n",
       "      <th>0</th>\n",
       "      <td>http://schema.org/MedicalCode</td>\n",
       "      <td>64</td>\n",
       "    </tr>\n",
       "    <tr>\n",
       "      <th>1</th>\n",
       "      <td>http://schema.org/PronounceableText</td>\n",
       "      <td>20</td>\n",
       "    </tr>\n",
       "    <tr>\n",
       "      <th>2</th>\n",
       "      <td>http://schema.org/MedicalCondition</td>\n",
       "      <td>10</td>\n",
       "    </tr>\n",
       "  </tbody>\n",
       "</table>\n",
       "</div>"
      ],
      "text/plain": [
       "                                     c count\n",
       "0        http://schema.org/MedicalCode    64\n",
       "1  http://schema.org/PronounceableText    20\n",
       "2   http://schema.org/MedicalCondition    10"
      ]
     },
     "execution_count": 13,
     "metadata": {},
     "output_type": "execute_result"
    }
   ],
   "source": [
    "### display used classes\n",
    "classes_counts = \"\"\"\n",
    "SELECT ?c (count(?c) as ?count) WHERE {\n",
    "    ?s rdf:type ?c .\n",
    "} \n",
    "GROUP BY ?c\n",
    "ORDER BY DESC(?count)\n",
    "\"\"\"\n",
    "\n",
    "res = KG.query(classes_counts)\n",
    "print()\n",
    "print(\"********** Used classes **********\")\n",
    "df = get_dataframe_from_query_results(res)\n",
    "df"
   ]
  },
  {
   "cell_type": "code",
   "execution_count": 14,
   "metadata": {},
   "outputs": [
    {
     "data": {
      "text/plain": [
       "class    object\n",
       "count     int64\n",
       "dtype: object"
      ]
     },
     "execution_count": 14,
     "metadata": {},
     "output_type": "execute_result"
    }
   ],
   "source": [
    "df = pd.DataFrame(res ,columns=['class','count'])\n",
    "\n",
    "df[\"class\"] = df[\"class\"].astype(\"str\")\n",
    "df[\"count\"] = df[\"count\"].astype(\"int\")\n",
    "df.dtypes"
   ]
  },
  {
   "cell_type": "code",
   "execution_count": 44,
   "metadata": {},
   "outputs": [
    {
     "data": {
      "text/html": [
       "<div>\n",
       "<style scoped>\n",
       "    .dataframe tbody tr th:only-of-type {\n",
       "        vertical-align: middle;\n",
       "    }\n",
       "\n",
       "    .dataframe tbody tr th {\n",
       "        vertical-align: top;\n",
       "    }\n",
       "\n",
       "    .dataframe thead th {\n",
       "        text-align: right;\n",
       "    }\n",
       "</style>\n",
       "<table border=\"1\" class=\"dataframe\">\n",
       "  <thead>\n",
       "    <tr style=\"text-align: right;\">\n",
       "      <th></th>\n",
       "      <th>class</th>\n",
       "      <th>count</th>\n",
       "      <th>%</th>\n",
       "      <th>label</th>\n",
       "    </tr>\n",
       "  </thead>\n",
       "  <tbody>\n",
       "    <tr>\n",
       "      <th>0</th>\n",
       "      <td>http://schema.org/MedicalCode</td>\n",
       "      <td>64</td>\n",
       "      <td>68.085106</td>\n",
       "      <td>MedicalCode</td>\n",
       "    </tr>\n",
       "    <tr>\n",
       "      <th>1</th>\n",
       "      <td>http://schema.org/PronounceableText</td>\n",
       "      <td>20</td>\n",
       "      <td>21.276596</td>\n",
       "      <td>PronounceableText</td>\n",
       "    </tr>\n",
       "    <tr>\n",
       "      <th>2</th>\n",
       "      <td>http://schema.org/MedicalCondition</td>\n",
       "      <td>10</td>\n",
       "      <td>10.638298</td>\n",
       "      <td>MedicalCondition</td>\n",
       "    </tr>\n",
       "  </tbody>\n",
       "</table>\n",
       "</div>"
      ],
      "text/plain": [
       "                                 class  count          %              label\n",
       "0        http://schema.org/MedicalCode     64  68.085106        MedicalCode\n",
       "1  http://schema.org/PronounceableText     20  21.276596  PronounceableText\n",
       "2   http://schema.org/MedicalCondition     10  10.638298   MedicalCondition"
      ]
     },
     "execution_count": 44,
     "metadata": {},
     "output_type": "execute_result"
    }
   ],
   "source": [
    "count_sum=94\n",
    "\n",
    "def pourcentage(x):\n",
    "          return x*100/count_sum\n",
    "def get_suffix(x):\n",
    "      return str(x).split(sep=\"/\")[-1]\n",
    "\n",
    "df2 = df.copy()    \n",
    "df2[\"%\"] = df2['count'].apply(pourcentage)\n",
    "df2[\"label\"] = df2['class'].apply(get_suffix) \n",
    "df2"
   ]
  },
  {
   "cell_type": "code",
   "execution_count": 45,
   "metadata": {},
   "outputs": [
    {
     "data": {
      "text/html": [
       "<div>\n",
       "<style scoped>\n",
       "    .dataframe tbody tr th:only-of-type {\n",
       "        vertical-align: middle;\n",
       "    }\n",
       "\n",
       "    .dataframe tbody tr th {\n",
       "        vertical-align: top;\n",
       "    }\n",
       "\n",
       "    .dataframe thead th {\n",
       "        text-align: right;\n",
       "    }\n",
       "</style>\n",
       "<table border=\"1\" class=\"dataframe\">\n",
       "  <thead>\n",
       "    <tr style=\"text-align: right;\">\n",
       "      <th></th>\n",
       "      <th>label</th>\n",
       "      <th>count</th>\n",
       "    </tr>\n",
       "  </thead>\n",
       "  <tbody>\n",
       "    <tr>\n",
       "      <th>0</th>\n",
       "      <td>MedicalCode</td>\n",
       "      <td>64</td>\n",
       "    </tr>\n",
       "    <tr>\n",
       "      <th>1</th>\n",
       "      <td>PronounceableText</td>\n",
       "      <td>20</td>\n",
       "    </tr>\n",
       "    <tr>\n",
       "      <th>2</th>\n",
       "      <td>MedicalCondition</td>\n",
       "      <td>10</td>\n",
       "    </tr>\n",
       "  </tbody>\n",
       "</table>\n",
       "</div>"
      ],
      "text/plain": [
       "               label  count\n",
       "0        MedicalCode     64\n",
       "1  PronounceableText     20\n",
       "2   MedicalCondition     10"
      ]
     },
     "execution_count": 45,
     "metadata": {},
     "output_type": "execute_result"
    }
   ],
   "source": [
    "#Ordering for better visualisation\n",
    "cols = df2.columns.tolist()\n",
    "#cols = [cols[0], cols[3], cols[1], cols[2]]\n",
    "cols = [cols[3], cols[1]]\n",
    "df2 = df2[cols]\n",
    "df2"
   ]
  },
  {
   "cell_type": "code",
   "execution_count": 54,
   "metadata": {},
   "outputs": [
    {
     "name": "stdout",
     "output_type": "stream",
     "text": [
      "********** ********** Scatter Chart ********** **********\n"
     ]
    },
    {
     "data": {
      "image/png": "[encoded data removed]",
      "text/plain": [
       "<Figure size 432x288 with 1 Axes>"
      ]
     },
     "metadata": {
      "needs_background": "light"
     },
     "output_type": "display_data"
    },
    {
     "name": "stdout",
     "output_type": "stream",
     "text": [
      "********** ********** Bar Chart ********** **********\n"
     ]
    },
    {
     "data": {
      "image/png": "[encoded data removed]",
      "text/plain": [
       "<Figure size 432x288 with 1 Axes>"
      ]
     },
     "metadata": {
      "needs_background": "light"
     },
     "output_type": "display_data"
    },
    {
     "name": "stdout",
     "output_type": "stream",
     "text": [
      "********** ********** Pie Chart ********** **********\n"
     ]
    },
    {
     "data": {
      "text/plain": [
       "<AxesSubplot:title={'center':'Pie Chart'}, ylabel='count'>"
      ]
     },
     "execution_count": 54,
     "metadata": {},
     "output_type": "execute_result"
    },
    {
     "data": {
      "image/png": "[encoded data removed]",
      "text/plain": [
       "<Figure size 288x288 with 1 Axes>"
      ]
     },
     "metadata": {},
     "output_type": "display_data"
    }
   ],
   "source": [
    "print(\"********** ********** Scatter Chart ********** **********\")\n",
    "df2.plot(x ='label', y='count', kind = 'scatter', rot=80)\n",
    "plt.show()\n",
    "\n",
    "print(\"********** ********** Bar Chart ********** **********\")\n",
    "df2.plot(x ='label', y='count', kind = 'bar')\n",
    "plt.show()\n",
    "\n",
    "print(\"********** ********** Pie Chart ********** **********\")\n",
    "\n",
    "my_labels=['MedicalCode','PronounceableText','MedicalCondition']\n",
    "df2.plot.pie(title=\"Pie Chart\",y='count',figsize=(4,4),labels=my_labels)\n"
   ]
  },
  {
   "cell_type": "markdown",
   "metadata": {},
   "source": [
    "## For Further Visualizations\n",
    "Have a look to Seaborn and Bokeh libraries\n",
    "https://seaborn.pydata.org\n",
    "https://bokeh.org"
   ]
  }
 ],
 "metadata": {
  "interpreter": {
   "hash": "e202b6cb132b9357ed023fecdbc194f9a7f520726b3b39fdf8a2279e78a83e12"
  },
  "kernelspec": {
   "display_name": "Python 3 (ipykernel)",
   "language": "python",
   "name": "python3"
  },
  "language_info": {
   "codemirror_mode": {
    "name": "ipython",
    "version": 3
   },
   "file_extension": ".py",
   "mimetype": "text/x-python",
   "name": "python",
   "nbconvert_exporter": "python",
   "pygments_lexer": "ipython3",
   "version": "3.8.12"
  }
 },
 "nbformat": 4,
 "nbformat_minor": 2
}
