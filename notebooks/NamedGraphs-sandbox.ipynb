{
 "cells": [
  {
   "cell_type": "code",
   "execution_count": 12,
   "id": "650710c8",
   "metadata": {},
   "outputs": [],
   "source": [
    "from rdflib import ConjunctiveGraph, URIRef, Literal, Namespace, Dataset\n",
    "SCHEMA = Namespace(\"http://schema.org/\")"
   ]
  },
  {
   "cell_type": "markdown",
   "id": "0481c7a5",
   "metadata": {},
   "source": [
    "# 1. Creating named graphs from scratch"
   ]
  },
  {
   "cell_type": "code",
   "execution_count": 6,
   "id": "4761d776",
   "metadata": {},
   "outputs": [
    {
     "data": {
      "text/plain": [
       "<Graph identifier=Nf9eef64253024564a9d841e109d40e8a (<class 'rdflib.graph.ConjunctiveGraph'>)>"
      ]
     },
     "execution_count": 6,
     "metadata": {},
     "output_type": "execute_result"
    }
   ],
   "source": [
    "G = ConjunctiveGraph()\n",
    "G.add((URIRef(\"http://test1\"), SCHEMA.name, Literal(\"name1\"), URIRef(\"http://univ-nantes.fr/itx\") ))\n",
    "G.add((URIRef(\"http://test2\"), SCHEMA.name, Literal(\"name2\"), URIRef(\"http://univ-nantes.fr/itx\") ))\n",
    "G.add((URIRef(\"http://test3\"), SCHEMA.name, Literal(\"name3\"), URIRef(\"http://amu.fr/tagc\") ))"
   ]
  },
  {
   "cell_type": "code",
   "execution_count": 45,
   "id": "595982b6",
   "metadata": {},
   "outputs": [
    {
     "name": "stdout",
     "output_type": "stream",
     "text": [
      "@prefix ns1: <http://amu.fr/> .\n",
      "@prefix ns2: <http://schema.org/> .\n",
      "@prefix ns3: <http://univ-nantes.fr/> .\n",
      "\n",
      "ns1:tagc {\n",
      "    <http://test3> ns2:name \"name3\" .\n",
      "}\n",
      "\n",
      "ns3:itx {\n",
      "    <http://test1> ns2:name \"name1\" .\n",
      "\n",
      "    <http://test2> ns2:name \"name2\" .\n",
      "}\n",
      "\n",
      "\n",
      "<http://test3> <http://schema.org/name> \"name3\" <http://amu.fr/tagc> .\n",
      "<http://test1> <http://schema.org/name> \"name1\" <http://univ-nantes.fr/itx> .\n",
      "<http://test2> <http://schema.org/name> \"name2\" <http://univ-nantes.fr/itx> .\n",
      "\n",
      "\n"
     ]
    }
   ],
   "source": [
    "print(G.serialize(format=\"trig\"))\n",
    "print(G.serialize(format=\"nquads\"))"
   ]
  },
  {
   "cell_type": "code",
   "execution_count": 8,
   "id": "d4d9c1d5",
   "metadata": {},
   "outputs": [
    {
     "name": "stdout",
     "output_type": "stream",
     "text": [
      "@prefix ns2: <http://schema.org/> .\n",
      "\n",
      "<http://test1> ns2:name \"name1\" .\n",
      "\n",
      "<http://test2> ns2:name \"name2\" .\n",
      "\n",
      "<http://test3> ns2:name \"name3\" .\n",
      "\n",
      "\n"
     ]
    }
   ],
   "source": [
    "print(G.serialize(format=\"turtle\"))"
   ]
  },
  {
   "cell_type": "code",
   "execution_count": 44,
   "id": "fa32fe00",
   "metadata": {},
   "outputs": [
    {
     "name": "stdout",
     "output_type": "stream",
     "text": [
      "@prefix amu: <http://amu/> .\n",
      "@prefix ns1: <urn:x-rdflib:> .\n",
      "@prefix sc: <http://schema.org/> .\n",
      "@prefix unantes: <http://univ-nantes.fr/> .\n",
      "\n",
      "amu:tagc {\n",
      "    <http://test3> sc:name \"name3\" .\n",
      "\n",
      "    <http://test4> sc:identifier \"id4\" ;\n",
      "        sc:name \"name4\" .\n",
      "}\n",
      "\n",
      "unantes:itx {\n",
      "    <http://test1> sc:name \"name1\" .\n",
      "\n",
      "    <http://test2> sc:name \"name2\" .\n",
      "}\n",
      "\n",
      "\n",
      "<http://test3> <http://schema.org/name> \"name3\" <http://amu/tagc> .\n",
      "<http://test4> <http://schema.org/identifier> \"id4\" <http://amu/tagc> .\n",
      "<http://test4> <http://schema.org/name> \"name4\" <http://amu/tagc> .\n",
      "<http://test1> <http://schema.org/name> \"name1\" <http://univ-nantes.fr/itx> .\n",
      "<http://test2> <http://schema.org/name> \"name2\" <http://univ-nantes.fr/itx> .\n",
      "\n",
      "\n"
     ]
    }
   ],
   "source": [
    "G2 = ConjunctiveGraph(identifier=\"http://univ-nantes.fr/itx\")\n",
    "G2.bind(\"sc\", SCHEMA)\n",
    "G2.bind(\"unantes\", Namespace(\"http://univ-nantes.fr/\"))\n",
    "G2.add((URIRef(\"http://test1\"), SCHEMA.name, Literal(\"name1\")))\n",
    "G2.add((URIRef(\"http://test2\"), SCHEMA.name, Literal(\"name2\")))\n",
    "\n",
    "G3 = ConjunctiveGraph(identifier=\"http://amu/tagc\")\n",
    "G3.bind(\"amu\", Namespace(\"http://amu/\"))\n",
    "G3.bind(\"sc\", SCHEMA)\n",
    "G3.add((URIRef(\"http://test3\"), SCHEMA.name, Literal(\"name3\")))\n",
    "G3.add((URIRef(\"http://test4\"), SCHEMA.name, Literal(\"name4\")))\n",
    "G3.add((URIRef(\"http://test4\"), SCHEMA.identifier, Literal(\"id4\")))\n",
    "\n",
    "ds = Dataset()\n",
    "ds.add_graph(G2)\n",
    "ds.add_graph(G3)\n",
    "print(ds.serialize(format=\"trig\"))\n",
    "print(ds.serialize(format=\"nquads\"))"
   ]
  },
  {
   "cell_type": "markdown",
   "id": "1580660a",
   "metadata": {},
   "source": [
    "# 2. Parsing named graphs "
   ]
  },
  {
   "cell_type": "markdown",
   "id": "f9964f42",
   "metadata": {},
   "source": [
    "# 3. Querying named graphs"
   ]
  },
  {
   "cell_type": "code",
   "execution_count": 40,
   "id": "755fc657",
   "metadata": {},
   "outputs": [],
   "source": [
    "q1 = \"\"\"\n",
    "PREFIX schema: <http://schema.org/>\n",
    "\n",
    "SELECT * WHERE {\n",
    "    GRAPH ?g {\n",
    "        ?s schema:identifier ?id\n",
    "    }\n",
    "}\n",
    "\"\"\"\n",
    "\n",
    "q2 = \"\"\"\n",
    "PREFIX schema: <http://schema.org/>\n",
    "\n",
    "SELECT * WHERE {\n",
    "    GRAPH ?g {\n",
    "        ?s schema:name ?name\n",
    "    }\n",
    "}\n",
    "\"\"\""
   ]
  },
  {
   "cell_type": "code",
   "execution_count": 41,
   "id": "f4dc0a25",
   "metadata": {},
   "outputs": [
    {
     "name": "stdout",
     "output_type": "stream",
     "text": [
      " found name name3 for resource http://test3 originating from http://amu/tagc\n",
      " found name name4 for resource http://test4 originating from http://amu/tagc\n",
      " found name name1 for resource http://test1 originating from http://univ-nantes.fr/itx\n",
      " found name name2 for resource http://test2 originating from http://univ-nantes.fr/itx\n"
     ]
    }
   ],
   "source": [
    "res = ds.query(q2)\n",
    "for r in res:\n",
    "    print(f\" found name {r['name']} for resource {r['s']} originating from {r['g']}\")"
   ]
  },
  {
   "cell_type": "code",
   "execution_count": 42,
   "id": "ce51c6a9",
   "metadata": {},
   "outputs": [
    {
     "name": "stdout",
     "output_type": "stream",
     "text": [
      " found ID id4 for resource http://test4 originating from http://amu/tagc\n"
     ]
    }
   ],
   "source": [
    "res = ds.query(q1)\n",
    "for r in res:\n",
    "    print(f\" found ID {r['id']} for resource {r['s']} originating from {r['g']}\")"
   ]
  },
  {
   "cell_type": "code",
   "execution_count": null,
   "id": "cab9a2af",
   "metadata": {},
   "outputs": [],
   "source": []
  }
 ],
 "metadata": {
  "kernelspec": {
   "display_name": "Python 3 (ipykernel)",
   "language": "python",
   "name": "python3"
  },
  "language_info": {
   "codemirror_mode": {
    "name": "ipython",
    "version": 3
   },
   "file_extension": ".py",
   "mimetype": "text/x-python",
   "name": "python",
   "nbconvert_exporter": "python",
   "pygments_lexer": "ipython3",
   "version": "3.9.10"
  }
 },
 "nbformat": 4,
 "nbformat_minor": 5
}
