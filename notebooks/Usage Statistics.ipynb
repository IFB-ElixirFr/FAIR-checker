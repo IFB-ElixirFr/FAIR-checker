{
 "cells": [
  {
   "cell_type": "code",
   "execution_count": 1,
   "id": "4313fd52",
   "metadata": {},
   "outputs": [],
   "source": [
    "import pandas as pd\n",
    "from pymongo import MongoClient\n",
    "from datetime import datetime, date, timedelta\n",
    "from dateutil.relativedelta import relativedelta"
   ]
  },
  {
   "cell_type": "markdown",
   "id": "947e3e93",
   "metadata": {},
   "source": [
    "# Last 6 month"
   ]
  },
  {
   "cell_type": "code",
   "execution_count": 2,
   "id": "94a5a2b2",
   "metadata": {},
   "outputs": [
    {
     "name": "stdout",
     "output_type": "stream",
     "text": [
      "360 stored evaluation\n",
      "2022-09-16T11:43:52.966563\n",
      "2023-03-15T11:43:52.966648\n",
      "44\n"
     ]
    }
   ],
   "source": [
    "client = MongoClient()\n",
    "db = client.fair_checker\n",
    "evaluations = db.evaluations\n",
    "all_eval = evaluations.count_documents({})\n",
    "print(f\"{all_eval} stored evaluation\")\n",
    "\n",
    "#unique_eval = evaluations.distinct(\"target_uri\")\n",
    "#print(unique_eval)\n",
    "\n",
    "six_month_ago = datetime.now() - timedelta(days=180)\n",
    "\n",
    "print(six_month_ago.isoformat())\n",
    "print(datetime.now().isoformat())\n",
    "sixm_eval = evaluations.count_documents({\"started_at\": {\"$gt\": six_month_ago}})\n",
    "print(sixm_eval)"
   ]
  },
  {
   "cell_type": "markdown",
   "id": "6d1481dd",
   "metadata": {},
   "source": [
    "# Yearly"
   ]
  },
  {
   "cell_type": "code",
   "execution_count": 3,
   "id": "e5a45fd3",
   "metadata": {},
   "outputs": [
    {
     "data": {
      "text/html": [
       "<div>\n",
       "<style scoped>\n",
       "    .dataframe tbody tr th:only-of-type {\n",
       "        vertical-align: middle;\n",
       "    }\n",
       "\n",
       "    .dataframe tbody tr th {\n",
       "        vertical-align: top;\n",
       "    }\n",
       "\n",
       "    .dataframe thead th {\n",
       "        text-align: right;\n",
       "    }\n",
       "</style>\n",
       "<table border=\"1\" class=\"dataframe\">\n",
       "  <thead>\n",
       "    <tr style=\"text-align: right;\">\n",
       "      <th></th>\n",
       "      <th>2018</th>\n",
       "      <th>2019</th>\n",
       "      <th>2020</th>\n",
       "      <th>2021</th>\n",
       "      <th>2022</th>\n",
       "      <th>2023</th>\n",
       "    </tr>\n",
       "  </thead>\n",
       "  <tbody>\n",
       "    <tr>\n",
       "      <th>0</th>\n",
       "      <td>0</td>\n",
       "      <td>0</td>\n",
       "      <td>0</td>\n",
       "      <td>0</td>\n",
       "      <td>349</td>\n",
       "      <td>11</td>\n",
       "    </tr>\n",
       "  </tbody>\n",
       "</table>\n",
       "</div>"
      ],
      "text/plain": [
       "   2018  2019  2020  2021  2022  2023\n",
       "0     0     0     0     0   349    11"
      ]
     },
     "execution_count": 3,
     "metadata": {},
     "output_type": "execute_result"
    }
   ],
   "source": [
    "client = MongoClient()\n",
    "db = client.fair_checker\n",
    "evaluations = db.evaluations\n",
    "\n",
    "#all_eval = evaluations.count_documents({})\n",
    "#print(f\"{all_eval} stored evaluation\")\n",
    "#start = datetime.fromisoformat('2023-01-01')\n",
    "#end = datetime.fromisoformat('2024-01-01')\n",
    "#six_month_ago = datetime.now() - timedelta(days=180)\n",
    "#print(six_months.isoformat())\n",
    "#print(six_month_ago.isoformat())\n",
    "#print(datetime.now().isoformat())\n",
    "#one_year = evaluations.count_documents({\"started_at\": {\"$gte\": start, \"$lt\": end}})\n",
    "#print(one_year)\n",
    "\n",
    "data = {}\n",
    "\n",
    "for i in range(2018,2024):\n",
    "    #print(i)\n",
    "    start = datetime.fromisoformat(f'{i}-01-01')\n",
    "    end = datetime.fromisoformat(f'{i+1}-01-01')\n",
    "    count = evaluations.count_documents({\"started_at\": {\"$gte\": start, \"$lt\": end}})\n",
    "    #print(f\"FAIR-checker evaluations in {i}: {count}\")\n",
    "    data[str(i)] = [count]\n",
    "\n",
    "df = pd.DataFrame(data)\n",
    "df.to_csv(\"year.csv\")\n",
    "df"
   ]
  },
  {
   "cell_type": "code",
   "execution_count": null,
   "id": "bb65aa97",
   "metadata": {},
   "outputs": [],
   "source": []
  },
  {
   "cell_type": "code",
   "execution_count": 4,
   "id": "0029de51",
   "metadata": {},
   "outputs": [
    {
     "data": {
      "image/png": "[encoded data removed]",
      "text/plain": [
       "<Figure size 432x288 with 1 Axes>"
      ]
     },
     "metadata": {
      "needs_background": "light"
     },
     "output_type": "display_data"
    }
   ],
   "source": [
    "import seaborn as sns\n",
    "import matplotlib.pyplot as plt\n",
    "\n",
    "plot = sns.barplot(data=df)\n",
    "plt.savefig(\"stats.png\")"
   ]
  },
  {
   "cell_type": "markdown",
   "id": "dec8dd05",
   "metadata": {},
   "source": [
    "# Monthly"
   ]
  },
  {
   "cell_type": "code",
   "execution_count": 5,
   "id": "abb36941",
   "metadata": {},
   "outputs": [
    {
     "data": {
      "text/html": [
       "<div>\n",
       "<style scoped>\n",
       "    .dataframe tbody tr th:only-of-type {\n",
       "        vertical-align: middle;\n",
       "    }\n",
       "\n",
       "    .dataframe tbody tr th {\n",
       "        vertical-align: top;\n",
       "    }\n",
       "\n",
       "    .dataframe thead th {\n",
       "        text-align: right;\n",
       "    }\n",
       "</style>\n",
       "<table border=\"1\" class=\"dataframe\">\n",
       "  <thead>\n",
       "    <tr style=\"text-align: right;\">\n",
       "      <th></th>\n",
       "      <th>2018-01</th>\n",
       "      <th>2018-02</th>\n",
       "      <th>2018-03</th>\n",
       "      <th>2018-04</th>\n",
       "      <th>2018-05</th>\n",
       "      <th>2018-06</th>\n",
       "      <th>2018-07</th>\n",
       "      <th>2018-08</th>\n",
       "      <th>2018-09</th>\n",
       "      <th>2018-10</th>\n",
       "      <th>...</th>\n",
       "      <th>2023-03</th>\n",
       "      <th>2023-04</th>\n",
       "      <th>2023-05</th>\n",
       "      <th>2023-06</th>\n",
       "      <th>2023-07</th>\n",
       "      <th>2023-08</th>\n",
       "      <th>2023-09</th>\n",
       "      <th>2023-10</th>\n",
       "      <th>2023-11</th>\n",
       "      <th>2023-12</th>\n",
       "    </tr>\n",
       "  </thead>\n",
       "  <tbody>\n",
       "    <tr>\n",
       "      <th>0</th>\n",
       "      <td>0</td>\n",
       "      <td>0</td>\n",
       "      <td>0</td>\n",
       "      <td>0</td>\n",
       "      <td>0</td>\n",
       "      <td>0</td>\n",
       "      <td>0</td>\n",
       "      <td>0</td>\n",
       "      <td>0</td>\n",
       "      <td>0</td>\n",
       "      <td>...</td>\n",
       "      <td>0</td>\n",
       "      <td>0</td>\n",
       "      <td>0</td>\n",
       "      <td>0</td>\n",
       "      <td>0</td>\n",
       "      <td>0</td>\n",
       "      <td>0</td>\n",
       "      <td>0</td>\n",
       "      <td>0</td>\n",
       "      <td>0</td>\n",
       "    </tr>\n",
       "  </tbody>\n",
       "</table>\n",
       "<p>1 rows × 72 columns</p>\n",
       "</div>"
      ],
      "text/plain": [
       "   2018-01  2018-02  2018-03  2018-04  2018-05  2018-06  2018-07  2018-08  \\\n",
       "0        0        0        0        0        0        0        0        0   \n",
       "\n",
       "   2018-09  2018-10  ...  2023-03  2023-04  2023-05  2023-06  2023-07  \\\n",
       "0        0        0  ...        0        0        0        0        0   \n",
       "\n",
       "   2023-08  2023-09  2023-10  2023-11  2023-12  \n",
       "0        0        0        0        0        0  \n",
       "\n",
       "[1 rows x 72 columns]"
      ]
     },
     "execution_count": 5,
     "metadata": {},
     "output_type": "execute_result"
    }
   ],
   "source": [
    "client = MongoClient()\n",
    "db = client.fair_checker\n",
    "evaluations = db.evaluations\n",
    "\n",
    "#all_eval = evaluations.count_documents({})\n",
    "#print(f\"{all_eval} stored evaluation\")\n",
    "#start = datetime.fromisoformat('2023-01-01')\n",
    "#end = datetime.fromisoformat('2024-01-01')\n",
    "#six_month_ago = datetime.now() - timedelta(days=180)\n",
    "#print(six_months.isoformat())\n",
    "#print(six_month_ago.isoformat())\n",
    "#print(datetime.now().isoformat())\n",
    "#one_year = evaluations.count_documents({\"started_at\": {\"$gte\": start, \"$lt\": end}})\n",
    "#print(one_year)\n",
    "\n",
    "data_m = {}\n",
    "\n",
    "for y in range(2018,2024):\n",
    "    for m in [\"01\", \"02\", \"03\", \"04\", \"05\", \"06\", \"07\", \"08\", \"09\", \"10\",\"11\", \"12\"]:\n",
    "        start = datetime.fromisoformat(f'{y}-{m}-01')\n",
    "        end = start + timedelta(days=30)\n",
    "        #print(f\"{start} -> {end}\")\n",
    "        count = evaluations.count_documents({\"started_at\": {\"$gte\": start, \"$lt\": end}})\n",
    "        #print(f\"FAIR-checker evaluations in {i}: {count}\")\n",
    "        data_m[f\"{y}-{m}\"] = [count]\n",
    "\n",
    "df_m = pd.DataFrame(data_m)\n",
    "df_m.to_csv(\"months.csv\")\n",
    "df_m"
   ]
  },
  {
   "cell_type": "code",
   "execution_count": 6,
   "id": "0aae1870",
   "metadata": {},
   "outputs": [
    {
     "data": {
      "image/png": "[encoded data removed]",
      "text/plain": [
       "<Figure size 1800x600 with 1 Axes>"
      ]
     },
     "metadata": {
      "needs_background": "light"
     },
     "output_type": "display_data"
    }
   ],
   "source": [
    "import seaborn as sns\n",
    "import matplotlib.pyplot as plt\n",
    "\n",
    "plt.rcParams[\"figure.figsize\"]=(18,6)\n",
    "plt.rcParams[\"figure.dpi\"] = 100\n",
    "plt.rcParams[\"savefig.dpi\"] = 300\n",
    "\n",
    "plt.xticks(rotation='vertical')\n",
    "\n",
    "plot = sns.barplot(data=df_m)\n",
    "plt.savefig(\"stats_m.png\")"
   ]
  },
  {
   "cell_type": "code",
   "execution_count": null,
   "id": "452da9c6",
   "metadata": {},
   "outputs": [],
   "source": []
  },
  {
   "cell_type": "code",
   "execution_count": 7,
   "id": "1b08e191",
   "metadata": {},
   "outputs": [
    {
     "data": {
      "text/plain": [
       "<AxesSubplot:>"
      ]
     },
     "execution_count": 7,
     "metadata": {},
     "output_type": "execute_result"
    }
   ],
   "source": [
    "plot"
   ]
  },
  {
   "cell_type": "markdown",
   "id": "9237cc34",
   "metadata": {},
   "source": [
    "# Assessed domains "
   ]
  },
  {
   "cell_type": "code",
   "execution_count": 45,
   "id": "a57ba11b",
   "metadata": {},
   "outputs": [
    {
     "name": "stdout",
     "output_type": "stream",
     "text": [
      "{'bio.tools': 236, 'doi.pangaea.de': 65, 'workflowhub.eu': 36, 'search.datacite.org': 27}\n"
     ]
    }
   ],
   "source": [
    "from urllib.parse import urlparse\n",
    "\n",
    "client = MongoClient()\n",
    "db = client.fair_checker\n",
    "evaluations = db.evaluations\n",
    "\n",
    "domains = {}\n",
    "\n",
    "for e in evaluations.find({}):\n",
    "    url = urlparse(e[\"target_uri\"])\n",
    "    d = url.netloc\n",
    "    if not d in domains.keys():\n",
    "        domains[d] = 1\n",
    "    domains[d] += 1\n",
    "\n",
    "json_data = []\n",
    "print(domains)\n",
    "for d in domains.keys():\n",
    "    json_data.append({\"domain\":d, \"FAIReval\":domains[d]})\n",
    "    \n",
    "df_domains = pd.DataFrame(json_data)\n",
    "\n",
    "df_sorted = df_domains.sort_values(by=\"FAIReval\", ascending=False)\n",
    "df_sorted.to_csv(\"domains.csv\")"
   ]
  },
  {
   "cell_type": "code",
   "execution_count": 32,
   "id": "7e563a05",
   "metadata": {},
   "outputs": [
    {
     "data": {
      "image/png": "[encoded data removed]",
      "text/plain": [
       "<Figure size 1800x600 with 1 Axes>"
      ]
     },
     "metadata": {
      "needs_background": "light"
     },
     "output_type": "display_data"
    }
   ],
   "source": [
    "plot = sns.barplot(data=df_domains, )"
   ]
  },
  {
   "cell_type": "code",
   "execution_count": null,
   "id": "ca3a3798",
   "metadata": {},
   "outputs": [],
   "source": []
  }
 ],
 "metadata": {
  "kernelspec": {
   "display_name": "Python 3 (ipykernel)",
   "language": "python",
   "name": "python3"
  },
  "language_info": {
   "codemirror_mode": {
    "name": "ipython",
    "version": 3
   },
   "file_extension": ".py",
   "mimetype": "text/x-python",
   "name": "python",
   "nbconvert_exporter": "python",
   "pygments_lexer": "ipython3",
   "version": "3.9.10"
  }
 },
 "nbformat": 4,
 "nbformat_minor": 5
}
