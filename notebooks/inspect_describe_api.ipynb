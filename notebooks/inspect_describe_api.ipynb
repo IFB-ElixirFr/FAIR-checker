{
 "cells": [
  {
   "cell_type": "code",
   "execution_count": 13,
   "id": "23cb1a3e",
   "metadata": {},
   "outputs": [],
   "source": [
    "import requests\n",
    "from tqdm.notebook import tqdm\n",
    "import json"
   ]
  },
  {
   "cell_type": "code",
   "execution_count": 14,
   "id": "0c7f4ba5",
   "metadata": {},
   "outputs": [],
   "source": [
    "base_url = \"http://0.0.0.0:5000\"\n",
    "\n",
    "api_endpoints = [\n",
    "    base_url + \"/api/inspect/describe_openaire?url=\",\n",
    "    base_url + \"/api/inspect/describe_opencitation?url=\",\n",
    "    base_url + \"/api/inspect/describe_wikidata?url=\",\n",
    "]"
   ]
  },
  {
   "cell_type": "code",
   "execution_count": 15,
   "id": "b31d89ff",
   "metadata": {},
   "outputs": [
    {
     "name": "stdout",
     "output_type": "stream",
     "text": [
      "REST request to dryad...\n",
      "Parsing result...\n",
      "https://datadryad.org/api/v2/datasets?page=2&per_page=100\n",
      "REST request to dryad...\n",
      "https://datadryad.org/api/v2/datasets?page=3&per_page=100\n",
      "REST request to dryad...\n",
      "https://datadryad.org/api/v2/datasets?page=4&per_page=100\n",
      "REST request to dryad...\n",
      "https://datadryad.org/api/v2/datasets?page=5&per_page=100\n",
      "REST request to dryad...\n",
      "https://datadryad.org/api/v2/datasets?page=6&per_page=100\n",
      "REST request to dryad...\n",
      "https://datadryad.org/api/v2/datasets?page=7&per_page=100\n",
      "REST request to dryad...\n",
      "https://datadryad.org/api/v2/datasets?page=8&per_page=100\n",
      "REST request to dryad...\n",
      "https://datadryad.org/api/v2/datasets?page=9&per_page=100\n",
      "REST request to dryad...\n",
      "https://datadryad.org/api/v2/datasets?page=10&per_page=100\n",
      "REST request to dryad...\n",
      "https://datadryad.org/api/v2/datasets?page=11&per_page=100\n",
      "REST request to dryad...\n",
      "https://datadryad.org/api/v2/datasets?page=12&per_page=100\n",
      "REST request to dryad...\n",
      "https://datadryad.org/api/v2/datasets?page=13&per_page=100\n",
      "REST request to dryad...\n",
      "https://datadryad.org/api/v2/datasets?page=14&per_page=100\n",
      "REST request to dryad...\n",
      "https://datadryad.org/api/v2/datasets?page=15&per_page=100\n",
      "REST request to dryad...\n",
      "https://datadryad.org/api/v2/datasets?page=16&per_page=100\n",
      "REST request to dryad...\n",
      "https://datadryad.org/api/v2/datasets?page=17&per_page=100\n",
      "REST request to dryad...\n",
      "https://datadryad.org/api/v2/datasets?page=18&per_page=100\n",
      "REST request to dryad...\n",
      "https://datadryad.org/api/v2/datasets?page=19&per_page=100\n",
      "REST request to dryad...\n",
      "https://datadryad.org/api/v2/datasets?page=20&per_page=100\n",
      "REST request to dryad...\n",
      "https://datadryad.org/api/v2/datasets?page=21&per_page=100\n",
      "REST request to dryad...\n",
      "https://datadryad.org/api/v2/datasets?page=22&per_page=100\n",
      "REST request to dryad...\n",
      "https://datadryad.org/api/v2/datasets?page=23&per_page=100\n",
      "REST request to dryad...\n",
      "https://datadryad.org/api/v2/datasets?page=24&per_page=100\n",
      "REST request to dryad...\n",
      "https://datadryad.org/api/v2/datasets?page=25&per_page=100\n",
      "REST request to dryad...\n",
      "https://datadryad.org/api/v2/datasets?page=26&per_page=100\n",
      "REST request to dryad...\n",
      "https://datadryad.org/api/v2/datasets?page=27&per_page=100\n",
      "REST request to dryad...\n",
      "https://datadryad.org/api/v2/datasets?page=28&per_page=100\n",
      "REST request to dryad...\n",
      "https://datadryad.org/api/v2/datasets?page=29&per_page=100\n",
      "REST request to dryad...\n",
      "https://datadryad.org/api/v2/datasets?page=30&per_page=100\n",
      "REST request to dryad...\n",
      "https://datadryad.org/api/v2/datasets?page=31&per_page=100\n",
      "REST request to dryad...\n",
      "https://datadryad.org/api/v2/datasets?page=32&per_page=100\n",
      "Retrieved 3100 DOIs\n",
      "Stored 'dois_list' (list)\n"
     ]
    }
   ],
   "source": [
    "NB_DOIS = 100\n",
    "\n",
    "%run get_dois_dryad.ipynb\n",
    "filename = \"dryad_\" + str(NB_DOIS) + \".json\"\n",
    "\n",
    "# %run get_dois_pangaea.ipynb\n",
    "# filename = \"pangaea_\" + str(NB_DOIS) + \".json\"\n",
    "\n",
    "# %run get_dois_zenodo.ipynb\n",
    "# filename = \"zenodo_\" + str(NB_DOIS) + \".json\"\n",
    "\n",
    "%store -r dois_list"
   ]
  },
  {
   "cell_type": "code",
   "execution_count": 16,
   "id": "2a7779fe",
   "metadata": {},
   "outputs": [
    {
     "name": "stdout",
     "output_type": "stream",
     "text": [
      "3100\n"
     ]
    }
   ],
   "source": [
    "import random\n",
    "#sample_tool = random.choice(index.keys())\n",
    "\n",
    "random.seed(10)\n",
    "\n",
    "print(len(dois_list))\n",
    "\n",
    "#samples = random.sample(list(index.items()), 1000)\n",
    "samples_dois_list = random.sample(dois_list, NB_DOIS)\n",
    "\n",
    "splitedSize = 100\n",
    "samples_chunks = [samples_dois_list[x:x+splitedSize] for x in range(0, len(samples_dois_list), splitedSize)]"
   ]
  },
  {
   "cell_type": "code",
   "execution_count": 17,
   "id": "af6cff78",
   "metadata": {},
   "outputs": [
    {
     "name": "stdout",
     "output_type": "stream",
     "text": [
      "100\n"
     ]
    }
   ],
   "source": [
    "print(len(samples_dois_list))"
   ]
  },
  {
   "cell_type": "code",
   "execution_count": 24,
   "id": "7e005ad4",
   "metadata": {},
   "outputs": [
    {
     "data": {
      "application/vnd.jupyter.widget-view+json": {
       "model_id": "51bb5d287d4949acb66e34c0c2a3ffc2",
       "version_major": 2,
       "version_minor": 0
      },
      "text/plain": [
       "  0%|          | 0/100 [00:00<?, ?it/s]"
      ]
     },
     "metadata": {},
     "output_type": "display_data"
    }
   ],
   "source": [
    "results = []\n",
    "for url in tqdm(samples_dois_list):\n",
    "    response = requests.get(base_url + \"/api/inspect/get_rdf_metadata?url=\" + url)\n",
    "    graph = json.dumps(response.json(), ensure_ascii=False)\n",
    "    for endpoint in api_endpoints:\n",
    "        response = requests.post(endpoint.replace(\"?url=\", \"/\"), json={\"json-ld\": graph, \"url\": url})\n",
    "        result = {\n",
    "            \"url\": url,\n",
    "            \"endpoint\": endpoint.split(\"/\")[-2],\n",
    "            \"triples_before\": response.json()[\"triples_before\"],\n",
    "            \"triples_after\": response.json()[\"triples_after\"],\n",
    "            \"improved\": response.json()[\"triples_before\"] < response.json()[\"triples_after\"],\n",
    "        }\n",
    "        results.append(result)"
   ]
  },
  {
   "cell_type": "code",
   "execution_count": null,
   "id": "4bbdd226",
   "metadata": {},
   "outputs": [
    {
     "name": "stdout",
     "output_type": "stream",
     "text": [
      "ENDPOINT: describe_openaire\n",
      "URL: https://doi.org/10.1594/PANGAEA.785298\n",
      "ENDPOINT: describe_openaire\n",
      "URL: https://doi.org/10.1594/PANGAEA.874463\n",
      "ENDPOINT: describe_openaire\n",
      "URL: https://doi.org/10.1594/PANGAEA.821717\n",
      "ENDPOINT: describe_openaire\n",
      "URL: https://doi.org/10.1594/PANGAEA.770070\n",
      "ENDPOINT: describe_openaire\n",
      "URL: https://doi.org/10.1594/PANGAEA.861691\n",
      "ENDPOINT: describe_openaire\n",
      "URL: https://doi.org/10.1594/PANGAEA.751391\n",
      "ENDPOINT: describe_openaire\n",
      "URL: https://doi.org/10.1594/PANGAEA.839181\n",
      "ENDPOINT: describe_openaire\n",
      "URL: https://doi.org/10.1594/PANGAEA.510801\n",
      "ENDPOINT: describe_openaire\n",
      "URL: https://doi.org/10.1594/PANGAEA.892787\n",
      "ENDPOINT: describe_openaire\n",
      "URL: https://doi.org/10.1594/PANGAEA.823111\n",
      "ENDPOINT: describe_openaire\n",
      "URL: https://doi.org/10.1594/PANGAEA.745448\n",
      "ENDPOINT: describe_openaire\n",
      "URL: https://doi.pangaea.de/10.1594/PANGAEA.806685\n",
      "ENDPOINT: describe_openaire\n",
      "URL: https://doi.pangaea.de/10.1594/PANGAEA.810727\n",
      "ENDPOINT: describe_openaire\n",
      "URL: https://doi.org/10.1594/PANGAEA.882586\n",
      "ENDPOINT: describe_openaire\n",
      "URL: https://doi.org/10.1594/PANGAEA.846521\n",
      "ENDPOINT: describe_openaire\n",
      "URL: https://doi.org/10.1594/PANGAEA.867489\n",
      "ENDPOINT: describe_openaire\n",
      "URL: https://doi.org/10.1594/PANGAEA.835576\n",
      "ENDPOINT: describe_openaire\n",
      "URL: https://doi.pangaea.de/10.1594/PANGAEA.821631\n",
      "ENDPOINT: describe_openaire\n",
      "URL: https://doi.org/10.1594/PANGAEA.821692\n",
      "ENDPOINT: describe_openaire\n",
      "URL: https://doi.org/10.1594/PANGAEA.832590\n",
      "ENDPOINT: describe_openaire\n",
      "URL: https://doi.org/10.1594/PANGAEA.856579\n",
      "ENDPOINT: describe_openaire\n",
      "URL: https://doi.org/10.1594/PANGAEA.858436\n",
      "ENDPOINT: describe_openaire\n",
      "URL: https://doi.org/10.1594/PANGAEA.874477\n",
      "ENDPOINT: describe_openaire\n",
      "URL: https://doi.org/10.1594/PANGAEA.828229\n",
      "ENDPOINT: describe_openaire\n",
      "URL: https://doi.org/10.1594/PANGAEA.820041\n",
      "ENDPOINT: describe_openaire\n",
      "URL: https://doi.org/10.1594/PANGAEA.779503\n",
      "Improved: 26\n",
      "Not improved: 2974\n"
     ]
    }
   ],
   "source": [
    "improved = 0\n",
    "not_improved = 0\n",
    "\n",
    "for res in results:\n",
    "    if not res[\"improved\"]:\n",
    "        not_improved += 1\n",
    "    else:\n",
    "        print(\"ENDPOINT: \" + res[\"endpoint\"])\n",
    "        print(\"URL: \" + res[\"url\"])\n",
    "        improved += 1\n",
    "        \n",
    "print(\"Improved: \" + str(improved))\n",
    "print(\"Not improved: \" + str(not_improved))"
   ]
  },
  {
   "cell_type": "code",
   "execution_count": null,
   "id": "ce4faedf",
   "metadata": {},
   "outputs": [],
   "source": [
    "json_object = json.dumps(results)\n",
    "with open(\"results/\" + filename, \"w+\") as outfile:\n",
    "    outfile.write(json_object)"
   ]
  }
 ],
 "metadata": {
  "kernelspec": {
   "display_name": "Python 3.8.13 ('fair-checker-env')",
   "language": "python",
   "name": "python3"
  },
  "language_info": {
   "codemirror_mode": {
    "name": "ipython",
    "version": 3
   },
   "file_extension": ".py",
   "mimetype": "text/x-python",
   "name": "python",
   "nbconvert_exporter": "python",
   "pygments_lexer": "ipython3",
   "version": "3.8.13"
  },
  "vscode": {
   "interpreter": {
    "hash": "82c95eaed9b7814b6b67210ee18d92602a88bf6123211dd4a952f053f4fa5f60"
   }
  }
 },
 "nbformat": 4,
 "nbformat_minor": 5
}
