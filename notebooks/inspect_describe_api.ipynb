{
 "cells": [
  {
   "cell_type": "code",
   "execution_count": 8,
   "metadata": {},
   "outputs": [],
   "source": [
    "import requests\n",
    "from tqdm.notebook import tqdm\n",
    "import json"
   ]
  },
  {
   "cell_type": "code",
   "execution_count": 9,
   "id": "0c7f4ba5",
   "metadata": {},
   "outputs": [],
   "source": [
    "base_url = \"http://0.0.0.0:5000\"\n",
    "\n",
    "api_endpoints = [\n",
    "    \"http://0.0.0.0:5000\" + \"/api/inspect/describe_openaire/\",\n",
    "    \"http://0.0.0.0:5000\" + \"/api/inspect/describe_opencitation/\",\n",
    "    \"http://0.0.0.0:5000\" + \"/api/inspect/describe_wikidata/\",\n",
    "]"
   ]
  },
  {
   "cell_type": "code",
   "execution_count": 10,
   "id": "b31d89ff",
   "metadata": {},
   "outputs": [
    {
     "name": "stdout",
     "output_type": "stream",
     "text": [
      "REST request to dryad...\n",
      "Parsing result...\n",
      "https://datadryad.org/api/v2/datasets?page=2&per_page=100\n",
      "REST request to dryad...\n",
      "https://datadryad.org/api/v2/datasets?page=3&per_page=100\n",
      "REST request to dryad...\n",
      "https://datadryad.org/api/v2/datasets?page=4&per_page=100\n",
      "REST request to dryad...\n",
      "https://datadryad.org/api/v2/datasets?page=5&per_page=100\n",
      "REST request to dryad...\n",
      "https://datadryad.org/api/v2/datasets?page=6&per_page=100\n",
      "REST request to dryad...\n",
      "https://datadryad.org/api/v2/datasets?page=7&per_page=100\n",
      "REST request to dryad...\n",
      "https://datadryad.org/api/v2/datasets?page=8&per_page=100\n",
      "REST request to dryad...\n",
      "https://datadryad.org/api/v2/datasets?page=9&per_page=100\n",
      "REST request to dryad...\n",
      "https://datadryad.org/api/v2/datasets?page=10&per_page=100\n",
      "REST request to dryad...\n",
      "https://datadryad.org/api/v2/datasets?page=11&per_page=100\n",
      "REST request to dryad...\n",
      "https://datadryad.org/api/v2/datasets?page=12&per_page=100\n",
      "REST request to dryad...\n",
      "https://datadryad.org/api/v2/datasets?page=13&per_page=100\n",
      "REST request to dryad...\n",
      "https://datadryad.org/api/v2/datasets?page=14&per_page=100\n",
      "REST request to dryad...\n",
      "https://datadryad.org/api/v2/datasets?page=15&per_page=100\n",
      "REST request to dryad...\n",
      "https://datadryad.org/api/v2/datasets?page=16&per_page=100\n",
      "REST request to dryad...\n",
      "https://datadryad.org/api/v2/datasets?page=17&per_page=100\n",
      "REST request to dryad...\n",
      "https://datadryad.org/api/v2/datasets?page=18&per_page=100\n",
      "REST request to dryad...\n",
      "https://datadryad.org/api/v2/datasets?page=19&per_page=100\n",
      "REST request to dryad...\n",
      "https://datadryad.org/api/v2/datasets?page=20&per_page=100\n",
      "REST request to dryad...\n",
      "https://datadryad.org/api/v2/datasets?page=21&per_page=100\n",
      "REST request to dryad...\n",
      "https://datadryad.org/api/v2/datasets?page=22&per_page=100\n",
      "REST request to dryad...\n",
      "https://datadryad.org/api/v2/datasets?page=23&per_page=100\n",
      "REST request to dryad...\n",
      "https://datadryad.org/api/v2/datasets?page=24&per_page=100\n",
      "REST request to dryad...\n",
      "https://datadryad.org/api/v2/datasets?page=25&per_page=100\n",
      "REST request to dryad...\n",
      "https://datadryad.org/api/v2/datasets?page=26&per_page=100\n",
      "REST request to dryad...\n",
      "https://datadryad.org/api/v2/datasets?page=27&per_page=100\n",
      "REST request to dryad...\n",
      "https://datadryad.org/api/v2/datasets?page=28&per_page=100\n",
      "REST request to dryad...\n",
      "https://datadryad.org/api/v2/datasets?page=29&per_page=100\n",
      "REST request to dryad...\n",
      "https://datadryad.org/api/v2/datasets?page=30&per_page=100\n",
      "REST request to dryad...\n",
      "https://datadryad.org/api/v2/datasets?page=31&per_page=100\n",
      "REST request to dryad...\n",
      "https://datadryad.org/api/v2/datasets?page=32&per_page=100\n",
      "Retrieved 3100 DOIs\n",
      "Stored 'dois_list' (list)\n"
     ]
    }
   ],
   "source": [
    "NB_DOIS = 2000\n",
    "\n",
    "%run get_dois_dryad.ipynb\n",
    "filename = \"dryad_\" + str(NB_DOIS) + \".json\"\n",
    "\n",
    "# %run get_dois_pangaea.ipynb\n",
    "# filename = \"pangaea_\" + str(NB_DOIS) + \".json\"\n",
    "\n",
    "# %run get_dois_zenodo.ipynb\n",
    "# filename = \"zenodo_\" + str(NB_DOIS) + \".json\"\n",
    "\n",
    "%store -r dois_list"
   ]
  },
  {
   "cell_type": "code",
   "execution_count": 11,
   "id": "2a7779fe",
   "metadata": {},
   "outputs": [
    {
     "name": "stdout",
     "output_type": "stream",
     "text": [
      "3100\n"
     ]
    }
   ],
   "source": [
    "import random\n",
    "#sample_tool = random.choice(index.keys())\n",
    "\n",
    "random.seed(10)\n",
    "\n",
    "print(len(dois_list))\n",
    "\n",
    "#samples = random.sample(list(index.items()), 1000)\n",
    "samples_dois_list = random.sample(dois_list, NB_DOIS)\n",
    "\n",
    "splitedSize = 100\n",
    "samples_chunks = [samples_dois_list[x:x+splitedSize] for x in range(0, len(samples_dois_list), splitedSize)]"
   ]
  },
  {
   "cell_type": "code",
   "execution_count": 12,
   "id": "af6cff78",
   "metadata": {},
   "outputs": [
    {
     "name": "stdout",
     "output_type": "stream",
     "text": [
      "2000\n"
     ]
    }
   ],
   "source": [
    "print(len(samples_dois_list))"
   ]
  },
  {
   "cell_type": "code",
   "execution_count": 13,
   "id": "7e005ad4",
   "metadata": {},
   "outputs": [
    {
     "data": {
      "application/vnd.jupyter.widget-view+json": {
       "model_id": "9d02580752a74189b405c9617c80aa03",
       "version_major": 2,
       "version_minor": 0
      },
      "text/plain": [
       "  0%|          | 0/2000 [00:00<?, ?it/s]"
      ]
     },
     "metadata": {},
     "output_type": "display_data"
    }
   ],
   "source": [
    "results = []\n",
    "for url in tqdm(samples_dois_list):\n",
    "    response = requests.get(\"http://0.0.0.0:5000/api/inspect/get_rdf_metadata/\" + url)\n",
    "    graph = json.dumps(response.json(), ensure_ascii=False)\n",
    "    for endpoint in api_endpoints:\n",
    "        response = requests.post(endpoint, json={\"json-ld\": graph, \"url\": url})\n",
    "        result = {\n",
    "            \"url\": url,\n",
    "            \"endpoint\": endpoint.split(\"/\")[-2],\n",
    "            \"triples_before\": response.json()[\"triples_before\"],\n",
    "            \"triples_after\": response.json()[\"triples_after\"],\n",
    "            \"improved\": response.json()[\"triples_before\"] < response.json()[\"triples_after\"],\n",
    "        }\n",
    "        results.append(result)"
   ]
  },
  {
   "cell_type": "code",
   "execution_count": 14,
   "id": "4bbdd226",
   "metadata": {},
   "outputs": [
    {
     "name": "stdout",
     "output_type": "stream",
     "text": [
      "ENDPOINT: describe_opencitation\n",
      "URL: https://doi.org/10.5061/dryad.f2n6f\n",
      "ENDPOINT: describe_opencitation\n",
      "URL: https://doi.org/10.5061/dryad.h79q4\n",
      "ENDPOINT: describe_opencitation\n",
      "URL: https://doi.org/10.5061/dryad.s00vr\n",
      "ENDPOINT: describe_opencitation\n",
      "URL: https://doi.org/10.5061/dryad.451n7\n",
      "ENDPOINT: describe_openaire\n",
      "URL: https://doi.org/10.5061/dryad.p1b90\n",
      "ENDPOINT: describe_opencitation\n",
      "URL: https://doi.org/10.5061/dryad.fs756\n",
      "ENDPOINT: describe_openaire\n",
      "URL: https://doi.org/10.5061/dryad.5n2bs6r\n",
      "ENDPOINT: describe_opencitation\n",
      "URL: https://doi.org/10.5061/dryad.sm107\n",
      "ENDPOINT: describe_opencitation\n",
      "URL: https://doi.org/10.5061/dryad.r6b87\n",
      "ENDPOINT: describe_opencitation\n",
      "URL: https://doi.org/10.5061/dryad.4rd14\n",
      "ENDPOINT: describe_opencitation\n",
      "URL: https://doi.org/10.5061/dryad.g60r3\n",
      "ENDPOINT: describe_opencitation\n",
      "URL: https://doi.org/10.5061/dryad.s58qh\n",
      "ENDPOINT: describe_opencitation\n",
      "URL: https://doi.org/10.5061/dryad.ch110\n",
      "ENDPOINT: describe_opencitation\n",
      "URL: https://doi.org/10.5061/dryad.m57sd\n",
      "ENDPOINT: describe_opencitation\n",
      "URL: https://doi.org/10.5061/dryad.1nr07\n",
      "ENDPOINT: describe_opencitation\n",
      "URL: https://doi.org/10.5061/dryad.987j0\n",
      "ENDPOINT: describe_opencitation\n",
      "URL: https://doi.org/10.5061/dryad.t5r8m\n",
      "ENDPOINT: describe_openaire\n",
      "URL: https://doi.org/10.5061/dryad.92257\n",
      "ENDPOINT: describe_opencitation\n",
      "URL: https://doi.org/10.5061/dryad.r9c12\n",
      "ENDPOINT: describe_opencitation\n",
      "URL: https://doi.org/10.5061/dryad.14c6b\n",
      "ENDPOINT: describe_opencitation\n",
      "URL: https://doi.org/10.5061/dryad.gc72v\n",
      "ENDPOINT: describe_openaire\n",
      "URL: https://doi.org/10.5061/dryad.gm201\n",
      "ENDPOINT: describe_opencitation\n",
      "URL: https://doi.org/10.5061/dryad.7qk36\n",
      "ENDPOINT: describe_opencitation\n",
      "URL: https://doi.org/10.5061/dryad.nk780\n",
      "ENDPOINT: describe_openaire\n",
      "URL: https://doi.org/10.5061/dryad.qp244\n",
      "ENDPOINT: describe_openaire\n",
      "URL: https://doi.org/10.5061/dryad.k3mr1\n",
      "ENDPOINT: describe_opencitation\n",
      "URL: https://doi.org/10.5061/dryad.457br\n",
      "ENDPOINT: describe_opencitation\n",
      "URL: https://doi.org/10.5061/dryad.20627\n",
      "ENDPOINT: describe_opencitation\n",
      "URL: https://doi.org/10.5061/dryad.6n8kf\n",
      "ENDPOINT: describe_opencitation\n",
      "URL: https://doi.org/10.5061/dryad.8bs2b\n",
      "ENDPOINT: describe_opencitation\n",
      "URL: https://doi.org/10.5061/dryad.3hr2c\n",
      "ENDPOINT: describe_opencitation\n",
      "URL: https://doi.org/10.5061/dryad.q447c\n",
      "ENDPOINT: describe_opencitation\n",
      "URL: https://doi.org/10.5061/dryad.m67r6\n",
      "ENDPOINT: describe_openaire\n",
      "URL: https://doi.org/10.5061/dryad.85sh7\n",
      "ENDPOINT: describe_opencitation\n",
      "URL: https://doi.org/10.5061/dryad.t0m6p\n",
      "ENDPOINT: describe_opencitation\n",
      "URL: https://doi.org/10.5061/dryad.b8226\n",
      "ENDPOINT: describe_opencitation\n",
      "URL: https://doi.org/10.5061/dryad.mk471\n",
      "ENDPOINT: describe_openaire\n",
      "URL: https://doi.org/10.5061/dryad.6k740\n",
      "ENDPOINT: describe_opencitation\n",
      "URL: https://doi.org/10.5061/dryad.t4k7h\n",
      "ENDPOINT: describe_openaire\n",
      "URL: https://doi.org/10.5061/dryad.8t53k\n",
      "ENDPOINT: describe_opencitation\n",
      "URL: https://doi.org/10.5061/dryad.9bc43\n",
      "Improved: 41\n",
      "Not improved: 5959\n"
     ]
    }
   ],
   "source": [
    "improved = 0\n",
    "not_improved = 0\n",
    "\n",
    "for res in results:\n",
    "    if not res[\"improved\"]:\n",
    "        not_improved += 1\n",
    "    else:\n",
    "        print(\"ENDPOINT: \" + res[\"endpoint\"])\n",
    "        print(\"URL: \" + res[\"url\"])\n",
    "        improved += 1\n",
    "        \n",
    "print(\"Improved: \" + str(improved))\n",
    "print(\"Not improved: \" + str(not_improved))"
   ]
  },
  {
   "cell_type": "code",
   "execution_count": 15,
   "id": "ce4faedf",
   "metadata": {},
   "outputs": [],
   "source": [
    "json_object = json.dumps(results)\n",
    "with open(\"results/\" + filename, \"w+\") as outfile:\n",
    "    outfile.write(json_object)"
   ]
  }
 ],
 "metadata": {
  "kernelspec": {
   "display_name": "Python 3.8.13 ('fair-checker-env')",
   "language": "python",
   "name": "python3"
  },
  "language_info": {
   "codemirror_mode": {
    "name": "ipython",
    "version": 3
   },
   "file_extension": ".py",
   "mimetype": "text/x-python",
   "name": "python",
   "nbconvert_exporter": "python",
   "pygments_lexer": "ipython3",
   "version": "3.8.13"
  },
  "vscode": {
   "interpreter": {
    "hash": "82c95eaed9b7814b6b67210ee18d92602a88bf6123211dd4a952f053f4fa5f60"
   }
  }
 },
 "nbformat": 4,
 "nbformat_minor": 5
}
