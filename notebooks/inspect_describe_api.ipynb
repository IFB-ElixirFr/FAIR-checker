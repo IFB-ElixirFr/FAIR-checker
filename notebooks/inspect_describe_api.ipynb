{
 "cells": [
  {
   "cell_type": "code",
   "execution_count": 12,
   "metadata": {},
   "outputs": [],
   "source": [
    "import requests\n",
    "from tqdm import tqdm"
   ]
  },
  {
   "cell_type": "code",
   "execution_count": 2,
   "id": "0c7f4ba5",
   "metadata": {},
   "outputs": [],
   "source": [
    "base_url = \"http://0.0.0.0:5000\"\n",
    "\n",
    "api_endpoints = [\n",
    "    \"http://0.0.0.0:5000\" + \"/api/inspect/describe_openaire/\",\n",
    "    \"http://0.0.0.0:5000\" + \"/api/inspect/describe_opencitation/\",\n",
    "    \"http://0.0.0.0:5000\" + \"/api/inspect/describe_wikidata/\",\n",
    "]"
   ]
  },
  {
   "cell_type": "code",
   "execution_count": 3,
   "id": "78503c9e",
   "metadata": {},
   "outputs": [],
   "source": [
    "TIMEOUT = (10, 300)\n",
    "NB = 10000\n",
    "TYPE = \"dataset\"\n",
    "OUTPUT_DIR = \"./results/zenodo_data/\"\n",
    "\n",
    "def zenodoRestRequest():\n",
    "    print(\"REST request to zenodo...\")\n",
    "    # rest request\n",
    "    url = 'https://zenodo.org/api/records/?sort=mostrecent&page=1&size=' + \"7000\"\n",
    "    while True:\n",
    "        try:\n",
    "            response = requests.get(url, timeout=TIMEOUT)\n",
    "            break\n",
    "        except SSLError:\n",
    "            time.sleep(5)\n",
    "        except requests.exceptions.Timeout:\n",
    "            time.sleep(5)\n",
    "\n",
    "    return response\n",
    "\n",
    "def zenodoJsonParser(response):\n",
    "    print(\"Parsing result...\")\n",
    "    json_response = response.json()\n",
    "\n",
    "    dois_list = []\n",
    "    count = 1\n",
    "    for element in json_response[\"hits\"][\"hits\"]:\n",
    "        type = element[\"metadata\"][\"resource_type\"][\"type\"]\n",
    "        if type == TYPE:\n",
    "            if count > NB: break\n",
    "            dois_list.append(\"https://doi.org/\" + element[\"doi\"])\n",
    "            count += 1\n",
    "\n",
    "    print(\"Retrieved \" + str(len(dois_list)) + \" DOIs\")\n",
    "    return dois_list"
   ]
  },
  {
   "cell_type": "code",
   "execution_count": 4,
   "id": "b31d89ff",
   "metadata": {},
   "outputs": [
    {
     "name": "stdout",
     "output_type": "stream",
     "text": [
      "REST request to zenodo...\n",
      "Parsing result...\n",
      "Retrieved 331 DOIs\n"
     ]
    }
   ],
   "source": [
    "response = zenodoRestRequest()\n",
    "dois_list = zenodoJsonParser(response)"
   ]
  },
  {
   "cell_type": "code",
   "execution_count": 15,
   "id": "2a7779fe",
   "metadata": {},
   "outputs": [
    {
     "name": "stdout",
     "output_type": "stream",
     "text": [
      "331\n"
     ]
    }
   ],
   "source": [
    "import random\n",
    "#sample_tool = random.choice(index.keys())\n",
    "\n",
    "random.seed(10)\n",
    "\n",
    "print(len(dois_list))\n",
    "\n",
    "#samples = random.sample(list(index.items()), 1000)\n",
    "samples_dois_list = random.sample(dois_list, 20)\n",
    "\n",
    "splitedSize = 100\n",
    "samples_chunks = [samples_dois_list[x:x+splitedSize] for x in range(0, len(samples_dois_list), splitedSize)]"
   ]
  },
  {
   "cell_type": "code",
   "execution_count": 16,
   "id": "af6cff78",
   "metadata": {},
   "outputs": [
    {
     "name": "stdout",
     "output_type": "stream",
     "text": [
      "20\n"
     ]
    }
   ],
   "source": [
    "print(len(samples_dois_list))"
   ]
  },
  {
   "cell_type": "code",
   "execution_count": 17,
   "id": "7e005ad4",
   "metadata": {},
   "outputs": [
    {
     "name": "stderr",
     "output_type": "stream",
     "text": [
      "100%|██████████| 20/20 [16:33<00:00, 49.70s/it]\n"
     ]
    }
   ],
   "source": [
    "results = []\n",
    "for url in tqdm(samples_dois_list):\n",
    "    for endpoint in api_endpoints:\n",
    "        response = requests.get(endpoint + url)\n",
    "        result = {\n",
    "            \"url\": url,\n",
    "            \"endpoint\": endpoint.split(\"/\")[-2],\n",
    "            \"triples_before\": response.json()[\"triples_before\"],\n",
    "            \"triples_after\": response.json()[\"triples_after\"],\n",
    "            \"improved\": response.json()[\"triples_before\"] < response.json()[\"triples_after\"],\n",
    "        }\n",
    "        results.append(result)"
   ]
  },
  {
   "cell_type": "code",
   "execution_count": 18,
   "id": "4bbdd226",
   "metadata": {},
   "outputs": [],
   "source": [
    "for res in results:\n",
    "    if not res[\"improved\"]:\n",
    "        print(\"nop\")\n",
    "    if res[\"improved\"]:\n",
    "        print(\"ENDPOINT: \" + res[\"api_endpoints\"])\n",
    "        print(\"URL: \" + res[\"url\"])\n",
    "        "
   ]
  }
 ],
 "metadata": {
  "kernelspec": {
   "display_name": "Python 3.8.13 ('fair-checker-env')",
   "language": "python",
   "name": "python3"
  },
  "language_info": {
   "codemirror_mode": {
    "name": "ipython",
    "version": 3
   },
   "file_extension": ".py",
   "mimetype": "text/x-python",
   "name": "python",
   "nbconvert_exporter": "python",
   "pygments_lexer": "ipython3",
   "version": "3.8.13"
  },
  "vscode": {
   "interpreter": {
    "hash": "82c95eaed9b7814b6b67210ee18d92602a88bf6123211dd4a952f053f4fa5f60"
   }
  }
 },
 "nbformat": 4,
 "nbformat_minor": 5
}
