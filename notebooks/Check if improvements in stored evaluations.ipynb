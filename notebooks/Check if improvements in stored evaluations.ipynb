{
 "cells": [
  {
   "cell_type": "code",
   "execution_count": 9,
   "id": "9b73b47f",
   "metadata": {},
   "outputs": [],
   "source": [
    "from pymongo import MongoClient\n",
    "from datetime import datetime, date, timedelta"
   ]
  },
  {
   "cell_type": "code",
   "execution_count": 12,
   "id": "0d667678",
   "metadata": {},
   "outputs": [
    {
     "name": "stdout",
     "output_type": "stream",
     "text": [
      "48\n"
     ]
    }
   ],
   "source": [
    "client = MongoClient()\n",
    "db = client.fair_checker\n",
    "evaluations = db.evaluations\n",
    "\n",
    "a_day_ago = datetime.now() - timedelta(1)\n",
    "a_week_ago = datetime.now() - timedelta(7)\n",
    "a_month_ago = datetime.now() - timedelta(30)\n",
    "a_year_ago = datetime.now() - timedelta(365)\n",
    "\n",
    "nb_eval = evaluations.count_documents(\n",
    "    {\"started_at\": {\"$gt\": a_year_ago}, \"success\": \"1\"}\n",
    ")\n",
    "print(nb_eval)"
   ]
  },
  {
   "cell_type": "code",
   "execution_count": 31,
   "id": "eda558b4",
   "metadata": {},
   "outputs": [],
   "source": [
    "res = evaluations.distinct('target_uri', {'started_at': {'$gt': a_year_ago}})"
   ]
  },
  {
   "cell_type": "code",
   "execution_count": 37,
   "id": "5d2de07a",
   "metadata": {},
   "outputs": [
    {
     "name": "stdout",
     "output_type": "stream",
     "text": [
      "https://bio.tools/jaspar\n",
      "https://doi.pangaea.de/10.1594/PANGAEA.914331\n",
      "https://workflowhub.eu/workflows/18\n"
     ]
    }
   ],
   "source": [
    "for uri in res:\n",
    "    print(uri)\n",
    "    evals = evaluations.find({'target_uri':str(uri), 'metrics':'F1B'})\n",
    "    l_evals = list(evals)\n",
    "    \n",
    "    first = l_evals[0]\n",
    "    last = l_evals[-1]\n",
    "    \n",
    "    improvement = last['success'] > first['success']\n",
    "    if improvement:\n",
    "        print(\"IMPROVED\")"
   ]
  },
  {
   "cell_type": "code",
   "execution_count": null,
   "id": "df2a81fd",
   "metadata": {},
   "outputs": [],
   "source": []
  }
 ],
 "metadata": {
  "kernelspec": {
   "display_name": "Python 3 (ipykernel)",
   "language": "python",
   "name": "python3"
  },
  "language_info": {
   "codemirror_mode": {
    "name": "ipython",
    "version": 3
   },
   "file_extension": ".py",
   "mimetype": "text/x-python",
   "name": "python",
   "nbconvert_exporter": "python",
   "pygments_lexer": "ipython3",
   "version": "3.9.10"
  }
 },
 "nbformat": 4,
 "nbformat_minor": 5
}
