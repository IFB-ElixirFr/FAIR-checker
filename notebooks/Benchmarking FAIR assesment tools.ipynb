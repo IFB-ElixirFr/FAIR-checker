{
 "cells": [
  {
   "cell_type": "markdown",
   "id": "99899ebb",
   "metadata": {},
   "source": [
    "# Aim of this notebook\n",
    "The goal of this note book is to automate the FAIR assesment of mutliple online resources through the [FAIR-Checker tool](https://fair-checker.france-bioinformatique.fr). \n",
    "All resulst are stored in a matrix and serialized into a CSV file. Scores can be interpreted as follows: \n",
    " - 0 -> `failure`\n",
    " - 1 -> `weak` assesment\n",
    " - 2 -> `strong` assesment\n",
    "\n",
    "To run this notebook you just need the `requests` and `pandas` python libraries. \n",
    "\n",
    "The FAIR-Checker API is better described at https://fair-checker.france-bioinformatique.fr/swagger \n",
    "\n",
    "Please report any issue at https://github.com/IFB-ElixirFr/fair-checker/issues or contact alban.gaignard@univ-nantes.fr. "
   ]
  },
  {
   "cell_type": "code",
   "execution_count": 1,
   "id": "3bd58e06",
   "metadata": {},
   "outputs": [],
   "source": [
    "import time\n",
    "import requests\n",
    "import pandas as pd\n",
    "from tqdm.notebook import tqdm"
   ]
  },
  {
   "cell_type": "markdown",
   "id": "24eaeb32",
   "metadata": {},
   "source": [
    "## Input dataset"
   ]
  },
  {
   "cell_type": "code",
   "execution_count": 2,
   "id": "15863e6a",
   "metadata": {},
   "outputs": [],
   "source": [
    "#urls = [\"http://bio.tools/bwa\",\n",
    "#        \"https://workflowhub.eu/workflows/447\",\n",
    "#        \"https://dataverse.harvard.edu/dataset.xhtml?persistentId=doi:10.7910/DVN/HYPW4B\", \n",
    "#        \"https://tess.elixir-europe.org/materials/discover-drug-targets-with-europe-pmc-machine-learning-dataset-and-open-targets\", \n",
    "#]\n",
    "\n",
    "urls = [\n",
    "    \"https://bio.tools/nf-core-sarek\", \n",
    "    \"https://workflowhub.eu/workflows/521\",\n",
    "    \"https://dataverse.harvard.edu/dataset.xhtml?persistentId=doi:10.7910/DVN/SMVERV\",\n",
    "    \"http://caligraph.org/.well-known/void\",\n",
    "    \"https://www.bgee.org/sparql/\",\n",
    "    \"https://raw.githubusercontent.com/BFO-ontology/BFO/master/bfo.owl\",\n",
    "    \"https://raw.githubusercontent.com/Wimmics/CovidOnTheWeb/master/dataset/covidontheweb-definitions.ttl\",\n",
    "    \"https://entrepot.recherche.data.gouv.fr/dataset.xhtml?persistentId=doi:10.57745/XHQ7TL\",\n",
    "    \"https://www.uniprot.org/uniprotkb/P63000/entry\",\n",
    "    \"https://rest.uniprot.org/uniprotkb/P63000\",\n",
    "    \"https://zenodo.org/record/3950013\",\n",
    "]"
   ]
  },
  {
   "cell_type": "code",
   "execution_count": 3,
   "id": "318d68af",
   "metadata": {},
   "outputs": [],
   "source": [
    "FC_all_metrics_url = \"https://fair-checker.france-bioinformatique.fr/api/check/metrics_all\"\n",
    "#FC_all_metrics_url = \"http://localhost:5000/api/check/metrics_all\""
   ]
  },
  {
   "cell_type": "markdown",
   "id": "06eb9472",
   "metadata": {},
   "source": [
    "## FAIR assesment over all inputs "
   ]
  },
  {
   "cell_type": "code",
   "execution_count": 4,
   "id": "548d9f83",
   "metadata": {},
   "outputs": [
    {
     "data": {
      "application/vnd.jupyter.widget-view+json": {
       "model_id": "f9e99fde8de84d62a92732c1e6659720",
       "version_major": 2,
       "version_minor": 0
      },
      "text/plain": [
       "  0%|          | 0/11 [00:00<?, ?it/s]"
      ]
     },
     "metadata": {},
     "output_type": "display_data"
    },
    {
     "name": "stdout",
     "output_type": "stream",
     "text": [
      "https://bio.tools/nf-core-sarek\n",
      "{'URL': 'https://bio.tools/nf-core-sarek', 'F1A': 2, 'F1B': 2, 'F2A': 1, 'F2B': 1, 'A1.1': 2, 'A1.2': 0, 'I1': 1, 'I2': 1, 'I3': 2, 'R1.1': 0, 'R1.2': 2, 'R1.3': 1, 'duration (s)': 39.0}\n",
      "https://workflowhub.eu/workflows/521\n",
      "{'URL': 'https://workflowhub.eu/workflows/521', 'F1A': 2, 'F1B': 2, 'F2A': 1, 'F2B': 1, 'A1.1': 2, 'A1.2': 2, 'I1': 1, 'I2': 1, 'I3': 2, 'R1.1': 2, 'R1.2': 0, 'R1.3': 1, 'duration (s)': 39.53}\n",
      "https://dataverse.harvard.edu/dataset.xhtml?persistentId=doi:10.7910/DVN/SMVERV\n",
      "{'URL': 'https://dataverse.harvard.edu/dataset.xhtml?persistentId=doi:10.7910/DVN/SMVERV', 'F1A': 2, 'F1B': 2, 'F2A': 1, 'F2B': 2, 'A1.1': 2, 'A1.2': 2, 'I1': 1, 'I2': 2, 'I3': 2, 'R1.1': 2, 'R1.2': 2, 'R1.3': 2, 'duration (s)': 36.24}\n",
      "http://caligraph.org/.well-known/void\n",
      "{'URL': 'http://caligraph.org/.well-known/void', 'F1A': 2, 'F1B': 0, 'F2A': 1, 'F2B': 2, 'A1.1': 2, 'A1.2': 2, 'I1': 1, 'I2': 2, 'I3': 2, 'R1.1': 2, 'R1.2': 2, 'R1.3': 2, 'duration (s)': 29.49}\n",
      "https://www.bgee.org/sparql/\n",
      "{'URL': 'https://www.bgee.org/sparql/', 'F1A': 2, 'F1B': 0, 'F2A': 1, 'F2B': 1, 'A1.1': 2, 'A1.2': 0, 'I1': 1, 'I2': 1, 'I3': 0, 'R1.1': 0, 'R1.2': 0, 'R1.3': 1, 'duration (s)': 13.93}\n",
      "https://raw.githubusercontent.com/BFO-ontology/BFO/master/bfo.owl\n",
      "{'URL': 'https://raw.githubusercontent.com/BFO-ontology/BFO/master/bfo.owl', 'F1A': 2, 'F1B': 0, 'F2A': 1, 'F2B': 2, 'A1.1': 2, 'A1.2': 0, 'I1': 1, 'I2': 2, 'I3': 0, 'R1.1': 0, 'R1.2': 0, 'R1.3': 2, 'duration (s)': 1.25}\n",
      "https://raw.githubusercontent.com/Wimmics/CovidOnTheWeb/master/dataset/covidontheweb-definitions.ttl\n",
      "{'URL': 'https://raw.githubusercontent.com/Wimmics/CovidOnTheWeb/master/dataset/covidontheweb-definitions.ttl', 'F1A': 2, 'F1B': 0, 'F2A': 2, 'F2B': 2, 'A1.1': 2, 'A1.2': 0, 'I1': 2, 'I2': 2, 'I3': 2, 'R1.1': 0, 'R1.2': 0, 'R1.3': 2, 'duration (s)': 6.2}\n",
      "https://entrepot.recherche.data.gouv.fr/dataset.xhtml?persistentId=doi:10.57745/XHQ7TL\n",
      "{'URL': 'https://entrepot.recherche.data.gouv.fr/dataset.xhtml?persistentId=doi:10.57745/XHQ7TL', 'F1A': 2, 'F1B': 2, 'F2A': 1, 'F2B': 2, 'A1.1': 2, 'A1.2': 2, 'I1': 1, 'I2': 2, 'I3': 2, 'R1.1': 2, 'R1.2': 2, 'R1.3': 2, 'duration (s)': 17.83}\n",
      "https://www.uniprot.org/uniprotkb/P63000/entry\n",
      "{'URL': 'https://www.uniprot.org/uniprotkb/P63000/entry', 'F1A': 2, 'F1B': 0, 'F2A': 1, 'F2B': 1, 'A1.1': 2, 'A1.2': 0, 'I1': 1, 'I2': 1, 'I3': 0, 'R1.1': 0, 'R1.2': 0, 'R1.3': 1, 'duration (s)': 17.32}\n",
      "https://rest.uniprot.org/uniprotkb/P63000\n",
      "{'URL': 'https://rest.uniprot.org/uniprotkb/P63000', 'F1A': 2, 'F1B': 0, 'F2A': 0, 'F2B': 0, 'A1.1': 2, 'A1.2': 0, 'I1': 0, 'I2': 0, 'I3': 0, 'R1.1': 0, 'R1.2': 0, 'R1.3': 0, 'duration (s)': 3.17}\n",
      "https://zenodo.org/record/3950013\n",
      "{'URL': 'https://zenodo.org/record/3950013', 'F1A': 2, 'F1B': 2, 'F2A': 1, 'F2B': 2, 'A1.1': 2, 'A1.2': 2, 'I1': 1, 'I2': 2, 'I3': 2, 'R1.1': 2, 'R1.2': 2, 'R1.3': 2, 'duration (s)': 3.57}\n"
     ]
    }
   ],
   "source": [
    "df = pd.DataFrame()\n",
    "rows = []\n",
    "\n",
    "for u in tqdm(urls):\n",
    "    # call to the FC API\n",
    "    start = time.time()\n",
    "    res = requests.get(url=FC_all_metrics_url, params={\"url\": u})\n",
    "    eval_in_sec = time.time() - start\n",
    "    \n",
    "    evaluations = res.json()\n",
    "    row = {\"URL\": u}    \n",
    "    print(u)\n",
    "\n",
    "    if type(evaluations) == list :\n",
    "        # iterating over all evaluation results\n",
    "        for e in evaluations:\n",
    "            #print(e)\n",
    "            row[e[\"metric\"]] = int(e[\"score\"])\n",
    "        row[\"duration (s)\"] = round(eval_in_sec, 2)\n",
    "        print(row)\n",
    "    rows.append(row)"
   ]
  },
  {
   "cell_type": "markdown",
   "id": "639c736f",
   "metadata": {},
   "source": [
    "## Evaluation matrix"
   ]
  },
  {
   "cell_type": "code",
   "execution_count": 68,
   "id": "35cee346",
   "metadata": {},
   "outputs": [
    {
     "data": {
      "text/markdown": [
       "|    | URL                                                                                                  |   F1A |   F1B |   F2A |   F2B |   A1.1 |   A1.2 |   I1 |   I2 |   I3 |   R1.1 |   R1.2 |   R1.3 |   duration (s) |\n",
       "|---:|:-----------------------------------------------------------------------------------------------------|------:|------:|------:|------:|-------:|-------:|-----:|-----:|-----:|-------:|-------:|-------:|---------------:|\n",
       "|  0 | https://bio.tools/nf-core-sarek                                                                      |     2 |     2 |     1 |     1 |      2 |      0 |    1 |    1 |    2 |      0 |      2 |      1 |           3.18 |\n",
       "|  1 | https://workflowhub.eu/workflows/521                                                                 |     2 |     2 |     1 |     1 |      2 |      2 |    1 |    1 |    2 |      2 |      0 |      1 |           4.52 |\n",
       "|  2 | https://dataverse.harvard.edu/dataset.xhtml?persistentId=doi:10.7910/DVN/SMVERV                      |     2 |     2 |     1 |     2 |      2 |      2 |    1 |    2 |    2 |      2 |      2 |      2 |           8.58 |\n",
       "|  3 | http://caligraph.org/.well-known/void                                                                |     2 |     0 |     1 |     2 |      2 |      2 |    1 |    2 |    2 |      2 |      2 |      2 |           1.02 |\n",
       "|  4 | https://www.bgee.org/sparql/                                                                         |     2 |     0 |     1 |     1 |      2 |      0 |    1 |    1 |    0 |      0 |      0 |      1 |           2.56 |\n",
       "|  5 | https://raw.githubusercontent.com/BFO-ontology/BFO/master/bfo.owl                                    |     2 |     0 |     1 |     2 |      2 |      0 |    1 |    2 |    0 |      0 |      0 |      2 |           1.22 |\n",
       "|  6 | https://raw.githubusercontent.com/Wimmics/CovidOnTheWeb/master/dataset/covidontheweb-definitions.ttl |     2 |     0 |     2 |     2 |      2 |      0 |    2 |    2 |    2 |      0 |      0 |      2 |           1.05 |\n",
       "|  7 | https://entrepot.recherche.data.gouv.fr/dataset.xhtml?persistentId=doi:10.57745/XHQ7TL               |     2 |     2 |     1 |     2 |      2 |      2 |    1 |    2 |    2 |      2 |      2 |      2 |           9.6  |\n",
       "|  8 | https://www.uniprot.org/uniprotkb/P63000/entry                                                       |     2 |     0 |     1 |     1 |      2 |      0 |    1 |    1 |    0 |      0 |      0 |      1 |           3.9  |\n",
       "|  9 | https://rest.uniprot.org/uniprotkb/P63000                                                            |     2 |     0 |     0 |     0 |      2 |      0 |    0 |    0 |    0 |      0 |      0 |      0 |           2.56 |\n",
       "| 10 | https://zenodo.org/record/3950013                                                                    |     2 |     2 |     1 |     2 |      2 |      2 |    1 |    2 |    2 |      2 |      2 |      2 |           3.78 |"
      ],
      "text/plain": [
       "<IPython.core.display.Markdown object>"
      ]
     },
     "metadata": {},
     "output_type": "display_data"
    }
   ],
   "source": [
    "from IPython.display import display, Markdown\n",
    "df = pd.DataFrame.from_records(rows)\n",
    "md = df.to_markdown()\n",
    "display(Markdown(md))"
   ]
  },
  {
   "cell_type": "code",
   "execution_count": 69,
   "id": "da932184",
   "metadata": {},
   "outputs": [],
   "source": [
    "df.to_csv(\"fc_evals.csv\")"
   ]
  },
  {
   "cell_type": "code",
   "execution_count": 70,
   "id": "1fed11f7",
   "metadata": {},
   "outputs": [
    {
     "data": {
      "image/png": "[encoded data removed]",
      "text/plain": [
       "<Figure size 432x288 with 1 Axes>"
      ]
     },
     "metadata": {
      "needs_background": "light"
     },
     "output_type": "display_data"
    }
   ],
   "source": [
    "plot = df[[\"F1A\", \"F1B\", \"F1A\", \"F1B\", \"F2A\", \"F2B\", \"A1.1\", \"A1.2\", \"I2\", \"I3\", \"R1.1\", \"R1.2\", \"R1.3\"]].boxplot(grid=False, rot=45, fontsize=15)"
   ]
  },
  {
   "cell_type": "code",
   "execution_count": null,
   "id": "0bf21d72",
   "metadata": {},
   "outputs": [],
   "source": []
  }
 ],
 "metadata": {
  "kernelspec": {
   "display_name": "Python 3 (ipykernel)",
   "language": "python",
   "name": "python3"
  },
  "language_info": {
   "codemirror_mode": {
    "name": "ipython",
    "version": 3
   },
   "file_extension": ".py",
   "mimetype": "text/x-python",
   "name": "python",
   "nbconvert_exporter": "python",
   "pygments_lexer": "ipython3",
   "version": "3.9.17"
  }
 },
 "nbformat": 4,
 "nbformat_minor": 5
}
