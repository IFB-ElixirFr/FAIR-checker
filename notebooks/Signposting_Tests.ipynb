{
 "cells": [
  {
   "cell_type": "code",
   "execution_count": 3,
   "id": "934570a7",
   "metadata": {},
   "outputs": [
    {
     "name": "stdout",
     "output_type": "stream",
     "text": [
      "Link: <https://w3id.org/a2a-fair-metrics/05-http-describedby-citeas/>; rel=cite-as; anchor=\"https://s11.no/2022/a2a-fair-metrics/05-http-describedby-citeas/\"\n",
      "https://w3id.org/a2a-fair-metrics/05-http-describedby-citeas/\n",
      "https://s11.no/2022/a2a-fair-metrics/05-http-describedby-citeas/index.ttl\n",
      "text/turtle\n"
     ]
    }
   ],
   "source": [
    "import signposting\n",
    "\n",
    "s = signposting.find_signposting_http(\n",
    "        \"https://w3id.org/a2a-fair-metrics/05-http-describedby-citeas/\")\n",
    "\n",
    "print(s.citeAs)\n",
    "print(s.citeAs.target)\n",
    "\n",
    "for d in s.describedBy:\n",
    "        print(d.target)\n",
    "        print(d.type)"
   ]
  },
  {
   "cell_type": "code",
   "execution_count": 4,
   "id": "d9b19a7f",
   "metadata": {},
   "outputs": [
    {
     "name": "stdout",
     "output_type": "stream",
     "text": [
      "Link: <https://w3id.org/a2a-fair-metrics/05-http-describedby-citeas/>; rel=cite-as; anchor=\"https://s11.no/2022/a2a-fair-metrics/05-http-describedby-citeas/\"\n",
      "Link: <https://s11.no/2022/a2a-fair-metrics/05-http-describedby-citeas/index.ttl>; rel=describedby; type=\"text/turtle\"; anchor=\"https://s11.no/2022/a2a-fair-metrics/05-http-describedby-citeas/\"\n"
     ]
    }
   ],
   "source": [
    "s = signposting.find_signposting_http(\n",
    "        \"https://w3id.org/a2a-fair-metrics/05-http-describedby-citeas/\")\n",
    "\n",
    "print(s)"
   ]
  },
  {
   "cell_type": "code",
   "execution_count": null,
   "id": "e8fd4ca0",
   "metadata": {},
   "outputs": [],
   "source": [
    "signposting."
   ]
  }
 ],
 "metadata": {
  "kernelspec": {
   "display_name": "Python 3 (ipykernel)",
   "language": "python",
   "name": "python3"
  },
  "language_info": {
   "codemirror_mode": {
    "name": "ipython",
    "version": 3
   },
   "file_extension": ".py",
   "mimetype": "text/x-python",
   "name": "python",
   "nbconvert_exporter": "python",
   "pygments_lexer": "ipython3",
   "version": "3.9.17"
  }
 },
 "nbformat": 4,
 "nbformat_minor": 5
}
