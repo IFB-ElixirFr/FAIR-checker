{
 "cells": [
  {
   "cell_type": "code",
   "execution_count": null,
   "id": "c076deec",
   "metadata": {},
   "outputs": [],
   "source": [
    "import requests"
   ]
  },
  {
   "cell_type": "code",
   "execution_count": null,
   "id": "5ef8b9c8",
   "metadata": {},
   "outputs": [],
   "source": [
    "TIMEOUT = (10, 300)\n",
    "NB = 3000\n",
    "# NB = 10\n",
    "OUTPUT_DIR = \"../results/dryad_data/\"\n",
    "\n",
    "def dryadRequest(url):\n",
    "    print(\"REST request to dryad...\")\n",
    "    # rest request\n",
    "    while True:\n",
    "        try:\n",
    "            response = requests.get(url, timeout=TIMEOUT)\n",
    "            break\n",
    "        except requests.exceptions.SSLError:\n",
    "            print(\"Error, retrying...\")\n",
    "            time.sleep(5)\n",
    "        except requests.exceptions.Timeout:\n",
    "            print(\"Timeout error, retrying...\")\n",
    "            time.sleep(5)\n",
    "\n",
    "    return response\n",
    "\n",
    "def dryadParser(response):e\n",
    "    print(\"Parsing result...\")\n",
    "    json_response = response.json()\n",
    "    next_page = \"https://datadryad.org\" + json_response[\"_links\"][\"next\"][\"href\"]\n",
    "    count_step = int(json_response[\"count\"])\n",
    "    print(next_page)\n",
    "\n",
    "    \n",
    "    dois_list = []\n",
    "    count = 0\n",
    "    while True:\n",
    "        for element in json_response[\"_embedded\"][\"stash:datasets\"]:\n",
    "            identifier = element[\"identifier\"].replace(\"doi:\", \"https://doi.org/\")\n",
    "            dois_list.append(identifier)\n",
    "\n",
    "        count += count_step\n",
    "        if count > NB: break\n",
    "            \n",
    "        response = dryadRequest(next_page)\n",
    "        json_response = response.json()\n",
    "        next_page = \"https://datadryad.org\" + json_response[\"_links\"][\"next\"][\"href\"]\n",
    "        print(next_page)\n",
    "        \n",
    "\n",
    "    print(\"Retrieved \" + str(len(dois_list)) + \" DOIs\")\n",
    "    return dois_list"
   ]
  },
  {
   "cell_type": "code",
   "execution_count": null,
   "id": "742c0168",
   "metadata": {},
   "outputs": [],
   "source": [
    "response = dryadRequest(\"https://datadryad.org/api/v2/datasets?per_page=100\")\n",
    "dois_list = dryadParser(response)\n",
    "\n",
    "%store dois_list"
   ]
  }
 ],
 "metadata": {
  "kernelspec": {
   "display_name": "Python 3.8.13 ('fair-checker-env')",
   "language": "python",
   "name": "python3"
  },
  "language_info": {
   "codemirror_mode": {
    "name": "ipython",
    "version": 3
   },
   "file_extension": ".py",
   "mimetype": "text/x-python",
   "name": "python",
   "nbconvert_exporter": "python",
   "pygments_lexer": "ipython3",
   "version": "3.8.13"
  },
  "vscode": {
   "interpreter": {
    "hash": "82c95eaed9b7814b6b67210ee18d92602a88bf6123211dd4a952f053f4fa5f60"
   }
  }
 },
 "nbformat": 4,
 "nbformat_minor": 5
}
