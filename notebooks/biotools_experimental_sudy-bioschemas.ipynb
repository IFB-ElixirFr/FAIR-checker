{
 "cells": [
  {
   "cell_type": "code",
   "execution_count": 1,
   "metadata": {},
   "outputs": [
    {
     "name": "stderr",
     "output_type": "stream",
     "text": [
      "[WDM] - \n",
      "\n",
      "[WDM] - ====== WebDriver manager ======\n",
      "[WDM] - Current google-chrome version is 100.0.4896\n",
      "[WDM] - Get LATEST driver version for 100.0.4896\n",
      "[WDM] - Driver [/Users/gaignard-a/.wdm/drivers/chromedriver/mac64/100.0.4896.60/chromedriver] found in cache\n"
     ]
    }
   ],
   "source": [
    "import sys\n",
    "parentdir = \"..\"\n",
    "sys.path.insert(0, parentdir)\n",
    "\n",
    "import requests\n",
    "from os import path\n",
    "from tqdm.notebook import tqdm\n",
    "import pandas as pd\n",
    "import time\n",
    "\n",
    "from metrics.WebResource import WebResource\n",
    "from metrics.FAIRMetricsFactory import FAIRMetricsFactory\n",
    "from metrics.AbstractFAIRMetrics import AbstractFAIRMetrics"
   ]
  },
  {
   "cell_type": "markdown",
   "metadata": {},
   "source": [
    "# Retrieve a Bioschemas RDF dump"
   ]
  },
  {
   "cell_type": "code",
   "execution_count": 2,
   "metadata": {},
   "outputs": [],
   "source": [
    "dump = \"bioschemas-dump.ttl\"\n",
    "if not path.isfile(dump):\n",
    "    r = requests.get(\"https://github.com/bio-tools/content/raw/master/datasets/bioschemas-dump.ttl\")\n",
    "    assert r.status_code == 200\n",
    "    with open(dump, \"wb\") as f:\n",
    "        f.write(r.content)\n",
    "\n",
    "assert path.isfile(dump)"
   ]
  },
  {
   "cell_type": "markdown",
   "metadata": {},
   "source": [
    "# Load the RDF dump"
   ]
  },
  {
   "cell_type": "code",
   "execution_count": 3,
   "metadata": {},
   "outputs": [],
   "source": [
    "from rdflib import ConjunctiveGraph, Namespace, URIRef\n",
    "from rdflib.namespace import RDF, RDFS\n",
    "\n",
    "schema = Namespace(\"http://schema.org/\")"
   ]
  },
  {
   "cell_type": "code",
   "execution_count": 4,
   "metadata": {},
   "outputs": [
    {
     "name": "stdout",
     "output_type": "stream",
     "text": [
      "483678 loaded triples\n"
     ]
    }
   ],
   "source": [
    "KG = ConjunctiveGraph()\n",
    "KG.parse(dump, format=\"turtle\")\n",
    "print(f\"{len(KG)} loaded triples\")"
   ]
  },
  {
   "cell_type": "code",
   "execution_count": 5,
   "metadata": {},
   "outputs": [
    {
     "name": "stdout",
     "output_type": "stream",
     "text": [
      "25048 software applications\n",
      "None\n"
     ]
    }
   ],
   "source": [
    "index = {}\n",
    "for s, p, o in KG.triples((None, RDF.type, schema.SoftwareApplication)):\n",
    "    index[str(s)] = None    \n",
    "print(print(f\"{len(index)} software applications\"))"
   ]
  },
  {
   "cell_type": "code",
   "execution_count": 6,
   "metadata": {},
   "outputs": [],
   "source": [
    "def index_dump():\n",
    "    for i in tqdm(index.keys()):\n",
    "        sub_graph = ConjunctiveGraph()\n",
    "        for s, p, o in KG.triples((URIRef(i), None, None)):\n",
    "            sub_graph.add((s, p, o))\n",
    "        index[i]=sub_graph\n",
    "\n",
    "\n",
    "def get_RDF_sparql(bio_tools_Id):\n",
    "    q = f\"CONSTRUCT {{<{bio_tools_Id}> ?p ?o}} WHERE {{<{bio_tools_Id}> rdf:type schema:SoftwareApplication . <{bio_tools_Id}> ?p ?o .}}\"\n",
    "    res = KG.query(q)\n",
    "    print(res.serialize(format=\"turtle\"))\n",
    "\n",
    "def get_RDF(bio_tools_Id):\n",
    "    sub_graph = ConjunctiveGraph()\n",
    "    for s, p, o in KG.triples((URIRef(bio_tools_Id), None, None)):\n",
    "        sub_graph.add((s, p, o))\n",
    "    print(sub_graph.serialize(format=\"turtle\"))    \n",
    "    \n",
    "#get_RDF_sparql(\"https://bio.tools/bwa\")\n",
    "#get_RDF(\"https://bio.tools/bwa\")"
   ]
  },
  {
   "cell_type": "code",
   "execution_count": 7,
   "metadata": {},
   "outputs": [
    {
     "data": {
      "application/vnd.jupyter.widget-view+json": {
       "model_id": "7b237647127141968fdde141d3a74da2",
       "version_major": 2,
       "version_minor": 0
      },
      "text/plain": [
       "  0%|          | 0/25048 [00:00<?, ?it/s]"
      ]
     },
     "metadata": {},
     "output_type": "display_data"
    }
   ],
   "source": [
    "index_dump()"
   ]
  },
  {
   "cell_type": "code",
   "execution_count": 8,
   "metadata": {},
   "outputs": [],
   "source": [
    "import random\n",
    "#sample_tool = random.choice(index.keys())\n",
    "\n",
    "random.seed(10)\n",
    "\n",
    "#samples = random.sample(list(index.items()), 1000)\n",
    "samples = random.sample(list(index.items()), len(index.items()))\n",
    "\n",
    "#splitedSize = 1000\n",
    "#samples_chunks = [samples[x:x+splitedSize] for x in range(0, len(samples), splitedSize)]"
   ]
  },
  {
   "cell_type": "code",
   "execution_count": null,
   "metadata": {},
   "outputs": [],
   "source": []
  },
  {
   "cell_type": "code",
   "execution_count": 9,
   "metadata": {},
   "outputs": [
    {
     "data": {
      "application/vnd.jupyter.widget-view+json": {
       "model_id": "57d4974408f9445390a165e93b83f8d6",
       "version_major": 2,
       "version_minor": 0
      },
      "text/plain": [
       "  0%|          | 0/25048 [00:00<?, ?it/s]"
      ]
     },
     "metadata": {},
     "output_type": "display_data"
    },
    {
     "data": {
      "text/html": [
       "<div>\n",
       "<style scoped>\n",
       "    .dataframe tbody tr th:only-of-type {\n",
       "        vertical-align: middle;\n",
       "    }\n",
       "\n",
       "    .dataframe tbody tr th {\n",
       "        vertical-align: top;\n",
       "    }\n",
       "\n",
       "    .dataframe thead th {\n",
       "        text-align: right;\n",
       "    }\n",
       "</style>\n",
       "<table border=\"1\" class=\"dataframe\">\n",
       "  <thead>\n",
       "    <tr style=\"text-align: right;\">\n",
       "      <th></th>\n",
       "      <th>id</th>\n",
       "      <th>Mandatory properties</th>\n",
       "      <th>Recommended properties</th>\n",
       "    </tr>\n",
       "  </thead>\n",
       "  <tbody>\n",
       "    <tr>\n",
       "      <th>0</th>\n",
       "      <td>https://bio.tools/ppms</td>\n",
       "      <td>100.0</td>\n",
       "      <td>37.5</td>\n",
       "    </tr>\n",
       "    <tr>\n",
       "      <th>1</th>\n",
       "      <td>https://bio.tools/DRAMP</td>\n",
       "      <td>100.0</td>\n",
       "      <td>50.0</td>\n",
       "    </tr>\n",
       "    <tr>\n",
       "      <th>2</th>\n",
       "      <td>https://bio.tools/m3drop</td>\n",
       "      <td>100.0</td>\n",
       "      <td>75.0</td>\n",
       "    </tr>\n",
       "    <tr>\n",
       "      <th>3</th>\n",
       "      <td>https://bio.tools/mrcip</td>\n",
       "      <td>100.0</td>\n",
       "      <td>50.0</td>\n",
       "    </tr>\n",
       "    <tr>\n",
       "      <th>4</th>\n",
       "      <td>https://bio.tools/probe</td>\n",
       "      <td>100.0</td>\n",
       "      <td>50.0</td>\n",
       "    </tr>\n",
       "    <tr>\n",
       "      <th>...</th>\n",
       "      <td>...</td>\n",
       "      <td>...</td>\n",
       "      <td>...</td>\n",
       "    </tr>\n",
       "    <tr>\n",
       "      <th>25043</th>\n",
       "      <td>https://bio.tools/topmatch</td>\n",
       "      <td>100.0</td>\n",
       "      <td>50.0</td>\n",
       "    </tr>\n",
       "    <tr>\n",
       "      <th>25044</th>\n",
       "      <td>https://bio.tools/spatzie</td>\n",
       "      <td>100.0</td>\n",
       "      <td>62.5</td>\n",
       "    </tr>\n",
       "    <tr>\n",
       "      <th>25045</th>\n",
       "      <td>https://bio.tools/riboexp</td>\n",
       "      <td>100.0</td>\n",
       "      <td>50.0</td>\n",
       "    </tr>\n",
       "    <tr>\n",
       "      <th>25046</th>\n",
       "      <td>https://bio.tools/proq2</td>\n",
       "      <td>100.0</td>\n",
       "      <td>50.0</td>\n",
       "    </tr>\n",
       "    <tr>\n",
       "      <th>25047</th>\n",
       "      <td>https://bio.tools/sembionlqa</td>\n",
       "      <td>100.0</td>\n",
       "      <td>37.5</td>\n",
       "    </tr>\n",
       "  </tbody>\n",
       "</table>\n",
       "<p>25048 rows × 3 columns</p>\n",
       "</div>"
      ],
      "text/plain": [
       "                                 id  Mandatory properties  \\\n",
       "0            https://bio.tools/ppms                 100.0   \n",
       "1           https://bio.tools/DRAMP                 100.0   \n",
       "2          https://bio.tools/m3drop                 100.0   \n",
       "3           https://bio.tools/mrcip                 100.0   \n",
       "4           https://bio.tools/probe                 100.0   \n",
       "...                             ...                   ...   \n",
       "25043    https://bio.tools/topmatch                 100.0   \n",
       "25044     https://bio.tools/spatzie                 100.0   \n",
       "25045     https://bio.tools/riboexp                 100.0   \n",
       "25046       https://bio.tools/proq2                 100.0   \n",
       "25047  https://bio.tools/sembionlqa                 100.0   \n",
       "\n",
       "       Recommended properties  \n",
       "0                        37.5  \n",
       "1                        50.0  \n",
       "2                        75.0  \n",
       "3                        50.0  \n",
       "4                        50.0  \n",
       "...                       ...  \n",
       "25043                    50.0  \n",
       "25044                    62.5  \n",
       "25045                    50.0  \n",
       "25046                    50.0  \n",
       "25047                    37.5  \n",
       "\n",
       "[25048 rows x 3 columns]"
      ]
     },
     "execution_count": 9,
     "metadata": {},
     "output_type": "execute_result"
    }
   ],
   "source": [
    "#%%capture\n",
    "from profiles.bioschemas_shape_gen import validate_any_from_KG\n",
    "from profiles.bioschemas_shape_gen import bs_profiles\n",
    "\n",
    "soft_min = len(bs_profiles[\"sc:SoftwareApplication\"][\"min_props\"])\n",
    "soft_rec = len(bs_profiles[\"sc:SoftwareApplication\"][\"rec_props\"])\n",
    "\n",
    "df = pd.DataFrame()\n",
    "rows =  []\n",
    "\n",
    "for s in tqdm(samples):\n",
    "    row =  {}\n",
    "    row[\"id\"] =  s[0]\n",
    "    res = validate_any_from_KG(kg=s[1])\n",
    "    row[\"Mandatory properties\"] = (1 - (len(res[s[0]][\"errors\"]) / soft_min))  * 100\n",
    "    row[\"Recommended properties\"] = (1 - (len(res[s[0]][\"warnings\"])  / soft_rec)) * 100\n",
    "    rows.append(row)\n",
    "\n",
    "df = pd.concat([df, pd.DataFrame.from_records(rows)])    \n",
    "df"
   ]
  },
  {
   "cell_type": "code",
   "execution_count": 39,
   "metadata": {},
   "outputs": [
    {
     "data": {
      "image/png": "[encoded data removed]",
      "text/plain": [
       "<Figure size 1350x900 with 1 Axes>"
      ]
     },
     "metadata": {},
     "output_type": "display_data"
    }
   ],
   "source": [
    "import seaborn as sns\n",
    "import matplotlib.pyplot as plt\n",
    "\n",
    "sns.set_theme(style=\"ticks\", palette=\"pastel\")\n",
    "\n",
    "plt.rcParams['figure.figsize'] = [4.5, 3]\n",
    "plt.rcParams['figure.dpi'] = 300 \n",
    "n = len(samples)\n",
    "sns.boxplot(data=df)\n",
    "#plt.suptitle(f\"Compliance of {n} bioinformatics softwares with Bioschemas profiles\")\n",
    "plt.savefig('bioschemas-profiles.png')"
   ]
  },
  {
   "cell_type": "code",
   "execution_count": 11,
   "metadata": {},
   "outputs": [
    {
     "name": "stdout",
     "output_type": "stream",
     "text": [
      "53.9908375918237\n",
      "100.0\n"
     ]
    }
   ],
   "source": [
    "print(df[\"Recommended properties\"].mean())\n",
    "print(df[\"Mandatory properties\"].mean())"
   ]
  },
  {
   "cell_type": "code",
   "execution_count": 12,
   "metadata": {},
   "outputs": [
    {
     "name": "stdout",
     "output_type": "stream",
     "text": [
      "12.619903857761363\n",
      "0.0\n"
     ]
    }
   ],
   "source": [
    "print(df[\"Recommended properties\"].std())\n",
    "print(df[\"Mandatory properties\"].std())"
   ]
  },
  {
   "cell_type": "code",
   "execution_count": 13,
   "metadata": {},
   "outputs": [
    {
     "data": {
      "text/html": [
       "<div>\n",
       "<style scoped>\n",
       "    .dataframe tbody tr th:only-of-type {\n",
       "        vertical-align: middle;\n",
       "    }\n",
       "\n",
       "    .dataframe tbody tr th {\n",
       "        vertical-align: top;\n",
       "    }\n",
       "\n",
       "    .dataframe thead th {\n",
       "        text-align: right;\n",
       "    }\n",
       "</style>\n",
       "<table border=\"1\" class=\"dataframe\">\n",
       "  <thead>\n",
       "    <tr style=\"text-align: right;\">\n",
       "      <th></th>\n",
       "      <th>id</th>\n",
       "      <th>Mandatory properties</th>\n",
       "      <th>Recommended properties</th>\n",
       "    </tr>\n",
       "  </thead>\n",
       "  <tbody>\n",
       "    <tr>\n",
       "      <th>0</th>\n",
       "      <td>https://bio.tools/ppms</td>\n",
       "      <td>100.0</td>\n",
       "      <td>37.5</td>\n",
       "    </tr>\n",
       "    <tr>\n",
       "      <th>1</th>\n",
       "      <td>https://bio.tools/DRAMP</td>\n",
       "      <td>100.0</td>\n",
       "      <td>50.0</td>\n",
       "    </tr>\n",
       "    <tr>\n",
       "      <th>2</th>\n",
       "      <td>https://bio.tools/m3drop</td>\n",
       "      <td>100.0</td>\n",
       "      <td>75.0</td>\n",
       "    </tr>\n",
       "    <tr>\n",
       "      <th>3</th>\n",
       "      <td>https://bio.tools/mrcip</td>\n",
       "      <td>100.0</td>\n",
       "      <td>50.0</td>\n",
       "    </tr>\n",
       "    <tr>\n",
       "      <th>4</th>\n",
       "      <td>https://bio.tools/probe</td>\n",
       "      <td>100.0</td>\n",
       "      <td>50.0</td>\n",
       "    </tr>\n",
       "    <tr>\n",
       "      <th>...</th>\n",
       "      <td>...</td>\n",
       "      <td>...</td>\n",
       "      <td>...</td>\n",
       "    </tr>\n",
       "    <tr>\n",
       "      <th>25043</th>\n",
       "      <td>https://bio.tools/topmatch</td>\n",
       "      <td>100.0</td>\n",
       "      <td>50.0</td>\n",
       "    </tr>\n",
       "    <tr>\n",
       "      <th>25044</th>\n",
       "      <td>https://bio.tools/spatzie</td>\n",
       "      <td>100.0</td>\n",
       "      <td>62.5</td>\n",
       "    </tr>\n",
       "    <tr>\n",
       "      <th>25045</th>\n",
       "      <td>https://bio.tools/riboexp</td>\n",
       "      <td>100.0</td>\n",
       "      <td>50.0</td>\n",
       "    </tr>\n",
       "    <tr>\n",
       "      <th>25046</th>\n",
       "      <td>https://bio.tools/proq2</td>\n",
       "      <td>100.0</td>\n",
       "      <td>50.0</td>\n",
       "    </tr>\n",
       "    <tr>\n",
       "      <th>25047</th>\n",
       "      <td>https://bio.tools/sembionlqa</td>\n",
       "      <td>100.0</td>\n",
       "      <td>37.5</td>\n",
       "    </tr>\n",
       "  </tbody>\n",
       "</table>\n",
       "<p>25048 rows × 3 columns</p>\n",
       "</div>"
      ],
      "text/plain": [
       "                                 id  Mandatory properties  \\\n",
       "0            https://bio.tools/ppms                 100.0   \n",
       "1           https://bio.tools/DRAMP                 100.0   \n",
       "2          https://bio.tools/m3drop                 100.0   \n",
       "3           https://bio.tools/mrcip                 100.0   \n",
       "4           https://bio.tools/probe                 100.0   \n",
       "...                             ...                   ...   \n",
       "25043    https://bio.tools/topmatch                 100.0   \n",
       "25044     https://bio.tools/spatzie                 100.0   \n",
       "25045     https://bio.tools/riboexp                 100.0   \n",
       "25046       https://bio.tools/proq2                 100.0   \n",
       "25047  https://bio.tools/sembionlqa                 100.0   \n",
       "\n",
       "       Recommended properties  \n",
       "0                        37.5  \n",
       "1                        50.0  \n",
       "2                        75.0  \n",
       "3                        50.0  \n",
       "4                        50.0  \n",
       "...                       ...  \n",
       "25043                    50.0  \n",
       "25044                    62.5  \n",
       "25045                    50.0  \n",
       "25046                    50.0  \n",
       "25047                    37.5  \n",
       "\n",
       "[25048 rows x 3 columns]"
      ]
     },
     "execution_count": 13,
     "metadata": {},
     "output_type": "execute_result"
    }
   ],
   "source": [
    "df"
   ]
  },
  {
   "cell_type": "code",
   "execution_count": null,
   "metadata": {},
   "outputs": [],
   "source": []
  },
  {
   "cell_type": "code",
   "execution_count": null,
   "metadata": {},
   "outputs": [],
   "source": []
  },
  {
   "cell_type": "code",
   "execution_count": null,
   "metadata": {
    "scrolled": true
   },
   "outputs": [],
   "source": []
  },
  {
   "cell_type": "code",
   "execution_count": null,
   "metadata": {
    "scrolled": true
   },
   "outputs": [],
   "source": []
  },
  {
   "cell_type": "code",
   "execution_count": null,
   "metadata": {},
   "outputs": [],
   "source": []
  },
  {
   "cell_type": "code",
   "execution_count": null,
   "metadata": {},
   "outputs": [],
   "source": []
  },
  {
   "cell_type": "code",
   "execution_count": null,
   "metadata": {
    "scrolled": true
   },
   "outputs": [],
   "source": []
  },
  {
   "cell_type": "code",
   "execution_count": null,
   "metadata": {},
   "outputs": [],
   "source": []
  },
  {
   "cell_type": "code",
   "execution_count": null,
   "metadata": {},
   "outputs": [],
   "source": []
  },
  {
   "cell_type": "code",
   "execution_count": null,
   "metadata": {},
   "outputs": [],
   "source": []
  },
  {
   "cell_type": "code",
   "execution_count": null,
   "metadata": {},
   "outputs": [],
   "source": []
  },
  {
   "cell_type": "code",
   "execution_count": null,
   "metadata": {},
   "outputs": [],
   "source": []
  }
 ],
 "metadata": {
  "interpreter": {
   "hash": "e202b6cb132b9357ed023fecdbc194f9a7f520726b3b39fdf8a2279e78a83e12"
  },
  "kernelspec": {
   "display_name": "Python 3 (ipykernel)",
   "language": "python",
   "name": "python3"
  },
  "language_info": {
   "codemirror_mode": {
    "name": "ipython",
    "version": 3
   },
   "file_extension": ".py",
   "mimetype": "text/x-python",
   "name": "python",
   "nbconvert_exporter": "python",
   "pygments_lexer": "ipython3",
   "version": "3.9.10"
  }
 },
 "nbformat": 4,
 "nbformat_minor": 2
}
