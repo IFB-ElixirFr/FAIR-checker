{
 "cells": [
  {
   "cell_type": "code",
   "execution_count": 1,
   "id": "c3687476",
   "metadata": {},
   "outputs": [],
   "source": [
    "import requests\n",
    "from rdflib import ConjunctiveGraph"
   ]
  },
  {
   "cell_type": "code",
   "execution_count": 2,
   "id": "6cd4e3fc",
   "metadata": {},
   "outputs": [],
   "source": [
    "url = \"https://bio.tools/jaspar\""
   ]
  },
  {
   "cell_type": "markdown",
   "id": "e945b007",
   "metadata": {},
   "source": [
    "## Retrieving Metadata using FC API"
   ]
  },
  {
   "cell_type": "code",
   "execution_count": 3,
   "id": "24084939",
   "metadata": {},
   "outputs": [
    {
     "name": "stdout",
     "output_type": "stream",
     "text": [
      "98\n"
     ]
    }
   ],
   "source": [
    "response = requests.get(\"https://fair-checker.france-bioinformatique.fr/api/inspect/get_rdf_metadata?url=\" + url)\n",
    "result = response.text\n",
    "kg = ConjunctiveGraph()\n",
    "kg.parse(data=result, format=\"json-ld\")\n",
    "print(len(kg))"
   ]
  },
  {
   "cell_type": "markdown",
   "id": "f6c5b163",
   "metadata": {},
   "source": [
    "## Executing Check FAIR metrics (F2A)"
   ]
  },
  {
   "cell_type": "code",
   "execution_count": 4,
   "id": "a697f5b2",
   "metadata": {},
   "outputs": [
    {
     "name": "stdout",
     "output_type": "stream",
     "text": [
      "{\"metric\": \"F2A\", \"score\": \"2\", \"target_uri\": \"https://bio.tools/jaspar\", \"eval_time\": \"0:00:00.000465\", \"recommendation\": \"No recommendation, metric validated\", \"comment\": \"INFO - Checking if data is structured, looking for at least one RDF triple...\\nINFO - 98 RDF triples were found, thus data is in a well structured graph format\\n\"}\n",
      "\n"
     ]
    }
   ],
   "source": [
    "response = requests.get(\"https://fair-checker.france-bioinformatique.fr/api/check/metric_F2A?url=\" + url)\n",
    "result = response.text\n",
    "print(result)"
   ]
  },
  {
   "cell_type": "code",
   "execution_count": null,
   "id": "5d0c96dc",
   "metadata": {},
   "outputs": [],
   "source": [
    "response = requests.get(\"https://fair-checker.france-bioinformatique.fr/api/check/metrics_all?url=\" + url)\n",
    "result = response.text\n",
    "print(result)"
   ]
  }
 ],
 "metadata": {
  "kernelspec": {
   "display_name": "Python 3 (ipykernel)",
   "language": "python",
   "name": "python3"
  },
  "language_info": {
   "codemirror_mode": {
    "name": "ipython",
    "version": 3
   },
   "file_extension": ".py",
   "mimetype": "text/x-python",
   "name": "python",
   "nbconvert_exporter": "python",
   "pygments_lexer": "ipython3",
   "version": "3.8.13"
  }
 },
 "nbformat": 4,
 "nbformat_minor": 5
}
