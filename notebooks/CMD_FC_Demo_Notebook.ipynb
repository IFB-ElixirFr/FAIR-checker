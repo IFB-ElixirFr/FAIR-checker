{
 "cells": [
  {
   "cell_type": "markdown",
   "id": "a695e07d",
   "metadata": {},
   "source": [
    "# FAIR-Checker, a web and command line tool to assess FAIRness of web accessible resources.\n",
    "\n",
    "Usage examples :\n",
    "\n",
    "    python app.py --web\n",
    "    python cli.py --evaluate --urls http://bio.tools/bwa\n",
    "    python cli.py --validate-bioschemas --url http://bio.tools/bwa\n",
    "    python cli.py --extract-metadata --urls http://bio.tools/bwa -o metadata_dump\n",
    "    python cli.py --extract-metadata --url-collection input_urls.txt\n",
    "\n",
    "\n",
    "Please report any issue to alban.gaignard@univ-nantes.fr, thomas.rosnet@france-bioinforatique.fr, sahar.frikha@france-bioinformatique.fr,\n",
    "or submit an issue to https://github.com/IFB-ElixirFr/fair-checker/issues."
   ]
  },
  {
   "cell_type": "markdown",
   "id": "fddbf619",
   "metadata": {},
   "source": [
    "## If you want to locally run the web server/the FAIR-Checker web app\n",
    "run the following cell:"
   ]
  },
  {
   "cell_type": "code",
   "execution_count": 1,
   "id": "832f295b",
   "metadata": {
    "scrolled": true
   },
   "outputs": [
    {
     "name": "stdout",
     "output_type": "stream",
     "text": [
      "^C\r\n",
      "Traceback (most recent call last):\r\n",
      "  File \"/Users/gaignard-a/Documents/Dev/fair-checker/notebooks/../app.py\", line 56, in <module>\r\n",
      "    from metrics.WebResource import WebResource\r\n",
      "  File \"/Users/gaignard-a/Documents/Dev/fair-checker/metrics/WebResource.py\", line 33, in <module>\r\n",
      "    class WebResource:\r\n",
      "  File \"/Users/gaignard-a/Documents/Dev/fair-checker/metrics/WebResource.py\", line 50, in WebResource\r\n",
      "    service = Service(executable_path=ChromeDriverManager().install())\r\n",
      "  File \"/Users/gaignard-a/miniconda3/envs/fair-checker/lib/python3.9/site-packages/webdriver_manager/chrome.py\", line 40, in install\r\n",
      "    driver_path = self._get_driver_binary_path(self.driver)\r\n",
      "  File \"/Users/gaignard-a/miniconda3/envs/fair-checker/lib/python3.9/site-packages/webdriver_manager/core/manager.py\", line 40, in _get_driver_binary_path\r\n",
      "    file = self._download_manager.download_file(driver.get_driver_download_url(os_type))\r\n",
      "  File \"/Users/gaignard-a/miniconda3/envs/fair-checker/lib/python3.9/site-packages/webdriver_manager/core/download_manager.py\", line 32, in download_file\r\n",
      "    return File(response, file_name)\r\n",
      "  File \"/Users/gaignard-a/miniconda3/envs/fair-checker/lib/python3.9/site-packages/webdriver_manager/core/file_manager.py\", line 12, in __init__\r\n",
      "    self.content = stream.content\r\n",
      "  File \"/Users/gaignard-a/miniconda3/envs/fair-checker/lib/python3.9/site-packages/requests/models.py\", line 899, in content\r\n",
      "    self._content = b\"\".join(self.iter_content(CONTENT_CHUNK_SIZE)) or b\"\"\r\n",
      "  File \"/Users/gaignard-a/miniconda3/envs/fair-checker/lib/python3.9/site-packages/requests/models.py\", line 816, in generate\r\n",
      "    yield from self.raw.stream(chunk_size, decode_content=True)\r\n",
      "  File \"/Users/gaignard-a/miniconda3/envs/fair-checker/lib/python3.9/site-packages/urllib3/response.py\", line 628, in stream\r\n",
      "    data = self.read(amt=amt, decode_content=decode_content)\r\n",
      "  File \"/Users/gaignard-a/miniconda3/envs/fair-checker/lib/python3.9/site-packages/urllib3/response.py\", line 567, in read\r\n",
      "    data = self._fp_read(amt) if not fp_closed else b\"\"\r\n",
      "  File \"/Users/gaignard-a/miniconda3/envs/fair-checker/lib/python3.9/site-packages/urllib3/response.py\", line 533, in _fp_read\r\n",
      "    return self._fp.read(amt) if amt is not None else self._fp.read()\r\n",
      "  File \"/Users/gaignard-a/miniconda3/envs/fair-checker/lib/python3.9/http/client.py\", line 463, in read\r\n",
      "    n = self.readinto(b)\r\n",
      "  File \"/Users/gaignard-a/miniconda3/envs/fair-checker/lib/python3.9/http/client.py\", line 507, in readinto\r\n",
      "    n = self.fp.readinto(b)\r\n",
      "  File \"/Users/gaignard-a/miniconda3/envs/fair-checker/lib/python3.9/socket.py\", line 704, in readinto\r\n",
      "    return self._sock.recv_into(b)\r\n",
      "  File \"/Users/gaignard-a/miniconda3/envs/fair-checker/lib/python3.9/site-packages/eventlet/green/ssl.py\", line 265, in recv_into\r\n",
      "    return self._base_recv(nbytes, flags, into=True, buffer_=buffer)\r\n",
      "  File \"/Users/gaignard-a/miniconda3/envs/fair-checker/lib/python3.9/site-packages/eventlet/green/ssl.py\", line 280, in _base_recv\r\n",
      "    read = self.read(nbytes, buffer_)\r\n",
      "  File \"/Users/gaignard-a/miniconda3/envs/fair-checker/lib/python3.9/site-packages/eventlet/green/ssl.py\", line 196, in read\r\n",
      "    return self._call_trampolining(\r\n",
      "  File \"/Users/gaignard-a/miniconda3/envs/fair-checker/lib/python3.9/site-packages/eventlet/green/ssl.py\", line 169, in _call_trampolining\r\n",
      "    trampoline(self,\r\n",
      "  File \"/Users/gaignard-a/miniconda3/envs/fair-checker/lib/python3.9/site-packages/eventlet/hubs/__init__.py\", line 155, in trampoline\r\n",
      "    return hub.switch()\r\n",
      "  File \"/Users/gaignard-a/miniconda3/envs/fair-checker/lib/python3.9/site-packages/eventlet/hubs/hub.py\", line 310, in switch\r\n",
      "    return self.greenlet.switch()\r\n",
      "  File \"/Users/gaignard-a/miniconda3/envs/fair-checker/lib/python3.9/site-packages/eventlet/hubs/hub.py\", line 362, in run\r\n",
      "    self.wait(sleep_time)\r\n",
      "  File \"/Users/gaignard-a/miniconda3/envs/fair-checker/lib/python3.9/site-packages/eventlet/hubs/kqueue.py\", line 97, in wait\r\n",
      "    result = self._control([], self.MAX_EVENTS, seconds)\r\n",
      "  File \"/Users/gaignard-a/miniconda3/envs/fair-checker/lib/python3.9/site-packages/eventlet/hubs/kqueue.py\", line 38, in _control\r\n",
      "    return self.kqueue.control(events, max_events, timeout)\r\n",
      "KeyboardInterrupt\r\n"
     ]
    }
   ],
   "source": [
    "!python ../app.py --web"
   ]
  },
  {
   "cell_type": "markdown",
   "id": "9f7b3e0e",
   "metadata": {},
   "source": [
    "# FAIR-Checker as a Command Line Tool"
   ]
  },
  {
   "cell_type": "markdown",
   "id": "dd3fc1aa",
   "metadata": {},
   "source": [
    "## If you want to evaluate the metrics for your ressorces: "
   ]
  },
  {
   "cell_type": "markdown",
   "id": "2cfc51d8",
   "metadata": {},
   "source": [
    "#### Evaluation des métriques sur une liste d’urls\n",
    "\n",
    "python cli.py --evaluate --urls [url1, url2]"
   ]
  },
  {
   "cell_type": "code",
   "execution_count": 5,
   "id": "622d0af7",
   "metadata": {},
   "outputs": [
    {
     "name": "stdout",
     "output_type": "stream",
     "text": [
      "Traceback (most recent call last):\n",
      "  File \"/Users/gaignard-a/Documents/Dev/fair-checker/notebooks/../cli.py\", line 503, in <module>\n",
      "    cli()\n",
      "  File \"/Users/gaignard-a/miniconda3/envs/fair-checker/lib/python3.9/site-packages/click/core.py\", line 1157, in __call__\n",
      "    return self.main(*args, **kwargs)\n",
      "  File \"/Users/gaignard-a/miniconda3/envs/fair-checker/lib/python3.9/site-packages/click/core.py\", line 1078, in main\n",
      "    rv = self.invoke(ctx)\n",
      "  File \"/Users/gaignard-a/miniconda3/envs/fair-checker/lib/python3.9/site-packages/click/core.py\", line 1688, in invoke\n",
      "    return _process_result(sub_ctx.command.invoke(sub_ctx))\n",
      "  File \"/Users/gaignard-a/miniconda3/envs/fair-checker/lib/python3.9/site-packages/click/core.py\", line 1434, in invoke\n",
      "    return ctx.invoke(self.callback, **ctx.params)\n",
      "  File \"/Users/gaignard-a/miniconda3/envs/fair-checker/lib/python3.9/site-packages/click/core.py\", line 783, in invoke\n",
      "    return __callback(*args, **kwargs)\n",
      "  File \"/Users/gaignard-a/Documents/Dev/fair-checker/notebooks/../cli.py\", line 117, in cmd_evaluate\n",
      "    from metrics.WebResource import WebResource\n",
      "  File \"/Users/gaignard-a/Documents/Dev/fair-checker/metrics/WebResource.py\", line 33, in <module>\n",
      "    class WebResource:\n",
      "  File \"/Users/gaignard-a/Documents/Dev/fair-checker/metrics/WebResource.py\", line 50, in WebResource\n",
      "    service = Service(executable_path=ChromeDriverManager().install())\n",
      "  File \"/Users/gaignard-a/miniconda3/envs/fair-checker/lib/python3.9/site-packages/webdriver_manager/chrome.py\", line 40, in install\n",
      "    driver_path = self._get_driver_binary_path(self.driver)\n",
      "  File \"/Users/gaignard-a/miniconda3/envs/fair-checker/lib/python3.9/site-packages/webdriver_manager/core/manager.py\", line 35, in _get_driver_binary_path\n",
      "    binary_path = self._cache_manager.find_driver(driver)\n",
      "  File \"/Users/gaignard-a/miniconda3/envs/fair-checker/lib/python3.9/site-packages/webdriver_manager/core/driver_cache.py\", line 101, in find_driver\n",
      "    browser_version = self._os_system_manager.get_browser_version_from_os(browser_type)\n",
      "  File \"/Users/gaignard-a/miniconda3/envs/fair-checker/lib/python3.9/site-packages/webdriver_manager/core/os_manager.py\", line 78, in get_browser_version_from_os\n",
      "    OSType.WIN: windows_browser_apps_to_cmd(\n",
      "  File \"/Users/gaignard-a/miniconda3/envs/fair-checker/lib/python3.9/site-packages/webdriver_manager/core/utils.py\", line 28, in windows_browser_apps_to_cmd\n",
      "    powershell = determine_powershell()\n",
      "  File \"/Users/gaignard-a/miniconda3/envs/fair-checker/lib/python3.9/site-packages/webdriver_manager/core/utils.py\", line 61, in determine_powershell\n",
      "    stdout = stream.communicate()[0].decode()\n",
      "  File \"/Users/gaignard-a/miniconda3/envs/fair-checker/lib/python3.9/subprocess.py\", line 1121, in communicate\n",
      "    stdout = self.stdout.read()\n",
      "  File \"/Users/gaignard-a/miniconda3/envs/fair-checker/lib/python3.9/site-packages/eventlet/greenio/py3.py\", line 80, in read\n",
      "    return self.readall()\n",
      "  File \"/Users/gaignard-a/miniconda3/envs/fair-checker/lib/python3.9/site-packages/eventlet/greenio/py3.py\", line 94, in readall\n",
      "    chunk = _original_os.read(self._fileno, DEFAULT_BUFFER_SIZE)\n",
      "  File \"/Users/gaignard-a/miniconda3/envs/fair-checker/lib/python3.9/site-packages/eventlet/green/os.py\", line 51, in read\n",
      "    hubs.trampoline(fd, read=True)\n",
      "  File \"/Users/gaignard-a/miniconda3/envs/fair-checker/lib/python3.9/site-packages/eventlet/hubs/__init__.py\", line 151, in trampoline\n",
      "    listener = hub.add(hub.READ, fileno, current.switch, current.throw, mark_as_closed)\n",
      "  File \"/Users/gaignard-a/miniconda3/envs/fair-checker/lib/python3.9/site-packages/eventlet/hubs/kqueue.py\", line 52, in add\n",
      "    self._control([event], 0, 0)\n",
      "  File \"/Users/gaignard-a/miniconda3/envs/fair-checker/lib/python3.9/site-packages/eventlet/hubs/kqueue.py\", line 38, in _control\n",
      "    return self.kqueue.control(events, max_events, timeout)\n",
      "TypeError: changelist must be an iterable of select.kevent objects\n"
     ]
    }
   ],
   "source": [
    "!python ../cli.py evaluate --url http://bio.tools/bwa --url https://bio.tools/FAIR_Search_Engine"
   ]
  },
  {
   "cell_type": "markdown",
   "id": "ca601c4d",
   "metadata": {},
   "source": [
    "#### Evaluation des métriques sur une liste de fichiers RDF locaux\n",
    "python cli.py --evaluate --rdf-files [f1, f2]"
   ]
  },
  {
   "cell_type": "code",
   "execution_count": 23,
   "id": "fa5ebcc7",
   "metadata": {},
   "outputs": [
    {
     "name": "stdout",
     "output_type": "stream",
     "text": [
      "/Users/frikha-s/opt/anaconda3/envs/fair-checker-env/lib/python3.8/site-packages/rdflib_jsonld/__init__.py:9: DeprecationWarning: The rdflib-jsonld package has been integrated into rdflib as of rdflib==6.0.1.  Please remove rdflib-jsonld from your project's dependencies.\n",
      "  warnings.warn(\n",
      "[WDM] - \n",
      "\n",
      "[WDM] - ====== WebDriver manager ======\n",
      "[WDM] - Current google-chrome version is 108.0.5359\n",
      "[WDM] - Get LATEST driver version for 108.0.5359\n",
      "[WDM] - Driver [/Users/frikha-s/.wdm/drivers/chromedriver/mac64/108.0.5359.71/chromedriver] found in cache\n",
      "ENV is set to: production\n",
      "[2022-12-20 16:41:03] {cli.py:2098} INFO     Loaded 483678 triples\n",
      "\u001b[2KProcessing FAIR metrics ... \u001b[38;5;237m━━━━━━━━━━━━━━━━━━━━━━━━━━━━━━━━━━━━━━━\u001b[0m \u001b[35m  0%\u001b[0m \u001b[36m-:--:--\u001b[0m[2022-12-20 16:41:03] {cli.py:2128} INFO     F1A\n",
      "[2022-12-20 16:41:03] {cli.py:2129} INFO     Unique IDs\n",
      "[2022-12-20 16:41:03] {cli.py:2128} INFO     F1B\n",
      "[2022-12-20 16:41:03] {cli.py:2129} INFO     Persistent IDs\n",
      "[2022-12-20 16:41:03] {cli.py:2128} INFO     F2A\n",
      "[2022-12-20 16:41:03] {cli.py:2129} INFO     Structured metadata\n",
      "[2022-12-20 16:41:03] {cli.py:2128} INFO     F2B\n",
      "[2022-12-20 16:41:03] {cli.py:2129} INFO     Shared vocabularies for metadata\n",
      "\u001b[2KProcessing FAIR metrics ... \u001b[38;2;249;38;114m━━━━━━━━\u001b[0m\u001b[38;5;237m╺\u001b[0m\u001b[38;5;237m━━━━━━━━━━━━━━━━━━━━━━━━━━━━━━\u001b[0m \u001b[35m 21%\u001b[0m \u001b[36m-:--:--\u001b[0m[2022-12-20 16:41:08] {util.py:256} ERROR    Cound not connect to BioPortal\n",
      "[2022-12-20 16:41:08] {util.py:257} ERROR    {\"status\":401,\"error\":\"You must provide a valid API Key. Your API Key can be obtained by logging in at bioportal.bioontology.org/account\"}\n",
      "\u001b[2KProcessing FAIR metrics ... \u001b[38;2;249;38;114m━━━━━━━━\u001b[0m\u001b[38;5;237m╺\u001b[0m\u001b[38;5;237m━━━━━━━━━━━━━━━━━━━━━━━━━━━━━━\u001b[0m \u001b[35m 21%\u001b[0m \u001b[36m-:--:--\u001b[0m[2022-12-20 16:41:12] {util.py:256} ERROR    Cound not connect to BioPortal\n",
      "[2022-12-20 16:41:12] {util.py:257} ERROR    {\"status\":401,\"error\":\"You must provide a valid API Key. Your API Key can be obtained by logging in at bioportal.bioontology.org/account\"}\n",
      "\u001b[2KProcessing FAIR metrics ... \u001b[38;2;249;38;114m━━━━━━━━\u001b[0m\u001b[38;5;237m╺\u001b[0m\u001b[38;5;237m━━━━━━━━━━━━━━━━━━━━━━━━━━━━━━\u001b[0m \u001b[35m 21%\u001b[0m \u001b[36m-:--:--\u001b[0m[2022-12-20 16:41:25] {util.py:256} ERROR    Cound not connect to BioPortal\n",
      "[2022-12-20 16:41:25] {util.py:257} ERROR    {\"status\":401,\"error\":\"You must provide a valid API Key. Your API Key can be obtained by logging in at bioportal.bioontology.org/account\"}\n",
      "\u001b[2KProcessing FAIR metrics ... \u001b[38;2;249;38;114m━━━━━━━━\u001b[0m\u001b[38;5;237m╺\u001b[0m\u001b[38;5;237m━━━━━━━━━━━━━━━━━━━━━━━━━━━━━━\u001b[0m \u001b[35m 21%\u001b[0m \u001b[36m-:--:--\u001b[0m[2022-12-20 16:41:26] {util.py:256} ERROR    Cound not connect to BioPortal\n",
      "[2022-12-20 16:41:26] {util.py:257} ERROR    {\"status\":401,\"error\":\"You must provide a valid API Key. Your API Key can be obtained by logging in at bioportal.bioontology.org/account\"}\n",
      "\u001b[2KProcessing FAIR metrics ... \u001b[38;2;249;38;114m━━━━━━━━\u001b[0m\u001b[38;5;237m╺\u001b[0m\u001b[38;5;237m━━━━━━━━━━━━━━━━━━━━━━━━━━━━━━\u001b[0m \u001b[35m 21%\u001b[0m \u001b[36m-:--:--\u001b[0m[2022-12-20 16:41:39] {util.py:256} ERROR    Cound not connect to BioPortal\n",
      "[2022-12-20 16:41:39] {util.py:257} ERROR    {\"status\":401,\"error\":\"You must provide a valid API Key. Your API Key can be obtained by logging in at bioportal.bioontology.org/account\"}\n",
      "\u001b[2KProcessing FAIR metrics ... \u001b[38;2;249;38;114m━━━━━━━━\u001b[0m\u001b[38;5;237m╺\u001b[0m\u001b[38;5;237m━━━━━━━━━━━━━━━━━━━━━━━━━━━━━━\u001b[0m \u001b[35m 21%\u001b[0m \u001b[36m-:--:--\u001b[0m[2022-12-20 16:41:42] {util.py:256} ERROR    Cound not connect to BioPortal\n",
      "[2022-12-20 16:41:42] {util.py:257} ERROR    {\"status\":401,\"error\":\"You must provide a valid API Key. Your API Key can be obtained by logging in at bioportal.bioontology.org/account\"}\n",
      "[2022-12-20 16:41:44] {cli.py:2128} INFO     I1\n",
      "[2022-12-20 16:41:44] {cli.py:2129} INFO     Machine readable format\n",
      "[2022-12-20 16:41:44] {cli.py:2128} INFO     I1A\n",
      "[2022-12-20 16:41:44] {cli.py:2129} INFO     Any structured information\n",
      "[2022-12-20 16:41:44] {cli.py:2128} INFO     I1B\n",
      "[2022-12-20 16:41:44] {cli.py:2129} INFO     Ontological and machine-resolvable formats\n",
      "[2022-12-20 16:41:44] {cli.py:2128} INFO     I2\n",
      "[2022-12-20 16:41:44] {cli.py:2129} INFO     Use shared ontologies\n",
      "[2022-12-20 16:42:03] {cli.py:2128} INFO     I2A\n",
      "[2022-12-20 16:42:03] {cli.py:2129} INFO     Human-readable vocabularies\n",
      "[2022-12-20 16:42:03] {cli.py:2128} INFO     I2B\n",
      "[2022-12-20 16:42:03] {cli.py:2129} INFO     Machine-readable vocabularies\n",
      "[2022-12-20 16:42:03] {cli.py:2128} INFO     I3\n",
      "[2022-12-20 16:42:03] {cli.py:2129} INFO     External links\n",
      "[2022-12-20 16:42:07] {cli.py:2128} INFO     R1.1\n",
      "[2022-12-20 16:42:07] {cli.py:2129} INFO     Metadata includes license\n",
      "[2022-12-20 16:42:07] {cli.py:2128} INFO     R1.2\n",
      "[2022-12-20 16:42:07] {cli.py:2129} INFO     Metadata includes provenance\n",
      "[2022-12-20 16:42:07] {cli.py:2128} INFO     R1.3\n",
      "[2022-12-20 16:42:07] {cli.py:2129} INFO     Community standards\n",
      "\u001b[2KProcessing FAIR metrics ... \u001b[38;2;114;156;31m━━━━━━━━━━━━━━━━━━━━━━━━━━━━━━━━━━━━━━━\u001b[0m \u001b[35m100%\u001b[0m \u001b[36m0:00:00\u001b[0m\u001b[35m 21%\u001b[0m \u001b[36m-:--:--\u001b[0m\n",
      "\u001b[?25h\u001b[92m─────────────── \u001b[0m\u001b[1;31mFAIRness evaluation for file bioschemas-dump.ttl\u001b[0m\u001b[92m ───────────────\u001b[0m\n",
      "┏━━━━━━━━━━━━━━━━━━━━━┳━━━━━━━━━━━━┳━━━━━━━━━━━━━━━━━━━━━┳━━━━━━━━━━━━━━━━━━━━━┓\n",
      "┃\u001b[1;35m \u001b[0m\u001b[1;35m           Findable\u001b[0m\u001b[1;35m \u001b[0m┃\u001b[1;35m \u001b[0m\u001b[1;35mAccessible\u001b[0m\u001b[1;35m \u001b[0m┃\u001b[1;35m \u001b[0m\u001b[1;35m      Interoperable\u001b[0m\u001b[1;35m \u001b[0m┃\u001b[1;35m \u001b[0m\u001b[1;35m           Reusable\u001b[0m\u001b[1;35m \u001b[0m┃\n",
      "┡━━━━━━━━━━━━━━━━━━━━━╇━━━━━━━━━━━━╇━━━━━━━━━━━━━━━━━━━━━╇━━━━━━━━━━━━━━━━━━━━━┩\n",
      "│        Unique IDs 0 │            │                     │                     │\n",
      "│    Persistent IDs 2 │            │                     │                     │\n",
      "│ Structured metadata │            │                     │                     │\n",
      "│                   2 │            │                     │                     │\n",
      "│ Shared vocabularies │            │                     │                     │\n",
      "│      for metadata 1 │            │                     │                     │\n",
      "│                     │            │    Machine readable │                     │\n",
      "│                     │            │            format 2 │                     │\n",
      "│                     │            │      Any structured │                     │\n",
      "│                     │            │       information 2 │                     │\n",
      "│                     │            │     Ontological and │                     │\n",
      "│                     │            │  machine-resolvable │                     │\n",
      "│                     │            │           formats 2 │                     │\n",
      "│                     │            │          Use shared │                     │\n",
      "│                     │            │        ontologies 1 │                     │\n",
      "│                     │            │      Human-readable │                     │\n",
      "│                     │            │      vocabularies 0 │                     │\n",
      "│                     │            │    Machine-readable │                     │\n",
      "│                     │            │      vocabularies 2 │                     │\n",
      "│                     │            │    External links 2 │                     │\n",
      "│                     │            │                     │   Metadata includes │\n",
      "│                     │            │                     │           license 2 │\n",
      "│                     │            │                     │   Metadata includes │\n",
      "│                     │            │                     │        provenance 0 │\n",
      "│                     │            │                     │ Community standards │\n",
      "│                     │            │                     │                   1 │\n",
      "└─────────────────────┴────────────┴─────────────────────┴─────────────────────┘\n",
      "F normalized score: 62.5%\n",
      "A normalized score: 0%\n",
      "I normalized score: 78.6%\n",
      "R normalized score: 50.0%\n",
      "FAIR normalized score: 67.9%\n",
      "[2022-12-20 16:42:27] {cli.py:2198} INFO     FAIR metrics evaluated in 134.11 s\n",
      "[2022-12-20 16:42:27] {base.py:202} INFO     Scheduler has been shut down\n"
     ]
    }
   ],
   "source": [
    "!python ../cli.py --evaluate --rdf-files bioschemas-dump.ttl"
   ]
  },
  {
   "cell_type": "markdown",
   "id": "a1f58f35",
   "metadata": {},
   "source": [
    "#### Evaluation des métriques sur une liste d’URLs contenues dans 1 fichier (1 ligne = 1 url)\n",
    "python cli.py --evaluate --url-collection f1"
   ]
  },
  {
   "cell_type": "code",
   "execution_count": 24,
   "id": "7ebcf70b",
   "metadata": {},
   "outputs": [
    {
     "name": "stdout",
     "output_type": "stream",
     "text": [
      "/Users/frikha-s/opt/anaconda3/envs/fair-checker-env/lib/python3.8/site-packages/rdflib_jsonld/__init__.py:9: DeprecationWarning: The rdflib-jsonld package has been integrated into rdflib as of rdflib==6.0.1.  Please remove rdflib-jsonld from your project's dependencies.\n",
      "  warnings.warn(\n",
      "[WDM] - \n",
      "\n",
      "[WDM] - ====== WebDriver manager ======\n",
      "[WDM] - Current google-chrome version is 108.0.5359\n",
      "[WDM] - Get LATEST driver version for 108.0.5359\n",
      "[WDM] - Driver [/Users/frikha-s/.wdm/drivers/chromedriver/mac64/108.0.5359.71/chromedriver] found in cache\n",
      "ENV is set to: production\n",
      "[2022-12-20 16:43:15] {cli.py:2285} WARNING  There is no valid argument after --evaluate. Please add --urls or --rdf-files.\n",
      "[2022-12-20 16:43:15] {base.py:202} INFO     Scheduler has been shut down\n"
     ]
    }
   ],
   "source": [
    "!python ../cli.py --evaluate --url-collection input_urls.txt"
   ]
  },
  {
   "cell_type": "markdown",
   "id": "fd4c51cd",
   "metadata": {},
   "source": [
    "## If you want to validate bioschemas profiles:"
   ]
  },
  {
   "cell_type": "markdown",
   "id": "573cb233",
   "metadata": {},
   "source": [
    "#### Validation des profils Bioschemas sur une liste d’urls \n",
    "python cli.py --validate-bioschemas --urls [url1, url2]"
   ]
  },
  {
   "cell_type": "code",
   "execution_count": null,
   "id": "cd49f8cf",
   "metadata": {},
   "outputs": [],
   "source": [
    "!python ../cli.py --validate-bioschemas --urls http://bio.tools/bwa"
   ]
  },
  {
   "cell_type": "markdown",
   "id": "b5f4d354",
   "metadata": {},
   "source": [
    "#### Validation des profils Bioschemas sur une liste de fichiers RDF locaux\n",
    "python cli.py --validate-bioschemas --rdf-files [f1, f2]"
   ]
  },
  {
   "cell_type": "code",
   "execution_count": null,
   "id": "507871dc",
   "metadata": {},
   "outputs": [],
   "source": [
    "!python ../cli.py --validate-bioschemas --rdf-files bioschemas-dump.ttl"
   ]
  },
  {
   "cell_type": "markdown",
   "id": "4d7dc418",
   "metadata": {},
   "source": [
    "####  Validation des profils Bioschemas sur une liste d’URLs contenues dans 1 fichier (1 ligne = 1 url)\n",
    "python cli.py --validate-bioschemas --url-collection f1"
   ]
  },
  {
   "cell_type": "code",
   "execution_count": 18,
   "id": "00153faa",
   "metadata": {},
   "outputs": [
    {
     "name": "stdout",
     "output_type": "stream",
     "text": [
      "/Users/frikha-s/opt/anaconda3/envs/fair-checker-env/lib/python3.8/site-packages/rdflib_jsonld/__init__.py:9: DeprecationWarning: The rdflib-jsonld package has been integrated into rdflib as of rdflib==6.0.1.  Please remove rdflib-jsonld from your project's dependencies.\n",
      "  warnings.warn(\n",
      "[WDM] - \n",
      "\n",
      "[WDM] - ====== WebDriver manager ======\n",
      "[WDM] - Current google-chrome version is 108.0.5359\n",
      "[WDM] - Get LATEST driver version for 108.0.5359\n",
      "[WDM] - Driver [/Users/frikha-s/.wdm/drivers/chromedriver/mac64/108.0.5359.71/chromedriver] found in cache\n",
      "ENV is set to: production\n",
      "[2022-12-20 15:10:09] {base.py:202} INFO     Scheduler has been shut down\n"
     ]
    }
   ],
   "source": [
    "!python ../cli.py --validate-bioschemas --url-collection input_urls.txt"
   ]
  },
  {
   "cell_type": "markdown",
   "id": "9fe7fd71",
   "metadata": {},
   "source": [
    "## If you want to scrapp/extract metadata"
   ]
  },
  {
   "cell_type": "markdown",
   "id": "acca9bb4",
   "metadata": {},
   "source": [
    "#### Extraction de métadonnées sur une liste d’urls \n",
    "python cli.py --extract-metadata --urls [url1, url2] -o output_dir "
   ]
  },
  {
   "cell_type": "code",
   "execution_count": 13,
   "id": "2cf41db1",
   "metadata": {},
   "outputs": [
    {
     "name": "stdout",
     "output_type": "stream",
     "text": [
      "/Users/frikha-s/opt/anaconda3/envs/fair-checker-env/lib/python3.8/site-packages/rdflib_jsonld/__init__.py:9: DeprecationWarning: The rdflib-jsonld package has been integrated into rdflib as of rdflib==6.0.1.  Please remove rdflib-jsonld from your project's dependencies.\n",
      "  warnings.warn(\n",
      "[WDM] - \n",
      "\n",
      "[WDM] - ====== WebDriver manager ======\n",
      "[WDM] - Current google-chrome version is 108.0.5359\n",
      "[WDM] - Get LATEST driver version for 108.0.5359\n",
      "[WDM] - Driver [/Users/frikha-s/.wdm/drivers/chromedriver/mac64/108.0.5359.71/chromedriver] found in cache\n",
      "ENV is set to: production\n",
      "\n",
      "\u001b[92m─────────────── \u001b[0m\u001b[1;31mClasses evaluation for URL \u001b[0m\u001b[1;4;31mhttp://bio.tools/bwa\u001b[0m\u001b[92m ────────────────\u001b[0m\n",
      "┏━━━━━━━━━━━━━━━━━━━━━┳━━━━━━━┓\n",
      "┃\u001b[1;35m \u001b[0m\u001b[1;35m              Class\u001b[0m\u001b[1;35m \u001b[0m┃\u001b[1;35m \u001b[0m\u001b[1;35mCount\u001b[0m\u001b[1;35m \u001b[0m┃\n",
      "┡━━━━━━━━━━━━━━━━━━━━━╇━━━━━━━┩\n",
      "│     FormalParameter │    13 │\n",
      "│        CreativeWork │     6 │\n",
      "│       schema:Person │     1 │\n",
      "│ SoftwareApplication │     1 │\n",
      "└─────────────────────┴───────┘\n",
      "\u001b[92m────────────── \u001b[0m\u001b[1;31mProperties evaluation for URL \u001b[0m\u001b[1;4;31mhttp://bio.tools/bwa\u001b[0m\u001b[92m ──────────────\u001b[0m\n",
      "┏━━━━━━━━━━━━━━━━━━━━━━━━┳━━━━━━━┓\n",
      "┃\u001b[1;35m \u001b[0m\u001b[1;35m        Property Class\u001b[0m\u001b[1;35m \u001b[0m┃\u001b[1;35m \u001b[0m\u001b[1;35mCount\u001b[0m\u001b[1;35m \u001b[0m┃\n",
      "┡━━━━━━━━━━━━━━━━━━━━━━━━╇━━━━━━━┩\n",
      "│  22-rdf-syntax-ns#type │    21 │\n",
      "│                   name │    19 │\n",
      "│                 sameAs │    19 │\n",
      "│             identifier │    19 │\n",
      "│               citation │    15 │\n",
      "│                  input │    13 │\n",
      "│                 output │     6 │\n",
      "│            featureList │     4 │\n",
      "│               ns#image │     1 │\n",
      "│           softwareHelp │     1 │\n",
      "│            contributor │     1 │\n",
      "│             conformsTo │     1 │\n",
      "│         ns#description │     1 │\n",
      "│               ns#title │     1 │\n",
      "│         primaryContact │     1 │\n",
      "│ applicationSubCategory │     1 │\n",
      "└────────────────────────┴───────┘\n",
      "[2022-12-20 13:04:45] {cli.py:2063} INFO     Loaded 124 triples from http://bio.tools/bwa, and saved in output_dir/bb5708aa-fd9e-4b34-9b8b-cbf02fd46f20.nquads\n",
      "[2022-12-20 13:04:45] {base.py:202} INFO     Scheduler has been shut down\n"
     ]
    }
   ],
   "source": [
    "!python ../cli.py --extract-metadata --urls http://bio.tools/bwa -o output_dir"
   ]
  },
  {
   "cell_type": "markdown",
   "id": "9b3462aa",
   "metadata": {},
   "source": [
    "#### Extraction de métadonnées sur une liste d’URLs contenues dans 1 fichier (1 ligne = 1 url) \n",
    "python cli.py --extract-metadata --url-collection f -o output_dir"
   ]
  },
  {
   "cell_type": "code",
   "execution_count": 17,
   "id": "8b93dd53",
   "metadata": {},
   "outputs": [
    {
     "name": "stdout",
     "output_type": "stream",
     "text": [
      "/Users/frikha-s/opt/anaconda3/envs/fair-checker-env/lib/python3.8/site-packages/rdflib_jsonld/__init__.py:9: DeprecationWarning: The rdflib-jsonld package has been integrated into rdflib as of rdflib==6.0.1.  Please remove rdflib-jsonld from your project's dependencies.\n",
      "  warnings.warn(\n",
      "[WDM] - \n",
      "\n",
      "[WDM] - ====== WebDriver manager ======\n",
      "[WDM] - Current google-chrome version is 108.0.5359\n",
      "[WDM] - Get LATEST driver version for 108.0.5359\n",
      "[WDM] - Driver [/Users/frikha-s/.wdm/drivers/chromedriver/mac64/108.0.5359.71/chromedriver] found in cache\n",
      "ENV is set to: production\n",
      "\n",
      "\u001b[92m─────────────── \u001b[0m\u001b[1;31mClasses evaluation for URL \u001b[0m\u001b[1;4;31mhttp://bio.tools/bwa\u001b[0m\u001b[1;31m \u001b[0m\u001b[92m ───────────────\u001b[0m\n",
      "┏━━━━━━━━━━━━━━━━━━━━━┳━━━━━━━┓\n",
      "┃\u001b[1;35m \u001b[0m\u001b[1;35m              Class\u001b[0m\u001b[1;35m \u001b[0m┃\u001b[1;35m \u001b[0m\u001b[1;35mCount\u001b[0m\u001b[1;35m \u001b[0m┃\n",
      "┡━━━━━━━━━━━━━━━━━━━━━╇━━━━━━━┩\n",
      "│     FormalParameter │    13 │\n",
      "│        CreativeWork │     6 │\n",
      "│       schema:Person │     1 │\n",
      "│ SoftwareApplication │     1 │\n",
      "└─────────────────────┴───────┘\n",
      "\u001b[92m───────────── \u001b[0m\u001b[1;31mProperties evaluation for URL \u001b[0m\u001b[1;4;31mhttp://bio.tools/bwa\u001b[0m\u001b[1;31m \u001b[0m\u001b[92m ──────────────\u001b[0m\n",
      "┏━━━━━━━━━━━━━━━━━━━━━━━━┳━━━━━━━┓\n",
      "┃\u001b[1;35m \u001b[0m\u001b[1;35m        Property Class\u001b[0m\u001b[1;35m \u001b[0m┃\u001b[1;35m \u001b[0m\u001b[1;35mCount\u001b[0m\u001b[1;35m \u001b[0m┃\n",
      "┡━━━━━━━━━━━━━━━━━━━━━━━━╇━━━━━━━┩\n",
      "│  22-rdf-syntax-ns#type │    21 │\n",
      "│                 sameAs │    19 │\n",
      "│             identifier │    19 │\n",
      "│                   name │    19 │\n",
      "│               citation │    15 │\n",
      "│                  input │    13 │\n",
      "│                 output │     6 │\n",
      "│            featureList │     4 │\n",
      "│             conformsTo │     1 │\n",
      "│               ns#image │     1 │\n",
      "│           softwareHelp │     1 │\n",
      "│         primaryContact │     1 │\n",
      "│         ns#description │     1 │\n",
      "│ applicationSubCategory │     1 │\n",
      "│               ns#title │     1 │\n",
      "│            contributor │     1 │\n",
      "└────────────────────────┴───────┘\n",
      "[2022-12-20 14:43:29] {cli.py:2062} INFO     Loaded 124 triples from http://bio.tools/bwa\n",
      ", and saved in ../output_dir/7e8337ae-f0f4-480c-91f5-9e4af8882655.nquads\n",
      "\n",
      "\u001b[92m─────── \u001b[0m\u001b[1;31mClasses evaluation for URL \u001b[0m\u001b[1;4;31mhttps://bio.tools/FAIR_Search_Engine\u001b[0m\u001b[92m ────────\u001b[0m\n",
      "┏━━━━━━━━━━━━━━━━━━━━━┳━━━━━━━┓\n",
      "┃\u001b[1;35m \u001b[0m\u001b[1;35m              Class\u001b[0m\u001b[1;35m \u001b[0m┃\u001b[1;35m \u001b[0m\u001b[1;35mCount\u001b[0m\u001b[1;35m \u001b[0m┃\n",
      "┡━━━━━━━━━━━━━━━━━━━━━╇━━━━━━━┩\n",
      "│ SoftwareApplication │     1 │\n",
      "└─────────────────────┴───────┘\n",
      "\u001b[92m────── \u001b[0m\u001b[1;31mProperties evaluation for URL \u001b[0m\u001b[1;4;31mhttps://bio.tools/FAIR_Search_Engine\u001b[0m\u001b[92m ──────\u001b[0m\n",
      "┏━━━━━━━━━━━━━━━━━━━━━━━━┳━━━━━━━┓\n",
      "┃\u001b[1;35m \u001b[0m\u001b[1;35m        Property Class\u001b[0m\u001b[1;35m \u001b[0m┃\u001b[1;35m \u001b[0m\u001b[1;35mCount\u001b[0m\u001b[1;35m \u001b[0m┃\n",
      "┡━━━━━━━━━━━━━━━━━━━━━━━━╇━━━━━━━┩\n",
      "│               ns#title │     1 │\n",
      "│             conformsTo │     1 │\n",
      "│         ns#description │     1 │\n",
      "│               ns#image │     1 │\n",
      "│    isAccessibleForFree │     1 │\n",
      "│  22-rdf-syntax-ns#type │     1 │\n",
      "│ applicationSubCategory │     1 │\n",
      "└────────────────────────┴───────┘\n",
      "[2022-12-20 14:43:34] {cli.py:2062} INFO     Loaded 7 triples from https://bio.tools/FAIR_Search_Engine, and saved in ../output_dir/3e4ef9f4-79d3-45e7-b899-43b3d42532b2.nquads\n",
      "[2022-12-20 14:43:34] {base.py:202} INFO     Scheduler has been shut down\n"
     ]
    }
   ],
   "source": [
    "!python ../cli.py --extract-metadata --url-collection ../input_urls.txt -o ../output_dir"
   ]
  }
 ],
 "metadata": {
  "kernelspec": {
   "display_name": "Python 3 (ipykernel)",
   "language": "python",
   "name": "python3"
  },
  "language_info": {
   "codemirror_mode": {
    "name": "ipython",
    "version": 3
   },
   "file_extension": ".py",
   "mimetype": "text/x-python",
   "name": "python",
   "nbconvert_exporter": "python",
   "pygments_lexer": "ipython3",
   "version": "3.9.17"
  },
  "vscode": {
   "interpreter": {
    "hash": "e310205f3fc5440495ca71dac9ad8efbe4e5d15688c9dffaaa410465a216e831"
   }
  }
 },
 "nbformat": 4,
 "nbformat_minor": 5
}
