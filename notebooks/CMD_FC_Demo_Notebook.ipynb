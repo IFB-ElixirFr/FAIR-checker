{
 "cells": [
  {
   "cell_type": "markdown",
   "id": "a695e07d",
   "metadata": {},
   "source": [
    "# FAIR-Checker, a web and command line tool to assess FAIRness of web accessible resources.\n",
    "\n",
    "Usage examples :\n",
    "\n",
    "    python app.py --web\n",
    "    python cli.py --evaluate --urls http://bio.tools/bwa\n",
    "    python cli.py --validate-bioschemas --url http://bio.tools/bwa\n",
    "    python cli.py --extract-metadata --urls http://bio.tools/bwa -o metadata_dump\n",
    "    python cli.py --extract-metadata --url-collection input_urls.txt\n",
    "\n",
    "\n",
    "Please report any issue to alban.gaignard@univ-nantes.fr, thomas.rosnet@france-bioinforatique.fr, sahar.frikha@france-bioinformatique.fr,\n",
    "or submit an issue to https://github.com/IFB-ElixirFr/fair-checker/issues."
   ]
  },
  {
   "cell_type": "markdown",
   "id": "fddbf619",
   "metadata": {},
   "source": [
    "## If you want to locally run the web server/the FAIR-Checker web app\n",
    "run the following cell:"
   ]
  },
  {
   "cell_type": "code",
   "execution_count": null,
   "id": "832f295b",
   "metadata": {},
   "outputs": [
    {
     "name": "stdout",
     "output_type": "stream",
     "text": [
      "Dockerfile               \u001b[1m\u001b[36mdumps\u001b[m\u001b[m                    \u001b[1m\u001b[36mmetrics\u001b[m\u001b[m\n",
      "LICENSE                  environment.yml          \u001b[1m\u001b[36mnode_modules\u001b[m\u001b[m\n",
      "README.md                \u001b[1m\u001b[36mexperiments\u001b[m\u001b[m              \u001b[1m\u001b[36mnotebooks\u001b[m\u001b[m\n",
      "__init__.py              \u001b[31mfc_code_formatting.sh\u001b[m\u001b[m    notes_deploy\n",
      "\u001b[1m\u001b[36m__pycache__\u001b[m\u001b[m              \u001b[31mfc_code_quality_check.sh\u001b[m\u001b[m \u001b[1m\u001b[36mpippa_dump\u001b[m\u001b[m\n",
      "app.py                   \u001b[31mfc_gen_doc.sh\u001b[m\u001b[m            pippa_urls.txt\n",
      "\u001b[1m\u001b[36mbinder\u001b[m\u001b[m                   \u001b[31mfc_test.sh\u001b[m\u001b[m               prod.log\n",
      "bioschemas-dump.ttl      fm_demo.md               \u001b[1m\u001b[36mprofiles\u001b[m\u001b[m\n",
      "\u001b[31mbiotools-sparql.alive.sh\u001b[m\u001b[m input_urls.txt           requirements.txt\n",
      "cli.py                   \u001b[31mlaunch_dev.sh\u001b[m\u001b[m            \u001b[1m\u001b[36mstatic\u001b[m\u001b[m\n",
      "config.py                \u001b[31mlaunch_mongo.sh\u001b[m\u001b[m          supervisord.conf\n",
      "corkoakdb_urls.txt       \u001b[31mlaunch_prod.sh\u001b[m\u001b[m           \u001b[1m\u001b[36mtemplates\u001b[m\u001b[m\n",
      "\u001b[1m\u001b[36mdata\u001b[m\u001b[m                     \u001b[31mlaunch_supervisor.sh\u001b[m\u001b[m     \u001b[1m\u001b[36mtests\u001b[m\u001b[m\n",
      "demo-fairchecker.conf    \u001b[1m\u001b[36mlog\u001b[m\u001b[m                      tox.ini\n",
      "\u001b[1m\u001b[36mdocs\u001b[m\u001b[m                     \u001b[1m\u001b[36mmetadata_dump\u001b[m\u001b[m            urls.txt\n",
      "/Users/frikha-s/opt/anaconda3/envs/fair-checker-env/lib/python3.8/site-packages/rdflib_jsonld/__init__.py:9: DeprecationWarning: The rdflib-jsonld package has been integrated into rdflib as of rdflib==6.0.1.  Please remove rdflib-jsonld from your project's dependencies.\n",
      "  warnings.warn(\n",
      "[WDM] - \n",
      "\n",
      "[WDM] - ====== WebDriver manager ======\n",
      "[WDM] - Current google-chrome version is 108.0.5359\n",
      "[WDM] - Get LATEST driver version for 108.0.5359\n",
      "[WDM] - Get LATEST driver version for 108.0.5359\n",
      "[WDM] - Trying to download new driver from https://chromedriver.storage.googleapis.com/108.0.5359.71/chromedriver_mac64.zip\n",
      "[WDM] - Driver has been saved in cache [/Users/frikha-s/.wdm/drivers/chromedriver/mac64/108.0.5359.71]\n",
      "ENV is set to: production\n",
      "Watch out dev!\n",
      "[2022-12-20 10:35:42] {app.py:1962} INFO     Starting webserver\n",
      "[2022-12-20 10:35:42] {_internal.py:224} INFO      * Restarting with stat\n",
      "/Users/frikha-s/opt/anaconda3/envs/fair-checker-env/lib/python3.8/site-packages/rdflib_jsonld/__init__.py:9: DeprecationWarning: The rdflib-jsonld package has been integrated into rdflib as of rdflib==6.0.1.  Please remove rdflib-jsonld from your project's dependencies.\n",
      "  warnings.warn(\n",
      "[WDM] - \n",
      "\n",
      "[WDM] - ====== WebDriver manager ======\n",
      "[WDM] - Current google-chrome version is 108.0.5359\n",
      "[WDM] - Get LATEST driver version for 108.0.5359\n",
      "[WDM] - Driver [/Users/frikha-s/.wdm/drivers/chromedriver/mac64/108.0.5359.71/chromedriver] found in cache\n",
      "ENV is set to: production\n",
      "Watch out dev!\n",
      "[2022-12-20 10:35:53] {app.py:1962} INFO     Starting webserver\n",
      "[2022-12-20 10:35:53] {_internal.py:224} WARNING   * Debugger is active!\n",
      "[2022-12-20 10:35:53] {_internal.py:224} INFO      * Debugger PIN: 125-938-345\n",
      "(37624) wsgi starting up on http://127.0.0.1:5000\n",
      "[2022-12-20 10:45:42] {base.py:123} INFO     Running job \"update_vocab_status (trigger: interval[0:10:00], next run at: 2022-12-20 10:45:42 CET)\" (scheduled at 2022-12-20 10:45:42.832583+01:00)\n",
      "[2022-12-20 10:45:45] {app.py:294} INFO     Updating banner status\n",
      "[2022-12-20 10:45:45] {base.py:144} INFO     Job \"update_vocab_status (trigger: interval[0:10:00], next run at: 2022-12-20 10:55:42 CET)\" executed successfully\n",
      "[2022-12-20 10:45:53] {base.py:123} INFO     Running job \"update_vocab_status (trigger: interval[0:10:00], next run at: 2022-12-20 10:45:53 CET)\" (scheduled at 2022-12-20 10:45:53.026550+01:00)\n",
      "[2022-12-20 10:45:55] {app.py:294} INFO     Updating banner status\n",
      "[2022-12-20 10:45:55] {base.py:144} INFO     Job \"update_vocab_status (trigger: interval[0:10:00], next run at: 2022-12-20 10:55:53 CET)\" executed successfully\n",
      "[2022-12-20 10:55:42] {base.py:123} INFO     Running job \"update_vocab_status (trigger: interval[0:10:00], next run at: 2022-12-20 11:05:42 CET)\" (scheduled at 2022-12-20 10:55:42.832583+01:00)\n",
      "[2022-12-20 10:55:45] {app.py:294} INFO     Updating banner status\n",
      "[2022-12-20 10:55:45] {base.py:144} INFO     Job \"update_vocab_status (trigger: interval[0:10:00], next run at: 2022-12-20 11:05:42 CET)\" executed successfully\n",
      "[2022-12-20 10:55:53] {base.py:123} INFO     Running job \"update_vocab_status (trigger: interval[0:10:00], next run at: 2022-12-20 11:05:53 CET)\" (scheduled at 2022-12-20 10:55:53.026550+01:00)\n",
      "[2022-12-20 10:55:55] {app.py:294} INFO     Updating banner status\n",
      "[2022-12-20 10:55:55] {base.py:144} INFO     Job \"update_vocab_status (trigger: interval[0:10:00], next run at: 2022-12-20 11:05:53 CET)\" executed successfully\n",
      "[2022-12-20 11:05:42] {base.py:123} INFO     Running job \"update_vocab_status (trigger: interval[0:10:00], next run at: 2022-12-20 11:15:42 CET)\" (scheduled at 2022-12-20 11:05:42.832583+01:00)\n",
      "[2022-12-20 11:05:44] {app.py:294} INFO     Updating banner status\n",
      "[2022-12-20 11:05:44] {base.py:144} INFO     Job \"update_vocab_status (trigger: interval[0:10:00], next run at: 2022-12-20 11:15:42 CET)\" executed successfully\n",
      "[2022-12-20 11:05:53] {base.py:123} INFO     Running job \"update_vocab_status (trigger: interval[0:10:00], next run at: 2022-12-20 11:15:53 CET)\" (scheduled at 2022-12-20 11:05:53.026550+01:00)\n",
      "[2022-12-20 11:05:55] {app.py:294} INFO     Updating banner status\n",
      "[2022-12-20 11:05:55] {base.py:144} INFO     Job \"update_vocab_status (trigger: interval[0:10:00], next run at: 2022-12-20 11:15:53 CET)\" executed successfully\n",
      "[2022-12-20 11:15:42] {base.py:123} INFO     Running job \"update_vocab_status (trigger: interval[0:10:00], next run at: 2022-12-20 11:25:42 CET)\" (scheduled at 2022-12-20 11:15:42.832583+01:00)\n",
      "[2022-12-20 11:15:45] {app.py:294} INFO     Updating banner status\n",
      "[2022-12-20 11:15:45] {base.py:144} INFO     Job \"update_vocab_status (trigger: interval[0:10:00], next run at: 2022-12-20 11:25:42 CET)\" executed successfully\n",
      "[2022-12-20 11:15:53] {base.py:123} INFO     Running job \"update_vocab_status (trigger: interval[0:10:00], next run at: 2022-12-20 11:25:53 CET)\" (scheduled at 2022-12-20 11:15:53.026550+01:00)\n",
      "[2022-12-20 11:15:54] {app.py:294} INFO     Updating banner status\n",
      "[2022-12-20 11:15:54] {base.py:144} INFO     Job \"update_vocab_status (trigger: interval[0:10:00], next run at: 2022-12-20 11:25:53 CET)\" executed successfully\n",
      "[2022-12-20 11:25:42] {base.py:123} INFO     Running job \"update_vocab_status (trigger: interval[0:10:00], next run at: 2022-12-20 11:35:42 CET)\" (scheduled at 2022-12-20 11:25:42.832583+01:00)\n",
      "[2022-12-20 11:25:44] {app.py:294} INFO     Updating banner status\n",
      "[2022-12-20 11:25:44] {base.py:144} INFO     Job \"update_vocab_status (trigger: interval[0:10:00], next run at: 2022-12-20 11:35:42 CET)\" executed successfully\n",
      "[2022-12-20 11:25:53] {base.py:123} INFO     Running job \"update_vocab_status (trigger: interval[0:10:00], next run at: 2022-12-20 11:35:53 CET)\" (scheduled at 2022-12-20 11:25:53.026550+01:00)\n",
      "[2022-12-20 11:25:56] {app.py:294} INFO     Updating banner status\n",
      "[2022-12-20 11:25:56] {base.py:144} INFO     Job \"update_vocab_status (trigger: interval[0:10:00], next run at: 2022-12-20 11:35:53 CET)\" executed successfully\n",
      "[2022-12-20 11:35:42] {base.py:123} INFO     Running job \"update_vocab_status (trigger: interval[0:10:00], next run at: 2022-12-20 11:45:42 CET)\" (scheduled at 2022-12-20 11:35:42.832583+01:00)\n",
      "[2022-12-20 11:35:45] {app.py:294} INFO     Updating banner status\n",
      "[2022-12-20 11:35:45] {base.py:144} INFO     Job \"update_vocab_status (trigger: interval[0:10:00], next run at: 2022-12-20 11:45:42 CET)\" executed successfully\n",
      "[2022-12-20 11:35:53] {base.py:123} INFO     Running job \"update_vocab_status (trigger: interval[0:10:00], next run at: 2022-12-20 11:45:53 CET)\" (scheduled at 2022-12-20 11:35:53.026550+01:00)\n",
      "[2022-12-20 11:35:55] {app.py:294} INFO     Updating banner status\n",
      "[2022-12-20 11:35:55] {base.py:144} INFO     Job \"update_vocab_status (trigger: interval[0:10:00], next run at: 2022-12-20 11:45:53 CET)\" executed successfully\n",
      "[2022-12-20 11:45:42] {base.py:123} INFO     Running job \"update_vocab_status (trigger: interval[0:10:00], next run at: 2022-12-20 11:55:42 CET)\" (scheduled at 2022-12-20 11:45:42.832583+01:00)\n"
     ]
    },
    {
     "name": "stdout",
     "output_type": "stream",
     "text": [
      "[2022-12-20 11:45:44] {app.py:294} INFO     Updating banner status\n",
      "[2022-12-20 11:45:44] {base.py:144} INFO     Job \"update_vocab_status (trigger: interval[0:10:00], next run at: 2022-12-20 11:55:42 CET)\" executed successfully\n",
      "[2022-12-20 11:45:53] {base.py:123} INFO     Running job \"update_vocab_status (trigger: interval[0:10:00], next run at: 2022-12-20 11:55:53 CET)\" (scheduled at 2022-12-20 11:45:53.026550+01:00)\n",
      "[2022-12-20 11:45:54] {app.py:294} INFO     Updating banner status\n",
      "[2022-12-20 11:45:54] {base.py:144} INFO     Job \"update_vocab_status (trigger: interval[0:10:00], next run at: 2022-12-20 11:55:53 CET)\" executed successfully\n",
      "[2022-12-20 11:55:42] {base.py:123} INFO     Running job \"update_vocab_status (trigger: interval[0:10:00], next run at: 2022-12-20 12:05:42 CET)\" (scheduled at 2022-12-20 11:55:42.832583+01:00)\n",
      "[2022-12-20 11:55:45] {app.py:294} INFO     Updating banner status\n",
      "[2022-12-20 11:55:45] {base.py:144} INFO     Job \"update_vocab_status (trigger: interval[0:10:00], next run at: 2022-12-20 12:05:42 CET)\" executed successfully\n",
      "[2022-12-20 11:55:53] {base.py:123} INFO     Running job \"update_vocab_status (trigger: interval[0:10:00], next run at: 2022-12-20 12:05:53 CET)\" (scheduled at 2022-12-20 11:55:53.026550+01:00)\n",
      "[2022-12-20 11:55:55] {app.py:294} INFO     Updating banner status\n",
      "[2022-12-20 11:55:55] {base.py:144} INFO     Job \"update_vocab_status (trigger: interval[0:10:00], next run at: 2022-12-20 12:05:53 CET)\" executed successfully\n",
      "[2022-12-20 12:05:42] {base.py:123} INFO     Running job \"update_vocab_status (trigger: interval[0:10:00], next run at: 2022-12-20 12:15:42 CET)\" (scheduled at 2022-12-20 12:05:42.832583+01:00)\n",
      "[2022-12-20 12:05:44] {app.py:294} INFO     Updating banner status\n",
      "[2022-12-20 12:05:44] {base.py:144} INFO     Job \"update_vocab_status (trigger: interval[0:10:00], next run at: 2022-12-20 12:15:42 CET)\" executed successfully\n",
      "[2022-12-20 12:05:53] {base.py:123} INFO     Running job \"update_vocab_status (trigger: interval[0:10:00], next run at: 2022-12-20 12:15:53 CET)\" (scheduled at 2022-12-20 12:05:53.026550+01:00)\n",
      "[2022-12-20 12:05:55] {app.py:294} INFO     Updating banner status\n",
      "[2022-12-20 12:05:55] {base.py:144} INFO     Job \"update_vocab_status (trigger: interval[0:10:00], next run at: 2022-12-20 12:15:53 CET)\" executed successfully\n",
      "[2022-12-20 12:15:42] {base.py:123} INFO     Running job \"update_vocab_status (trigger: interval[0:10:00], next run at: 2022-12-20 12:25:42 CET)\" (scheduled at 2022-12-20 12:15:42.832583+01:00)\n",
      "[2022-12-20 12:15:44] {app.py:294} INFO     Updating banner status\n",
      "[2022-12-20 12:15:44] {base.py:144} INFO     Job \"update_vocab_status (trigger: interval[0:10:00], next run at: 2022-12-20 12:25:42 CET)\" executed successfully\n",
      "[2022-12-20 12:15:53] {base.py:123} INFO     Running job \"update_vocab_status (trigger: interval[0:10:00], next run at: 2022-12-20 12:25:53 CET)\" (scheduled at 2022-12-20 12:15:53.026550+01:00)\n",
      "[2022-12-20 12:15:55] {app.py:294} INFO     Updating banner status\n",
      "[2022-12-20 12:15:55] {base.py:144} INFO     Job \"update_vocab_status (trigger: interval[0:10:00], next run at: 2022-12-20 12:25:53 CET)\" executed successfully\n"
     ]
    }
   ],
   "source": [
    "!python ../app.py --web"
   ]
  },
  {
   "cell_type": "markdown",
   "id": "9f7b3e0e",
   "metadata": {},
   "source": [
    "# FAIR-Checker as a Command Line Tool"
   ]
  },
  {
   "cell_type": "markdown",
   "id": "dd3fc1aa",
   "metadata": {},
   "source": [
    "## If you want to evaluate the metrics for your ressorces: "
   ]
  },
  {
   "cell_type": "markdown",
   "id": "2cfc51d8",
   "metadata": {},
   "source": [
    "#### Evaluation des métriques sur une liste d’urls\n",
    "\n",
    "python cli.py --evaluate --urls [url1, url2]"
   ]
  },
  {
   "cell_type": "code",
   "execution_count": 22,
   "id": "622d0af7",
   "metadata": {},
   "outputs": [
    {
     "name": "stdout",
     "output_type": "stream",
     "text": [
      "/Users/frikha-s/opt/anaconda3/envs/fair-checker-env/lib/python3.8/site-packages/rdflib_jsonld/__init__.py:9: DeprecationWarning: The rdflib-jsonld package has been integrated into rdflib as of rdflib==6.0.1.  Please remove rdflib-jsonld from your project's dependencies.\n",
      "  warnings.warn(\n",
      "[WDM] - \n",
      "\n",
      "[WDM] - ====== WebDriver manager ======\n",
      "[WDM] - Current google-chrome version is 108.0.5359\n",
      "[WDM] - Get LATEST driver version for 108.0.5359\n",
      "[WDM] - Driver [/Users/frikha-s/.wdm/drivers/chromedriver/mac64/108.0.5359.71/chromedriver] found in cache\n",
      "ENV is set to: production\n",
      "\u001b[2KProcessing FAIR metrics ... \u001b[38;2;249;38;114m━━━━━━━\u001b[0m\u001b[38;2;249;38;114m╸\u001b[0m\u001b[38;5;237m━━━━━━━━━━━━━━━━━━━━━━━━━━━━━━━\u001b[0m \u001b[35m 20%\u001b[0m \u001b[36m-:--:--\u001b[0m[2022-12-20 16:39:32] {util.py:256} ERROR    Cound not connect to BioPortal\n",
      "[2022-12-20 16:39:32] {util.py:257} ERROR    {\"status\":401,\"error\":\"You must provide a valid API Key. Your API Key can be obtained by logging in at bioportal.bioontology.org/account\"}\n",
      "\u001b[2KProcessing FAIR metrics ... \u001b[38;2;249;38;114m━━━━━━━\u001b[0m\u001b[38;2;249;38;114m╸\u001b[0m\u001b[38;5;237m━━━━━━━━━━━━━━━━━━━━━━━━━━━━━━━\u001b[0m \u001b[35m 20%\u001b[0m \u001b[36m-:--:--\u001b[0m[2022-12-20 16:39:34] {util.py:256} ERROR    Cound not connect to BioPortal\n",
      "[2022-12-20 16:39:34] {util.py:257} ERROR    {\"status\":401,\"error\":\"You must provide a valid API Key. Your API Key can be obtained by logging in at bioportal.bioontology.org/account\"}\n",
      "\u001b[2KProcessing FAIR metrics ... \u001b[38;2;249;38;114m━━━━━━━\u001b[0m\u001b[38;2;249;38;114m╸\u001b[0m\u001b[38;5;237m━━━━━━━━━━━━━━━━━━━━━━━━━━━━━━━\u001b[0m \u001b[35m 20%\u001b[0m \u001b[36m-:--:--\u001b[0m[2022-12-20 16:39:35] {util.py:256} ERROR    Cound not connect to BioPortal\n",
      "[2022-12-20 16:39:35] {util.py:257} ERROR    {\"status\":401,\"error\":\"You must provide a valid API Key. Your API Key can be obtained by logging in at bioportal.bioontology.org/account\"}\n",
      "\u001b[2KProcessing FAIR metrics ... \u001b[38;2;249;38;114m━━━━━━━\u001b[0m\u001b[38;2;249;38;114m╸\u001b[0m\u001b[38;5;237m━━━━━━━━━━━━━━━━━━━━━━━━━━━━━━━\u001b[0m \u001b[35m 20%\u001b[0m \u001b[36m-:--:--\u001b[0m[2022-12-20 16:39:36] {util.py:256} ERROR    Cound not connect to BioPortal\n",
      "[2022-12-20 16:39:36] {util.py:257} ERROR    {\"status\":401,\"error\":\"You must provide a valid API Key. Your API Key can be obtained by logging in at bioportal.bioontology.org/account\"}\n",
      "\u001b[2KProcessing FAIR metrics ... \u001b[38;2;249;38;114m━━━━━━━\u001b[0m\u001b[38;2;249;38;114m╸\u001b[0m\u001b[38;5;237m━━━━━━━━━━━━━━━━━━━━━━━━━━━━━━━\u001b[0m \u001b[35m 20%\u001b[0m \u001b[36m-:--:--\u001b[0m[2022-12-20 16:39:43] {util.py:256} ERROR    Cound not connect to BioPortal\n",
      "[2022-12-20 16:39:43] {util.py:257} ERROR    {\"status\":401,\"error\":\"You must provide a valid API Key. Your API Key can be obtained by logging in at bioportal.bioontology.org/account\"}\n",
      "\u001b[2KProcessing FAIR metrics ... \u001b[38;2;114;156;31m━━━━━━━━━━━━━━━━━━━━━━━━━━━━━━━━━━━━━━━\u001b[0m \u001b[35m100%\u001b[0m \u001b[36m0:00:00\u001b[0m━━\u001b[0m \u001b[35m 20%\u001b[0m \u001b[36m-:--:--\u001b[0m\n",
      "\u001b[2KProcessing FAIR metrics ... \u001b[38;2;249;38;114m━━━━━━━\u001b[0m\u001b[38;2;249;38;114m╸\u001b[0m\u001b[38;5;237m━━━━━━━━━━━━━━━━━━━━━━━━━━━━━━━\u001b[0m \u001b[35m 20%\u001b[0m \u001b[36m-:--:--\u001b[0m[2022-12-20 16:39:49] {F2B_Impl.py:180} INFO     All classes and properties are known in major ontology registries\n",
      "[2022-12-20 16:39:49] {F2B_Impl.py:180} INFO     All classes and properties are known in major ontology registries\n",
      "[2022-12-20 16:39:49] {F2B_Impl.py:180} INFO     All classes and properties are known in major ontology registries\n",
      "\u001b[2KProcessing FAIR metrics ... \u001b[38;2;114;156;31m━━━━━━━━━━━━━━━━━━━━━━━━━━━━━━━━━━━━━━━\u001b[0m \u001b[35m100%\u001b[0m \u001b[36m0:00:00\u001b[0m━━\u001b[0m \u001b[35m 20%\u001b[0m \u001b[36m-:--:--\u001b[0m\n",
      "\u001b[?25h\u001b[92m─────── \u001b[0m\u001b[1;31mFAIRness evaluation for URL \u001b[0m\u001b[1;4;31mhttps://bio.tools/FAIR_Search_Engine\u001b[0m\u001b[92m ───────\u001b[0m\n",
      "┏━━━━━━━━━━━━━━━━━━━┳━━━━━━━━━━━━━━━━━━━┳━━━━━━━━━━━━━━━━━━┳━━━━━━━━━━━━━━━━━━━┓\n",
      "┃\u001b[1;35m \u001b[0m\u001b[1;35m         Findable\u001b[0m\u001b[1;35m \u001b[0m┃\u001b[1;35m \u001b[0m\u001b[1;35m       Accessible\u001b[0m\u001b[1;35m \u001b[0m┃\u001b[1;35m \u001b[0m\u001b[1;35m   Interoperable\u001b[0m\u001b[1;35m \u001b[0m┃\u001b[1;35m \u001b[0m\u001b[1;35m         Reusable\u001b[0m\u001b[1;35m \u001b[0m┃\n",
      "┡━━━━━━━━━━━━━━━━━━━╇━━━━━━━━━━━━━━━━━━━╇━━━━━━━━━━━━━━━━━━╇━━━━━━━━━━━━━━━━━━━┩\n",
      "│      Unique IDs 2 │                   │                  │                   │\n",
      "│  Persistent IDs 0 │                   │                  │                   │\n",
      "│        Structured │                   │                  │                   │\n",
      "│        metadata 2 │                   │                  │                   │\n",
      "│            Shared │                   │                  │                   │\n",
      "│  vocabularies for │                   │                  │                   │\n",
      "│        metadata 2 │                   │                  │                   │\n",
      "│                   │   Open resolution │                  │                   │\n",
      "│                   │        protocol 2 │                  │                   │\n",
      "│                   │                   │ Machine readable │                   │\n",
      "│                   │                   │         format 2 │                   │\n",
      "│                   │                   │   Any structured │                   │\n",
      "│                   │                   │    information 2 │                   │\n",
      "│                   │                   │  Ontological and │                   │\n",
      "│                   │                   │ machine-resolva… │                   │\n",
      "│                   │                   │        formats 2 │                   │\n",
      "│                   │                   │       Use shared │                   │\n",
      "│                   │                   │     ontologies 2 │                   │\n",
      "│                   │                   │   Human-readable │                   │\n",
      "│                   │                   │   vocabularies 0 │                   │\n",
      "│                   │                   │ Machine-readable │                   │\n",
      "│                   │                   │   vocabularies 2 │                   │\n",
      "│                   │                   │ External links 0 │                   │\n",
      "│                   │                   │                  │ Metadata includes │\n",
      "│                   │                   │                  │         license 0 │\n",
      "│                   │                   │                  │ Metadata includes │\n",
      "│                   │                   │                  │      provenance 0 │\n",
      "│                   │                   │                  │         Community │\n",
      "│                   │                   │                  │       standards 2 │\n",
      "└───────────────────┴───────────────────┴──────────────────┴───────────────────┘\n",
      "[2022-12-20 16:39:49] {cli.py:2282} INFO     FAIR metrics evaluated in 36.24 s\n",
      "[2022-12-20 16:39:49] {base.py:202} INFO     Scheduler has been shut down\n"
     ]
    }
   ],
   "source": [
    "!python ../cli.py --evaluate --urls http://bio.tools/bwa https://bio.tools/FAIR_Search_Engine"
   ]
  },
  {
   "cell_type": "markdown",
   "id": "ca601c4d",
   "metadata": {},
   "source": [
    "#### Evaluation des métriques sur une liste de fichiers RDF locaux\n",
    "python cli.py --evaluate --rdf-files [f1, f2]"
   ]
  },
  {
   "cell_type": "code",
   "execution_count": 23,
   "id": "fa5ebcc7",
   "metadata": {},
   "outputs": [
    {
     "name": "stdout",
     "output_type": "stream",
     "text": [
      "/Users/frikha-s/opt/anaconda3/envs/fair-checker-env/lib/python3.8/site-packages/rdflib_jsonld/__init__.py:9: DeprecationWarning: The rdflib-jsonld package has been integrated into rdflib as of rdflib==6.0.1.  Please remove rdflib-jsonld from your project's dependencies.\n",
      "  warnings.warn(\n",
      "[WDM] - \n",
      "\n",
      "[WDM] - ====== WebDriver manager ======\n",
      "[WDM] - Current google-chrome version is 108.0.5359\n",
      "[WDM] - Get LATEST driver version for 108.0.5359\n",
      "[WDM] - Driver [/Users/frikha-s/.wdm/drivers/chromedriver/mac64/108.0.5359.71/chromedriver] found in cache\n",
      "ENV is set to: production\n",
      "[2022-12-20 16:41:03] {cli.py:2098} INFO     Loaded 483678 triples\n",
      "\u001b[2KProcessing FAIR metrics ... \u001b[38;5;237m━━━━━━━━━━━━━━━━━━━━━━━━━━━━━━━━━━━━━━━\u001b[0m \u001b[35m  0%\u001b[0m \u001b[36m-:--:--\u001b[0m[2022-12-20 16:41:03] {cli.py:2128} INFO     F1A\n",
      "[2022-12-20 16:41:03] {cli.py:2129} INFO     Unique IDs\n",
      "[2022-12-20 16:41:03] {cli.py:2128} INFO     F1B\n",
      "[2022-12-20 16:41:03] {cli.py:2129} INFO     Persistent IDs\n",
      "[2022-12-20 16:41:03] {cli.py:2128} INFO     F2A\n",
      "[2022-12-20 16:41:03] {cli.py:2129} INFO     Structured metadata\n",
      "[2022-12-20 16:41:03] {cli.py:2128} INFO     F2B\n",
      "[2022-12-20 16:41:03] {cli.py:2129} INFO     Shared vocabularies for metadata\n",
      "\u001b[2KProcessing FAIR metrics ... \u001b[38;2;249;38;114m━━━━━━━━\u001b[0m\u001b[38;5;237m╺\u001b[0m\u001b[38;5;237m━━━━━━━━━━━━━━━━━━━━━━━━━━━━━━\u001b[0m \u001b[35m 21%\u001b[0m \u001b[36m-:--:--\u001b[0m[2022-12-20 16:41:08] {util.py:256} ERROR    Cound not connect to BioPortal\n",
      "[2022-12-20 16:41:08] {util.py:257} ERROR    {\"status\":401,\"error\":\"You must provide a valid API Key. Your API Key can be obtained by logging in at bioportal.bioontology.org/account\"}\n",
      "\u001b[2KProcessing FAIR metrics ... \u001b[38;2;249;38;114m━━━━━━━━\u001b[0m\u001b[38;5;237m╺\u001b[0m\u001b[38;5;237m━━━━━━━━━━━━━━━━━━━━━━━━━━━━━━\u001b[0m \u001b[35m 21%\u001b[0m \u001b[36m-:--:--\u001b[0m[2022-12-20 16:41:12] {util.py:256} ERROR    Cound not connect to BioPortal\n",
      "[2022-12-20 16:41:12] {util.py:257} ERROR    {\"status\":401,\"error\":\"You must provide a valid API Key. Your API Key can be obtained by logging in at bioportal.bioontology.org/account\"}\n",
      "\u001b[2KProcessing FAIR metrics ... \u001b[38;2;249;38;114m━━━━━━━━\u001b[0m\u001b[38;5;237m╺\u001b[0m\u001b[38;5;237m━━━━━━━━━━━━━━━━━━━━━━━━━━━━━━\u001b[0m \u001b[35m 21%\u001b[0m \u001b[36m-:--:--\u001b[0m[2022-12-20 16:41:25] {util.py:256} ERROR    Cound not connect to BioPortal\n",
      "[2022-12-20 16:41:25] {util.py:257} ERROR    {\"status\":401,\"error\":\"You must provide a valid API Key. Your API Key can be obtained by logging in at bioportal.bioontology.org/account\"}\n",
      "\u001b[2KProcessing FAIR metrics ... \u001b[38;2;249;38;114m━━━━━━━━\u001b[0m\u001b[38;5;237m╺\u001b[0m\u001b[38;5;237m━━━━━━━━━━━━━━━━━━━━━━━━━━━━━━\u001b[0m \u001b[35m 21%\u001b[0m \u001b[36m-:--:--\u001b[0m[2022-12-20 16:41:26] {util.py:256} ERROR    Cound not connect to BioPortal\n",
      "[2022-12-20 16:41:26] {util.py:257} ERROR    {\"status\":401,\"error\":\"You must provide a valid API Key. Your API Key can be obtained by logging in at bioportal.bioontology.org/account\"}\n",
      "\u001b[2KProcessing FAIR metrics ... \u001b[38;2;249;38;114m━━━━━━━━\u001b[0m\u001b[38;5;237m╺\u001b[0m\u001b[38;5;237m━━━━━━━━━━━━━━━━━━━━━━━━━━━━━━\u001b[0m \u001b[35m 21%\u001b[0m \u001b[36m-:--:--\u001b[0m[2022-12-20 16:41:39] {util.py:256} ERROR    Cound not connect to BioPortal\n",
      "[2022-12-20 16:41:39] {util.py:257} ERROR    {\"status\":401,\"error\":\"You must provide a valid API Key. Your API Key can be obtained by logging in at bioportal.bioontology.org/account\"}\n",
      "\u001b[2KProcessing FAIR metrics ... \u001b[38;2;249;38;114m━━━━━━━━\u001b[0m\u001b[38;5;237m╺\u001b[0m\u001b[38;5;237m━━━━━━━━━━━━━━━━━━━━━━━━━━━━━━\u001b[0m \u001b[35m 21%\u001b[0m \u001b[36m-:--:--\u001b[0m[2022-12-20 16:41:42] {util.py:256} ERROR    Cound not connect to BioPortal\n",
      "[2022-12-20 16:41:42] {util.py:257} ERROR    {\"status\":401,\"error\":\"You must provide a valid API Key. Your API Key can be obtained by logging in at bioportal.bioontology.org/account\"}\n",
      "[2022-12-20 16:41:44] {cli.py:2128} INFO     I1\n",
      "[2022-12-20 16:41:44] {cli.py:2129} INFO     Machine readable format\n",
      "[2022-12-20 16:41:44] {cli.py:2128} INFO     I1A\n",
      "[2022-12-20 16:41:44] {cli.py:2129} INFO     Any structured information\n",
      "[2022-12-20 16:41:44] {cli.py:2128} INFO     I1B\n",
      "[2022-12-20 16:41:44] {cli.py:2129} INFO     Ontological and machine-resolvable formats\n",
      "[2022-12-20 16:41:44] {cli.py:2128} INFO     I2\n",
      "[2022-12-20 16:41:44] {cli.py:2129} INFO     Use shared ontologies\n",
      "[2022-12-20 16:42:03] {cli.py:2128} INFO     I2A\n",
      "[2022-12-20 16:42:03] {cli.py:2129} INFO     Human-readable vocabularies\n",
      "[2022-12-20 16:42:03] {cli.py:2128} INFO     I2B\n",
      "[2022-12-20 16:42:03] {cli.py:2129} INFO     Machine-readable vocabularies\n",
      "[2022-12-20 16:42:03] {cli.py:2128} INFO     I3\n",
      "[2022-12-20 16:42:03] {cli.py:2129} INFO     External links\n",
      "[2022-12-20 16:42:07] {cli.py:2128} INFO     R1.1\n",
      "[2022-12-20 16:42:07] {cli.py:2129} INFO     Metadata includes license\n",
      "[2022-12-20 16:42:07] {cli.py:2128} INFO     R1.2\n",
      "[2022-12-20 16:42:07] {cli.py:2129} INFO     Metadata includes provenance\n",
      "[2022-12-20 16:42:07] {cli.py:2128} INFO     R1.3\n",
      "[2022-12-20 16:42:07] {cli.py:2129} INFO     Community standards\n",
      "\u001b[2KProcessing FAIR metrics ... \u001b[38;2;114;156;31m━━━━━━━━━━━━━━━━━━━━━━━━━━━━━━━━━━━━━━━\u001b[0m \u001b[35m100%\u001b[0m \u001b[36m0:00:00\u001b[0m\u001b[35m 21%\u001b[0m \u001b[36m-:--:--\u001b[0m\n",
      "\u001b[?25h\u001b[92m─────────────── \u001b[0m\u001b[1;31mFAIRness evaluation for file bioschemas-dump.ttl\u001b[0m\u001b[92m ───────────────\u001b[0m\n",
      "┏━━━━━━━━━━━━━━━━━━━━━┳━━━━━━━━━━━━┳━━━━━━━━━━━━━━━━━━━━━┳━━━━━━━━━━━━━━━━━━━━━┓\n",
      "┃\u001b[1;35m \u001b[0m\u001b[1;35m           Findable\u001b[0m\u001b[1;35m \u001b[0m┃\u001b[1;35m \u001b[0m\u001b[1;35mAccessible\u001b[0m\u001b[1;35m \u001b[0m┃\u001b[1;35m \u001b[0m\u001b[1;35m      Interoperable\u001b[0m\u001b[1;35m \u001b[0m┃\u001b[1;35m \u001b[0m\u001b[1;35m           Reusable\u001b[0m\u001b[1;35m \u001b[0m┃\n",
      "┡━━━━━━━━━━━━━━━━━━━━━╇━━━━━━━━━━━━╇━━━━━━━━━━━━━━━━━━━━━╇━━━━━━━━━━━━━━━━━━━━━┩\n",
      "│        Unique IDs 0 │            │                     │                     │\n",
      "│    Persistent IDs 2 │            │                     │                     │\n",
      "│ Structured metadata │            │                     │                     │\n",
      "│                   2 │            │                     │                     │\n",
      "│ Shared vocabularies │            │                     │                     │\n",
      "│      for metadata 1 │            │                     │                     │\n",
      "│                     │            │    Machine readable │                     │\n",
      "│                     │            │            format 2 │                     │\n",
      "│                     │            │      Any structured │                     │\n",
      "│                     │            │       information 2 │                     │\n",
      "│                     │            │     Ontological and │                     │\n",
      "│                     │            │  machine-resolvable │                     │\n",
      "│                     │            │           formats 2 │                     │\n",
      "│                     │            │          Use shared │                     │\n",
      "│                     │            │        ontologies 1 │                     │\n",
      "│                     │            │      Human-readable │                     │\n",
      "│                     │            │      vocabularies 0 │                     │\n",
      "│                     │            │    Machine-readable │                     │\n",
      "│                     │            │      vocabularies 2 │                     │\n",
      "│                     │            │    External links 2 │                     │\n",
      "│                     │            │                     │   Metadata includes │\n",
      "│                     │            │                     │           license 2 │\n",
      "│                     │            │                     │   Metadata includes │\n",
      "│                     │            │                     │        provenance 0 │\n",
      "│                     │            │                     │ Community standards │\n",
      "│                     │            │                     │                   1 │\n",
      "└─────────────────────┴────────────┴─────────────────────┴─────────────────────┘\n",
      "F normalized score: 62.5%\n",
      "A normalized score: 0%\n",
      "I normalized score: 78.6%\n",
      "R normalized score: 50.0%\n",
      "FAIR normalized score: 67.9%\n",
      "[2022-12-20 16:42:27] {cli.py:2198} INFO     FAIR metrics evaluated in 134.11 s\n",
      "[2022-12-20 16:42:27] {base.py:202} INFO     Scheduler has been shut down\n"
     ]
    }
   ],
   "source": [
    "!python ../cli.py --evaluate --rdf-files bioschemas-dump.ttl"
   ]
  },
  {
   "cell_type": "markdown",
   "id": "a1f58f35",
   "metadata": {},
   "source": [
    "#### Evaluation des métriques sur une liste d’URLs contenues dans 1 fichier (1 ligne = 1 url)\n",
    "python cli.py --evaluate --url-collection f1"
   ]
  },
  {
   "cell_type": "code",
   "execution_count": 24,
   "id": "7ebcf70b",
   "metadata": {},
   "outputs": [
    {
     "name": "stdout",
     "output_type": "stream",
     "text": [
      "/Users/frikha-s/opt/anaconda3/envs/fair-checker-env/lib/python3.8/site-packages/rdflib_jsonld/__init__.py:9: DeprecationWarning: The rdflib-jsonld package has been integrated into rdflib as of rdflib==6.0.1.  Please remove rdflib-jsonld from your project's dependencies.\n",
      "  warnings.warn(\n",
      "[WDM] - \n",
      "\n",
      "[WDM] - ====== WebDriver manager ======\n",
      "[WDM] - Current google-chrome version is 108.0.5359\n",
      "[WDM] - Get LATEST driver version for 108.0.5359\n",
      "[WDM] - Driver [/Users/frikha-s/.wdm/drivers/chromedriver/mac64/108.0.5359.71/chromedriver] found in cache\n",
      "ENV is set to: production\n",
      "[2022-12-20 16:43:15] {cli.py:2285} WARNING  There is no valid argument after --evaluate. Please add --urls or --rdf-files.\n",
      "[2022-12-20 16:43:15] {base.py:202} INFO     Scheduler has been shut down\n"
     ]
    }
   ],
   "source": [
    "!python ../cli.py --evaluate --url-collection input_urls.txt"
   ]
  },
  {
   "cell_type": "markdown",
   "id": "fd4c51cd",
   "metadata": {},
   "source": [
    "## If you want to validate bioschemas profiles:"
   ]
  },
  {
   "cell_type": "markdown",
   "id": "573cb233",
   "metadata": {},
   "source": [
    "#### Validation des profils Bioschemas sur une liste d’urls \n",
    "python cli.py --validate-bioschemas --urls [url1, url2]"
   ]
  },
  {
   "cell_type": "code",
   "execution_count": null,
   "id": "cd49f8cf",
   "metadata": {},
   "outputs": [],
   "source": [
    "!python ../cli.py --validate-bioschemas --urls http://bio.tools/bwa"
   ]
  },
  {
   "cell_type": "markdown",
   "id": "b5f4d354",
   "metadata": {},
   "source": [
    "#### Validation des profils Bioschemas sur une liste de fichiers RDF locaux\n",
    "python cli.py --validate-bioschemas --rdf-files [f1, f2]"
   ]
  },
  {
   "cell_type": "code",
   "execution_count": null,
   "id": "507871dc",
   "metadata": {},
   "outputs": [],
   "source": [
    "!python ../cli.py --validate-bioschemas --rdf-files bioschemas-dump.ttl"
   ]
  },
  {
   "cell_type": "markdown",
   "id": "4d7dc418",
   "metadata": {},
   "source": [
    "####  Validation des profils Bioschemas sur une liste d’URLs contenues dans 1 fichier (1 ligne = 1 url)\n",
    "python cli.py --validate-bioschemas --url-collection f1"
   ]
  },
  {
   "cell_type": "code",
   "execution_count": 18,
   "id": "00153faa",
   "metadata": {},
   "outputs": [
    {
     "name": "stdout",
     "output_type": "stream",
     "text": [
      "/Users/frikha-s/opt/anaconda3/envs/fair-checker-env/lib/python3.8/site-packages/rdflib_jsonld/__init__.py:9: DeprecationWarning: The rdflib-jsonld package has been integrated into rdflib as of rdflib==6.0.1.  Please remove rdflib-jsonld from your project's dependencies.\n",
      "  warnings.warn(\n",
      "[WDM] - \n",
      "\n",
      "[WDM] - ====== WebDriver manager ======\n",
      "[WDM] - Current google-chrome version is 108.0.5359\n",
      "[WDM] - Get LATEST driver version for 108.0.5359\n",
      "[WDM] - Driver [/Users/frikha-s/.wdm/drivers/chromedriver/mac64/108.0.5359.71/chromedriver] found in cache\n",
      "ENV is set to: production\n",
      "[2022-12-20 15:10:09] {base.py:202} INFO     Scheduler has been shut down\n"
     ]
    }
   ],
   "source": [
    "!python ../cli.py --validate-bioschemas --url-collection input_urls.txt"
   ]
  },
  {
   "cell_type": "markdown",
   "id": "9fe7fd71",
   "metadata": {},
   "source": [
    "## If you want to scrapp/extract metadata"
   ]
  },
  {
   "cell_type": "markdown",
   "id": "acca9bb4",
   "metadata": {},
   "source": [
    "#### Extraction de métadonnées sur une liste d’urls \n",
    "python cli.py --extract-metadata --urls [url1, url2] -o output_dir "
   ]
  },
  {
   "cell_type": "code",
   "execution_count": 13,
   "id": "2cf41db1",
   "metadata": {},
   "outputs": [
    {
     "name": "stdout",
     "output_type": "stream",
     "text": [
      "/Users/frikha-s/opt/anaconda3/envs/fair-checker-env/lib/python3.8/site-packages/rdflib_jsonld/__init__.py:9: DeprecationWarning: The rdflib-jsonld package has been integrated into rdflib as of rdflib==6.0.1.  Please remove rdflib-jsonld from your project's dependencies.\n",
      "  warnings.warn(\n",
      "[WDM] - \n",
      "\n",
      "[WDM] - ====== WebDriver manager ======\n",
      "[WDM] - Current google-chrome version is 108.0.5359\n",
      "[WDM] - Get LATEST driver version for 108.0.5359\n",
      "[WDM] - Driver [/Users/frikha-s/.wdm/drivers/chromedriver/mac64/108.0.5359.71/chromedriver] found in cache\n",
      "ENV is set to: production\n",
      "\n",
      "\u001b[92m─────────────── \u001b[0m\u001b[1;31mClasses evaluation for URL \u001b[0m\u001b[1;4;31mhttp://bio.tools/bwa\u001b[0m\u001b[92m ────────────────\u001b[0m\n",
      "┏━━━━━━━━━━━━━━━━━━━━━┳━━━━━━━┓\n",
      "┃\u001b[1;35m \u001b[0m\u001b[1;35m              Class\u001b[0m\u001b[1;35m \u001b[0m┃\u001b[1;35m \u001b[0m\u001b[1;35mCount\u001b[0m\u001b[1;35m \u001b[0m┃\n",
      "┡━━━━━━━━━━━━━━━━━━━━━╇━━━━━━━┩\n",
      "│     FormalParameter │    13 │\n",
      "│        CreativeWork │     6 │\n",
      "│       schema:Person │     1 │\n",
      "│ SoftwareApplication │     1 │\n",
      "└─────────────────────┴───────┘\n",
      "\u001b[92m────────────── \u001b[0m\u001b[1;31mProperties evaluation for URL \u001b[0m\u001b[1;4;31mhttp://bio.tools/bwa\u001b[0m\u001b[92m ──────────────\u001b[0m\n",
      "┏━━━━━━━━━━━━━━━━━━━━━━━━┳━━━━━━━┓\n",
      "┃\u001b[1;35m \u001b[0m\u001b[1;35m        Property Class\u001b[0m\u001b[1;35m \u001b[0m┃\u001b[1;35m \u001b[0m\u001b[1;35mCount\u001b[0m\u001b[1;35m \u001b[0m┃\n",
      "┡━━━━━━━━━━━━━━━━━━━━━━━━╇━━━━━━━┩\n",
      "│  22-rdf-syntax-ns#type │    21 │\n",
      "│                   name │    19 │\n",
      "│                 sameAs │    19 │\n",
      "│             identifier │    19 │\n",
      "│               citation │    15 │\n",
      "│                  input │    13 │\n",
      "│                 output │     6 │\n",
      "│            featureList │     4 │\n",
      "│               ns#image │     1 │\n",
      "│           softwareHelp │     1 │\n",
      "│            contributor │     1 │\n",
      "│             conformsTo │     1 │\n",
      "│         ns#description │     1 │\n",
      "│               ns#title │     1 │\n",
      "│         primaryContact │     1 │\n",
      "│ applicationSubCategory │     1 │\n",
      "└────────────────────────┴───────┘\n",
      "[2022-12-20 13:04:45] {cli.py:2063} INFO     Loaded 124 triples from http://bio.tools/bwa, and saved in output_dir/bb5708aa-fd9e-4b34-9b8b-cbf02fd46f20.nquads\n",
      "[2022-12-20 13:04:45] {base.py:202} INFO     Scheduler has been shut down\n"
     ]
    }
   ],
   "source": [
    "!python ../cli.py --extract-metadata --urls http://bio.tools/bwa -o output_dir"
   ]
  },
  {
   "cell_type": "markdown",
   "id": "9b3462aa",
   "metadata": {},
   "source": [
    "#### Extraction de métadonnées sur une liste d’URLs contenues dans 1 fichier (1 ligne = 1 url) \n",
    "python cli.py --extract-metadata --url-collection f -o output_dir"
   ]
  },
  {
   "cell_type": "code",
   "execution_count": 17,
   "id": "8b93dd53",
   "metadata": {},
   "outputs": [
    {
     "name": "stdout",
     "output_type": "stream",
     "text": [
      "/Users/frikha-s/opt/anaconda3/envs/fair-checker-env/lib/python3.8/site-packages/rdflib_jsonld/__init__.py:9: DeprecationWarning: The rdflib-jsonld package has been integrated into rdflib as of rdflib==6.0.1.  Please remove rdflib-jsonld from your project's dependencies.\n",
      "  warnings.warn(\n",
      "[WDM] - \n",
      "\n",
      "[WDM] - ====== WebDriver manager ======\n",
      "[WDM] - Current google-chrome version is 108.0.5359\n",
      "[WDM] - Get LATEST driver version for 108.0.5359\n",
      "[WDM] - Driver [/Users/frikha-s/.wdm/drivers/chromedriver/mac64/108.0.5359.71/chromedriver] found in cache\n",
      "ENV is set to: production\n",
      "\n",
      "\u001b[92m─────────────── \u001b[0m\u001b[1;31mClasses evaluation for URL \u001b[0m\u001b[1;4;31mhttp://bio.tools/bwa\u001b[0m\u001b[1;31m \u001b[0m\u001b[92m ───────────────\u001b[0m\n",
      "┏━━━━━━━━━━━━━━━━━━━━━┳━━━━━━━┓\n",
      "┃\u001b[1;35m \u001b[0m\u001b[1;35m              Class\u001b[0m\u001b[1;35m \u001b[0m┃\u001b[1;35m \u001b[0m\u001b[1;35mCount\u001b[0m\u001b[1;35m \u001b[0m┃\n",
      "┡━━━━━━━━━━━━━━━━━━━━━╇━━━━━━━┩\n",
      "│     FormalParameter │    13 │\n",
      "│        CreativeWork │     6 │\n",
      "│       schema:Person │     1 │\n",
      "│ SoftwareApplication │     1 │\n",
      "└─────────────────────┴───────┘\n",
      "\u001b[92m───────────── \u001b[0m\u001b[1;31mProperties evaluation for URL \u001b[0m\u001b[1;4;31mhttp://bio.tools/bwa\u001b[0m\u001b[1;31m \u001b[0m\u001b[92m ──────────────\u001b[0m\n",
      "┏━━━━━━━━━━━━━━━━━━━━━━━━┳━━━━━━━┓\n",
      "┃\u001b[1;35m \u001b[0m\u001b[1;35m        Property Class\u001b[0m\u001b[1;35m \u001b[0m┃\u001b[1;35m \u001b[0m\u001b[1;35mCount\u001b[0m\u001b[1;35m \u001b[0m┃\n",
      "┡━━━━━━━━━━━━━━━━━━━━━━━━╇━━━━━━━┩\n",
      "│  22-rdf-syntax-ns#type │    21 │\n",
      "│                 sameAs │    19 │\n",
      "│             identifier │    19 │\n",
      "│                   name │    19 │\n",
      "│               citation │    15 │\n",
      "│                  input │    13 │\n",
      "│                 output │     6 │\n",
      "│            featureList │     4 │\n",
      "│             conformsTo │     1 │\n",
      "│               ns#image │     1 │\n",
      "│           softwareHelp │     1 │\n",
      "│         primaryContact │     1 │\n",
      "│         ns#description │     1 │\n",
      "│ applicationSubCategory │     1 │\n",
      "│               ns#title │     1 │\n",
      "│            contributor │     1 │\n",
      "└────────────────────────┴───────┘\n",
      "[2022-12-20 14:43:29] {cli.py:2062} INFO     Loaded 124 triples from http://bio.tools/bwa\n",
      ", and saved in ../output_dir/7e8337ae-f0f4-480c-91f5-9e4af8882655.nquads\n",
      "\n",
      "\u001b[92m─────── \u001b[0m\u001b[1;31mClasses evaluation for URL \u001b[0m\u001b[1;4;31mhttps://bio.tools/FAIR_Search_Engine\u001b[0m\u001b[92m ────────\u001b[0m\n",
      "┏━━━━━━━━━━━━━━━━━━━━━┳━━━━━━━┓\n",
      "┃\u001b[1;35m \u001b[0m\u001b[1;35m              Class\u001b[0m\u001b[1;35m \u001b[0m┃\u001b[1;35m \u001b[0m\u001b[1;35mCount\u001b[0m\u001b[1;35m \u001b[0m┃\n",
      "┡━━━━━━━━━━━━━━━━━━━━━╇━━━━━━━┩\n",
      "│ SoftwareApplication │     1 │\n",
      "└─────────────────────┴───────┘\n",
      "\u001b[92m────── \u001b[0m\u001b[1;31mProperties evaluation for URL \u001b[0m\u001b[1;4;31mhttps://bio.tools/FAIR_Search_Engine\u001b[0m\u001b[92m ──────\u001b[0m\n",
      "┏━━━━━━━━━━━━━━━━━━━━━━━━┳━━━━━━━┓\n",
      "┃\u001b[1;35m \u001b[0m\u001b[1;35m        Property Class\u001b[0m\u001b[1;35m \u001b[0m┃\u001b[1;35m \u001b[0m\u001b[1;35mCount\u001b[0m\u001b[1;35m \u001b[0m┃\n",
      "┡━━━━━━━━━━━━━━━━━━━━━━━━╇━━━━━━━┩\n",
      "│               ns#title │     1 │\n",
      "│             conformsTo │     1 │\n",
      "│         ns#description │     1 │\n",
      "│               ns#image │     1 │\n",
      "│    isAccessibleForFree │     1 │\n",
      "│  22-rdf-syntax-ns#type │     1 │\n",
      "│ applicationSubCategory │     1 │\n",
      "└────────────────────────┴───────┘\n",
      "[2022-12-20 14:43:34] {cli.py:2062} INFO     Loaded 7 triples from https://bio.tools/FAIR_Search_Engine, and saved in ../output_dir/3e4ef9f4-79d3-45e7-b899-43b3d42532b2.nquads\n",
      "[2022-12-20 14:43:34] {base.py:202} INFO     Scheduler has been shut down\n"
     ]
    }
   ],
   "source": [
    "!python ../cli.py --extract-metadata --url-collection ../input_urls.txt -o ../output_dir"
   ]
  }
 ],
 "metadata": {
  "kernelspec": {
   "display_name": "Python 3 (ipykernel)",
   "language": "python",
   "name": "python3"
  },
  "language_info": {
   "codemirror_mode": {
    "name": "ipython",
    "version": 3
   },
   "file_extension": ".py",
   "mimetype": "text/x-python",
   "name": "python",
   "nbconvert_exporter": "python",
   "pygments_lexer": "ipython3",
   "version": "3.8.13"
  },
  "vscode": {
   "interpreter": {
    "hash": "e310205f3fc5440495ca71dac9ad8efbe4e5d15688c9dffaaa410465a216e831"
   }
  }
 },
 "nbformat": 4,
 "nbformat_minor": 5
}
